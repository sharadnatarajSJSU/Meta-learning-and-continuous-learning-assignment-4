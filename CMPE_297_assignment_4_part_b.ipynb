{
  "nbformat": 4,
  "nbformat_minor": 0,
  "metadata": {
    "colab": {
      "provenance": []
    },
    "kernelspec": {
      "name": "python3",
      "display_name": "Python 3"
    },
    "language_info": {
      "name": "python"
    },
    "widgets": {
      "application/vnd.jupyter.widget-state+json": {
        "d1c5c57ae2824461866478891dbd5ed0": {
          "model_module": "@jupyter-widgets/controls",
          "model_name": "HBoxModel",
          "model_module_version": "1.5.0",
          "state": {
            "_dom_classes": [],
            "_model_module": "@jupyter-widgets/controls",
            "_model_module_version": "1.5.0",
            "_model_name": "HBoxModel",
            "_view_count": null,
            "_view_module": "@jupyter-widgets/controls",
            "_view_module_version": "1.5.0",
            "_view_name": "HBoxView",
            "box_style": "",
            "children": [
              "IPY_MODEL_028a8a2da53b4c9a93bf8df393c047af",
              "IPY_MODEL_3dec4e4fbf32421caae1dce4324af47b",
              "IPY_MODEL_06daf80a5600406b9775fa8a3b20b028"
            ],
            "layout": "IPY_MODEL_f3d8674a658c48f1a837f3cc7116bf49"
          }
        },
        "028a8a2da53b4c9a93bf8df393c047af": {
          "model_module": "@jupyter-widgets/controls",
          "model_name": "HTMLModel",
          "model_module_version": "1.5.0",
          "state": {
            "_dom_classes": [],
            "_model_module": "@jupyter-widgets/controls",
            "_model_module_version": "1.5.0",
            "_model_name": "HTMLModel",
            "_view_count": null,
            "_view_module": "@jupyter-widgets/controls",
            "_view_module_version": "1.5.0",
            "_view_name": "HTMLView",
            "description": "",
            "description_tooltip": null,
            "layout": "IPY_MODEL_8ff02c15fdf642be80fa11422aeeefcd",
            "placeholder": "​",
            "style": "IPY_MODEL_b1f38b85b0314f889c2dc1e18b913deb",
            "value": "100%"
          }
        },
        "3dec4e4fbf32421caae1dce4324af47b": {
          "model_module": "@jupyter-widgets/controls",
          "model_name": "FloatProgressModel",
          "model_module_version": "1.5.0",
          "state": {
            "_dom_classes": [],
            "_model_module": "@jupyter-widgets/controls",
            "_model_module_version": "1.5.0",
            "_model_name": "FloatProgressModel",
            "_view_count": null,
            "_view_module": "@jupyter-widgets/controls",
            "_view_module_version": "1.5.0",
            "_view_name": "ProgressView",
            "bar_style": "success",
            "description": "",
            "description_tooltip": null,
            "layout": "IPY_MODEL_2e48fb8a652b4ba9832000e09605cb8a",
            "max": 169001437,
            "min": 0,
            "orientation": "horizontal",
            "style": "IPY_MODEL_c923870cfc1f4ac287cb09737d911aa9",
            "value": 169001437
          }
        },
        "06daf80a5600406b9775fa8a3b20b028": {
          "model_module": "@jupyter-widgets/controls",
          "model_name": "HTMLModel",
          "model_module_version": "1.5.0",
          "state": {
            "_dom_classes": [],
            "_model_module": "@jupyter-widgets/controls",
            "_model_module_version": "1.5.0",
            "_model_name": "HTMLModel",
            "_view_count": null,
            "_view_module": "@jupyter-widgets/controls",
            "_view_module_version": "1.5.0",
            "_view_name": "HTMLView",
            "description": "",
            "description_tooltip": null,
            "layout": "IPY_MODEL_781c33ad77ee47b3a076a7acc53f2f92",
            "placeholder": "​",
            "style": "IPY_MODEL_04f265e5922a4ad0aea12cbe75d126b0",
            "value": " 169001437/169001437 [00:04&lt;00:00, 40814229.58it/s]"
          }
        },
        "f3d8674a658c48f1a837f3cc7116bf49": {
          "model_module": "@jupyter-widgets/base",
          "model_name": "LayoutModel",
          "model_module_version": "1.2.0",
          "state": {
            "_model_module": "@jupyter-widgets/base",
            "_model_module_version": "1.2.0",
            "_model_name": "LayoutModel",
            "_view_count": null,
            "_view_module": "@jupyter-widgets/base",
            "_view_module_version": "1.2.0",
            "_view_name": "LayoutView",
            "align_content": null,
            "align_items": null,
            "align_self": null,
            "border": null,
            "bottom": null,
            "display": null,
            "flex": null,
            "flex_flow": null,
            "grid_area": null,
            "grid_auto_columns": null,
            "grid_auto_flow": null,
            "grid_auto_rows": null,
            "grid_column": null,
            "grid_gap": null,
            "grid_row": null,
            "grid_template_areas": null,
            "grid_template_columns": null,
            "grid_template_rows": null,
            "height": null,
            "justify_content": null,
            "justify_items": null,
            "left": null,
            "margin": null,
            "max_height": null,
            "max_width": null,
            "min_height": null,
            "min_width": null,
            "object_fit": null,
            "object_position": null,
            "order": null,
            "overflow": null,
            "overflow_x": null,
            "overflow_y": null,
            "padding": null,
            "right": null,
            "top": null,
            "visibility": null,
            "width": null
          }
        },
        "8ff02c15fdf642be80fa11422aeeefcd": {
          "model_module": "@jupyter-widgets/base",
          "model_name": "LayoutModel",
          "model_module_version": "1.2.0",
          "state": {
            "_model_module": "@jupyter-widgets/base",
            "_model_module_version": "1.2.0",
            "_model_name": "LayoutModel",
            "_view_count": null,
            "_view_module": "@jupyter-widgets/base",
            "_view_module_version": "1.2.0",
            "_view_name": "LayoutView",
            "align_content": null,
            "align_items": null,
            "align_self": null,
            "border": null,
            "bottom": null,
            "display": null,
            "flex": null,
            "flex_flow": null,
            "grid_area": null,
            "grid_auto_columns": null,
            "grid_auto_flow": null,
            "grid_auto_rows": null,
            "grid_column": null,
            "grid_gap": null,
            "grid_row": null,
            "grid_template_areas": null,
            "grid_template_columns": null,
            "grid_template_rows": null,
            "height": null,
            "justify_content": null,
            "justify_items": null,
            "left": null,
            "margin": null,
            "max_height": null,
            "max_width": null,
            "min_height": null,
            "min_width": null,
            "object_fit": null,
            "object_position": null,
            "order": null,
            "overflow": null,
            "overflow_x": null,
            "overflow_y": null,
            "padding": null,
            "right": null,
            "top": null,
            "visibility": null,
            "width": null
          }
        },
        "b1f38b85b0314f889c2dc1e18b913deb": {
          "model_module": "@jupyter-widgets/controls",
          "model_name": "DescriptionStyleModel",
          "model_module_version": "1.5.0",
          "state": {
            "_model_module": "@jupyter-widgets/controls",
            "_model_module_version": "1.5.0",
            "_model_name": "DescriptionStyleModel",
            "_view_count": null,
            "_view_module": "@jupyter-widgets/base",
            "_view_module_version": "1.2.0",
            "_view_name": "StyleView",
            "description_width": ""
          }
        },
        "2e48fb8a652b4ba9832000e09605cb8a": {
          "model_module": "@jupyter-widgets/base",
          "model_name": "LayoutModel",
          "model_module_version": "1.2.0",
          "state": {
            "_model_module": "@jupyter-widgets/base",
            "_model_module_version": "1.2.0",
            "_model_name": "LayoutModel",
            "_view_count": null,
            "_view_module": "@jupyter-widgets/base",
            "_view_module_version": "1.2.0",
            "_view_name": "LayoutView",
            "align_content": null,
            "align_items": null,
            "align_self": null,
            "border": null,
            "bottom": null,
            "display": null,
            "flex": null,
            "flex_flow": null,
            "grid_area": null,
            "grid_auto_columns": null,
            "grid_auto_flow": null,
            "grid_auto_rows": null,
            "grid_column": null,
            "grid_gap": null,
            "grid_row": null,
            "grid_template_areas": null,
            "grid_template_columns": null,
            "grid_template_rows": null,
            "height": null,
            "justify_content": null,
            "justify_items": null,
            "left": null,
            "margin": null,
            "max_height": null,
            "max_width": null,
            "min_height": null,
            "min_width": null,
            "object_fit": null,
            "object_position": null,
            "order": null,
            "overflow": null,
            "overflow_x": null,
            "overflow_y": null,
            "padding": null,
            "right": null,
            "top": null,
            "visibility": null,
            "width": null
          }
        },
        "c923870cfc1f4ac287cb09737d911aa9": {
          "model_module": "@jupyter-widgets/controls",
          "model_name": "ProgressStyleModel",
          "model_module_version": "1.5.0",
          "state": {
            "_model_module": "@jupyter-widgets/controls",
            "_model_module_version": "1.5.0",
            "_model_name": "ProgressStyleModel",
            "_view_count": null,
            "_view_module": "@jupyter-widgets/base",
            "_view_module_version": "1.2.0",
            "_view_name": "StyleView",
            "bar_color": null,
            "description_width": ""
          }
        },
        "781c33ad77ee47b3a076a7acc53f2f92": {
          "model_module": "@jupyter-widgets/base",
          "model_name": "LayoutModel",
          "model_module_version": "1.2.0",
          "state": {
            "_model_module": "@jupyter-widgets/base",
            "_model_module_version": "1.2.0",
            "_model_name": "LayoutModel",
            "_view_count": null,
            "_view_module": "@jupyter-widgets/base",
            "_view_module_version": "1.2.0",
            "_view_name": "LayoutView",
            "align_content": null,
            "align_items": null,
            "align_self": null,
            "border": null,
            "bottom": null,
            "display": null,
            "flex": null,
            "flex_flow": null,
            "grid_area": null,
            "grid_auto_columns": null,
            "grid_auto_flow": null,
            "grid_auto_rows": null,
            "grid_column": null,
            "grid_gap": null,
            "grid_row": null,
            "grid_template_areas": null,
            "grid_template_columns": null,
            "grid_template_rows": null,
            "height": null,
            "justify_content": null,
            "justify_items": null,
            "left": null,
            "margin": null,
            "max_height": null,
            "max_width": null,
            "min_height": null,
            "min_width": null,
            "object_fit": null,
            "object_position": null,
            "order": null,
            "overflow": null,
            "overflow_x": null,
            "overflow_y": null,
            "padding": null,
            "right": null,
            "top": null,
            "visibility": null,
            "width": null
          }
        },
        "04f265e5922a4ad0aea12cbe75d126b0": {
          "model_module": "@jupyter-widgets/controls",
          "model_name": "DescriptionStyleModel",
          "model_module_version": "1.5.0",
          "state": {
            "_model_module": "@jupyter-widgets/controls",
            "_model_module_version": "1.5.0",
            "_model_name": "DescriptionStyleModel",
            "_view_count": null,
            "_view_module": "@jupyter-widgets/base",
            "_view_module_version": "1.2.0",
            "_view_name": "StyleView",
            "description_width": ""
          }
        },
        "3e0932c5ed424a50a92078137173a708": {
          "model_module": "@jupyter-widgets/controls",
          "model_name": "HBoxModel",
          "model_module_version": "1.5.0",
          "state": {
            "_dom_classes": [],
            "_model_module": "@jupyter-widgets/controls",
            "_model_module_version": "1.5.0",
            "_model_name": "HBoxModel",
            "_view_count": null,
            "_view_module": "@jupyter-widgets/controls",
            "_view_module_version": "1.5.0",
            "_view_name": "HBoxView",
            "box_style": "",
            "children": [
              "IPY_MODEL_83f3e43ebb4b4cb1b294710b033a8d5b",
              "IPY_MODEL_a1cb41bb6f8b44e79b3c5b6809ef4112",
              "IPY_MODEL_124c8e6502ec4235ab9eb4de12885171"
            ],
            "layout": "IPY_MODEL_874f93199dc2415884aee74b28ff329b"
          }
        },
        "83f3e43ebb4b4cb1b294710b033a8d5b": {
          "model_module": "@jupyter-widgets/controls",
          "model_name": "HTMLModel",
          "model_module_version": "1.5.0",
          "state": {
            "_dom_classes": [],
            "_model_module": "@jupyter-widgets/controls",
            "_model_module_version": "1.5.0",
            "_model_name": "HTMLModel",
            "_view_count": null,
            "_view_module": "@jupyter-widgets/controls",
            "_view_module_version": "1.5.0",
            "_view_name": "HTMLView",
            "description": "",
            "description_tooltip": null,
            "layout": "IPY_MODEL_0f9834066cea4e9a877234cdb6d6c950",
            "placeholder": "​",
            "style": "IPY_MODEL_7a77e7cb0af34b818587690b02e4e35f",
            "value": "Extracting image features: 100%"
          }
        },
        "a1cb41bb6f8b44e79b3c5b6809ef4112": {
          "model_module": "@jupyter-widgets/controls",
          "model_name": "FloatProgressModel",
          "model_module_version": "1.5.0",
          "state": {
            "_dom_classes": [],
            "_model_module": "@jupyter-widgets/controls",
            "_model_module_version": "1.5.0",
            "_model_name": "FloatProgressModel",
            "_view_count": null,
            "_view_module": "@jupyter-widgets/controls",
            "_view_module_version": "1.5.0",
            "_view_name": "ProgressView",
            "bar_style": "",
            "description": "",
            "description_tooltip": null,
            "layout": "IPY_MODEL_402ccffe055f4bfb8f5bab3adafcc3d4",
            "max": 47,
            "min": 0,
            "orientation": "horizontal",
            "style": "IPY_MODEL_ed6fefb0b47d4080866a7ab58f01279b",
            "value": 47
          }
        },
        "124c8e6502ec4235ab9eb4de12885171": {
          "model_module": "@jupyter-widgets/controls",
          "model_name": "HTMLModel",
          "model_module_version": "1.5.0",
          "state": {
            "_dom_classes": [],
            "_model_module": "@jupyter-widgets/controls",
            "_model_module_version": "1.5.0",
            "_model_name": "HTMLModel",
            "_view_count": null,
            "_view_module": "@jupyter-widgets/controls",
            "_view_module_version": "1.5.0",
            "_view_name": "HTMLView",
            "description": "",
            "description_tooltip": null,
            "layout": "IPY_MODEL_b096e760d3294d83ba72a38ecbbf48bf",
            "placeholder": "​",
            "style": "IPY_MODEL_d2e98c8bfcb44a208905b51b05a9639c",
            "value": " 47/47 [00:16&lt;00:00,  4.48it/s]"
          }
        },
        "874f93199dc2415884aee74b28ff329b": {
          "model_module": "@jupyter-widgets/base",
          "model_name": "LayoutModel",
          "model_module_version": "1.2.0",
          "state": {
            "_model_module": "@jupyter-widgets/base",
            "_model_module_version": "1.2.0",
            "_model_name": "LayoutModel",
            "_view_count": null,
            "_view_module": "@jupyter-widgets/base",
            "_view_module_version": "1.2.0",
            "_view_name": "LayoutView",
            "align_content": null,
            "align_items": null,
            "align_self": null,
            "border": null,
            "bottom": null,
            "display": null,
            "flex": null,
            "flex_flow": null,
            "grid_area": null,
            "grid_auto_columns": null,
            "grid_auto_flow": null,
            "grid_auto_rows": null,
            "grid_column": null,
            "grid_gap": null,
            "grid_row": null,
            "grid_template_areas": null,
            "grid_template_columns": null,
            "grid_template_rows": null,
            "height": null,
            "justify_content": null,
            "justify_items": null,
            "left": null,
            "margin": null,
            "max_height": null,
            "max_width": null,
            "min_height": null,
            "min_width": null,
            "object_fit": null,
            "object_position": null,
            "order": null,
            "overflow": null,
            "overflow_x": null,
            "overflow_y": null,
            "padding": null,
            "right": null,
            "top": null,
            "visibility": "hidden",
            "width": null
          }
        },
        "0f9834066cea4e9a877234cdb6d6c950": {
          "model_module": "@jupyter-widgets/base",
          "model_name": "LayoutModel",
          "model_module_version": "1.2.0",
          "state": {
            "_model_module": "@jupyter-widgets/base",
            "_model_module_version": "1.2.0",
            "_model_name": "LayoutModel",
            "_view_count": null,
            "_view_module": "@jupyter-widgets/base",
            "_view_module_version": "1.2.0",
            "_view_name": "LayoutView",
            "align_content": null,
            "align_items": null,
            "align_self": null,
            "border": null,
            "bottom": null,
            "display": null,
            "flex": null,
            "flex_flow": null,
            "grid_area": null,
            "grid_auto_columns": null,
            "grid_auto_flow": null,
            "grid_auto_rows": null,
            "grid_column": null,
            "grid_gap": null,
            "grid_row": null,
            "grid_template_areas": null,
            "grid_template_columns": null,
            "grid_template_rows": null,
            "height": null,
            "justify_content": null,
            "justify_items": null,
            "left": null,
            "margin": null,
            "max_height": null,
            "max_width": null,
            "min_height": null,
            "min_width": null,
            "object_fit": null,
            "object_position": null,
            "order": null,
            "overflow": null,
            "overflow_x": null,
            "overflow_y": null,
            "padding": null,
            "right": null,
            "top": null,
            "visibility": null,
            "width": null
          }
        },
        "7a77e7cb0af34b818587690b02e4e35f": {
          "model_module": "@jupyter-widgets/controls",
          "model_name": "DescriptionStyleModel",
          "model_module_version": "1.5.0",
          "state": {
            "_model_module": "@jupyter-widgets/controls",
            "_model_module_version": "1.5.0",
            "_model_name": "DescriptionStyleModel",
            "_view_count": null,
            "_view_module": "@jupyter-widgets/base",
            "_view_module_version": "1.2.0",
            "_view_name": "StyleView",
            "description_width": ""
          }
        },
        "402ccffe055f4bfb8f5bab3adafcc3d4": {
          "model_module": "@jupyter-widgets/base",
          "model_name": "LayoutModel",
          "model_module_version": "1.2.0",
          "state": {
            "_model_module": "@jupyter-widgets/base",
            "_model_module_version": "1.2.0",
            "_model_name": "LayoutModel",
            "_view_count": null,
            "_view_module": "@jupyter-widgets/base",
            "_view_module_version": "1.2.0",
            "_view_name": "LayoutView",
            "align_content": null,
            "align_items": null,
            "align_self": null,
            "border": null,
            "bottom": null,
            "display": null,
            "flex": null,
            "flex_flow": null,
            "grid_area": null,
            "grid_auto_columns": null,
            "grid_auto_flow": null,
            "grid_auto_rows": null,
            "grid_column": null,
            "grid_gap": null,
            "grid_row": null,
            "grid_template_areas": null,
            "grid_template_columns": null,
            "grid_template_rows": null,
            "height": null,
            "justify_content": null,
            "justify_items": null,
            "left": null,
            "margin": null,
            "max_height": null,
            "max_width": null,
            "min_height": null,
            "min_width": null,
            "object_fit": null,
            "object_position": null,
            "order": null,
            "overflow": null,
            "overflow_x": null,
            "overflow_y": null,
            "padding": null,
            "right": null,
            "top": null,
            "visibility": null,
            "width": null
          }
        },
        "ed6fefb0b47d4080866a7ab58f01279b": {
          "model_module": "@jupyter-widgets/controls",
          "model_name": "ProgressStyleModel",
          "model_module_version": "1.5.0",
          "state": {
            "_model_module": "@jupyter-widgets/controls",
            "_model_module_version": "1.5.0",
            "_model_name": "ProgressStyleModel",
            "_view_count": null,
            "_view_module": "@jupyter-widgets/base",
            "_view_module_version": "1.2.0",
            "_view_name": "StyleView",
            "bar_color": null,
            "description_width": ""
          }
        },
        "b096e760d3294d83ba72a38ecbbf48bf": {
          "model_module": "@jupyter-widgets/base",
          "model_name": "LayoutModel",
          "model_module_version": "1.2.0",
          "state": {
            "_model_module": "@jupyter-widgets/base",
            "_model_module_version": "1.2.0",
            "_model_name": "LayoutModel",
            "_view_count": null,
            "_view_module": "@jupyter-widgets/base",
            "_view_module_version": "1.2.0",
            "_view_name": "LayoutView",
            "align_content": null,
            "align_items": null,
            "align_self": null,
            "border": null,
            "bottom": null,
            "display": null,
            "flex": null,
            "flex_flow": null,
            "grid_area": null,
            "grid_auto_columns": null,
            "grid_auto_flow": null,
            "grid_auto_rows": null,
            "grid_column": null,
            "grid_gap": null,
            "grid_row": null,
            "grid_template_areas": null,
            "grid_template_columns": null,
            "grid_template_rows": null,
            "height": null,
            "justify_content": null,
            "justify_items": null,
            "left": null,
            "margin": null,
            "max_height": null,
            "max_width": null,
            "min_height": null,
            "min_width": null,
            "object_fit": null,
            "object_position": null,
            "order": null,
            "overflow": null,
            "overflow_x": null,
            "overflow_y": null,
            "padding": null,
            "right": null,
            "top": null,
            "visibility": null,
            "width": null
          }
        },
        "d2e98c8bfcb44a208905b51b05a9639c": {
          "model_module": "@jupyter-widgets/controls",
          "model_name": "DescriptionStyleModel",
          "model_module_version": "1.5.0",
          "state": {
            "_model_module": "@jupyter-widgets/controls",
            "_model_module_version": "1.5.0",
            "_model_name": "DescriptionStyleModel",
            "_view_count": null,
            "_view_module": "@jupyter-widgets/base",
            "_view_module_version": "1.2.0",
            "_view_name": "StyleView",
            "description_width": ""
          }
        },
        "e9db1e594f1b4fa8898c5007ef3e5528": {
          "model_module": "@jupyter-widgets/controls",
          "model_name": "HBoxModel",
          "model_module_version": "1.5.0",
          "state": {
            "_dom_classes": [],
            "_model_module": "@jupyter-widgets/controls",
            "_model_module_version": "1.5.0",
            "_model_name": "HBoxModel",
            "_view_count": null,
            "_view_module": "@jupyter-widgets/controls",
            "_view_module_version": "1.5.0",
            "_view_name": "HBoxView",
            "box_style": "",
            "children": [
              "IPY_MODEL_49a8f9d123434a67bab6594406800289",
              "IPY_MODEL_521f3185a00242e0a3a3c9e86eb05648",
              "IPY_MODEL_7c123735cca84a5b96ad45c3909022b8"
            ],
            "layout": "IPY_MODEL_21fbc54b032c4542939de526224e1b68"
          }
        },
        "49a8f9d123434a67bab6594406800289": {
          "model_module": "@jupyter-widgets/controls",
          "model_name": "HTMLModel",
          "model_module_version": "1.5.0",
          "state": {
            "_dom_classes": [],
            "_model_module": "@jupyter-widgets/controls",
            "_model_module_version": "1.5.0",
            "_model_name": "HTMLModel",
            "_view_count": null,
            "_view_module": "@jupyter-widgets/controls",
            "_view_module_version": "1.5.0",
            "_view_name": "HTMLView",
            "description": "",
            "description_tooltip": null,
            "layout": "IPY_MODEL_6f117dfa26f749f58db1a610d10fb578",
            "placeholder": "​",
            "style": "IPY_MODEL_27d5d658239d4fceab1febd254b67b0b",
            "value": "Evaluating prototype classification: 100%"
          }
        },
        "521f3185a00242e0a3a3c9e86eb05648": {
          "model_module": "@jupyter-widgets/controls",
          "model_name": "FloatProgressModel",
          "model_module_version": "1.5.0",
          "state": {
            "_dom_classes": [],
            "_model_module": "@jupyter-widgets/controls",
            "_model_module_version": "1.5.0",
            "_model_name": "FloatProgressModel",
            "_view_count": null,
            "_view_module": "@jupyter-widgets/controls",
            "_view_module_version": "1.5.0",
            "_view_name": "ProgressView",
            "bar_style": "",
            "description": "",
            "description_tooltip": null,
            "layout": "IPY_MODEL_d13a2d536bb2467c88567a3e9bed5b3a",
            "max": 300,
            "min": 0,
            "orientation": "horizontal",
            "style": "IPY_MODEL_2bcf299cccef4ebcae6b433e3217aa08",
            "value": 300
          }
        },
        "7c123735cca84a5b96ad45c3909022b8": {
          "model_module": "@jupyter-widgets/controls",
          "model_name": "HTMLModel",
          "model_module_version": "1.5.0",
          "state": {
            "_dom_classes": [],
            "_model_module": "@jupyter-widgets/controls",
            "_model_module_version": "1.5.0",
            "_model_name": "HTMLModel",
            "_view_count": null,
            "_view_module": "@jupyter-widgets/controls",
            "_view_module_version": "1.5.0",
            "_view_name": "HTMLView",
            "description": "",
            "description_tooltip": null,
            "layout": "IPY_MODEL_b4d6884e864749139315e1ec9dc6a989",
            "placeholder": "​",
            "style": "IPY_MODEL_044e8c6ca94841938dab7250c76848a0",
            "value": " 299/300 [00:11&lt;00:00, 27.17it/s]"
          }
        },
        "21fbc54b032c4542939de526224e1b68": {
          "model_module": "@jupyter-widgets/base",
          "model_name": "LayoutModel",
          "model_module_version": "1.2.0",
          "state": {
            "_model_module": "@jupyter-widgets/base",
            "_model_module_version": "1.2.0",
            "_model_name": "LayoutModel",
            "_view_count": null,
            "_view_module": "@jupyter-widgets/base",
            "_view_module_version": "1.2.0",
            "_view_name": "LayoutView",
            "align_content": null,
            "align_items": null,
            "align_self": null,
            "border": null,
            "bottom": null,
            "display": null,
            "flex": null,
            "flex_flow": null,
            "grid_area": null,
            "grid_auto_columns": null,
            "grid_auto_flow": null,
            "grid_auto_rows": null,
            "grid_column": null,
            "grid_gap": null,
            "grid_row": null,
            "grid_template_areas": null,
            "grid_template_columns": null,
            "grid_template_rows": null,
            "height": null,
            "justify_content": null,
            "justify_items": null,
            "left": null,
            "margin": null,
            "max_height": null,
            "max_width": null,
            "min_height": null,
            "min_width": null,
            "object_fit": null,
            "object_position": null,
            "order": null,
            "overflow": null,
            "overflow_x": null,
            "overflow_y": null,
            "padding": null,
            "right": null,
            "top": null,
            "visibility": "hidden",
            "width": null
          }
        },
        "6f117dfa26f749f58db1a610d10fb578": {
          "model_module": "@jupyter-widgets/base",
          "model_name": "LayoutModel",
          "model_module_version": "1.2.0",
          "state": {
            "_model_module": "@jupyter-widgets/base",
            "_model_module_version": "1.2.0",
            "_model_name": "LayoutModel",
            "_view_count": null,
            "_view_module": "@jupyter-widgets/base",
            "_view_module_version": "1.2.0",
            "_view_name": "LayoutView",
            "align_content": null,
            "align_items": null,
            "align_self": null,
            "border": null,
            "bottom": null,
            "display": null,
            "flex": null,
            "flex_flow": null,
            "grid_area": null,
            "grid_auto_columns": null,
            "grid_auto_flow": null,
            "grid_auto_rows": null,
            "grid_column": null,
            "grid_gap": null,
            "grid_row": null,
            "grid_template_areas": null,
            "grid_template_columns": null,
            "grid_template_rows": null,
            "height": null,
            "justify_content": null,
            "justify_items": null,
            "left": null,
            "margin": null,
            "max_height": null,
            "max_width": null,
            "min_height": null,
            "min_width": null,
            "object_fit": null,
            "object_position": null,
            "order": null,
            "overflow": null,
            "overflow_x": null,
            "overflow_y": null,
            "padding": null,
            "right": null,
            "top": null,
            "visibility": null,
            "width": null
          }
        },
        "27d5d658239d4fceab1febd254b67b0b": {
          "model_module": "@jupyter-widgets/controls",
          "model_name": "DescriptionStyleModel",
          "model_module_version": "1.5.0",
          "state": {
            "_model_module": "@jupyter-widgets/controls",
            "_model_module_version": "1.5.0",
            "_model_name": "DescriptionStyleModel",
            "_view_count": null,
            "_view_module": "@jupyter-widgets/base",
            "_view_module_version": "1.2.0",
            "_view_name": "StyleView",
            "description_width": ""
          }
        },
        "d13a2d536bb2467c88567a3e9bed5b3a": {
          "model_module": "@jupyter-widgets/base",
          "model_name": "LayoutModel",
          "model_module_version": "1.2.0",
          "state": {
            "_model_module": "@jupyter-widgets/base",
            "_model_module_version": "1.2.0",
            "_model_name": "LayoutModel",
            "_view_count": null,
            "_view_module": "@jupyter-widgets/base",
            "_view_module_version": "1.2.0",
            "_view_name": "LayoutView",
            "align_content": null,
            "align_items": null,
            "align_self": null,
            "border": null,
            "bottom": null,
            "display": null,
            "flex": null,
            "flex_flow": null,
            "grid_area": null,
            "grid_auto_columns": null,
            "grid_auto_flow": null,
            "grid_auto_rows": null,
            "grid_column": null,
            "grid_gap": null,
            "grid_row": null,
            "grid_template_areas": null,
            "grid_template_columns": null,
            "grid_template_rows": null,
            "height": null,
            "justify_content": null,
            "justify_items": null,
            "left": null,
            "margin": null,
            "max_height": null,
            "max_width": null,
            "min_height": null,
            "min_width": null,
            "object_fit": null,
            "object_position": null,
            "order": null,
            "overflow": null,
            "overflow_x": null,
            "overflow_y": null,
            "padding": null,
            "right": null,
            "top": null,
            "visibility": null,
            "width": null
          }
        },
        "2bcf299cccef4ebcae6b433e3217aa08": {
          "model_module": "@jupyter-widgets/controls",
          "model_name": "ProgressStyleModel",
          "model_module_version": "1.5.0",
          "state": {
            "_model_module": "@jupyter-widgets/controls",
            "_model_module_version": "1.5.0",
            "_model_name": "ProgressStyleModel",
            "_view_count": null,
            "_view_module": "@jupyter-widgets/base",
            "_view_module_version": "1.2.0",
            "_view_name": "StyleView",
            "bar_color": null,
            "description_width": ""
          }
        },
        "b4d6884e864749139315e1ec9dc6a989": {
          "model_module": "@jupyter-widgets/base",
          "model_name": "LayoutModel",
          "model_module_version": "1.2.0",
          "state": {
            "_model_module": "@jupyter-widgets/base",
            "_model_module_version": "1.2.0",
            "_model_name": "LayoutModel",
            "_view_count": null,
            "_view_module": "@jupyter-widgets/base",
            "_view_module_version": "1.2.0",
            "_view_name": "LayoutView",
            "align_content": null,
            "align_items": null,
            "align_self": null,
            "border": null,
            "bottom": null,
            "display": null,
            "flex": null,
            "flex_flow": null,
            "grid_area": null,
            "grid_auto_columns": null,
            "grid_auto_flow": null,
            "grid_auto_rows": null,
            "grid_column": null,
            "grid_gap": null,
            "grid_row": null,
            "grid_template_areas": null,
            "grid_template_columns": null,
            "grid_template_rows": null,
            "height": null,
            "justify_content": null,
            "justify_items": null,
            "left": null,
            "margin": null,
            "max_height": null,
            "max_width": null,
            "min_height": null,
            "min_width": null,
            "object_fit": null,
            "object_position": null,
            "order": null,
            "overflow": null,
            "overflow_x": null,
            "overflow_y": null,
            "padding": null,
            "right": null,
            "top": null,
            "visibility": null,
            "width": null
          }
        },
        "044e8c6ca94841938dab7250c76848a0": {
          "model_module": "@jupyter-widgets/controls",
          "model_name": "DescriptionStyleModel",
          "model_module_version": "1.5.0",
          "state": {
            "_model_module": "@jupyter-widgets/controls",
            "_model_module_version": "1.5.0",
            "_model_name": "DescriptionStyleModel",
            "_view_count": null,
            "_view_module": "@jupyter-widgets/base",
            "_view_module_version": "1.2.0",
            "_view_name": "StyleView",
            "description_width": ""
          }
        },
        "ce8cc47537b14e5da366fb8c8f025fa6": {
          "model_module": "@jupyter-widgets/controls",
          "model_name": "HBoxModel",
          "model_module_version": "1.5.0",
          "state": {
            "_dom_classes": [],
            "_model_module": "@jupyter-widgets/controls",
            "_model_module_version": "1.5.0",
            "_model_name": "HBoxModel",
            "_view_count": null,
            "_view_module": "@jupyter-widgets/controls",
            "_view_module_version": "1.5.0",
            "_view_name": "HBoxView",
            "box_style": "",
            "children": [
              "IPY_MODEL_5b42b47b9cba4392b6bdc48ac359dd7b",
              "IPY_MODEL_a37164f7a7ea47f9ab318e7ba139f922",
              "IPY_MODEL_60452bbb26144d13a84264a4fb51904a"
            ],
            "layout": "IPY_MODEL_1b2662da9db549bc9021a69b83a8aa2c"
          }
        },
        "5b42b47b9cba4392b6bdc48ac359dd7b": {
          "model_module": "@jupyter-widgets/controls",
          "model_name": "HTMLModel",
          "model_module_version": "1.5.0",
          "state": {
            "_dom_classes": [],
            "_model_module": "@jupyter-widgets/controls",
            "_model_module_version": "1.5.0",
            "_model_name": "HTMLModel",
            "_view_count": null,
            "_view_module": "@jupyter-widgets/controls",
            "_view_module_version": "1.5.0",
            "_view_name": "HTMLView",
            "description": "",
            "description_tooltip": null,
            "layout": "IPY_MODEL_9d532347ecb44e29b23ab7e022de586d",
            "placeholder": "​",
            "style": "IPY_MODEL_94c85820e4ef416eb2ca317ba3f0aa45",
            "value": "Evaluating prototype classification:  99%"
          }
        },
        "a37164f7a7ea47f9ab318e7ba139f922": {
          "model_module": "@jupyter-widgets/controls",
          "model_name": "FloatProgressModel",
          "model_module_version": "1.5.0",
          "state": {
            "_dom_classes": [],
            "_model_module": "@jupyter-widgets/controls",
            "_model_module_version": "1.5.0",
            "_model_name": "FloatProgressModel",
            "_view_count": null,
            "_view_module": "@jupyter-widgets/controls",
            "_view_module_version": "1.5.0",
            "_view_name": "ProgressView",
            "bar_style": "",
            "description": "",
            "description_tooltip": null,
            "layout": "IPY_MODEL_7801f2a9602841e18d1268f592c6f295",
            "max": 150,
            "min": 0,
            "orientation": "horizontal",
            "style": "IPY_MODEL_21134e84cf1c4e1798b19a83265ca0c9",
            "value": 150
          }
        },
        "60452bbb26144d13a84264a4fb51904a": {
          "model_module": "@jupyter-widgets/controls",
          "model_name": "HTMLModel",
          "model_module_version": "1.5.0",
          "state": {
            "_dom_classes": [],
            "_model_module": "@jupyter-widgets/controls",
            "_model_module_version": "1.5.0",
            "_model_name": "HTMLModel",
            "_view_count": null,
            "_view_module": "@jupyter-widgets/controls",
            "_view_module_version": "1.5.0",
            "_view_name": "HTMLView",
            "description": "",
            "description_tooltip": null,
            "layout": "IPY_MODEL_d5992f247cb94814b3f784380474aeac",
            "placeholder": "​",
            "style": "IPY_MODEL_28135e8d53f3422ca8fbfbcf4f307aae",
            "value": " 148/150 [00:03&lt;00:00, 45.27it/s]"
          }
        },
        "1b2662da9db549bc9021a69b83a8aa2c": {
          "model_module": "@jupyter-widgets/base",
          "model_name": "LayoutModel",
          "model_module_version": "1.2.0",
          "state": {
            "_model_module": "@jupyter-widgets/base",
            "_model_module_version": "1.2.0",
            "_model_name": "LayoutModel",
            "_view_count": null,
            "_view_module": "@jupyter-widgets/base",
            "_view_module_version": "1.2.0",
            "_view_name": "LayoutView",
            "align_content": null,
            "align_items": null,
            "align_self": null,
            "border": null,
            "bottom": null,
            "display": null,
            "flex": null,
            "flex_flow": null,
            "grid_area": null,
            "grid_auto_columns": null,
            "grid_auto_flow": null,
            "grid_auto_rows": null,
            "grid_column": null,
            "grid_gap": null,
            "grid_row": null,
            "grid_template_areas": null,
            "grid_template_columns": null,
            "grid_template_rows": null,
            "height": null,
            "justify_content": null,
            "justify_items": null,
            "left": null,
            "margin": null,
            "max_height": null,
            "max_width": null,
            "min_height": null,
            "min_width": null,
            "object_fit": null,
            "object_position": null,
            "order": null,
            "overflow": null,
            "overflow_x": null,
            "overflow_y": null,
            "padding": null,
            "right": null,
            "top": null,
            "visibility": "hidden",
            "width": null
          }
        },
        "9d532347ecb44e29b23ab7e022de586d": {
          "model_module": "@jupyter-widgets/base",
          "model_name": "LayoutModel",
          "model_module_version": "1.2.0",
          "state": {
            "_model_module": "@jupyter-widgets/base",
            "_model_module_version": "1.2.0",
            "_model_name": "LayoutModel",
            "_view_count": null,
            "_view_module": "@jupyter-widgets/base",
            "_view_module_version": "1.2.0",
            "_view_name": "LayoutView",
            "align_content": null,
            "align_items": null,
            "align_self": null,
            "border": null,
            "bottom": null,
            "display": null,
            "flex": null,
            "flex_flow": null,
            "grid_area": null,
            "grid_auto_columns": null,
            "grid_auto_flow": null,
            "grid_auto_rows": null,
            "grid_column": null,
            "grid_gap": null,
            "grid_row": null,
            "grid_template_areas": null,
            "grid_template_columns": null,
            "grid_template_rows": null,
            "height": null,
            "justify_content": null,
            "justify_items": null,
            "left": null,
            "margin": null,
            "max_height": null,
            "max_width": null,
            "min_height": null,
            "min_width": null,
            "object_fit": null,
            "object_position": null,
            "order": null,
            "overflow": null,
            "overflow_x": null,
            "overflow_y": null,
            "padding": null,
            "right": null,
            "top": null,
            "visibility": null,
            "width": null
          }
        },
        "94c85820e4ef416eb2ca317ba3f0aa45": {
          "model_module": "@jupyter-widgets/controls",
          "model_name": "DescriptionStyleModel",
          "model_module_version": "1.5.0",
          "state": {
            "_model_module": "@jupyter-widgets/controls",
            "_model_module_version": "1.5.0",
            "_model_name": "DescriptionStyleModel",
            "_view_count": null,
            "_view_module": "@jupyter-widgets/base",
            "_view_module_version": "1.2.0",
            "_view_name": "StyleView",
            "description_width": ""
          }
        },
        "7801f2a9602841e18d1268f592c6f295": {
          "model_module": "@jupyter-widgets/base",
          "model_name": "LayoutModel",
          "model_module_version": "1.2.0",
          "state": {
            "_model_module": "@jupyter-widgets/base",
            "_model_module_version": "1.2.0",
            "_model_name": "LayoutModel",
            "_view_count": null,
            "_view_module": "@jupyter-widgets/base",
            "_view_module_version": "1.2.0",
            "_view_name": "LayoutView",
            "align_content": null,
            "align_items": null,
            "align_self": null,
            "border": null,
            "bottom": null,
            "display": null,
            "flex": null,
            "flex_flow": null,
            "grid_area": null,
            "grid_auto_columns": null,
            "grid_auto_flow": null,
            "grid_auto_rows": null,
            "grid_column": null,
            "grid_gap": null,
            "grid_row": null,
            "grid_template_areas": null,
            "grid_template_columns": null,
            "grid_template_rows": null,
            "height": null,
            "justify_content": null,
            "justify_items": null,
            "left": null,
            "margin": null,
            "max_height": null,
            "max_width": null,
            "min_height": null,
            "min_width": null,
            "object_fit": null,
            "object_position": null,
            "order": null,
            "overflow": null,
            "overflow_x": null,
            "overflow_y": null,
            "padding": null,
            "right": null,
            "top": null,
            "visibility": null,
            "width": null
          }
        },
        "21134e84cf1c4e1798b19a83265ca0c9": {
          "model_module": "@jupyter-widgets/controls",
          "model_name": "ProgressStyleModel",
          "model_module_version": "1.5.0",
          "state": {
            "_model_module": "@jupyter-widgets/controls",
            "_model_module_version": "1.5.0",
            "_model_name": "ProgressStyleModel",
            "_view_count": null,
            "_view_module": "@jupyter-widgets/base",
            "_view_module_version": "1.2.0",
            "_view_name": "StyleView",
            "bar_color": null,
            "description_width": ""
          }
        },
        "d5992f247cb94814b3f784380474aeac": {
          "model_module": "@jupyter-widgets/base",
          "model_name": "LayoutModel",
          "model_module_version": "1.2.0",
          "state": {
            "_model_module": "@jupyter-widgets/base",
            "_model_module_version": "1.2.0",
            "_model_name": "LayoutModel",
            "_view_count": null,
            "_view_module": "@jupyter-widgets/base",
            "_view_module_version": "1.2.0",
            "_view_name": "LayoutView",
            "align_content": null,
            "align_items": null,
            "align_self": null,
            "border": null,
            "bottom": null,
            "display": null,
            "flex": null,
            "flex_flow": null,
            "grid_area": null,
            "grid_auto_columns": null,
            "grid_auto_flow": null,
            "grid_auto_rows": null,
            "grid_column": null,
            "grid_gap": null,
            "grid_row": null,
            "grid_template_areas": null,
            "grid_template_columns": null,
            "grid_template_rows": null,
            "height": null,
            "justify_content": null,
            "justify_items": null,
            "left": null,
            "margin": null,
            "max_height": null,
            "max_width": null,
            "min_height": null,
            "min_width": null,
            "object_fit": null,
            "object_position": null,
            "order": null,
            "overflow": null,
            "overflow_x": null,
            "overflow_y": null,
            "padding": null,
            "right": null,
            "top": null,
            "visibility": null,
            "width": null
          }
        },
        "28135e8d53f3422ca8fbfbcf4f307aae": {
          "model_module": "@jupyter-widgets/controls",
          "model_name": "DescriptionStyleModel",
          "model_module_version": "1.5.0",
          "state": {
            "_model_module": "@jupyter-widgets/controls",
            "_model_module_version": "1.5.0",
            "_model_name": "DescriptionStyleModel",
            "_view_count": null,
            "_view_module": "@jupyter-widgets/base",
            "_view_module_version": "1.2.0",
            "_view_name": "StyleView",
            "description_width": ""
          }
        },
        "b6617e49963943f38db0ec2dc9884f13": {
          "model_module": "@jupyter-widgets/controls",
          "model_name": "HBoxModel",
          "model_module_version": "1.5.0",
          "state": {
            "_dom_classes": [],
            "_model_module": "@jupyter-widgets/controls",
            "_model_module_version": "1.5.0",
            "_model_name": "HBoxModel",
            "_view_count": null,
            "_view_module": "@jupyter-widgets/controls",
            "_view_module_version": "1.5.0",
            "_view_name": "HBoxView",
            "box_style": "",
            "children": [
              "IPY_MODEL_68962c84adb94d6e8e3c959df7073f40",
              "IPY_MODEL_e9232f6c9e8f4491919375bede832947",
              "IPY_MODEL_189e33b24272481c97ba905c707b3769"
            ],
            "layout": "IPY_MODEL_9c67546886504feeb31b9b148ffd3011"
          }
        },
        "68962c84adb94d6e8e3c959df7073f40": {
          "model_module": "@jupyter-widgets/controls",
          "model_name": "HTMLModel",
          "model_module_version": "1.5.0",
          "state": {
            "_dom_classes": [],
            "_model_module": "@jupyter-widgets/controls",
            "_model_module_version": "1.5.0",
            "_model_name": "HTMLModel",
            "_view_count": null,
            "_view_module": "@jupyter-widgets/controls",
            "_view_module_version": "1.5.0",
            "_view_name": "HTMLView",
            "description": "",
            "description_tooltip": null,
            "layout": "IPY_MODEL_29f031b639434206a89d8154363a2179",
            "placeholder": "​",
            "style": "IPY_MODEL_097d3d9e6aff460fad70d87e701a9c06",
            "value": "Evaluating prototype classification:  96%"
          }
        },
        "e9232f6c9e8f4491919375bede832947": {
          "model_module": "@jupyter-widgets/controls",
          "model_name": "FloatProgressModel",
          "model_module_version": "1.5.0",
          "state": {
            "_dom_classes": [],
            "_model_module": "@jupyter-widgets/controls",
            "_model_module_version": "1.5.0",
            "_model_name": "FloatProgressModel",
            "_view_count": null,
            "_view_module": "@jupyter-widgets/controls",
            "_view_module_version": "1.5.0",
            "_view_name": "ProgressView",
            "bar_style": "",
            "description": "",
            "description_tooltip": null,
            "layout": "IPY_MODEL_2a99ad1c0c9446d79cad3164d88c95e1",
            "max": 75,
            "min": 0,
            "orientation": "horizontal",
            "style": "IPY_MODEL_422c33d2ac8f46d0a28c1f407d911b94",
            "value": 75
          }
        },
        "189e33b24272481c97ba905c707b3769": {
          "model_module": "@jupyter-widgets/controls",
          "model_name": "HTMLModel",
          "model_module_version": "1.5.0",
          "state": {
            "_dom_classes": [],
            "_model_module": "@jupyter-widgets/controls",
            "_model_module_version": "1.5.0",
            "_model_name": "HTMLModel",
            "_view_count": null,
            "_view_module": "@jupyter-widgets/controls",
            "_view_module_version": "1.5.0",
            "_view_name": "HTMLView",
            "description": "",
            "description_tooltip": null,
            "layout": "IPY_MODEL_44b22894310540a4a7978a77e7598cae",
            "placeholder": "​",
            "style": "IPY_MODEL_bbdf8f230c144f5486b9c8975fdc8696",
            "value": " 72/75 [00:21&lt;00:00, 21.76it/s]"
          }
        },
        "9c67546886504feeb31b9b148ffd3011": {
          "model_module": "@jupyter-widgets/base",
          "model_name": "LayoutModel",
          "model_module_version": "1.2.0",
          "state": {
            "_model_module": "@jupyter-widgets/base",
            "_model_module_version": "1.2.0",
            "_model_name": "LayoutModel",
            "_view_count": null,
            "_view_module": "@jupyter-widgets/base",
            "_view_module_version": "1.2.0",
            "_view_name": "LayoutView",
            "align_content": null,
            "align_items": null,
            "align_self": null,
            "border": null,
            "bottom": null,
            "display": null,
            "flex": null,
            "flex_flow": null,
            "grid_area": null,
            "grid_auto_columns": null,
            "grid_auto_flow": null,
            "grid_auto_rows": null,
            "grid_column": null,
            "grid_gap": null,
            "grid_row": null,
            "grid_template_areas": null,
            "grid_template_columns": null,
            "grid_template_rows": null,
            "height": null,
            "justify_content": null,
            "justify_items": null,
            "left": null,
            "margin": null,
            "max_height": null,
            "max_width": null,
            "min_height": null,
            "min_width": null,
            "object_fit": null,
            "object_position": null,
            "order": null,
            "overflow": null,
            "overflow_x": null,
            "overflow_y": null,
            "padding": null,
            "right": null,
            "top": null,
            "visibility": "hidden",
            "width": null
          }
        },
        "29f031b639434206a89d8154363a2179": {
          "model_module": "@jupyter-widgets/base",
          "model_name": "LayoutModel",
          "model_module_version": "1.2.0",
          "state": {
            "_model_module": "@jupyter-widgets/base",
            "_model_module_version": "1.2.0",
            "_model_name": "LayoutModel",
            "_view_count": null,
            "_view_module": "@jupyter-widgets/base",
            "_view_module_version": "1.2.0",
            "_view_name": "LayoutView",
            "align_content": null,
            "align_items": null,
            "align_self": null,
            "border": null,
            "bottom": null,
            "display": null,
            "flex": null,
            "flex_flow": null,
            "grid_area": null,
            "grid_auto_columns": null,
            "grid_auto_flow": null,
            "grid_auto_rows": null,
            "grid_column": null,
            "grid_gap": null,
            "grid_row": null,
            "grid_template_areas": null,
            "grid_template_columns": null,
            "grid_template_rows": null,
            "height": null,
            "justify_content": null,
            "justify_items": null,
            "left": null,
            "margin": null,
            "max_height": null,
            "max_width": null,
            "min_height": null,
            "min_width": null,
            "object_fit": null,
            "object_position": null,
            "order": null,
            "overflow": null,
            "overflow_x": null,
            "overflow_y": null,
            "padding": null,
            "right": null,
            "top": null,
            "visibility": null,
            "width": null
          }
        },
        "097d3d9e6aff460fad70d87e701a9c06": {
          "model_module": "@jupyter-widgets/controls",
          "model_name": "DescriptionStyleModel",
          "model_module_version": "1.5.0",
          "state": {
            "_model_module": "@jupyter-widgets/controls",
            "_model_module_version": "1.5.0",
            "_model_name": "DescriptionStyleModel",
            "_view_count": null,
            "_view_module": "@jupyter-widgets/base",
            "_view_module_version": "1.2.0",
            "_view_name": "StyleView",
            "description_width": ""
          }
        },
        "2a99ad1c0c9446d79cad3164d88c95e1": {
          "model_module": "@jupyter-widgets/base",
          "model_name": "LayoutModel",
          "model_module_version": "1.2.0",
          "state": {
            "_model_module": "@jupyter-widgets/base",
            "_model_module_version": "1.2.0",
            "_model_name": "LayoutModel",
            "_view_count": null,
            "_view_module": "@jupyter-widgets/base",
            "_view_module_version": "1.2.0",
            "_view_name": "LayoutView",
            "align_content": null,
            "align_items": null,
            "align_self": null,
            "border": null,
            "bottom": null,
            "display": null,
            "flex": null,
            "flex_flow": null,
            "grid_area": null,
            "grid_auto_columns": null,
            "grid_auto_flow": null,
            "grid_auto_rows": null,
            "grid_column": null,
            "grid_gap": null,
            "grid_row": null,
            "grid_template_areas": null,
            "grid_template_columns": null,
            "grid_template_rows": null,
            "height": null,
            "justify_content": null,
            "justify_items": null,
            "left": null,
            "margin": null,
            "max_height": null,
            "max_width": null,
            "min_height": null,
            "min_width": null,
            "object_fit": null,
            "object_position": null,
            "order": null,
            "overflow": null,
            "overflow_x": null,
            "overflow_y": null,
            "padding": null,
            "right": null,
            "top": null,
            "visibility": null,
            "width": null
          }
        },
        "422c33d2ac8f46d0a28c1f407d911b94": {
          "model_module": "@jupyter-widgets/controls",
          "model_name": "ProgressStyleModel",
          "model_module_version": "1.5.0",
          "state": {
            "_model_module": "@jupyter-widgets/controls",
            "_model_module_version": "1.5.0",
            "_model_name": "ProgressStyleModel",
            "_view_count": null,
            "_view_module": "@jupyter-widgets/base",
            "_view_module_version": "1.2.0",
            "_view_name": "StyleView",
            "bar_color": null,
            "description_width": ""
          }
        },
        "44b22894310540a4a7978a77e7598cae": {
          "model_module": "@jupyter-widgets/base",
          "model_name": "LayoutModel",
          "model_module_version": "1.2.0",
          "state": {
            "_model_module": "@jupyter-widgets/base",
            "_model_module_version": "1.2.0",
            "_model_name": "LayoutModel",
            "_view_count": null,
            "_view_module": "@jupyter-widgets/base",
            "_view_module_version": "1.2.0",
            "_view_name": "LayoutView",
            "align_content": null,
            "align_items": null,
            "align_self": null,
            "border": null,
            "bottom": null,
            "display": null,
            "flex": null,
            "flex_flow": null,
            "grid_area": null,
            "grid_auto_columns": null,
            "grid_auto_flow": null,
            "grid_auto_rows": null,
            "grid_column": null,
            "grid_gap": null,
            "grid_row": null,
            "grid_template_areas": null,
            "grid_template_columns": null,
            "grid_template_rows": null,
            "height": null,
            "justify_content": null,
            "justify_items": null,
            "left": null,
            "margin": null,
            "max_height": null,
            "max_width": null,
            "min_height": null,
            "min_width": null,
            "object_fit": null,
            "object_position": null,
            "order": null,
            "overflow": null,
            "overflow_x": null,
            "overflow_y": null,
            "padding": null,
            "right": null,
            "top": null,
            "visibility": null,
            "width": null
          }
        },
        "bbdf8f230c144f5486b9c8975fdc8696": {
          "model_module": "@jupyter-widgets/controls",
          "model_name": "DescriptionStyleModel",
          "model_module_version": "1.5.0",
          "state": {
            "_model_module": "@jupyter-widgets/controls",
            "_model_module_version": "1.5.0",
            "_model_name": "DescriptionStyleModel",
            "_view_count": null,
            "_view_module": "@jupyter-widgets/base",
            "_view_module_version": "1.2.0",
            "_view_name": "StyleView",
            "description_width": ""
          }
        },
        "6760ec590073438d9e11d12d57a0de84": {
          "model_module": "@jupyter-widgets/controls",
          "model_name": "HBoxModel",
          "model_module_version": "1.5.0",
          "state": {
            "_dom_classes": [],
            "_model_module": "@jupyter-widgets/controls",
            "_model_module_version": "1.5.0",
            "_model_name": "HBoxModel",
            "_view_count": null,
            "_view_module": "@jupyter-widgets/controls",
            "_view_module_version": "1.5.0",
            "_view_name": "HBoxView",
            "box_style": "",
            "children": [
              "IPY_MODEL_4a5ca5d781e848cb87bd3011a2d6ba6a",
              "IPY_MODEL_b3dab039fb0c421e86227eab288bd6c5",
              "IPY_MODEL_9bb7338e20ff4993a5d3ae8fd24f5d0f"
            ],
            "layout": "IPY_MODEL_939e54b336fe44e999ffdb944a9e2e43"
          }
        },
        "4a5ca5d781e848cb87bd3011a2d6ba6a": {
          "model_module": "@jupyter-widgets/controls",
          "model_name": "HTMLModel",
          "model_module_version": "1.5.0",
          "state": {
            "_dom_classes": [],
            "_model_module": "@jupyter-widgets/controls",
            "_model_module_version": "1.5.0",
            "_model_name": "HTMLModel",
            "_view_count": null,
            "_view_module": "@jupyter-widgets/controls",
            "_view_module_version": "1.5.0",
            "_view_name": "HTMLView",
            "description": "",
            "description_tooltip": null,
            "layout": "IPY_MODEL_6df981cd49f24aaa9a1b8abb521000ff",
            "placeholder": "​",
            "style": "IPY_MODEL_10d743dca4a2414db981215e3cf2661a",
            "value": "Evaluating prototype classification:  84%"
          }
        },
        "b3dab039fb0c421e86227eab288bd6c5": {
          "model_module": "@jupyter-widgets/controls",
          "model_name": "FloatProgressModel",
          "model_module_version": "1.5.0",
          "state": {
            "_dom_classes": [],
            "_model_module": "@jupyter-widgets/controls",
            "_model_module_version": "1.5.0",
            "_model_name": "FloatProgressModel",
            "_view_count": null,
            "_view_module": "@jupyter-widgets/controls",
            "_view_module_version": "1.5.0",
            "_view_name": "ProgressView",
            "bar_style": "",
            "description": "",
            "description_tooltip": null,
            "layout": "IPY_MODEL_a8f6239c74cc40bc9084ee3c9771021e",
            "max": 38,
            "min": 0,
            "orientation": "horizontal",
            "style": "IPY_MODEL_baed68201b94463896071273da90b362",
            "value": 38
          }
        },
        "9bb7338e20ff4993a5d3ae8fd24f5d0f": {
          "model_module": "@jupyter-widgets/controls",
          "model_name": "HTMLModel",
          "model_module_version": "1.5.0",
          "state": {
            "_dom_classes": [],
            "_model_module": "@jupyter-widgets/controls",
            "_model_module_version": "1.5.0",
            "_model_name": "HTMLModel",
            "_view_count": null,
            "_view_module": "@jupyter-widgets/controls",
            "_view_module_version": "1.5.0",
            "_view_name": "HTMLView",
            "description": "",
            "description_tooltip": null,
            "layout": "IPY_MODEL_7a793bde30e14442b787610f79fe02d5",
            "placeholder": "​",
            "style": "IPY_MODEL_608aab301f804f42a4865fcbdb5e5d8b",
            "value": " 32/38 [00:00&lt;00:00, 66.58it/s]"
          }
        },
        "939e54b336fe44e999ffdb944a9e2e43": {
          "model_module": "@jupyter-widgets/base",
          "model_name": "LayoutModel",
          "model_module_version": "1.2.0",
          "state": {
            "_model_module": "@jupyter-widgets/base",
            "_model_module_version": "1.2.0",
            "_model_name": "LayoutModel",
            "_view_count": null,
            "_view_module": "@jupyter-widgets/base",
            "_view_module_version": "1.2.0",
            "_view_name": "LayoutView",
            "align_content": null,
            "align_items": null,
            "align_self": null,
            "border": null,
            "bottom": null,
            "display": null,
            "flex": null,
            "flex_flow": null,
            "grid_area": null,
            "grid_auto_columns": null,
            "grid_auto_flow": null,
            "grid_auto_rows": null,
            "grid_column": null,
            "grid_gap": null,
            "grid_row": null,
            "grid_template_areas": null,
            "grid_template_columns": null,
            "grid_template_rows": null,
            "height": null,
            "justify_content": null,
            "justify_items": null,
            "left": null,
            "margin": null,
            "max_height": null,
            "max_width": null,
            "min_height": null,
            "min_width": null,
            "object_fit": null,
            "object_position": null,
            "order": null,
            "overflow": null,
            "overflow_x": null,
            "overflow_y": null,
            "padding": null,
            "right": null,
            "top": null,
            "visibility": "hidden",
            "width": null
          }
        },
        "6df981cd49f24aaa9a1b8abb521000ff": {
          "model_module": "@jupyter-widgets/base",
          "model_name": "LayoutModel",
          "model_module_version": "1.2.0",
          "state": {
            "_model_module": "@jupyter-widgets/base",
            "_model_module_version": "1.2.0",
            "_model_name": "LayoutModel",
            "_view_count": null,
            "_view_module": "@jupyter-widgets/base",
            "_view_module_version": "1.2.0",
            "_view_name": "LayoutView",
            "align_content": null,
            "align_items": null,
            "align_self": null,
            "border": null,
            "bottom": null,
            "display": null,
            "flex": null,
            "flex_flow": null,
            "grid_area": null,
            "grid_auto_columns": null,
            "grid_auto_flow": null,
            "grid_auto_rows": null,
            "grid_column": null,
            "grid_gap": null,
            "grid_row": null,
            "grid_template_areas": null,
            "grid_template_columns": null,
            "grid_template_rows": null,
            "height": null,
            "justify_content": null,
            "justify_items": null,
            "left": null,
            "margin": null,
            "max_height": null,
            "max_width": null,
            "min_height": null,
            "min_width": null,
            "object_fit": null,
            "object_position": null,
            "order": null,
            "overflow": null,
            "overflow_x": null,
            "overflow_y": null,
            "padding": null,
            "right": null,
            "top": null,
            "visibility": null,
            "width": null
          }
        },
        "10d743dca4a2414db981215e3cf2661a": {
          "model_module": "@jupyter-widgets/controls",
          "model_name": "DescriptionStyleModel",
          "model_module_version": "1.5.0",
          "state": {
            "_model_module": "@jupyter-widgets/controls",
            "_model_module_version": "1.5.0",
            "_model_name": "DescriptionStyleModel",
            "_view_count": null,
            "_view_module": "@jupyter-widgets/base",
            "_view_module_version": "1.2.0",
            "_view_name": "StyleView",
            "description_width": ""
          }
        },
        "a8f6239c74cc40bc9084ee3c9771021e": {
          "model_module": "@jupyter-widgets/base",
          "model_name": "LayoutModel",
          "model_module_version": "1.2.0",
          "state": {
            "_model_module": "@jupyter-widgets/base",
            "_model_module_version": "1.2.0",
            "_model_name": "LayoutModel",
            "_view_count": null,
            "_view_module": "@jupyter-widgets/base",
            "_view_module_version": "1.2.0",
            "_view_name": "LayoutView",
            "align_content": null,
            "align_items": null,
            "align_self": null,
            "border": null,
            "bottom": null,
            "display": null,
            "flex": null,
            "flex_flow": null,
            "grid_area": null,
            "grid_auto_columns": null,
            "grid_auto_flow": null,
            "grid_auto_rows": null,
            "grid_column": null,
            "grid_gap": null,
            "grid_row": null,
            "grid_template_areas": null,
            "grid_template_columns": null,
            "grid_template_rows": null,
            "height": null,
            "justify_content": null,
            "justify_items": null,
            "left": null,
            "margin": null,
            "max_height": null,
            "max_width": null,
            "min_height": null,
            "min_width": null,
            "object_fit": null,
            "object_position": null,
            "order": null,
            "overflow": null,
            "overflow_x": null,
            "overflow_y": null,
            "padding": null,
            "right": null,
            "top": null,
            "visibility": null,
            "width": null
          }
        },
        "baed68201b94463896071273da90b362": {
          "model_module": "@jupyter-widgets/controls",
          "model_name": "ProgressStyleModel",
          "model_module_version": "1.5.0",
          "state": {
            "_model_module": "@jupyter-widgets/controls",
            "_model_module_version": "1.5.0",
            "_model_name": "ProgressStyleModel",
            "_view_count": null,
            "_view_module": "@jupyter-widgets/base",
            "_view_module_version": "1.2.0",
            "_view_name": "StyleView",
            "bar_color": null,
            "description_width": ""
          }
        },
        "7a793bde30e14442b787610f79fe02d5": {
          "model_module": "@jupyter-widgets/base",
          "model_name": "LayoutModel",
          "model_module_version": "1.2.0",
          "state": {
            "_model_module": "@jupyter-widgets/base",
            "_model_module_version": "1.2.0",
            "_model_name": "LayoutModel",
            "_view_count": null,
            "_view_module": "@jupyter-widgets/base",
            "_view_module_version": "1.2.0",
            "_view_name": "LayoutView",
            "align_content": null,
            "align_items": null,
            "align_self": null,
            "border": null,
            "bottom": null,
            "display": null,
            "flex": null,
            "flex_flow": null,
            "grid_area": null,
            "grid_auto_columns": null,
            "grid_auto_flow": null,
            "grid_auto_rows": null,
            "grid_column": null,
            "grid_gap": null,
            "grid_row": null,
            "grid_template_areas": null,
            "grid_template_columns": null,
            "grid_template_rows": null,
            "height": null,
            "justify_content": null,
            "justify_items": null,
            "left": null,
            "margin": null,
            "max_height": null,
            "max_width": null,
            "min_height": null,
            "min_width": null,
            "object_fit": null,
            "object_position": null,
            "order": null,
            "overflow": null,
            "overflow_x": null,
            "overflow_y": null,
            "padding": null,
            "right": null,
            "top": null,
            "visibility": null,
            "width": null
          }
        },
        "608aab301f804f42a4865fcbdb5e5d8b": {
          "model_module": "@jupyter-widgets/controls",
          "model_name": "DescriptionStyleModel",
          "model_module_version": "1.5.0",
          "state": {
            "_model_module": "@jupyter-widgets/controls",
            "_model_module_version": "1.5.0",
            "_model_name": "DescriptionStyleModel",
            "_view_count": null,
            "_view_module": "@jupyter-widgets/base",
            "_view_module_version": "1.2.0",
            "_view_name": "StyleView",
            "description_width": ""
          }
        },
        "7909c02afb5b46179cef32f5dd297b6d": {
          "model_module": "@jupyter-widgets/controls",
          "model_name": "HBoxModel",
          "model_module_version": "1.5.0",
          "state": {
            "_dom_classes": [],
            "_model_module": "@jupyter-widgets/controls",
            "_model_module_version": "1.5.0",
            "_model_name": "HBoxModel",
            "_view_count": null,
            "_view_module": "@jupyter-widgets/controls",
            "_view_module_version": "1.5.0",
            "_view_name": "HBoxView",
            "box_style": "",
            "children": [
              "IPY_MODEL_1a9af4cdfeb44a0792ef004f3938b1b1",
              "IPY_MODEL_c247835b0b664dea8cdd43cbdf884a29",
              "IPY_MODEL_5ac5f7c6c42041718377c55e5d89495c"
            ],
            "layout": "IPY_MODEL_7f09e28678af430098e6c3626c5f95e9"
          }
        },
        "1a9af4cdfeb44a0792ef004f3938b1b1": {
          "model_module": "@jupyter-widgets/controls",
          "model_name": "HTMLModel",
          "model_module_version": "1.5.0",
          "state": {
            "_dom_classes": [],
            "_model_module": "@jupyter-widgets/controls",
            "_model_module_version": "1.5.0",
            "_model_name": "HTMLModel",
            "_view_count": null,
            "_view_module": "@jupyter-widgets/controls",
            "_view_module_version": "1.5.0",
            "_view_name": "HTMLView",
            "description": "",
            "description_tooltip": null,
            "layout": "IPY_MODEL_22ed8d584baa4c878ef358db527a0b5d",
            "placeholder": "​",
            "style": "IPY_MODEL_8f30ef1afbf043a48a0c6edc8eb01920",
            "value": "Evaluating prototype classification:  63%"
          }
        },
        "c247835b0b664dea8cdd43cbdf884a29": {
          "model_module": "@jupyter-widgets/controls",
          "model_name": "FloatProgressModel",
          "model_module_version": "1.5.0",
          "state": {
            "_dom_classes": [],
            "_model_module": "@jupyter-widgets/controls",
            "_model_module_version": "1.5.0",
            "_model_name": "FloatProgressModel",
            "_view_count": null,
            "_view_module": "@jupyter-widgets/controls",
            "_view_module_version": "1.5.0",
            "_view_name": "ProgressView",
            "bar_style": "",
            "description": "",
            "description_tooltip": null,
            "layout": "IPY_MODEL_7a5c61dee54e4158a82e46c110a0eded",
            "max": 19,
            "min": 0,
            "orientation": "horizontal",
            "style": "IPY_MODEL_b6e719c5c69c49a09f164eed6696c44a",
            "value": 19
          }
        },
        "5ac5f7c6c42041718377c55e5d89495c": {
          "model_module": "@jupyter-widgets/controls",
          "model_name": "HTMLModel",
          "model_module_version": "1.5.0",
          "state": {
            "_dom_classes": [],
            "_model_module": "@jupyter-widgets/controls",
            "_model_module_version": "1.5.0",
            "_model_name": "HTMLModel",
            "_view_count": null,
            "_view_module": "@jupyter-widgets/controls",
            "_view_module_version": "1.5.0",
            "_view_name": "HTMLView",
            "description": "",
            "description_tooltip": null,
            "layout": "IPY_MODEL_f551d278801f497783c826d9bedbd0d0",
            "placeholder": "​",
            "style": "IPY_MODEL_63592b11798f48af8130dd6599f0aa92",
            "value": " 12/19 [00:00&lt;00:00, 64.44it/s]"
          }
        },
        "7f09e28678af430098e6c3626c5f95e9": {
          "model_module": "@jupyter-widgets/base",
          "model_name": "LayoutModel",
          "model_module_version": "1.2.0",
          "state": {
            "_model_module": "@jupyter-widgets/base",
            "_model_module_version": "1.2.0",
            "_model_name": "LayoutModel",
            "_view_count": null,
            "_view_module": "@jupyter-widgets/base",
            "_view_module_version": "1.2.0",
            "_view_name": "LayoutView",
            "align_content": null,
            "align_items": null,
            "align_self": null,
            "border": null,
            "bottom": null,
            "display": null,
            "flex": null,
            "flex_flow": null,
            "grid_area": null,
            "grid_auto_columns": null,
            "grid_auto_flow": null,
            "grid_auto_rows": null,
            "grid_column": null,
            "grid_gap": null,
            "grid_row": null,
            "grid_template_areas": null,
            "grid_template_columns": null,
            "grid_template_rows": null,
            "height": null,
            "justify_content": null,
            "justify_items": null,
            "left": null,
            "margin": null,
            "max_height": null,
            "max_width": null,
            "min_height": null,
            "min_width": null,
            "object_fit": null,
            "object_position": null,
            "order": null,
            "overflow": null,
            "overflow_x": null,
            "overflow_y": null,
            "padding": null,
            "right": null,
            "top": null,
            "visibility": "hidden",
            "width": null
          }
        },
        "22ed8d584baa4c878ef358db527a0b5d": {
          "model_module": "@jupyter-widgets/base",
          "model_name": "LayoutModel",
          "model_module_version": "1.2.0",
          "state": {
            "_model_module": "@jupyter-widgets/base",
            "_model_module_version": "1.2.0",
            "_model_name": "LayoutModel",
            "_view_count": null,
            "_view_module": "@jupyter-widgets/base",
            "_view_module_version": "1.2.0",
            "_view_name": "LayoutView",
            "align_content": null,
            "align_items": null,
            "align_self": null,
            "border": null,
            "bottom": null,
            "display": null,
            "flex": null,
            "flex_flow": null,
            "grid_area": null,
            "grid_auto_columns": null,
            "grid_auto_flow": null,
            "grid_auto_rows": null,
            "grid_column": null,
            "grid_gap": null,
            "grid_row": null,
            "grid_template_areas": null,
            "grid_template_columns": null,
            "grid_template_rows": null,
            "height": null,
            "justify_content": null,
            "justify_items": null,
            "left": null,
            "margin": null,
            "max_height": null,
            "max_width": null,
            "min_height": null,
            "min_width": null,
            "object_fit": null,
            "object_position": null,
            "order": null,
            "overflow": null,
            "overflow_x": null,
            "overflow_y": null,
            "padding": null,
            "right": null,
            "top": null,
            "visibility": null,
            "width": null
          }
        },
        "8f30ef1afbf043a48a0c6edc8eb01920": {
          "model_module": "@jupyter-widgets/controls",
          "model_name": "DescriptionStyleModel",
          "model_module_version": "1.5.0",
          "state": {
            "_model_module": "@jupyter-widgets/controls",
            "_model_module_version": "1.5.0",
            "_model_name": "DescriptionStyleModel",
            "_view_count": null,
            "_view_module": "@jupyter-widgets/base",
            "_view_module_version": "1.2.0",
            "_view_name": "StyleView",
            "description_width": ""
          }
        },
        "7a5c61dee54e4158a82e46c110a0eded": {
          "model_module": "@jupyter-widgets/base",
          "model_name": "LayoutModel",
          "model_module_version": "1.2.0",
          "state": {
            "_model_module": "@jupyter-widgets/base",
            "_model_module_version": "1.2.0",
            "_model_name": "LayoutModel",
            "_view_count": null,
            "_view_module": "@jupyter-widgets/base",
            "_view_module_version": "1.2.0",
            "_view_name": "LayoutView",
            "align_content": null,
            "align_items": null,
            "align_self": null,
            "border": null,
            "bottom": null,
            "display": null,
            "flex": null,
            "flex_flow": null,
            "grid_area": null,
            "grid_auto_columns": null,
            "grid_auto_flow": null,
            "grid_auto_rows": null,
            "grid_column": null,
            "grid_gap": null,
            "grid_row": null,
            "grid_template_areas": null,
            "grid_template_columns": null,
            "grid_template_rows": null,
            "height": null,
            "justify_content": null,
            "justify_items": null,
            "left": null,
            "margin": null,
            "max_height": null,
            "max_width": null,
            "min_height": null,
            "min_width": null,
            "object_fit": null,
            "object_position": null,
            "order": null,
            "overflow": null,
            "overflow_x": null,
            "overflow_y": null,
            "padding": null,
            "right": null,
            "top": null,
            "visibility": null,
            "width": null
          }
        },
        "b6e719c5c69c49a09f164eed6696c44a": {
          "model_module": "@jupyter-widgets/controls",
          "model_name": "ProgressStyleModel",
          "model_module_version": "1.5.0",
          "state": {
            "_model_module": "@jupyter-widgets/controls",
            "_model_module_version": "1.5.0",
            "_model_name": "ProgressStyleModel",
            "_view_count": null,
            "_view_module": "@jupyter-widgets/base",
            "_view_module_version": "1.2.0",
            "_view_name": "StyleView",
            "bar_color": null,
            "description_width": ""
          }
        },
        "f551d278801f497783c826d9bedbd0d0": {
          "model_module": "@jupyter-widgets/base",
          "model_name": "LayoutModel",
          "model_module_version": "1.2.0",
          "state": {
            "_model_module": "@jupyter-widgets/base",
            "_model_module_version": "1.2.0",
            "_model_name": "LayoutModel",
            "_view_count": null,
            "_view_module": "@jupyter-widgets/base",
            "_view_module_version": "1.2.0",
            "_view_name": "LayoutView",
            "align_content": null,
            "align_items": null,
            "align_self": null,
            "border": null,
            "bottom": null,
            "display": null,
            "flex": null,
            "flex_flow": null,
            "grid_area": null,
            "grid_auto_columns": null,
            "grid_auto_flow": null,
            "grid_auto_rows": null,
            "grid_column": null,
            "grid_gap": null,
            "grid_row": null,
            "grid_template_areas": null,
            "grid_template_columns": null,
            "grid_template_rows": null,
            "height": null,
            "justify_content": null,
            "justify_items": null,
            "left": null,
            "margin": null,
            "max_height": null,
            "max_width": null,
            "min_height": null,
            "min_width": null,
            "object_fit": null,
            "object_position": null,
            "order": null,
            "overflow": null,
            "overflow_x": null,
            "overflow_y": null,
            "padding": null,
            "right": null,
            "top": null,
            "visibility": null,
            "width": null
          }
        },
        "63592b11798f48af8130dd6599f0aa92": {
          "model_module": "@jupyter-widgets/controls",
          "model_name": "DescriptionStyleModel",
          "model_module_version": "1.5.0",
          "state": {
            "_model_module": "@jupyter-widgets/controls",
            "_model_module_version": "1.5.0",
            "_model_name": "DescriptionStyleModel",
            "_view_count": null,
            "_view_module": "@jupyter-widgets/base",
            "_view_module_version": "1.2.0",
            "_view_name": "StyleView",
            "description_width": ""
          }
        },
        "b98f30ac5ac34e1981cbc4343cedaede": {
          "model_module": "@jupyter-widgets/controls",
          "model_name": "HBoxModel",
          "model_module_version": "1.5.0",
          "state": {
            "_dom_classes": [],
            "_model_module": "@jupyter-widgets/controls",
            "_model_module_version": "1.5.0",
            "_model_name": "HBoxModel",
            "_view_count": null,
            "_view_module": "@jupyter-widgets/controls",
            "_view_module_version": "1.5.0",
            "_view_name": "HBoxView",
            "box_style": "",
            "children": [
              "IPY_MODEL_17efad84027c4cff94885a191d743211",
              "IPY_MODEL_ed1eab0921134d88b704d39333ed94bf",
              "IPY_MODEL_517de9cfb9684a48a46a1e5646449541"
            ],
            "layout": "IPY_MODEL_85167252a16646fba2c302565b4c4214"
          }
        },
        "17efad84027c4cff94885a191d743211": {
          "model_module": "@jupyter-widgets/controls",
          "model_name": "HTMLModel",
          "model_module_version": "1.5.0",
          "state": {
            "_dom_classes": [],
            "_model_module": "@jupyter-widgets/controls",
            "_model_module_version": "1.5.0",
            "_model_name": "HTMLModel",
            "_view_count": null,
            "_view_module": "@jupyter-widgets/controls",
            "_view_module_version": "1.5.0",
            "_view_name": "HTMLView",
            "description": "",
            "description_tooltip": null,
            "layout": "IPY_MODEL_5e34f1176fdd47888159d79d1e75d472",
            "placeholder": "​",
            "style": "IPY_MODEL_0dec005b6d254af5b0deb21b0ea58827",
            "value": "100%"
          }
        },
        "ed1eab0921134d88b704d39333ed94bf": {
          "model_module": "@jupyter-widgets/controls",
          "model_name": "FloatProgressModel",
          "model_module_version": "1.5.0",
          "state": {
            "_dom_classes": [],
            "_model_module": "@jupyter-widgets/controls",
            "_model_module_version": "1.5.0",
            "_model_name": "FloatProgressModel",
            "_view_count": null,
            "_view_module": "@jupyter-widgets/controls",
            "_view_module_version": "1.5.0",
            "_view_name": "ProgressView",
            "bar_style": "success",
            "description": "",
            "description_tooltip": null,
            "layout": "IPY_MODEL_6bd6fc9a9fb74f0e960a88cdd0d89d97",
            "max": 64275384,
            "min": 0,
            "orientation": "horizontal",
            "style": "IPY_MODEL_94f999db67bf4a15ad22c103fec717fe",
            "value": 64275384
          }
        },
        "517de9cfb9684a48a46a1e5646449541": {
          "model_module": "@jupyter-widgets/controls",
          "model_name": "HTMLModel",
          "model_module_version": "1.5.0",
          "state": {
            "_dom_classes": [],
            "_model_module": "@jupyter-widgets/controls",
            "_model_module_version": "1.5.0",
            "_model_name": "HTMLModel",
            "_view_count": null,
            "_view_module": "@jupyter-widgets/controls",
            "_view_module_version": "1.5.0",
            "_view_name": "HTMLView",
            "description": "",
            "description_tooltip": null,
            "layout": "IPY_MODEL_c591ec0c7f174faab424e13ec66adffc",
            "placeholder": "​",
            "style": "IPY_MODEL_453b1e0bed534a628f6de7d4b62abad3",
            "value": " 64275384/64275384 [00:03&lt;00:00, 10963365.22it/s]"
          }
        },
        "85167252a16646fba2c302565b4c4214": {
          "model_module": "@jupyter-widgets/base",
          "model_name": "LayoutModel",
          "model_module_version": "1.2.0",
          "state": {
            "_model_module": "@jupyter-widgets/base",
            "_model_module_version": "1.2.0",
            "_model_name": "LayoutModel",
            "_view_count": null,
            "_view_module": "@jupyter-widgets/base",
            "_view_module_version": "1.2.0",
            "_view_name": "LayoutView",
            "align_content": null,
            "align_items": null,
            "align_self": null,
            "border": null,
            "bottom": null,
            "display": null,
            "flex": null,
            "flex_flow": null,
            "grid_area": null,
            "grid_auto_columns": null,
            "grid_auto_flow": null,
            "grid_auto_rows": null,
            "grid_column": null,
            "grid_gap": null,
            "grid_row": null,
            "grid_template_areas": null,
            "grid_template_columns": null,
            "grid_template_rows": null,
            "height": null,
            "justify_content": null,
            "justify_items": null,
            "left": null,
            "margin": null,
            "max_height": null,
            "max_width": null,
            "min_height": null,
            "min_width": null,
            "object_fit": null,
            "object_position": null,
            "order": null,
            "overflow": null,
            "overflow_x": null,
            "overflow_y": null,
            "padding": null,
            "right": null,
            "top": null,
            "visibility": null,
            "width": null
          }
        },
        "5e34f1176fdd47888159d79d1e75d472": {
          "model_module": "@jupyter-widgets/base",
          "model_name": "LayoutModel",
          "model_module_version": "1.2.0",
          "state": {
            "_model_module": "@jupyter-widgets/base",
            "_model_module_version": "1.2.0",
            "_model_name": "LayoutModel",
            "_view_count": null,
            "_view_module": "@jupyter-widgets/base",
            "_view_module_version": "1.2.0",
            "_view_name": "LayoutView",
            "align_content": null,
            "align_items": null,
            "align_self": null,
            "border": null,
            "bottom": null,
            "display": null,
            "flex": null,
            "flex_flow": null,
            "grid_area": null,
            "grid_auto_columns": null,
            "grid_auto_flow": null,
            "grid_auto_rows": null,
            "grid_column": null,
            "grid_gap": null,
            "grid_row": null,
            "grid_template_areas": null,
            "grid_template_columns": null,
            "grid_template_rows": null,
            "height": null,
            "justify_content": null,
            "justify_items": null,
            "left": null,
            "margin": null,
            "max_height": null,
            "max_width": null,
            "min_height": null,
            "min_width": null,
            "object_fit": null,
            "object_position": null,
            "order": null,
            "overflow": null,
            "overflow_x": null,
            "overflow_y": null,
            "padding": null,
            "right": null,
            "top": null,
            "visibility": null,
            "width": null
          }
        },
        "0dec005b6d254af5b0deb21b0ea58827": {
          "model_module": "@jupyter-widgets/controls",
          "model_name": "DescriptionStyleModel",
          "model_module_version": "1.5.0",
          "state": {
            "_model_module": "@jupyter-widgets/controls",
            "_model_module_version": "1.5.0",
            "_model_name": "DescriptionStyleModel",
            "_view_count": null,
            "_view_module": "@jupyter-widgets/base",
            "_view_module_version": "1.2.0",
            "_view_name": "StyleView",
            "description_width": ""
          }
        },
        "6bd6fc9a9fb74f0e960a88cdd0d89d97": {
          "model_module": "@jupyter-widgets/base",
          "model_name": "LayoutModel",
          "model_module_version": "1.2.0",
          "state": {
            "_model_module": "@jupyter-widgets/base",
            "_model_module_version": "1.2.0",
            "_model_name": "LayoutModel",
            "_view_count": null,
            "_view_module": "@jupyter-widgets/base",
            "_view_module_version": "1.2.0",
            "_view_name": "LayoutView",
            "align_content": null,
            "align_items": null,
            "align_self": null,
            "border": null,
            "bottom": null,
            "display": null,
            "flex": null,
            "flex_flow": null,
            "grid_area": null,
            "grid_auto_columns": null,
            "grid_auto_flow": null,
            "grid_auto_rows": null,
            "grid_column": null,
            "grid_gap": null,
            "grid_row": null,
            "grid_template_areas": null,
            "grid_template_columns": null,
            "grid_template_rows": null,
            "height": null,
            "justify_content": null,
            "justify_items": null,
            "left": null,
            "margin": null,
            "max_height": null,
            "max_width": null,
            "min_height": null,
            "min_width": null,
            "object_fit": null,
            "object_position": null,
            "order": null,
            "overflow": null,
            "overflow_x": null,
            "overflow_y": null,
            "padding": null,
            "right": null,
            "top": null,
            "visibility": null,
            "width": null
          }
        },
        "94f999db67bf4a15ad22c103fec717fe": {
          "model_module": "@jupyter-widgets/controls",
          "model_name": "ProgressStyleModel",
          "model_module_version": "1.5.0",
          "state": {
            "_model_module": "@jupyter-widgets/controls",
            "_model_module_version": "1.5.0",
            "_model_name": "ProgressStyleModel",
            "_view_count": null,
            "_view_module": "@jupyter-widgets/base",
            "_view_module_version": "1.2.0",
            "_view_name": "StyleView",
            "bar_color": null,
            "description_width": ""
          }
        },
        "c591ec0c7f174faab424e13ec66adffc": {
          "model_module": "@jupyter-widgets/base",
          "model_name": "LayoutModel",
          "model_module_version": "1.2.0",
          "state": {
            "_model_module": "@jupyter-widgets/base",
            "_model_module_version": "1.2.0",
            "_model_name": "LayoutModel",
            "_view_count": null,
            "_view_module": "@jupyter-widgets/base",
            "_view_module_version": "1.2.0",
            "_view_name": "LayoutView",
            "align_content": null,
            "align_items": null,
            "align_self": null,
            "border": null,
            "bottom": null,
            "display": null,
            "flex": null,
            "flex_flow": null,
            "grid_area": null,
            "grid_auto_columns": null,
            "grid_auto_flow": null,
            "grid_auto_rows": null,
            "grid_column": null,
            "grid_gap": null,
            "grid_row": null,
            "grid_template_areas": null,
            "grid_template_columns": null,
            "grid_template_rows": null,
            "height": null,
            "justify_content": null,
            "justify_items": null,
            "left": null,
            "margin": null,
            "max_height": null,
            "max_width": null,
            "min_height": null,
            "min_width": null,
            "object_fit": null,
            "object_position": null,
            "order": null,
            "overflow": null,
            "overflow_x": null,
            "overflow_y": null,
            "padding": null,
            "right": null,
            "top": null,
            "visibility": null,
            "width": null
          }
        },
        "453b1e0bed534a628f6de7d4b62abad3": {
          "model_module": "@jupyter-widgets/controls",
          "model_name": "DescriptionStyleModel",
          "model_module_version": "1.5.0",
          "state": {
            "_model_module": "@jupyter-widgets/controls",
            "_model_module_version": "1.5.0",
            "_model_name": "DescriptionStyleModel",
            "_view_count": null,
            "_view_module": "@jupyter-widgets/base",
            "_view_module_version": "1.2.0",
            "_view_name": "StyleView",
            "description_width": ""
          }
        },
        "1fd6271c94824add8f3ae8c56e1d7b3b": {
          "model_module": "@jupyter-widgets/controls",
          "model_name": "HBoxModel",
          "model_module_version": "1.5.0",
          "state": {
            "_dom_classes": [],
            "_model_module": "@jupyter-widgets/controls",
            "_model_module_version": "1.5.0",
            "_model_name": "HBoxModel",
            "_view_count": null,
            "_view_module": "@jupyter-widgets/controls",
            "_view_module_version": "1.5.0",
            "_view_name": "HBoxView",
            "box_style": "",
            "children": [
              "IPY_MODEL_b889c29dc5da4597a29a76e776f69adc",
              "IPY_MODEL_4b397c36eb604b4cb32ff77685853ac2",
              "IPY_MODEL_d35641796bd34df4af8861230e47c388"
            ],
            "layout": "IPY_MODEL_dd4ad91aedd745dabb4d9691a751f32c"
          }
        },
        "b889c29dc5da4597a29a76e776f69adc": {
          "model_module": "@jupyter-widgets/controls",
          "model_name": "HTMLModel",
          "model_module_version": "1.5.0",
          "state": {
            "_dom_classes": [],
            "_model_module": "@jupyter-widgets/controls",
            "_model_module_version": "1.5.0",
            "_model_name": "HTMLModel",
            "_view_count": null,
            "_view_module": "@jupyter-widgets/controls",
            "_view_module_version": "1.5.0",
            "_view_name": "HTMLView",
            "description": "",
            "description_tooltip": null,
            "layout": "IPY_MODEL_09a99a51b0294800bd11fc9a9ef62ee3",
            "placeholder": "​",
            "style": "IPY_MODEL_560c70cb5e024fbb80d3e2a9fd900e69",
            "value": "Extracting image features:  98%"
          }
        },
        "4b397c36eb604b4cb32ff77685853ac2": {
          "model_module": "@jupyter-widgets/controls",
          "model_name": "FloatProgressModel",
          "model_module_version": "1.5.0",
          "state": {
            "_dom_classes": [],
            "_model_module": "@jupyter-widgets/controls",
            "_model_module_version": "1.5.0",
            "_model_name": "FloatProgressModel",
            "_view_count": null,
            "_view_module": "@jupyter-widgets/controls",
            "_view_module_version": "1.5.0",
            "_view_name": "ProgressView",
            "bar_style": "",
            "description": "",
            "description_tooltip": null,
            "layout": "IPY_MODEL_560a32d8836c4b97a07ab489b4da8e0f",
            "max": 40,
            "min": 0,
            "orientation": "horizontal",
            "style": "IPY_MODEL_9d1160265eb547849508146c3d50d91a",
            "value": 40
          }
        },
        "d35641796bd34df4af8861230e47c388": {
          "model_module": "@jupyter-widgets/controls",
          "model_name": "HTMLModel",
          "model_module_version": "1.5.0",
          "state": {
            "_dom_classes": [],
            "_model_module": "@jupyter-widgets/controls",
            "_model_module_version": "1.5.0",
            "_model_name": "HTMLModel",
            "_view_count": null,
            "_view_module": "@jupyter-widgets/controls",
            "_view_module_version": "1.5.0",
            "_view_name": "HTMLView",
            "description": "",
            "description_tooltip": null,
            "layout": "IPY_MODEL_3a061e08bc194c86a0af9b4d0d06e1cc",
            "placeholder": "​",
            "style": "IPY_MODEL_e97945c224d44ef7bbb78244a9eb8d12",
            "value": " 39/40 [00:09&lt;00:00,  4.50it/s]"
          }
        },
        "dd4ad91aedd745dabb4d9691a751f32c": {
          "model_module": "@jupyter-widgets/base",
          "model_name": "LayoutModel",
          "model_module_version": "1.2.0",
          "state": {
            "_model_module": "@jupyter-widgets/base",
            "_model_module_version": "1.2.0",
            "_model_name": "LayoutModel",
            "_view_count": null,
            "_view_module": "@jupyter-widgets/base",
            "_view_module_version": "1.2.0",
            "_view_name": "LayoutView",
            "align_content": null,
            "align_items": null,
            "align_self": null,
            "border": null,
            "bottom": null,
            "display": null,
            "flex": null,
            "flex_flow": null,
            "grid_area": null,
            "grid_auto_columns": null,
            "grid_auto_flow": null,
            "grid_auto_rows": null,
            "grid_column": null,
            "grid_gap": null,
            "grid_row": null,
            "grid_template_areas": null,
            "grid_template_columns": null,
            "grid_template_rows": null,
            "height": null,
            "justify_content": null,
            "justify_items": null,
            "left": null,
            "margin": null,
            "max_height": null,
            "max_width": null,
            "min_height": null,
            "min_width": null,
            "object_fit": null,
            "object_position": null,
            "order": null,
            "overflow": null,
            "overflow_x": null,
            "overflow_y": null,
            "padding": null,
            "right": null,
            "top": null,
            "visibility": "hidden",
            "width": null
          }
        },
        "09a99a51b0294800bd11fc9a9ef62ee3": {
          "model_module": "@jupyter-widgets/base",
          "model_name": "LayoutModel",
          "model_module_version": "1.2.0",
          "state": {
            "_model_module": "@jupyter-widgets/base",
            "_model_module_version": "1.2.0",
            "_model_name": "LayoutModel",
            "_view_count": null,
            "_view_module": "@jupyter-widgets/base",
            "_view_module_version": "1.2.0",
            "_view_name": "LayoutView",
            "align_content": null,
            "align_items": null,
            "align_self": null,
            "border": null,
            "bottom": null,
            "display": null,
            "flex": null,
            "flex_flow": null,
            "grid_area": null,
            "grid_auto_columns": null,
            "grid_auto_flow": null,
            "grid_auto_rows": null,
            "grid_column": null,
            "grid_gap": null,
            "grid_row": null,
            "grid_template_areas": null,
            "grid_template_columns": null,
            "grid_template_rows": null,
            "height": null,
            "justify_content": null,
            "justify_items": null,
            "left": null,
            "margin": null,
            "max_height": null,
            "max_width": null,
            "min_height": null,
            "min_width": null,
            "object_fit": null,
            "object_position": null,
            "order": null,
            "overflow": null,
            "overflow_x": null,
            "overflow_y": null,
            "padding": null,
            "right": null,
            "top": null,
            "visibility": null,
            "width": null
          }
        },
        "560c70cb5e024fbb80d3e2a9fd900e69": {
          "model_module": "@jupyter-widgets/controls",
          "model_name": "DescriptionStyleModel",
          "model_module_version": "1.5.0",
          "state": {
            "_model_module": "@jupyter-widgets/controls",
            "_model_module_version": "1.5.0",
            "_model_name": "DescriptionStyleModel",
            "_view_count": null,
            "_view_module": "@jupyter-widgets/base",
            "_view_module_version": "1.2.0",
            "_view_name": "StyleView",
            "description_width": ""
          }
        },
        "560a32d8836c4b97a07ab489b4da8e0f": {
          "model_module": "@jupyter-widgets/base",
          "model_name": "LayoutModel",
          "model_module_version": "1.2.0",
          "state": {
            "_model_module": "@jupyter-widgets/base",
            "_model_module_version": "1.2.0",
            "_model_name": "LayoutModel",
            "_view_count": null,
            "_view_module": "@jupyter-widgets/base",
            "_view_module_version": "1.2.0",
            "_view_name": "LayoutView",
            "align_content": null,
            "align_items": null,
            "align_self": null,
            "border": null,
            "bottom": null,
            "display": null,
            "flex": null,
            "flex_flow": null,
            "grid_area": null,
            "grid_auto_columns": null,
            "grid_auto_flow": null,
            "grid_auto_rows": null,
            "grid_column": null,
            "grid_gap": null,
            "grid_row": null,
            "grid_template_areas": null,
            "grid_template_columns": null,
            "grid_template_rows": null,
            "height": null,
            "justify_content": null,
            "justify_items": null,
            "left": null,
            "margin": null,
            "max_height": null,
            "max_width": null,
            "min_height": null,
            "min_width": null,
            "object_fit": null,
            "object_position": null,
            "order": null,
            "overflow": null,
            "overflow_x": null,
            "overflow_y": null,
            "padding": null,
            "right": null,
            "top": null,
            "visibility": null,
            "width": null
          }
        },
        "9d1160265eb547849508146c3d50d91a": {
          "model_module": "@jupyter-widgets/controls",
          "model_name": "ProgressStyleModel",
          "model_module_version": "1.5.0",
          "state": {
            "_model_module": "@jupyter-widgets/controls",
            "_model_module_version": "1.5.0",
            "_model_name": "ProgressStyleModel",
            "_view_count": null,
            "_view_module": "@jupyter-widgets/base",
            "_view_module_version": "1.2.0",
            "_view_name": "StyleView",
            "bar_color": null,
            "description_width": ""
          }
        },
        "3a061e08bc194c86a0af9b4d0d06e1cc": {
          "model_module": "@jupyter-widgets/base",
          "model_name": "LayoutModel",
          "model_module_version": "1.2.0",
          "state": {
            "_model_module": "@jupyter-widgets/base",
            "_model_module_version": "1.2.0",
            "_model_name": "LayoutModel",
            "_view_count": null,
            "_view_module": "@jupyter-widgets/base",
            "_view_module_version": "1.2.0",
            "_view_name": "LayoutView",
            "align_content": null,
            "align_items": null,
            "align_self": null,
            "border": null,
            "bottom": null,
            "display": null,
            "flex": null,
            "flex_flow": null,
            "grid_area": null,
            "grid_auto_columns": null,
            "grid_auto_flow": null,
            "grid_auto_rows": null,
            "grid_column": null,
            "grid_gap": null,
            "grid_row": null,
            "grid_template_areas": null,
            "grid_template_columns": null,
            "grid_template_rows": null,
            "height": null,
            "justify_content": null,
            "justify_items": null,
            "left": null,
            "margin": null,
            "max_height": null,
            "max_width": null,
            "min_height": null,
            "min_width": null,
            "object_fit": null,
            "object_position": null,
            "order": null,
            "overflow": null,
            "overflow_x": null,
            "overflow_y": null,
            "padding": null,
            "right": null,
            "top": null,
            "visibility": null,
            "width": null
          }
        },
        "e97945c224d44ef7bbb78244a9eb8d12": {
          "model_module": "@jupyter-widgets/controls",
          "model_name": "DescriptionStyleModel",
          "model_module_version": "1.5.0",
          "state": {
            "_model_module": "@jupyter-widgets/controls",
            "_model_module_version": "1.5.0",
            "_model_name": "DescriptionStyleModel",
            "_view_count": null,
            "_view_module": "@jupyter-widgets/base",
            "_view_module_version": "1.2.0",
            "_view_name": "StyleView",
            "description_width": ""
          }
        },
        "92015c8ee86b4a3f82cff9fc203fb59c": {
          "model_module": "@jupyter-widgets/controls",
          "model_name": "HBoxModel",
          "model_module_version": "1.5.0",
          "state": {
            "_dom_classes": [],
            "_model_module": "@jupyter-widgets/controls",
            "_model_module_version": "1.5.0",
            "_model_name": "HBoxModel",
            "_view_count": null,
            "_view_module": "@jupyter-widgets/controls",
            "_view_module_version": "1.5.0",
            "_view_name": "HBoxView",
            "box_style": "",
            "children": [
              "IPY_MODEL_f464c19543334a68885aa97acb0ce6e7",
              "IPY_MODEL_f7404fc5a06849438235ab2548b410bc",
              "IPY_MODEL_78514d97074744478dec1795b9849906"
            ],
            "layout": "IPY_MODEL_e35914e06674472f8ad05caed77a3b69"
          }
        },
        "f464c19543334a68885aa97acb0ce6e7": {
          "model_module": "@jupyter-widgets/controls",
          "model_name": "HTMLModel",
          "model_module_version": "1.5.0",
          "state": {
            "_dom_classes": [],
            "_model_module": "@jupyter-widgets/controls",
            "_model_module_version": "1.5.0",
            "_model_name": "HTMLModel",
            "_view_count": null,
            "_view_module": "@jupyter-widgets/controls",
            "_view_module_version": "1.5.0",
            "_view_name": "HTMLView",
            "description": "",
            "description_tooltip": null,
            "layout": "IPY_MODEL_7a9b0831825d4562b9186744ab45272e",
            "placeholder": "​",
            "style": "IPY_MODEL_5926d22ac3a544fd8e62f114dcb268f4",
            "value": "Evaluating prototype classification: 100%"
          }
        },
        "f7404fc5a06849438235ab2548b410bc": {
          "model_module": "@jupyter-widgets/controls",
          "model_name": "FloatProgressModel",
          "model_module_version": "1.5.0",
          "state": {
            "_dom_classes": [],
            "_model_module": "@jupyter-widgets/controls",
            "_model_module_version": "1.5.0",
            "_model_name": "FloatProgressModel",
            "_view_count": null,
            "_view_module": "@jupyter-widgets/controls",
            "_view_module_version": "1.5.0",
            "_view_name": "ProgressView",
            "bar_style": "",
            "description": "",
            "description_tooltip": null,
            "layout": "IPY_MODEL_903ea6c7804e4af5b44d638c162f7fde",
            "max": 250,
            "min": 0,
            "orientation": "horizontal",
            "style": "IPY_MODEL_b83efbc760614894b009fc988dcecb89",
            "value": 250
          }
        },
        "78514d97074744478dec1795b9849906": {
          "model_module": "@jupyter-widgets/controls",
          "model_name": "HTMLModel",
          "model_module_version": "1.5.0",
          "state": {
            "_dom_classes": [],
            "_model_module": "@jupyter-widgets/controls",
            "_model_module_version": "1.5.0",
            "_model_name": "HTMLModel",
            "_view_count": null,
            "_view_module": "@jupyter-widgets/controls",
            "_view_module_version": "1.5.0",
            "_view_name": "HTMLView",
            "description": "",
            "description_tooltip": null,
            "layout": "IPY_MODEL_39771f3e2d184fbb918d3ad44f00db58",
            "placeholder": "​",
            "style": "IPY_MODEL_b96071859e0c4514846fdc83b014ad21",
            "value": " 249/250 [00:07&lt;00:00, 32.77it/s]"
          }
        },
        "e35914e06674472f8ad05caed77a3b69": {
          "model_module": "@jupyter-widgets/base",
          "model_name": "LayoutModel",
          "model_module_version": "1.2.0",
          "state": {
            "_model_module": "@jupyter-widgets/base",
            "_model_module_version": "1.2.0",
            "_model_name": "LayoutModel",
            "_view_count": null,
            "_view_module": "@jupyter-widgets/base",
            "_view_module_version": "1.2.0",
            "_view_name": "LayoutView",
            "align_content": null,
            "align_items": null,
            "align_self": null,
            "border": null,
            "bottom": null,
            "display": null,
            "flex": null,
            "flex_flow": null,
            "grid_area": null,
            "grid_auto_columns": null,
            "grid_auto_flow": null,
            "grid_auto_rows": null,
            "grid_column": null,
            "grid_gap": null,
            "grid_row": null,
            "grid_template_areas": null,
            "grid_template_columns": null,
            "grid_template_rows": null,
            "height": null,
            "justify_content": null,
            "justify_items": null,
            "left": null,
            "margin": null,
            "max_height": null,
            "max_width": null,
            "min_height": null,
            "min_width": null,
            "object_fit": null,
            "object_position": null,
            "order": null,
            "overflow": null,
            "overflow_x": null,
            "overflow_y": null,
            "padding": null,
            "right": null,
            "top": null,
            "visibility": "hidden",
            "width": null
          }
        },
        "7a9b0831825d4562b9186744ab45272e": {
          "model_module": "@jupyter-widgets/base",
          "model_name": "LayoutModel",
          "model_module_version": "1.2.0",
          "state": {
            "_model_module": "@jupyter-widgets/base",
            "_model_module_version": "1.2.0",
            "_model_name": "LayoutModel",
            "_view_count": null,
            "_view_module": "@jupyter-widgets/base",
            "_view_module_version": "1.2.0",
            "_view_name": "LayoutView",
            "align_content": null,
            "align_items": null,
            "align_self": null,
            "border": null,
            "bottom": null,
            "display": null,
            "flex": null,
            "flex_flow": null,
            "grid_area": null,
            "grid_auto_columns": null,
            "grid_auto_flow": null,
            "grid_auto_rows": null,
            "grid_column": null,
            "grid_gap": null,
            "grid_row": null,
            "grid_template_areas": null,
            "grid_template_columns": null,
            "grid_template_rows": null,
            "height": null,
            "justify_content": null,
            "justify_items": null,
            "left": null,
            "margin": null,
            "max_height": null,
            "max_width": null,
            "min_height": null,
            "min_width": null,
            "object_fit": null,
            "object_position": null,
            "order": null,
            "overflow": null,
            "overflow_x": null,
            "overflow_y": null,
            "padding": null,
            "right": null,
            "top": null,
            "visibility": null,
            "width": null
          }
        },
        "5926d22ac3a544fd8e62f114dcb268f4": {
          "model_module": "@jupyter-widgets/controls",
          "model_name": "DescriptionStyleModel",
          "model_module_version": "1.5.0",
          "state": {
            "_model_module": "@jupyter-widgets/controls",
            "_model_module_version": "1.5.0",
            "_model_name": "DescriptionStyleModel",
            "_view_count": null,
            "_view_module": "@jupyter-widgets/base",
            "_view_module_version": "1.2.0",
            "_view_name": "StyleView",
            "description_width": ""
          }
        },
        "903ea6c7804e4af5b44d638c162f7fde": {
          "model_module": "@jupyter-widgets/base",
          "model_name": "LayoutModel",
          "model_module_version": "1.2.0",
          "state": {
            "_model_module": "@jupyter-widgets/base",
            "_model_module_version": "1.2.0",
            "_model_name": "LayoutModel",
            "_view_count": null,
            "_view_module": "@jupyter-widgets/base",
            "_view_module_version": "1.2.0",
            "_view_name": "LayoutView",
            "align_content": null,
            "align_items": null,
            "align_self": null,
            "border": null,
            "bottom": null,
            "display": null,
            "flex": null,
            "flex_flow": null,
            "grid_area": null,
            "grid_auto_columns": null,
            "grid_auto_flow": null,
            "grid_auto_rows": null,
            "grid_column": null,
            "grid_gap": null,
            "grid_row": null,
            "grid_template_areas": null,
            "grid_template_columns": null,
            "grid_template_rows": null,
            "height": null,
            "justify_content": null,
            "justify_items": null,
            "left": null,
            "margin": null,
            "max_height": null,
            "max_width": null,
            "min_height": null,
            "min_width": null,
            "object_fit": null,
            "object_position": null,
            "order": null,
            "overflow": null,
            "overflow_x": null,
            "overflow_y": null,
            "padding": null,
            "right": null,
            "top": null,
            "visibility": null,
            "width": null
          }
        },
        "b83efbc760614894b009fc988dcecb89": {
          "model_module": "@jupyter-widgets/controls",
          "model_name": "ProgressStyleModel",
          "model_module_version": "1.5.0",
          "state": {
            "_model_module": "@jupyter-widgets/controls",
            "_model_module_version": "1.5.0",
            "_model_name": "ProgressStyleModel",
            "_view_count": null,
            "_view_module": "@jupyter-widgets/base",
            "_view_module_version": "1.2.0",
            "_view_name": "StyleView",
            "bar_color": null,
            "description_width": ""
          }
        },
        "39771f3e2d184fbb918d3ad44f00db58": {
          "model_module": "@jupyter-widgets/base",
          "model_name": "LayoutModel",
          "model_module_version": "1.2.0",
          "state": {
            "_model_module": "@jupyter-widgets/base",
            "_model_module_version": "1.2.0",
            "_model_name": "LayoutModel",
            "_view_count": null,
            "_view_module": "@jupyter-widgets/base",
            "_view_module_version": "1.2.0",
            "_view_name": "LayoutView",
            "align_content": null,
            "align_items": null,
            "align_self": null,
            "border": null,
            "bottom": null,
            "display": null,
            "flex": null,
            "flex_flow": null,
            "grid_area": null,
            "grid_auto_columns": null,
            "grid_auto_flow": null,
            "grid_auto_rows": null,
            "grid_column": null,
            "grid_gap": null,
            "grid_row": null,
            "grid_template_areas": null,
            "grid_template_columns": null,
            "grid_template_rows": null,
            "height": null,
            "justify_content": null,
            "justify_items": null,
            "left": null,
            "margin": null,
            "max_height": null,
            "max_width": null,
            "min_height": null,
            "min_width": null,
            "object_fit": null,
            "object_position": null,
            "order": null,
            "overflow": null,
            "overflow_x": null,
            "overflow_y": null,
            "padding": null,
            "right": null,
            "top": null,
            "visibility": null,
            "width": null
          }
        },
        "b96071859e0c4514846fdc83b014ad21": {
          "model_module": "@jupyter-widgets/controls",
          "model_name": "DescriptionStyleModel",
          "model_module_version": "1.5.0",
          "state": {
            "_model_module": "@jupyter-widgets/controls",
            "_model_module_version": "1.5.0",
            "_model_name": "DescriptionStyleModel",
            "_view_count": null,
            "_view_module": "@jupyter-widgets/base",
            "_view_module_version": "1.2.0",
            "_view_name": "StyleView",
            "description_width": ""
          }
        },
        "0e1446ab2b4a4270a4bc37a027abdc7e": {
          "model_module": "@jupyter-widgets/controls",
          "model_name": "HBoxModel",
          "model_module_version": "1.5.0",
          "state": {
            "_dom_classes": [],
            "_model_module": "@jupyter-widgets/controls",
            "_model_module_version": "1.5.0",
            "_model_name": "HBoxModel",
            "_view_count": null,
            "_view_module": "@jupyter-widgets/controls",
            "_view_module_version": "1.5.0",
            "_view_name": "HBoxView",
            "box_style": "",
            "children": [
              "IPY_MODEL_803de0085e7b4e49a6e0b1ff6019697b",
              "IPY_MODEL_5c266c18e01c4c18b493a57b05d5c171",
              "IPY_MODEL_d53268de9bfc490294408b1a3df84705"
            ],
            "layout": "IPY_MODEL_9ca11b8f6fa04676a2ab13300f8fc2c8"
          }
        },
        "803de0085e7b4e49a6e0b1ff6019697b": {
          "model_module": "@jupyter-widgets/controls",
          "model_name": "HTMLModel",
          "model_module_version": "1.5.0",
          "state": {
            "_dom_classes": [],
            "_model_module": "@jupyter-widgets/controls",
            "_model_module_version": "1.5.0",
            "_model_name": "HTMLModel",
            "_view_count": null,
            "_view_module": "@jupyter-widgets/controls",
            "_view_module_version": "1.5.0",
            "_view_name": "HTMLView",
            "description": "",
            "description_tooltip": null,
            "layout": "IPY_MODEL_a7f02c5689de4a09a94714611af3c9d1",
            "placeholder": "​",
            "style": "IPY_MODEL_d0a71358ecb94b408efbc797f7ae2eba",
            "value": "Evaluating prototype classification:  97%"
          }
        },
        "5c266c18e01c4c18b493a57b05d5c171": {
          "model_module": "@jupyter-widgets/controls",
          "model_name": "FloatProgressModel",
          "model_module_version": "1.5.0",
          "state": {
            "_dom_classes": [],
            "_model_module": "@jupyter-widgets/controls",
            "_model_module_version": "1.5.0",
            "_model_name": "FloatProgressModel",
            "_view_count": null,
            "_view_module": "@jupyter-widgets/controls",
            "_view_module_version": "1.5.0",
            "_view_name": "ProgressView",
            "bar_style": "",
            "description": "",
            "description_tooltip": null,
            "layout": "IPY_MODEL_3d13dac1307742b192023625f9fd612b",
            "max": 125,
            "min": 0,
            "orientation": "horizontal",
            "style": "IPY_MODEL_f59cbb19876f424483e06e107b0bce61",
            "value": 125
          }
        },
        "d53268de9bfc490294408b1a3df84705": {
          "model_module": "@jupyter-widgets/controls",
          "model_name": "HTMLModel",
          "model_module_version": "1.5.0",
          "state": {
            "_dom_classes": [],
            "_model_module": "@jupyter-widgets/controls",
            "_model_module_version": "1.5.0",
            "_model_name": "HTMLModel",
            "_view_count": null,
            "_view_module": "@jupyter-widgets/controls",
            "_view_module_version": "1.5.0",
            "_view_name": "HTMLView",
            "description": "",
            "description_tooltip": null,
            "layout": "IPY_MODEL_273bb66709a94a11822f99d718457dba",
            "placeholder": "​",
            "style": "IPY_MODEL_f72435b7e2154bd48b6c5116de711208",
            "value": " 121/125 [00:02&lt;00:00, 56.00it/s]"
          }
        },
        "9ca11b8f6fa04676a2ab13300f8fc2c8": {
          "model_module": "@jupyter-widgets/base",
          "model_name": "LayoutModel",
          "model_module_version": "1.2.0",
          "state": {
            "_model_module": "@jupyter-widgets/base",
            "_model_module_version": "1.2.0",
            "_model_name": "LayoutModel",
            "_view_count": null,
            "_view_module": "@jupyter-widgets/base",
            "_view_module_version": "1.2.0",
            "_view_name": "LayoutView",
            "align_content": null,
            "align_items": null,
            "align_self": null,
            "border": null,
            "bottom": null,
            "display": null,
            "flex": null,
            "flex_flow": null,
            "grid_area": null,
            "grid_auto_columns": null,
            "grid_auto_flow": null,
            "grid_auto_rows": null,
            "grid_column": null,
            "grid_gap": null,
            "grid_row": null,
            "grid_template_areas": null,
            "grid_template_columns": null,
            "grid_template_rows": null,
            "height": null,
            "justify_content": null,
            "justify_items": null,
            "left": null,
            "margin": null,
            "max_height": null,
            "max_width": null,
            "min_height": null,
            "min_width": null,
            "object_fit": null,
            "object_position": null,
            "order": null,
            "overflow": null,
            "overflow_x": null,
            "overflow_y": null,
            "padding": null,
            "right": null,
            "top": null,
            "visibility": "hidden",
            "width": null
          }
        },
        "a7f02c5689de4a09a94714611af3c9d1": {
          "model_module": "@jupyter-widgets/base",
          "model_name": "LayoutModel",
          "model_module_version": "1.2.0",
          "state": {
            "_model_module": "@jupyter-widgets/base",
            "_model_module_version": "1.2.0",
            "_model_name": "LayoutModel",
            "_view_count": null,
            "_view_module": "@jupyter-widgets/base",
            "_view_module_version": "1.2.0",
            "_view_name": "LayoutView",
            "align_content": null,
            "align_items": null,
            "align_self": null,
            "border": null,
            "bottom": null,
            "display": null,
            "flex": null,
            "flex_flow": null,
            "grid_area": null,
            "grid_auto_columns": null,
            "grid_auto_flow": null,
            "grid_auto_rows": null,
            "grid_column": null,
            "grid_gap": null,
            "grid_row": null,
            "grid_template_areas": null,
            "grid_template_columns": null,
            "grid_template_rows": null,
            "height": null,
            "justify_content": null,
            "justify_items": null,
            "left": null,
            "margin": null,
            "max_height": null,
            "max_width": null,
            "min_height": null,
            "min_width": null,
            "object_fit": null,
            "object_position": null,
            "order": null,
            "overflow": null,
            "overflow_x": null,
            "overflow_y": null,
            "padding": null,
            "right": null,
            "top": null,
            "visibility": null,
            "width": null
          }
        },
        "d0a71358ecb94b408efbc797f7ae2eba": {
          "model_module": "@jupyter-widgets/controls",
          "model_name": "DescriptionStyleModel",
          "model_module_version": "1.5.0",
          "state": {
            "_model_module": "@jupyter-widgets/controls",
            "_model_module_version": "1.5.0",
            "_model_name": "DescriptionStyleModel",
            "_view_count": null,
            "_view_module": "@jupyter-widgets/base",
            "_view_module_version": "1.2.0",
            "_view_name": "StyleView",
            "description_width": ""
          }
        },
        "3d13dac1307742b192023625f9fd612b": {
          "model_module": "@jupyter-widgets/base",
          "model_name": "LayoutModel",
          "model_module_version": "1.2.0",
          "state": {
            "_model_module": "@jupyter-widgets/base",
            "_model_module_version": "1.2.0",
            "_model_name": "LayoutModel",
            "_view_count": null,
            "_view_module": "@jupyter-widgets/base",
            "_view_module_version": "1.2.0",
            "_view_name": "LayoutView",
            "align_content": null,
            "align_items": null,
            "align_self": null,
            "border": null,
            "bottom": null,
            "display": null,
            "flex": null,
            "flex_flow": null,
            "grid_area": null,
            "grid_auto_columns": null,
            "grid_auto_flow": null,
            "grid_auto_rows": null,
            "grid_column": null,
            "grid_gap": null,
            "grid_row": null,
            "grid_template_areas": null,
            "grid_template_columns": null,
            "grid_template_rows": null,
            "height": null,
            "justify_content": null,
            "justify_items": null,
            "left": null,
            "margin": null,
            "max_height": null,
            "max_width": null,
            "min_height": null,
            "min_width": null,
            "object_fit": null,
            "object_position": null,
            "order": null,
            "overflow": null,
            "overflow_x": null,
            "overflow_y": null,
            "padding": null,
            "right": null,
            "top": null,
            "visibility": null,
            "width": null
          }
        },
        "f59cbb19876f424483e06e107b0bce61": {
          "model_module": "@jupyter-widgets/controls",
          "model_name": "ProgressStyleModel",
          "model_module_version": "1.5.0",
          "state": {
            "_model_module": "@jupyter-widgets/controls",
            "_model_module_version": "1.5.0",
            "_model_name": "ProgressStyleModel",
            "_view_count": null,
            "_view_module": "@jupyter-widgets/base",
            "_view_module_version": "1.2.0",
            "_view_name": "StyleView",
            "bar_color": null,
            "description_width": ""
          }
        },
        "273bb66709a94a11822f99d718457dba": {
          "model_module": "@jupyter-widgets/base",
          "model_name": "LayoutModel",
          "model_module_version": "1.2.0",
          "state": {
            "_model_module": "@jupyter-widgets/base",
            "_model_module_version": "1.2.0",
            "_model_name": "LayoutModel",
            "_view_count": null,
            "_view_module": "@jupyter-widgets/base",
            "_view_module_version": "1.2.0",
            "_view_name": "LayoutView",
            "align_content": null,
            "align_items": null,
            "align_self": null,
            "border": null,
            "bottom": null,
            "display": null,
            "flex": null,
            "flex_flow": null,
            "grid_area": null,
            "grid_auto_columns": null,
            "grid_auto_flow": null,
            "grid_auto_rows": null,
            "grid_column": null,
            "grid_gap": null,
            "grid_row": null,
            "grid_template_areas": null,
            "grid_template_columns": null,
            "grid_template_rows": null,
            "height": null,
            "justify_content": null,
            "justify_items": null,
            "left": null,
            "margin": null,
            "max_height": null,
            "max_width": null,
            "min_height": null,
            "min_width": null,
            "object_fit": null,
            "object_position": null,
            "order": null,
            "overflow": null,
            "overflow_x": null,
            "overflow_y": null,
            "padding": null,
            "right": null,
            "top": null,
            "visibility": null,
            "width": null
          }
        },
        "f72435b7e2154bd48b6c5116de711208": {
          "model_module": "@jupyter-widgets/controls",
          "model_name": "DescriptionStyleModel",
          "model_module_version": "1.5.0",
          "state": {
            "_model_module": "@jupyter-widgets/controls",
            "_model_module_version": "1.5.0",
            "_model_name": "DescriptionStyleModel",
            "_view_count": null,
            "_view_module": "@jupyter-widgets/base",
            "_view_module_version": "1.2.0",
            "_view_name": "StyleView",
            "description_width": ""
          }
        },
        "05f665c3d76d47a5b49e571ebb70b072": {
          "model_module": "@jupyter-widgets/controls",
          "model_name": "HBoxModel",
          "model_module_version": "1.5.0",
          "state": {
            "_dom_classes": [],
            "_model_module": "@jupyter-widgets/controls",
            "_model_module_version": "1.5.0",
            "_model_name": "HBoxModel",
            "_view_count": null,
            "_view_module": "@jupyter-widgets/controls",
            "_view_module_version": "1.5.0",
            "_view_name": "HBoxView",
            "box_style": "",
            "children": [
              "IPY_MODEL_47ed4a1a0b764e7cb2413f6948b497d0",
              "IPY_MODEL_426e5600d53948b09fa9d89cea963207",
              "IPY_MODEL_da2e6ae8bba3495998f23bb0dfde9f34"
            ],
            "layout": "IPY_MODEL_d2b758524ad04ae69e05255150154ce3"
          }
        },
        "47ed4a1a0b764e7cb2413f6948b497d0": {
          "model_module": "@jupyter-widgets/controls",
          "model_name": "HTMLModel",
          "model_module_version": "1.5.0",
          "state": {
            "_dom_classes": [],
            "_model_module": "@jupyter-widgets/controls",
            "_model_module_version": "1.5.0",
            "_model_name": "HTMLModel",
            "_view_count": null,
            "_view_module": "@jupyter-widgets/controls",
            "_view_module_version": "1.5.0",
            "_view_name": "HTMLView",
            "description": "",
            "description_tooltip": null,
            "layout": "IPY_MODEL_707ef045381149c7baf8811e88dec465",
            "placeholder": "​",
            "style": "IPY_MODEL_2a7b88c1316945c8ad52b76e2a40ff0a",
            "value": "Evaluating prototype classification:  92%"
          }
        },
        "426e5600d53948b09fa9d89cea963207": {
          "model_module": "@jupyter-widgets/controls",
          "model_name": "FloatProgressModel",
          "model_module_version": "1.5.0",
          "state": {
            "_dom_classes": [],
            "_model_module": "@jupyter-widgets/controls",
            "_model_module_version": "1.5.0",
            "_model_name": "FloatProgressModel",
            "_view_count": null,
            "_view_module": "@jupyter-widgets/controls",
            "_view_module_version": "1.5.0",
            "_view_name": "ProgressView",
            "bar_style": "",
            "description": "",
            "description_tooltip": null,
            "layout": "IPY_MODEL_3ed1c5c35d8a4245ac04a54aa2fd19ad",
            "max": 63,
            "min": 0,
            "orientation": "horizontal",
            "style": "IPY_MODEL_69baf05fa84a4e8ea290a223cc6b788f",
            "value": 63
          }
        },
        "da2e6ae8bba3495998f23bb0dfde9f34": {
          "model_module": "@jupyter-widgets/controls",
          "model_name": "HTMLModel",
          "model_module_version": "1.5.0",
          "state": {
            "_dom_classes": [],
            "_model_module": "@jupyter-widgets/controls",
            "_model_module_version": "1.5.0",
            "_model_name": "HTMLModel",
            "_view_count": null,
            "_view_module": "@jupyter-widgets/controls",
            "_view_module_version": "1.5.0",
            "_view_name": "HTMLView",
            "description": "",
            "description_tooltip": null,
            "layout": "IPY_MODEL_552cdb84e1a34e3b920bf422715b6986",
            "placeholder": "​",
            "style": "IPY_MODEL_09e5f36526b64037bc8b184dcdd5e408",
            "value": " 58/63 [00:00&lt;00:00, 83.11it/s]"
          }
        },
        "d2b758524ad04ae69e05255150154ce3": {
          "model_module": "@jupyter-widgets/base",
          "model_name": "LayoutModel",
          "model_module_version": "1.2.0",
          "state": {
            "_model_module": "@jupyter-widgets/base",
            "_model_module_version": "1.2.0",
            "_model_name": "LayoutModel",
            "_view_count": null,
            "_view_module": "@jupyter-widgets/base",
            "_view_module_version": "1.2.0",
            "_view_name": "LayoutView",
            "align_content": null,
            "align_items": null,
            "align_self": null,
            "border": null,
            "bottom": null,
            "display": null,
            "flex": null,
            "flex_flow": null,
            "grid_area": null,
            "grid_auto_columns": null,
            "grid_auto_flow": null,
            "grid_auto_rows": null,
            "grid_column": null,
            "grid_gap": null,
            "grid_row": null,
            "grid_template_areas": null,
            "grid_template_columns": null,
            "grid_template_rows": null,
            "height": null,
            "justify_content": null,
            "justify_items": null,
            "left": null,
            "margin": null,
            "max_height": null,
            "max_width": null,
            "min_height": null,
            "min_width": null,
            "object_fit": null,
            "object_position": null,
            "order": null,
            "overflow": null,
            "overflow_x": null,
            "overflow_y": null,
            "padding": null,
            "right": null,
            "top": null,
            "visibility": "hidden",
            "width": null
          }
        },
        "707ef045381149c7baf8811e88dec465": {
          "model_module": "@jupyter-widgets/base",
          "model_name": "LayoutModel",
          "model_module_version": "1.2.0",
          "state": {
            "_model_module": "@jupyter-widgets/base",
            "_model_module_version": "1.2.0",
            "_model_name": "LayoutModel",
            "_view_count": null,
            "_view_module": "@jupyter-widgets/base",
            "_view_module_version": "1.2.0",
            "_view_name": "LayoutView",
            "align_content": null,
            "align_items": null,
            "align_self": null,
            "border": null,
            "bottom": null,
            "display": null,
            "flex": null,
            "flex_flow": null,
            "grid_area": null,
            "grid_auto_columns": null,
            "grid_auto_flow": null,
            "grid_auto_rows": null,
            "grid_column": null,
            "grid_gap": null,
            "grid_row": null,
            "grid_template_areas": null,
            "grid_template_columns": null,
            "grid_template_rows": null,
            "height": null,
            "justify_content": null,
            "justify_items": null,
            "left": null,
            "margin": null,
            "max_height": null,
            "max_width": null,
            "min_height": null,
            "min_width": null,
            "object_fit": null,
            "object_position": null,
            "order": null,
            "overflow": null,
            "overflow_x": null,
            "overflow_y": null,
            "padding": null,
            "right": null,
            "top": null,
            "visibility": null,
            "width": null
          }
        },
        "2a7b88c1316945c8ad52b76e2a40ff0a": {
          "model_module": "@jupyter-widgets/controls",
          "model_name": "DescriptionStyleModel",
          "model_module_version": "1.5.0",
          "state": {
            "_model_module": "@jupyter-widgets/controls",
            "_model_module_version": "1.5.0",
            "_model_name": "DescriptionStyleModel",
            "_view_count": null,
            "_view_module": "@jupyter-widgets/base",
            "_view_module_version": "1.2.0",
            "_view_name": "StyleView",
            "description_width": ""
          }
        },
        "3ed1c5c35d8a4245ac04a54aa2fd19ad": {
          "model_module": "@jupyter-widgets/base",
          "model_name": "LayoutModel",
          "model_module_version": "1.2.0",
          "state": {
            "_model_module": "@jupyter-widgets/base",
            "_model_module_version": "1.2.0",
            "_model_name": "LayoutModel",
            "_view_count": null,
            "_view_module": "@jupyter-widgets/base",
            "_view_module_version": "1.2.0",
            "_view_name": "LayoutView",
            "align_content": null,
            "align_items": null,
            "align_self": null,
            "border": null,
            "bottom": null,
            "display": null,
            "flex": null,
            "flex_flow": null,
            "grid_area": null,
            "grid_auto_columns": null,
            "grid_auto_flow": null,
            "grid_auto_rows": null,
            "grid_column": null,
            "grid_gap": null,
            "grid_row": null,
            "grid_template_areas": null,
            "grid_template_columns": null,
            "grid_template_rows": null,
            "height": null,
            "justify_content": null,
            "justify_items": null,
            "left": null,
            "margin": null,
            "max_height": null,
            "max_width": null,
            "min_height": null,
            "min_width": null,
            "object_fit": null,
            "object_position": null,
            "order": null,
            "overflow": null,
            "overflow_x": null,
            "overflow_y": null,
            "padding": null,
            "right": null,
            "top": null,
            "visibility": null,
            "width": null
          }
        },
        "69baf05fa84a4e8ea290a223cc6b788f": {
          "model_module": "@jupyter-widgets/controls",
          "model_name": "ProgressStyleModel",
          "model_module_version": "1.5.0",
          "state": {
            "_model_module": "@jupyter-widgets/controls",
            "_model_module_version": "1.5.0",
            "_model_name": "ProgressStyleModel",
            "_view_count": null,
            "_view_module": "@jupyter-widgets/base",
            "_view_module_version": "1.2.0",
            "_view_name": "StyleView",
            "bar_color": null,
            "description_width": ""
          }
        },
        "552cdb84e1a34e3b920bf422715b6986": {
          "model_module": "@jupyter-widgets/base",
          "model_name": "LayoutModel",
          "model_module_version": "1.2.0",
          "state": {
            "_model_module": "@jupyter-widgets/base",
            "_model_module_version": "1.2.0",
            "_model_name": "LayoutModel",
            "_view_count": null,
            "_view_module": "@jupyter-widgets/base",
            "_view_module_version": "1.2.0",
            "_view_name": "LayoutView",
            "align_content": null,
            "align_items": null,
            "align_self": null,
            "border": null,
            "bottom": null,
            "display": null,
            "flex": null,
            "flex_flow": null,
            "grid_area": null,
            "grid_auto_columns": null,
            "grid_auto_flow": null,
            "grid_auto_rows": null,
            "grid_column": null,
            "grid_gap": null,
            "grid_row": null,
            "grid_template_areas": null,
            "grid_template_columns": null,
            "grid_template_rows": null,
            "height": null,
            "justify_content": null,
            "justify_items": null,
            "left": null,
            "margin": null,
            "max_height": null,
            "max_width": null,
            "min_height": null,
            "min_width": null,
            "object_fit": null,
            "object_position": null,
            "order": null,
            "overflow": null,
            "overflow_x": null,
            "overflow_y": null,
            "padding": null,
            "right": null,
            "top": null,
            "visibility": null,
            "width": null
          }
        },
        "09e5f36526b64037bc8b184dcdd5e408": {
          "model_module": "@jupyter-widgets/controls",
          "model_name": "DescriptionStyleModel",
          "model_module_version": "1.5.0",
          "state": {
            "_model_module": "@jupyter-widgets/controls",
            "_model_module_version": "1.5.0",
            "_model_name": "DescriptionStyleModel",
            "_view_count": null,
            "_view_module": "@jupyter-widgets/base",
            "_view_module_version": "1.2.0",
            "_view_name": "StyleView",
            "description_width": ""
          }
        },
        "0b358559ac12498d9bffe0e984652f84": {
          "model_module": "@jupyter-widgets/controls",
          "model_name": "HBoxModel",
          "model_module_version": "1.5.0",
          "state": {
            "_dom_classes": [],
            "_model_module": "@jupyter-widgets/controls",
            "_model_module_version": "1.5.0",
            "_model_name": "HBoxModel",
            "_view_count": null,
            "_view_module": "@jupyter-widgets/controls",
            "_view_module_version": "1.5.0",
            "_view_name": "HBoxView",
            "box_style": "",
            "children": [
              "IPY_MODEL_902495cf69ac40fba32dc3bebe1221bf",
              "IPY_MODEL_b160d9432cc2472998b42fd50648261e",
              "IPY_MODEL_f7580cc1cb23426984a28448d35b0ee3"
            ],
            "layout": "IPY_MODEL_9f0a6e2071ef4cd59529b796d3eb9ae6"
          }
        },
        "902495cf69ac40fba32dc3bebe1221bf": {
          "model_module": "@jupyter-widgets/controls",
          "model_name": "HTMLModel",
          "model_module_version": "1.5.0",
          "state": {
            "_dom_classes": [],
            "_model_module": "@jupyter-widgets/controls",
            "_model_module_version": "1.5.0",
            "_model_name": "HTMLModel",
            "_view_count": null,
            "_view_module": "@jupyter-widgets/controls",
            "_view_module_version": "1.5.0",
            "_view_name": "HTMLView",
            "description": "",
            "description_tooltip": null,
            "layout": "IPY_MODEL_28c5f1641e1341ca9d03e5b334732b99",
            "placeholder": "​",
            "style": "IPY_MODEL_ab3f79eaebf9451e862bdb0916362391",
            "value": "Evaluating prototype classification:  94%"
          }
        },
        "b160d9432cc2472998b42fd50648261e": {
          "model_module": "@jupyter-widgets/controls",
          "model_name": "FloatProgressModel",
          "model_module_version": "1.5.0",
          "state": {
            "_dom_classes": [],
            "_model_module": "@jupyter-widgets/controls",
            "_model_module_version": "1.5.0",
            "_model_name": "FloatProgressModel",
            "_view_count": null,
            "_view_module": "@jupyter-widgets/controls",
            "_view_module_version": "1.5.0",
            "_view_name": "ProgressView",
            "bar_style": "",
            "description": "",
            "description_tooltip": null,
            "layout": "IPY_MODEL_6255b4ad2e13483b8a38755cfc52f0f3",
            "max": 32,
            "min": 0,
            "orientation": "horizontal",
            "style": "IPY_MODEL_0957357d640a4e25900d71a973dbf04f",
            "value": 32
          }
        },
        "f7580cc1cb23426984a28448d35b0ee3": {
          "model_module": "@jupyter-widgets/controls",
          "model_name": "HTMLModel",
          "model_module_version": "1.5.0",
          "state": {
            "_dom_classes": [],
            "_model_module": "@jupyter-widgets/controls",
            "_model_module_version": "1.5.0",
            "_model_name": "HTMLModel",
            "_view_count": null,
            "_view_module": "@jupyter-widgets/controls",
            "_view_module_version": "1.5.0",
            "_view_name": "HTMLView",
            "description": "",
            "description_tooltip": null,
            "layout": "IPY_MODEL_f06fc4e2c02f4b7db285a771fcc2d9df",
            "placeholder": "​",
            "style": "IPY_MODEL_f7e3a8b98d68471faf6a9685d7fcad5d",
            "value": " 30/32 [00:00&lt;00:00, 76.33it/s]"
          }
        },
        "9f0a6e2071ef4cd59529b796d3eb9ae6": {
          "model_module": "@jupyter-widgets/base",
          "model_name": "LayoutModel",
          "model_module_version": "1.2.0",
          "state": {
            "_model_module": "@jupyter-widgets/base",
            "_model_module_version": "1.2.0",
            "_model_name": "LayoutModel",
            "_view_count": null,
            "_view_module": "@jupyter-widgets/base",
            "_view_module_version": "1.2.0",
            "_view_name": "LayoutView",
            "align_content": null,
            "align_items": null,
            "align_self": null,
            "border": null,
            "bottom": null,
            "display": null,
            "flex": null,
            "flex_flow": null,
            "grid_area": null,
            "grid_auto_columns": null,
            "grid_auto_flow": null,
            "grid_auto_rows": null,
            "grid_column": null,
            "grid_gap": null,
            "grid_row": null,
            "grid_template_areas": null,
            "grid_template_columns": null,
            "grid_template_rows": null,
            "height": null,
            "justify_content": null,
            "justify_items": null,
            "left": null,
            "margin": null,
            "max_height": null,
            "max_width": null,
            "min_height": null,
            "min_width": null,
            "object_fit": null,
            "object_position": null,
            "order": null,
            "overflow": null,
            "overflow_x": null,
            "overflow_y": null,
            "padding": null,
            "right": null,
            "top": null,
            "visibility": "hidden",
            "width": null
          }
        },
        "28c5f1641e1341ca9d03e5b334732b99": {
          "model_module": "@jupyter-widgets/base",
          "model_name": "LayoutModel",
          "model_module_version": "1.2.0",
          "state": {
            "_model_module": "@jupyter-widgets/base",
            "_model_module_version": "1.2.0",
            "_model_name": "LayoutModel",
            "_view_count": null,
            "_view_module": "@jupyter-widgets/base",
            "_view_module_version": "1.2.0",
            "_view_name": "LayoutView",
            "align_content": null,
            "align_items": null,
            "align_self": null,
            "border": null,
            "bottom": null,
            "display": null,
            "flex": null,
            "flex_flow": null,
            "grid_area": null,
            "grid_auto_columns": null,
            "grid_auto_flow": null,
            "grid_auto_rows": null,
            "grid_column": null,
            "grid_gap": null,
            "grid_row": null,
            "grid_template_areas": null,
            "grid_template_columns": null,
            "grid_template_rows": null,
            "height": null,
            "justify_content": null,
            "justify_items": null,
            "left": null,
            "margin": null,
            "max_height": null,
            "max_width": null,
            "min_height": null,
            "min_width": null,
            "object_fit": null,
            "object_position": null,
            "order": null,
            "overflow": null,
            "overflow_x": null,
            "overflow_y": null,
            "padding": null,
            "right": null,
            "top": null,
            "visibility": null,
            "width": null
          }
        },
        "ab3f79eaebf9451e862bdb0916362391": {
          "model_module": "@jupyter-widgets/controls",
          "model_name": "DescriptionStyleModel",
          "model_module_version": "1.5.0",
          "state": {
            "_model_module": "@jupyter-widgets/controls",
            "_model_module_version": "1.5.0",
            "_model_name": "DescriptionStyleModel",
            "_view_count": null,
            "_view_module": "@jupyter-widgets/base",
            "_view_module_version": "1.2.0",
            "_view_name": "StyleView",
            "description_width": ""
          }
        },
        "6255b4ad2e13483b8a38755cfc52f0f3": {
          "model_module": "@jupyter-widgets/base",
          "model_name": "LayoutModel",
          "model_module_version": "1.2.0",
          "state": {
            "_model_module": "@jupyter-widgets/base",
            "_model_module_version": "1.2.0",
            "_model_name": "LayoutModel",
            "_view_count": null,
            "_view_module": "@jupyter-widgets/base",
            "_view_module_version": "1.2.0",
            "_view_name": "LayoutView",
            "align_content": null,
            "align_items": null,
            "align_self": null,
            "border": null,
            "bottom": null,
            "display": null,
            "flex": null,
            "flex_flow": null,
            "grid_area": null,
            "grid_auto_columns": null,
            "grid_auto_flow": null,
            "grid_auto_rows": null,
            "grid_column": null,
            "grid_gap": null,
            "grid_row": null,
            "grid_template_areas": null,
            "grid_template_columns": null,
            "grid_template_rows": null,
            "height": null,
            "justify_content": null,
            "justify_items": null,
            "left": null,
            "margin": null,
            "max_height": null,
            "max_width": null,
            "min_height": null,
            "min_width": null,
            "object_fit": null,
            "object_position": null,
            "order": null,
            "overflow": null,
            "overflow_x": null,
            "overflow_y": null,
            "padding": null,
            "right": null,
            "top": null,
            "visibility": null,
            "width": null
          }
        },
        "0957357d640a4e25900d71a973dbf04f": {
          "model_module": "@jupyter-widgets/controls",
          "model_name": "ProgressStyleModel",
          "model_module_version": "1.5.0",
          "state": {
            "_model_module": "@jupyter-widgets/controls",
            "_model_module_version": "1.5.0",
            "_model_name": "ProgressStyleModel",
            "_view_count": null,
            "_view_module": "@jupyter-widgets/base",
            "_view_module_version": "1.2.0",
            "_view_name": "StyleView",
            "bar_color": null,
            "description_width": ""
          }
        },
        "f06fc4e2c02f4b7db285a771fcc2d9df": {
          "model_module": "@jupyter-widgets/base",
          "model_name": "LayoutModel",
          "model_module_version": "1.2.0",
          "state": {
            "_model_module": "@jupyter-widgets/base",
            "_model_module_version": "1.2.0",
            "_model_name": "LayoutModel",
            "_view_count": null,
            "_view_module": "@jupyter-widgets/base",
            "_view_module_version": "1.2.0",
            "_view_name": "LayoutView",
            "align_content": null,
            "align_items": null,
            "align_self": null,
            "border": null,
            "bottom": null,
            "display": null,
            "flex": null,
            "flex_flow": null,
            "grid_area": null,
            "grid_auto_columns": null,
            "grid_auto_flow": null,
            "grid_auto_rows": null,
            "grid_column": null,
            "grid_gap": null,
            "grid_row": null,
            "grid_template_areas": null,
            "grid_template_columns": null,
            "grid_template_rows": null,
            "height": null,
            "justify_content": null,
            "justify_items": null,
            "left": null,
            "margin": null,
            "max_height": null,
            "max_width": null,
            "min_height": null,
            "min_width": null,
            "object_fit": null,
            "object_position": null,
            "order": null,
            "overflow": null,
            "overflow_x": null,
            "overflow_y": null,
            "padding": null,
            "right": null,
            "top": null,
            "visibility": null,
            "width": null
          }
        },
        "f7e3a8b98d68471faf6a9685d7fcad5d": {
          "model_module": "@jupyter-widgets/controls",
          "model_name": "DescriptionStyleModel",
          "model_module_version": "1.5.0",
          "state": {
            "_model_module": "@jupyter-widgets/controls",
            "_model_module_version": "1.5.0",
            "_model_name": "DescriptionStyleModel",
            "_view_count": null,
            "_view_module": "@jupyter-widgets/base",
            "_view_module_version": "1.2.0",
            "_view_name": "StyleView",
            "description_width": ""
          }
        },
        "2007aea6e7fd403783ba72d74edfaa94": {
          "model_module": "@jupyter-widgets/controls",
          "model_name": "HBoxModel",
          "model_module_version": "1.5.0",
          "state": {
            "_dom_classes": [],
            "_model_module": "@jupyter-widgets/controls",
            "_model_module_version": "1.5.0",
            "_model_name": "HBoxModel",
            "_view_count": null,
            "_view_module": "@jupyter-widgets/controls",
            "_view_module_version": "1.5.0",
            "_view_name": "HBoxView",
            "box_style": "",
            "children": [
              "IPY_MODEL_a757782c353c4ca4b692c36d818d0a80",
              "IPY_MODEL_ab8b463ef32749d684bdfb16353ff7fa",
              "IPY_MODEL_5e71f7d71a834c95aa3fb1d4abb32c5c"
            ],
            "layout": "IPY_MODEL_79aabcc9ad704bfaa002a95f6f38fae8"
          }
        },
        "a757782c353c4ca4b692c36d818d0a80": {
          "model_module": "@jupyter-widgets/controls",
          "model_name": "HTMLModel",
          "model_module_version": "1.5.0",
          "state": {
            "_dom_classes": [],
            "_model_module": "@jupyter-widgets/controls",
            "_model_module_version": "1.5.0",
            "_model_name": "HTMLModel",
            "_view_count": null,
            "_view_module": "@jupyter-widgets/controls",
            "_view_module_version": "1.5.0",
            "_view_name": "HTMLView",
            "description": "",
            "description_tooltip": null,
            "layout": "IPY_MODEL_4ad185c2155546648f8c492d00b9b0e3",
            "placeholder": "​",
            "style": "IPY_MODEL_404dfa63ad384a50a607c1282f5b5835",
            "value": "Evaluating prototype classification: 100%"
          }
        },
        "ab8b463ef32749d684bdfb16353ff7fa": {
          "model_module": "@jupyter-widgets/controls",
          "model_name": "FloatProgressModel",
          "model_module_version": "1.5.0",
          "state": {
            "_dom_classes": [],
            "_model_module": "@jupyter-widgets/controls",
            "_model_module_version": "1.5.0",
            "_model_name": "FloatProgressModel",
            "_view_count": null,
            "_view_module": "@jupyter-widgets/controls",
            "_view_module_version": "1.5.0",
            "_view_name": "ProgressView",
            "bar_style": "",
            "description": "",
            "description_tooltip": null,
            "layout": "IPY_MODEL_c8234b0627974c63aed6e66c47b89945",
            "max": 16,
            "min": 0,
            "orientation": "horizontal",
            "style": "IPY_MODEL_69d817d40fbf4abeb93fa7ecfe28d1c0",
            "value": 16
          }
        },
        "5e71f7d71a834c95aa3fb1d4abb32c5c": {
          "model_module": "@jupyter-widgets/controls",
          "model_name": "HTMLModel",
          "model_module_version": "1.5.0",
          "state": {
            "_dom_classes": [],
            "_model_module": "@jupyter-widgets/controls",
            "_model_module_version": "1.5.0",
            "_model_name": "HTMLModel",
            "_view_count": null,
            "_view_module": "@jupyter-widgets/controls",
            "_view_module_version": "1.5.0",
            "_view_name": "HTMLView",
            "description": "",
            "description_tooltip": null,
            "layout": "IPY_MODEL_6938e677f8a0481c96404af756d434a6",
            "placeholder": "​",
            "style": "IPY_MODEL_7bb5553c40354349b896f619dcae91d1",
            "value": " 16/16 [00:00&lt;00:00, 83.06it/s]"
          }
        },
        "79aabcc9ad704bfaa002a95f6f38fae8": {
          "model_module": "@jupyter-widgets/base",
          "model_name": "LayoutModel",
          "model_module_version": "1.2.0",
          "state": {
            "_model_module": "@jupyter-widgets/base",
            "_model_module_version": "1.2.0",
            "_model_name": "LayoutModel",
            "_view_count": null,
            "_view_module": "@jupyter-widgets/base",
            "_view_module_version": "1.2.0",
            "_view_name": "LayoutView",
            "align_content": null,
            "align_items": null,
            "align_self": null,
            "border": null,
            "bottom": null,
            "display": null,
            "flex": null,
            "flex_flow": null,
            "grid_area": null,
            "grid_auto_columns": null,
            "grid_auto_flow": null,
            "grid_auto_rows": null,
            "grid_column": null,
            "grid_gap": null,
            "grid_row": null,
            "grid_template_areas": null,
            "grid_template_columns": null,
            "grid_template_rows": null,
            "height": null,
            "justify_content": null,
            "justify_items": null,
            "left": null,
            "margin": null,
            "max_height": null,
            "max_width": null,
            "min_height": null,
            "min_width": null,
            "object_fit": null,
            "object_position": null,
            "order": null,
            "overflow": null,
            "overflow_x": null,
            "overflow_y": null,
            "padding": null,
            "right": null,
            "top": null,
            "visibility": "hidden",
            "width": null
          }
        },
        "4ad185c2155546648f8c492d00b9b0e3": {
          "model_module": "@jupyter-widgets/base",
          "model_name": "LayoutModel",
          "model_module_version": "1.2.0",
          "state": {
            "_model_module": "@jupyter-widgets/base",
            "_model_module_version": "1.2.0",
            "_model_name": "LayoutModel",
            "_view_count": null,
            "_view_module": "@jupyter-widgets/base",
            "_view_module_version": "1.2.0",
            "_view_name": "LayoutView",
            "align_content": null,
            "align_items": null,
            "align_self": null,
            "border": null,
            "bottom": null,
            "display": null,
            "flex": null,
            "flex_flow": null,
            "grid_area": null,
            "grid_auto_columns": null,
            "grid_auto_flow": null,
            "grid_auto_rows": null,
            "grid_column": null,
            "grid_gap": null,
            "grid_row": null,
            "grid_template_areas": null,
            "grid_template_columns": null,
            "grid_template_rows": null,
            "height": null,
            "justify_content": null,
            "justify_items": null,
            "left": null,
            "margin": null,
            "max_height": null,
            "max_width": null,
            "min_height": null,
            "min_width": null,
            "object_fit": null,
            "object_position": null,
            "order": null,
            "overflow": null,
            "overflow_x": null,
            "overflow_y": null,
            "padding": null,
            "right": null,
            "top": null,
            "visibility": null,
            "width": null
          }
        },
        "404dfa63ad384a50a607c1282f5b5835": {
          "model_module": "@jupyter-widgets/controls",
          "model_name": "DescriptionStyleModel",
          "model_module_version": "1.5.0",
          "state": {
            "_model_module": "@jupyter-widgets/controls",
            "_model_module_version": "1.5.0",
            "_model_name": "DescriptionStyleModel",
            "_view_count": null,
            "_view_module": "@jupyter-widgets/base",
            "_view_module_version": "1.2.0",
            "_view_name": "StyleView",
            "description_width": ""
          }
        },
        "c8234b0627974c63aed6e66c47b89945": {
          "model_module": "@jupyter-widgets/base",
          "model_name": "LayoutModel",
          "model_module_version": "1.2.0",
          "state": {
            "_model_module": "@jupyter-widgets/base",
            "_model_module_version": "1.2.0",
            "_model_name": "LayoutModel",
            "_view_count": null,
            "_view_module": "@jupyter-widgets/base",
            "_view_module_version": "1.2.0",
            "_view_name": "LayoutView",
            "align_content": null,
            "align_items": null,
            "align_self": null,
            "border": null,
            "bottom": null,
            "display": null,
            "flex": null,
            "flex_flow": null,
            "grid_area": null,
            "grid_auto_columns": null,
            "grid_auto_flow": null,
            "grid_auto_rows": null,
            "grid_column": null,
            "grid_gap": null,
            "grid_row": null,
            "grid_template_areas": null,
            "grid_template_columns": null,
            "grid_template_rows": null,
            "height": null,
            "justify_content": null,
            "justify_items": null,
            "left": null,
            "margin": null,
            "max_height": null,
            "max_width": null,
            "min_height": null,
            "min_width": null,
            "object_fit": null,
            "object_position": null,
            "order": null,
            "overflow": null,
            "overflow_x": null,
            "overflow_y": null,
            "padding": null,
            "right": null,
            "top": null,
            "visibility": null,
            "width": null
          }
        },
        "69d817d40fbf4abeb93fa7ecfe28d1c0": {
          "model_module": "@jupyter-widgets/controls",
          "model_name": "ProgressStyleModel",
          "model_module_version": "1.5.0",
          "state": {
            "_model_module": "@jupyter-widgets/controls",
            "_model_module_version": "1.5.0",
            "_model_name": "ProgressStyleModel",
            "_view_count": null,
            "_view_module": "@jupyter-widgets/base",
            "_view_module_version": "1.2.0",
            "_view_name": "StyleView",
            "bar_color": null,
            "description_width": ""
          }
        },
        "6938e677f8a0481c96404af756d434a6": {
          "model_module": "@jupyter-widgets/base",
          "model_name": "LayoutModel",
          "model_module_version": "1.2.0",
          "state": {
            "_model_module": "@jupyter-widgets/base",
            "_model_module_version": "1.2.0",
            "_model_name": "LayoutModel",
            "_view_count": null,
            "_view_module": "@jupyter-widgets/base",
            "_view_module_version": "1.2.0",
            "_view_name": "LayoutView",
            "align_content": null,
            "align_items": null,
            "align_self": null,
            "border": null,
            "bottom": null,
            "display": null,
            "flex": null,
            "flex_flow": null,
            "grid_area": null,
            "grid_auto_columns": null,
            "grid_auto_flow": null,
            "grid_auto_rows": null,
            "grid_column": null,
            "grid_gap": null,
            "grid_row": null,
            "grid_template_areas": null,
            "grid_template_columns": null,
            "grid_template_rows": null,
            "height": null,
            "justify_content": null,
            "justify_items": null,
            "left": null,
            "margin": null,
            "max_height": null,
            "max_width": null,
            "min_height": null,
            "min_width": null,
            "object_fit": null,
            "object_position": null,
            "order": null,
            "overflow": null,
            "overflow_x": null,
            "overflow_y": null,
            "padding": null,
            "right": null,
            "top": null,
            "visibility": null,
            "width": null
          }
        },
        "7bb5553c40354349b896f619dcae91d1": {
          "model_module": "@jupyter-widgets/controls",
          "model_name": "DescriptionStyleModel",
          "model_module_version": "1.5.0",
          "state": {
            "_model_module": "@jupyter-widgets/controls",
            "_model_module_version": "1.5.0",
            "_model_name": "DescriptionStyleModel",
            "_view_count": null,
            "_view_module": "@jupyter-widgets/base",
            "_view_module_version": "1.2.0",
            "_view_name": "StyleView",
            "description_width": ""
          }
        }
      }
    }
  },
  "cells": [
    {
      "cell_type": "markdown",
      "source": [
        "##Meta Learning using prototypical networks"
      ],
      "metadata": {
        "id": "J3ZwDYlKx07x"
      }
    },
    {
      "cell_type": "code",
      "execution_count": 3,
      "metadata": {
        "execution": {
          "iopub.execute_input": "2021-10-10T16:36:26.546320Z",
          "iopub.status.busy": "2021-10-10T16:36:26.545801Z",
          "iopub.status.idle": "2021-10-10T16:36:26.547964Z",
          "shell.execute_reply": "2021-10-10T16:36:26.548348Z"
        },
        "id": "2350fea0",
        "lines_to_next_cell": 0,
        "papermill": {
          "duration": 0.039795,
          "end_time": "2021-10-10T16:36:26.548525",
          "exception": false,
          "start_time": "2021-10-10T16:36:26.508730",
          "status": "completed"
        },
        "tags": []
      },
      "outputs": [],
      "source": [
        "! pip install --quiet \"torch==1.12.1\" \"matplotlib\" \"torchmetrics>=0.3\" \"seaborn\" \"torchvision\" \"pytorch-lightning>=1.3\""
      ]
    },
    {
      "cell_type": "code",
      "execution_count": 4,
      "metadata": {
        "execution": {
          "iopub.execute_input": "2021-10-10T16:36:26.695087Z",
          "iopub.status.busy": "2021-10-10T16:36:26.694610Z",
          "iopub.status.idle": "2021-10-10T16:36:28.445235Z",
          "shell.execute_reply": "2021-10-10T16:36:28.444817Z"
        },
        "papermill": {
          "duration": 1.794133,
          "end_time": "2021-10-10T16:36:28.445346",
          "exception": false,
          "start_time": "2021-10-10T16:36:26.651213",
          "status": "completed"
        },
        "tags": [],
        "id": "a414f0fb",
        "outputId": "2a3068cc-6ac9-46ca-dfa5-de0d793073ad",
        "colab": {
          "base_uri": "https://localhost:8080/",
          "height": 69
        }
      },
      "outputs": [
        {
          "output_type": "stream",
          "name": "stderr",
          "text": [
            "INFO:lightning_lite.utilities.seed:Global seed set to 42\n"
          ]
        },
        {
          "output_type": "stream",
          "name": "stdout",
          "text": [
            "Device: cpu\n"
          ]
        },
        {
          "output_type": "display_data",
          "data": {
            "text/plain": [
              "<Figure size 432x288 with 0 Axes>"
            ]
          },
          "metadata": {}
        }
      ],
      "source": [
        "import json\n",
        "import os\n",
        "import random\n",
        "import urllib.request\n",
        "from collections import defaultdict\n",
        "from copy import deepcopy\n",
        "from statistics import mean, stdev\n",
        "from urllib.error import HTTPError\n",
        "\n",
        "import matplotlib\n",
        "import matplotlib.pyplot as plt\n",
        "import numpy as np\n",
        "import pytorch_lightning as pl\n",
        "import seaborn as sns\n",
        "import torch\n",
        "import torch.nn.functional as F\n",
        "import torch.optim as optim\n",
        "import torch.utils.data as data\n",
        "import torchvision\n",
        "from IPython.display import set_matplotlib_formats\n",
        "from PIL import Image\n",
        "from pytorch_lightning.callbacks import LearningRateMonitor, ModelCheckpoint\n",
        "from torchvision import transforms\n",
        "from torchvision.datasets import CIFAR100, SVHN\n",
        "from tqdm.auto import tqdm\n",
        "\n",
        "plt.set_cmap(\"cividis\")\n",
        "# %matplotlib inline\n",
        "set_matplotlib_formats(\"svg\", \"pdf\")  # For export\n",
        "matplotlib.rcParams[\"lines.linewidth\"] = 2.0\n",
        "sns.reset_orig()\n",
        "\n",
        "# Import tensorboard\n",
        "# %load_ext tensorboard\n",
        "\n",
        "# Path to the folder where the datasets are/should be downloaded (e.g. CIFAR10)\n",
        "DATASET_PATH = os.environ.get(\"PATH_DATASETS\", \"data/\")\n",
        "# Path to the folder where the pretrained models are saved\n",
        "CHECKPOINT_PATH = os.environ.get(\"PATH_CHECKPOINT\", \"saved_models/MetaLearning/\")\n",
        "\n",
        "# Setting the seed\n",
        "pl.seed_everything(42)\n",
        "\n",
        "# Ensure that all operations are deterministic on GPU (if used) for reproducibility\n",
        "torch.backends.cudnn.determinstic = True\n",
        "torch.backends.cudnn.benchmark = False\n",
        "\n",
        "device = torch.device(\"cuda:0\") if torch.cuda.is_available() else torch.device(\"cpu\")\n",
        "print(\"Device:\", device)"
      ]
    },
    {
      "cell_type": "markdown",
      "metadata": {
        "papermill": {
          "duration": 0.034776,
          "end_time": "2021-10-10T16:36:28.518803",
          "exception": false,
          "start_time": "2021-10-10T16:36:28.484027",
          "status": "completed"
        },
        "tags": [],
        "id": "ce51286e"
      },
      "source": [
        "Training the models in this notebook can take between 2 and 8 hours, and the evaluation time of some algorithms is in the span of couples of minutes.\n",
        "Hence, we download pre-trained models and results below."
      ]
    },
    {
      "cell_type": "code",
      "execution_count": 5,
      "metadata": {
        "execution": {
          "iopub.execute_input": "2021-10-10T16:36:28.594883Z",
          "iopub.status.busy": "2021-10-10T16:36:28.594389Z",
          "iopub.status.idle": "2021-10-10T16:36:29.453405Z",
          "shell.execute_reply": "2021-10-10T16:36:29.452919Z"
        },
        "papermill": {
          "duration": 0.899529,
          "end_time": "2021-10-10T16:36:29.453517",
          "exception": false,
          "start_time": "2021-10-10T16:36:28.553988",
          "status": "completed"
        },
        "tags": [],
        "id": "fddcdeaa",
        "colab": {
          "base_uri": "https://localhost:8080/"
        },
        "outputId": "0a764a10-c5fa-4e22-ba31-f8f1234847f8"
      },
      "outputs": [
        {
          "output_type": "stream",
          "name": "stdout",
          "text": [
            "Downloading https://raw.githubusercontent.com/phlippe/saved_models/main/tutorial16/ProtoNet.ckpt...\n",
            "Downloading https://raw.githubusercontent.com/phlippe/saved_models/main/tutorial16/ProtoMAML.ckpt...\n",
            "Downloading https://raw.githubusercontent.com/phlippe/saved_models/main/tutorial16/tensorboards/ProtoNet/events.out.tfevents.ProtoNet...\n",
            "Downloading https://raw.githubusercontent.com/phlippe/saved_models/main/tutorial16/tensorboards/ProtoMAML/events.out.tfevents.ProtoMAML...\n",
            "Downloading https://raw.githubusercontent.com/phlippe/saved_models/main/tutorial16/protomaml_fewshot.json...\n",
            "Downloading https://raw.githubusercontent.com/phlippe/saved_models/main/tutorial16/protomaml_svhn_fewshot.json...\n"
          ]
        }
      ],
      "source": [
        "# Github URL where saved models are stored for this tutorial\n",
        "base_url = \"https://raw.githubusercontent.com/phlippe/saved_models/main/tutorial16/\"\n",
        "\n",
        "# Files to download\n",
        "pretrained_files = [\n",
        "    \"ProtoNet.ckpt\",\n",
        "    \"ProtoMAML.ckpt\",\n",
        "    \"tensorboards/ProtoNet/events.out.tfevents.ProtoNet\",\n",
        "    \"tensorboards/ProtoMAML/events.out.tfevents.ProtoMAML\",\n",
        "    \"protomaml_fewshot.json\",\n",
        "    \"protomaml_svhn_fewshot.json\",\n",
        "]\n",
        "# Create checkpoint path if it doesn't exist yet\n",
        "os.makedirs(CHECKPOINT_PATH, exist_ok=True)\n",
        "\n",
        "# For each file, check whether it already exists. If not, try downloading it.\n",
        "for file_name in pretrained_files:\n",
        "    file_path = os.path.join(CHECKPOINT_PATH, file_name)\n",
        "    if \"/\" in file_name:\n",
        "        os.makedirs(file_path.rsplit(\"/\", 1)[0], exist_ok=True)\n",
        "    if not os.path.isfile(file_path):\n",
        "        file_url = base_url + file_name\n",
        "        print(\"Downloading %s...\" % file_url)\n",
        "        try:\n",
        "            urllib.request.urlretrieve(file_url, file_path)\n",
        "        except HTTPError as e:\n",
        "            print(\n",
        "                \"Something went wrong. Please try to download the file from the GDrive folder, or contact the author with the full output including the following error:\\n\",\n",
        "                e,\n",
        "            )"
      ]
    },
    {
      "cell_type": "markdown",
      "metadata": {
        "papermill": {
          "duration": 0.038624,
          "end_time": "2021-10-10T16:36:29.528397",
          "exception": false,
          "start_time": "2021-10-10T16:36:29.489773",
          "status": "completed"
        },
        "tags": [],
        "id": "96d108b7"
      },
      "source": [
        "## Few-shot classification\n",
        "\n",
        "We start our implementation by discussing the dataset setup.\n",
        "In this notebook, we will use CIFAR100 which we have already seen in Tutorial 6.\n",
        "CIFAR100 has 100 classes each with 600 images of size $32\\times 32$ pixels.\n",
        "Instead of splitting the training, validation and test set over examples, we will split them over classes: we will use 80 classes for training, and 10 for validation and 10 for testing.\n",
        "Our overall goal is to obtain a model that can distinguish between the 10 test classes with seeing very little examples.\n",
        "First, let's load the dataset and visualize some examples."
      ]
    },
    {
      "cell_type": "code",
      "execution_count": 6,
      "metadata": {
        "execution": {
          "iopub.execute_input": "2021-10-10T16:36:29.603641Z",
          "iopub.status.busy": "2021-10-10T16:36:29.603170Z",
          "iopub.status.idle": "2021-10-10T16:36:34.357455Z",
          "shell.execute_reply": "2021-10-10T16:36:34.357029Z"
        },
        "papermill": {
          "duration": 4.793304,
          "end_time": "2021-10-10T16:36:34.357578",
          "exception": false,
          "start_time": "2021-10-10T16:36:29.564274",
          "status": "completed"
        },
        "tags": [],
        "id": "2a4a4c43",
        "outputId": "645abf57-fcd1-4f90-b8a3-46a3634e793d",
        "colab": {
          "base_uri": "https://localhost:8080/",
          "height": 101,
          "referenced_widgets": [
            "d1c5c57ae2824461866478891dbd5ed0",
            "028a8a2da53b4c9a93bf8df393c047af",
            "3dec4e4fbf32421caae1dce4324af47b",
            "06daf80a5600406b9775fa8a3b20b028",
            "f3d8674a658c48f1a837f3cc7116bf49",
            "8ff02c15fdf642be80fa11422aeeefcd",
            "b1f38b85b0314f889c2dc1e18b913deb",
            "2e48fb8a652b4ba9832000e09605cb8a",
            "c923870cfc1f4ac287cb09737d911aa9",
            "781c33ad77ee47b3a076a7acc53f2f92",
            "04f265e5922a4ad0aea12cbe75d126b0"
          ]
        }
      },
      "outputs": [
        {
          "output_type": "stream",
          "name": "stdout",
          "text": [
            "Downloading https://www.cs.toronto.edu/~kriz/cifar-100-python.tar.gz to data/cifar-100-python.tar.gz\n"
          ]
        },
        {
          "output_type": "display_data",
          "data": {
            "text/plain": [
              "  0%|          | 0/169001437 [00:00<?, ?it/s]"
            ],
            "application/vnd.jupyter.widget-view+json": {
              "version_major": 2,
              "version_minor": 0,
              "model_id": "d1c5c57ae2824461866478891dbd5ed0"
            }
          },
          "metadata": {}
        },
        {
          "output_type": "stream",
          "name": "stdout",
          "text": [
            "Extracting data/cifar-100-python.tar.gz to data/\n",
            "Files already downloaded and verified\n"
          ]
        }
      ],
      "source": [
        "# Loading CIFAR100 dataset\n",
        "cifar_train_set = CIFAR100(root=DATASET_PATH, train=True, download=True, transform=transforms.ToTensor())\n",
        "cifar_test_set = CIFAR100(root=DATASET_PATH, train=False, download=True, transform=transforms.ToTensor())"
      ]
    },
    {
      "cell_type": "code",
      "execution_count": 7,
      "metadata": {
        "execution": {
          "iopub.execute_input": "2021-10-10T16:36:34.438125Z",
          "iopub.status.busy": "2021-10-10T16:36:34.437648Z",
          "iopub.status.idle": "2021-10-10T16:36:34.627198Z",
          "shell.execute_reply": "2021-10-10T16:36:34.627588Z"
        },
        "papermill": {
          "duration": 0.231715,
          "end_time": "2021-10-10T16:36:34.627730",
          "exception": false,
          "start_time": "2021-10-10T16:36:34.396015",
          "status": "completed"
        },
        "tags": [],
        "id": "89dcf2d2",
        "outputId": "5b16c1bd-caea-415f-fb82-bad27a88db9e",
        "colab": {
          "base_uri": "https://localhost:8080/",
          "height": 263
        }
      },
      "outputs": [
        {
          "output_type": "display_data",
          "data": {
            "text/plain": [
              "<Figure size 576x576 with 1 Axes>"
            ],
            "image/svg+xml": "<?xml version=\"1.0\" encoding=\"utf-8\" standalone=\"no\"?>\n<!DOCTYPE svg PUBLIC \"-//W3C//DTD SVG 1.1//EN\"\n  \"http://www.w3.org/Graphics/SVG/1.1/DTD/svg11.dtd\">\n<!-- Created with matplotlib (https://matplotlib.org/) -->\n<svg height=\"181.207445pt\" version=\"1.1\" viewBox=\"0 0 460.8 181.207445\" width=\"460.8pt\" xmlns=\"http://www.w3.org/2000/svg\" xmlns:xlink=\"http://www.w3.org/1999/xlink\">\n <defs>\n  <style type=\"text/css\">\n*{stroke-linecap:butt;stroke-linejoin:round;}\n  </style>\n </defs>\n <g id=\"figure_1\">\n  <g id=\"patch_1\">\n   <path d=\"M 0 181.207445 \nL 460.8 181.207445 \nL 460.8 0 \nL 0 0 \nz\n\" style=\"fill:none;\"/>\n  </g>\n  <g id=\"axes_1\">\n   <g clip-path=\"url(#p85d9f0b639)\">\n    <image height=\"152\" id=\"imagea3b310df05\" transform=\"scale(1 -1)translate(0 -152)\" width=\"447\" x=\"7.2\" xlink:href=\"data:image/png;base64,\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\" y=\"-22.007445\"/>\n   </g>\n   <g id=\"text_1\">\n    <!-- Image examples of the CIFAR100 dataset -->\n    <defs>\n     <path d=\"M 9.8125 72.90625 \nL 19.671875 72.90625 \nL 19.671875 0 \nL 9.8125 0 \nz\n\" id=\"DejaVuSans-73\"/>\n     <path d=\"M 52 44.1875 \nQ 55.375 50.25 60.0625 53.125 \nQ 64.75 56 71.09375 56 \nQ 79.640625 56 84.28125 50.015625 \nQ 88.921875 44.046875 88.921875 33.015625 \nL 88.921875 0 \nL 79.890625 0 \nL 79.890625 32.71875 \nQ 79.890625 40.578125 77.09375 44.375 \nQ 74.3125 48.1875 68.609375 48.1875 \nQ 61.625 48.1875 57.5625 43.546875 \nQ 53.515625 38.921875 53.515625 30.90625 \nL 53.515625 0 \nL 44.484375 0 \nL 44.484375 32.71875 \nQ 44.484375 40.625 41.703125 44.40625 \nQ 38.921875 48.1875 33.109375 48.1875 \nQ 26.21875 48.1875 22.15625 43.53125 \nQ 18.109375 38.875 18.109375 30.90625 \nL 18.109375 0 \nL 9.078125 0 \nL 9.078125 54.6875 \nL 18.109375 54.6875 \nL 18.109375 46.1875 \nQ 21.1875 51.21875 25.484375 53.609375 \nQ 29.78125 56 35.6875 56 \nQ 41.65625 56 45.828125 52.96875 \nQ 50 49.953125 52 44.1875 \nz\n\" id=\"DejaVuSans-109\"/>\n     <path d=\"M 34.28125 27.484375 \nQ 23.390625 27.484375 19.1875 25 \nQ 14.984375 22.515625 14.984375 16.5 \nQ 14.984375 11.71875 18.140625 8.90625 \nQ 21.296875 6.109375 26.703125 6.109375 \nQ 34.1875 6.109375 38.703125 11.40625 \nQ 43.21875 16.703125 43.21875 25.484375 \nL 43.21875 27.484375 \nz\nM 52.203125 31.203125 \nL 52.203125 0 \nL 43.21875 0 \nL 43.21875 8.296875 \nQ 40.140625 3.328125 35.546875 0.953125 \nQ 30.953125 -1.421875 24.3125 -1.421875 \nQ 15.921875 -1.421875 10.953125 3.296875 \nQ 6 8.015625 6 15.921875 \nQ 6 25.140625 12.171875 29.828125 \nQ 18.359375 34.515625 30.609375 34.515625 \nL 43.21875 34.515625 \nL 43.21875 35.40625 \nQ 43.21875 41.609375 39.140625 45 \nQ 35.0625 48.390625 27.6875 48.390625 \nQ 23 48.390625 18.546875 47.265625 \nQ 14.109375 46.140625 10.015625 43.890625 \nL 10.015625 52.203125 \nQ 14.9375 54.109375 19.578125 55.046875 \nQ 24.21875 56 28.609375 56 \nQ 40.484375 56 46.34375 49.84375 \nQ 52.203125 43.703125 52.203125 31.203125 \nz\n\" id=\"DejaVuSans-97\"/>\n     <path d=\"M 45.40625 27.984375 \nQ 45.40625 37.75 41.375 43.109375 \nQ 37.359375 48.484375 30.078125 48.484375 \nQ 22.859375 48.484375 18.828125 43.109375 \nQ 14.796875 37.75 14.796875 27.984375 \nQ 14.796875 18.265625 18.828125 12.890625 \nQ 22.859375 7.515625 30.078125 7.515625 \nQ 37.359375 7.515625 41.375 12.890625 \nQ 45.40625 18.265625 45.40625 27.984375 \nz\nM 54.390625 6.78125 \nQ 54.390625 -7.171875 48.1875 -13.984375 \nQ 42 -20.796875 29.203125 -20.796875 \nQ 24.46875 -20.796875 20.265625 -20.09375 \nQ 16.0625 -19.390625 12.109375 -17.921875 \nL 12.109375 -9.1875 \nQ 16.0625 -11.328125 19.921875 -12.34375 \nQ 23.78125 -13.375 27.78125 -13.375 \nQ 36.625 -13.375 41.015625 -8.765625 \nQ 45.40625 -4.15625 45.40625 5.171875 \nL 45.40625 9.625 \nQ 42.625 4.78125 38.28125 2.390625 \nQ 33.9375 0 27.875 0 \nQ 17.828125 0 11.671875 7.65625 \nQ 5.515625 15.328125 5.515625 27.984375 \nQ 5.515625 40.671875 11.671875 48.328125 \nQ 17.828125 56 27.875 56 \nQ 33.9375 56 38.28125 53.609375 \nQ 42.625 51.21875 45.40625 46.390625 \nL 45.40625 54.6875 \nL 54.390625 54.6875 \nz\n\" id=\"DejaVuSans-103\"/>\n     <path d=\"M 56.203125 29.59375 \nL 56.203125 25.203125 \nL 14.890625 25.203125 \nQ 15.484375 15.921875 20.484375 11.0625 \nQ 25.484375 6.203125 34.421875 6.203125 \nQ 39.59375 6.203125 44.453125 7.46875 \nQ 49.3125 8.734375 54.109375 11.28125 \nL 54.109375 2.78125 \nQ 49.265625 0.734375 44.1875 -0.34375 \nQ 39.109375 -1.421875 33.890625 -1.421875 \nQ 20.796875 -1.421875 13.15625 6.1875 \nQ 5.515625 13.8125 5.515625 26.8125 \nQ 5.515625 40.234375 12.765625 48.109375 \nQ 20.015625 56 32.328125 56 \nQ 43.359375 56 49.78125 48.890625 \nQ 56.203125 41.796875 56.203125 29.59375 \nz\nM 47.21875 32.234375 \nQ 47.125 39.59375 43.09375 43.984375 \nQ 39.0625 48.390625 32.421875 48.390625 \nQ 24.90625 48.390625 20.390625 44.140625 \nQ 15.875 39.890625 15.1875 32.171875 \nz\n\" id=\"DejaVuSans-101\"/>\n     <path id=\"DejaVuSans-32\"/>\n     <path d=\"M 54.890625 54.6875 \nL 35.109375 28.078125 \nL 55.90625 0 \nL 45.3125 0 \nL 29.390625 21.484375 \nL 13.484375 0 \nL 2.875 0 \nL 24.125 28.609375 \nL 4.6875 54.6875 \nL 15.28125 54.6875 \nL 29.78125 35.203125 \nL 44.28125 54.6875 \nz\n\" id=\"DejaVuSans-120\"/>\n     <path d=\"M 18.109375 8.203125 \nL 18.109375 -20.796875 \nL 9.078125 -20.796875 \nL 9.078125 54.6875 \nL 18.109375 54.6875 \nL 18.109375 46.390625 \nQ 20.953125 51.265625 25.265625 53.625 \nQ 29.59375 56 35.59375 56 \nQ 45.5625 56 51.78125 48.09375 \nQ 58.015625 40.1875 58.015625 27.296875 \nQ 58.015625 14.40625 51.78125 6.484375 \nQ 45.5625 -1.421875 35.59375 -1.421875 \nQ 29.59375 -1.421875 25.265625 0.953125 \nQ 20.953125 3.328125 18.109375 8.203125 \nz\nM 48.6875 27.296875 \nQ 48.6875 37.203125 44.609375 42.84375 \nQ 40.53125 48.484375 33.40625 48.484375 \nQ 26.265625 48.484375 22.1875 42.84375 \nQ 18.109375 37.203125 18.109375 27.296875 \nQ 18.109375 17.390625 22.1875 11.75 \nQ 26.265625 6.109375 33.40625 6.109375 \nQ 40.53125 6.109375 44.609375 11.75 \nQ 48.6875 17.390625 48.6875 27.296875 \nz\n\" id=\"DejaVuSans-112\"/>\n     <path d=\"M 9.421875 75.984375 \nL 18.40625 75.984375 \nL 18.40625 0 \nL 9.421875 0 \nz\n\" id=\"DejaVuSans-108\"/>\n     <path d=\"M 44.28125 53.078125 \nL 44.28125 44.578125 \nQ 40.484375 46.53125 36.375 47.5 \nQ 32.28125 48.484375 27.875 48.484375 \nQ 21.1875 48.484375 17.84375 46.4375 \nQ 14.5 44.390625 14.5 40.28125 \nQ 14.5 37.15625 16.890625 35.375 \nQ 19.28125 33.59375 26.515625 31.984375 \nL 29.59375 31.296875 \nQ 39.15625 29.25 43.1875 25.515625 \nQ 47.21875 21.78125 47.21875 15.09375 \nQ 47.21875 7.46875 41.1875 3.015625 \nQ 35.15625 -1.421875 24.609375 -1.421875 \nQ 20.21875 -1.421875 15.453125 -0.5625 \nQ 10.6875 0.296875 5.421875 2 \nL 5.421875 11.28125 \nQ 10.40625 8.6875 15.234375 7.390625 \nQ 20.0625 6.109375 24.8125 6.109375 \nQ 31.15625 6.109375 34.5625 8.28125 \nQ 37.984375 10.453125 37.984375 14.40625 \nQ 37.984375 18.0625 35.515625 20.015625 \nQ 33.0625 21.96875 24.703125 23.78125 \nL 21.578125 24.515625 \nQ 13.234375 26.265625 9.515625 29.90625 \nQ 5.8125 33.546875 5.8125 39.890625 \nQ 5.8125 47.609375 11.28125 51.796875 \nQ 16.75 56 26.8125 56 \nQ 31.78125 56 36.171875 55.265625 \nQ 40.578125 54.546875 44.28125 53.078125 \nz\n\" id=\"DejaVuSans-115\"/>\n     <path d=\"M 30.609375 48.390625 \nQ 23.390625 48.390625 19.1875 42.75 \nQ 14.984375 37.109375 14.984375 27.296875 \nQ 14.984375 17.484375 19.15625 11.84375 \nQ 23.34375 6.203125 30.609375 6.203125 \nQ 37.796875 6.203125 41.984375 11.859375 \nQ 46.1875 17.53125 46.1875 27.296875 \nQ 46.1875 37.015625 41.984375 42.703125 \nQ 37.796875 48.390625 30.609375 48.390625 \nz\nM 30.609375 56 \nQ 42.328125 56 49.015625 48.375 \nQ 55.71875 40.765625 55.71875 27.296875 \nQ 55.71875 13.875 49.015625 6.21875 \nQ 42.328125 -1.421875 30.609375 -1.421875 \nQ 18.84375 -1.421875 12.171875 6.21875 \nQ 5.515625 13.875 5.515625 27.296875 \nQ 5.515625 40.765625 12.171875 48.375 \nQ 18.84375 56 30.609375 56 \nz\n\" id=\"DejaVuSans-111\"/>\n     <path d=\"M 37.109375 75.984375 \nL 37.109375 68.5 \nL 28.515625 68.5 \nQ 23.6875 68.5 21.796875 66.546875 \nQ 19.921875 64.59375 19.921875 59.515625 \nL 19.921875 54.6875 \nL 34.71875 54.6875 \nL 34.71875 47.703125 \nL 19.921875 47.703125 \nL 19.921875 0 \nL 10.890625 0 \nL 10.890625 47.703125 \nL 2.296875 47.703125 \nL 2.296875 54.6875 \nL 10.890625 54.6875 \nL 10.890625 58.5 \nQ 10.890625 67.625 15.140625 71.796875 \nQ 19.390625 75.984375 28.609375 75.984375 \nz\n\" id=\"DejaVuSans-102\"/>\n     <path d=\"M 18.3125 70.21875 \nL 18.3125 54.6875 \nL 36.8125 54.6875 \nL 36.8125 47.703125 \nL 18.3125 47.703125 \nL 18.3125 18.015625 \nQ 18.3125 11.328125 20.140625 9.421875 \nQ 21.96875 7.515625 27.59375 7.515625 \nL 36.8125 7.515625 \nL 36.8125 0 \nL 27.59375 0 \nQ 17.1875 0 13.234375 3.875 \nQ 9.28125 7.765625 9.28125 18.015625 \nL 9.28125 47.703125 \nL 2.6875 47.703125 \nL 2.6875 54.6875 \nL 9.28125 54.6875 \nL 9.28125 70.21875 \nz\n\" id=\"DejaVuSans-116\"/>\n     <path d=\"M 54.890625 33.015625 \nL 54.890625 0 \nL 45.90625 0 \nL 45.90625 32.71875 \nQ 45.90625 40.484375 42.875 44.328125 \nQ 39.84375 48.1875 33.796875 48.1875 \nQ 26.515625 48.1875 22.3125 43.546875 \nQ 18.109375 38.921875 18.109375 30.90625 \nL 18.109375 0 \nL 9.078125 0 \nL 9.078125 75.984375 \nL 18.109375 75.984375 \nL 18.109375 46.1875 \nQ 21.34375 51.125 25.703125 53.5625 \nQ 30.078125 56 35.796875 56 \nQ 45.21875 56 50.046875 50.171875 \nQ 54.890625 44.34375 54.890625 33.015625 \nz\n\" id=\"DejaVuSans-104\"/>\n     <path d=\"M 64.40625 67.28125 \nL 64.40625 56.890625 \nQ 59.421875 61.53125 53.78125 63.8125 \nQ 48.140625 66.109375 41.796875 66.109375 \nQ 29.296875 66.109375 22.65625 58.46875 \nQ 16.015625 50.828125 16.015625 36.375 \nQ 16.015625 21.96875 22.65625 14.328125 \nQ 29.296875 6.6875 41.796875 6.6875 \nQ 48.140625 6.6875 53.78125 8.984375 \nQ 59.421875 11.28125 64.40625 15.921875 \nL 64.40625 5.609375 \nQ 59.234375 2.09375 53.4375 0.328125 \nQ 47.65625 -1.421875 41.21875 -1.421875 \nQ 24.65625 -1.421875 15.125 8.703125 \nQ 5.609375 18.84375 5.609375 36.375 \nQ 5.609375 53.953125 15.125 64.078125 \nQ 24.65625 74.21875 41.21875 74.21875 \nQ 47.75 74.21875 53.53125 72.484375 \nQ 59.328125 70.75 64.40625 67.28125 \nz\n\" id=\"DejaVuSans-67\"/>\n     <path d=\"M 9.8125 72.90625 \nL 51.703125 72.90625 \nL 51.703125 64.59375 \nL 19.671875 64.59375 \nL 19.671875 43.109375 \nL 48.578125 43.109375 \nL 48.578125 34.8125 \nL 19.671875 34.8125 \nL 19.671875 0 \nL 9.8125 0 \nz\n\" id=\"DejaVuSans-70\"/>\n     <path d=\"M 34.1875 63.1875 \nL 20.796875 26.90625 \nL 47.609375 26.90625 \nz\nM 28.609375 72.90625 \nL 39.796875 72.90625 \nL 67.578125 0 \nL 57.328125 0 \nL 50.6875 18.703125 \nL 17.828125 18.703125 \nL 11.1875 0 \nL 0.78125 0 \nz\n\" id=\"DejaVuSans-65\"/>\n     <path d=\"M 44.390625 34.1875 \nQ 47.5625 33.109375 50.5625 29.59375 \nQ 53.5625 26.078125 56.59375 19.921875 \nL 66.609375 0 \nL 56 0 \nL 46.6875 18.703125 \nQ 43.0625 26.03125 39.671875 28.421875 \nQ 36.28125 30.8125 30.421875 30.8125 \nL 19.671875 30.8125 \nL 19.671875 0 \nL 9.8125 0 \nL 9.8125 72.90625 \nL 32.078125 72.90625 \nQ 44.578125 72.90625 50.734375 67.671875 \nQ 56.890625 62.453125 56.890625 51.90625 \nQ 56.890625 45.015625 53.6875 40.46875 \nQ 50.484375 35.9375 44.390625 34.1875 \nz\nM 19.671875 64.796875 \nL 19.671875 38.921875 \nL 32.078125 38.921875 \nQ 39.203125 38.921875 42.84375 42.21875 \nQ 46.484375 45.515625 46.484375 51.90625 \nQ 46.484375 58.296875 42.84375 61.546875 \nQ 39.203125 64.796875 32.078125 64.796875 \nz\n\" id=\"DejaVuSans-82\"/>\n     <path d=\"M 12.40625 8.296875 \nL 28.515625 8.296875 \nL 28.515625 63.921875 \nL 10.984375 60.40625 \nL 10.984375 69.390625 \nL 28.421875 72.90625 \nL 38.28125 72.90625 \nL 38.28125 8.296875 \nL 54.390625 8.296875 \nL 54.390625 0 \nL 12.40625 0 \nz\n\" id=\"DejaVuSans-49\"/>\n     <path d=\"M 31.78125 66.40625 \nQ 24.171875 66.40625 20.328125 58.90625 \nQ 16.5 51.421875 16.5 36.375 \nQ 16.5 21.390625 20.328125 13.890625 \nQ 24.171875 6.390625 31.78125 6.390625 \nQ 39.453125 6.390625 43.28125 13.890625 \nQ 47.125 21.390625 47.125 36.375 \nQ 47.125 51.421875 43.28125 58.90625 \nQ 39.453125 66.40625 31.78125 66.40625 \nz\nM 31.78125 74.21875 \nQ 44.046875 74.21875 50.515625 64.515625 \nQ 56.984375 54.828125 56.984375 36.375 \nQ 56.984375 17.96875 50.515625 8.265625 \nQ 44.046875 -1.421875 31.78125 -1.421875 \nQ 19.53125 -1.421875 13.0625 8.265625 \nQ 6.59375 17.96875 6.59375 36.375 \nQ 6.59375 54.828125 13.0625 64.515625 \nQ 19.53125 74.21875 31.78125 74.21875 \nz\n\" id=\"DejaVuSans-48\"/>\n     <path d=\"M 45.40625 46.390625 \nL 45.40625 75.984375 \nL 54.390625 75.984375 \nL 54.390625 0 \nL 45.40625 0 \nL 45.40625 8.203125 \nQ 42.578125 3.328125 38.25 0.953125 \nQ 33.9375 -1.421875 27.875 -1.421875 \nQ 17.96875 -1.421875 11.734375 6.484375 \nQ 5.515625 14.40625 5.515625 27.296875 \nQ 5.515625 40.1875 11.734375 48.09375 \nQ 17.96875 56 27.875 56 \nQ 33.9375 56 38.25 53.625 \nQ 42.578125 51.265625 45.40625 46.390625 \nz\nM 14.796875 27.296875 \nQ 14.796875 17.390625 18.875 11.75 \nQ 22.953125 6.109375 30.078125 6.109375 \nQ 37.203125 6.109375 41.296875 11.75 \nQ 45.40625 17.390625 45.40625 27.296875 \nQ 45.40625 37.203125 41.296875 42.84375 \nQ 37.203125 48.484375 30.078125 48.484375 \nQ 22.953125 48.484375 18.875 42.84375 \nQ 14.796875 37.203125 14.796875 27.296875 \nz\n\" id=\"DejaVuSans-100\"/>\n    </defs>\n    <g transform=\"translate(106.216875 16.318125)scale(0.12 -0.12)\">\n     <use xlink:href=\"#DejaVuSans-73\"/>\n     <use x=\"29.492188\" xlink:href=\"#DejaVuSans-109\"/>\n     <use x=\"126.904297\" xlink:href=\"#DejaVuSans-97\"/>\n     <use x=\"188.183594\" xlink:href=\"#DejaVuSans-103\"/>\n     <use x=\"251.660156\" xlink:href=\"#DejaVuSans-101\"/>\n     <use x=\"313.183594\" xlink:href=\"#DejaVuSans-32\"/>\n     <use x=\"344.970703\" xlink:href=\"#DejaVuSans-101\"/>\n     <use x=\"404.744141\" xlink:href=\"#DejaVuSans-120\"/>\n     <use x=\"463.923828\" xlink:href=\"#DejaVuSans-97\"/>\n     <use x=\"525.203125\" xlink:href=\"#DejaVuSans-109\"/>\n     <use x=\"622.615234\" xlink:href=\"#DejaVuSans-112\"/>\n     <use x=\"686.091797\" xlink:href=\"#DejaVuSans-108\"/>\n     <use x=\"713.875\" xlink:href=\"#DejaVuSans-101\"/>\n     <use x=\"775.398438\" xlink:href=\"#DejaVuSans-115\"/>\n     <use x=\"827.498047\" xlink:href=\"#DejaVuSans-32\"/>\n     <use x=\"859.285156\" xlink:href=\"#DejaVuSans-111\"/>\n     <use x=\"920.466797\" xlink:href=\"#DejaVuSans-102\"/>\n     <use x=\"955.671875\" xlink:href=\"#DejaVuSans-32\"/>\n     <use x=\"987.458984\" xlink:href=\"#DejaVuSans-116\"/>\n     <use x=\"1026.667969\" xlink:href=\"#DejaVuSans-104\"/>\n     <use x=\"1090.046875\" xlink:href=\"#DejaVuSans-101\"/>\n     <use x=\"1151.570312\" xlink:href=\"#DejaVuSans-32\"/>\n     <use x=\"1183.357422\" xlink:href=\"#DejaVuSans-67\"/>\n     <use x=\"1253.181641\" xlink:href=\"#DejaVuSans-73\"/>\n     <use x=\"1282.673828\" xlink:href=\"#DejaVuSans-70\"/>\n     <use x=\"1331.068359\" xlink:href=\"#DejaVuSans-65\"/>\n     <use x=\"1399.476562\" xlink:href=\"#DejaVuSans-82\"/>\n     <use x=\"1468.958984\" xlink:href=\"#DejaVuSans-49\"/>\n     <use x=\"1532.582031\" xlink:href=\"#DejaVuSans-48\"/>\n     <use x=\"1596.205078\" xlink:href=\"#DejaVuSans-48\"/>\n     <use x=\"1659.828125\" xlink:href=\"#DejaVuSans-32\"/>\n     <use x=\"1691.615234\" xlink:href=\"#DejaVuSans-100\"/>\n     <use x=\"1755.091797\" xlink:href=\"#DejaVuSans-97\"/>\n     <use x=\"1816.371094\" xlink:href=\"#DejaVuSans-116\"/>\n     <use x=\"1855.580078\" xlink:href=\"#DejaVuSans-97\"/>\n     <use x=\"1916.859375\" xlink:href=\"#DejaVuSans-115\"/>\n     <use x=\"1968.958984\" xlink:href=\"#DejaVuSans-101\"/>\n     <use x=\"2030.482422\" xlink:href=\"#DejaVuSans-116\"/>\n    </g>\n   </g>\n  </g>\n </g>\n <defs>\n  <clipPath id=\"p85d9f0b639\">\n   <rect height=\"151.68932\" width=\"446.4\" x=\"7.2\" y=\"22.318125\"/>\n  </clipPath>\n </defs>\n</svg>\n",
            "application/pdf": "[encoded data removed]"
          },
          "metadata": {
            "needs_background": "light"
          }
        }
      ],
      "source": [
        "# Visualize some examples\n",
        "NUM_IMAGES = 12\n",
        "cifar_images = [cifar_train_set[np.random.randint(len(cifar_train_set))][0] for idx in range(NUM_IMAGES)]\n",
        "cifar_images = torch.stack(cifar_images, dim=0)\n",
        "img_grid = torchvision.utils.make_grid(cifar_images, nrow=6, normalize=True, pad_value=0.9)\n",
        "img_grid = img_grid.permute(1, 2, 0)\n",
        "\n",
        "plt.figure(figsize=(8, 8))\n",
        "plt.title(\"Image examples of the CIFAR100 dataset\")\n",
        "plt.imshow(img_grid)\n",
        "plt.axis(\"off\")\n",
        "plt.show()\n",
        "plt.close()"
      ]
    },
    {
      "cell_type": "markdown",
      "metadata": {
        "papermill": {
          "duration": 0.041466,
          "end_time": "2021-10-10T16:36:34.711913",
          "exception": false,
          "start_time": "2021-10-10T16:36:34.670447",
          "status": "completed"
        },
        "tags": [],
        "id": "6393f96b"
      },
      "source": [
        "### Data preprocessing\n",
        "\n",
        "Next, we need to prepare the dataset in the training, validation and test split as mentioned before.\n",
        "The torchvision package gives us the training and test set as two separate dataset objects.\n",
        "The next code cells will merge the original training and test set, and then create the new train-val-test split."
      ]
    },
    {
      "cell_type": "code",
      "execution_count": 8,
      "metadata": {
        "execution": {
          "iopub.execute_input": "2021-10-10T16:36:34.798013Z",
          "iopub.status.busy": "2021-10-10T16:36:34.797539Z",
          "iopub.status.idle": "2021-10-10T16:36:34.875295Z",
          "shell.execute_reply": "2021-10-10T16:36:34.875698Z"
        },
        "papermill": {
          "duration": 0.122697,
          "end_time": "2021-10-10T16:36:34.875846",
          "exception": false,
          "start_time": "2021-10-10T16:36:34.753149",
          "status": "completed"
        },
        "tags": [],
        "id": "ce60f407"
      },
      "outputs": [],
      "source": [
        "# Merging original training and test set\n",
        "cifar_all_images = np.concatenate([cifar_train_set.data, cifar_test_set.data], axis=0)\n",
        "cifar_all_targets = torch.LongTensor(cifar_train_set.targets + cifar_test_set.targets)"
      ]
    },
    {
      "cell_type": "markdown",
      "metadata": {
        "lines_to_next_cell": 2,
        "papermill": {
          "duration": 0.040873,
          "end_time": "2021-10-10T16:36:34.959229",
          "exception": false,
          "start_time": "2021-10-10T16:36:34.918356",
          "status": "completed"
        },
        "tags": [],
        "id": "3f939d72"
      },
      "source": [
        "To have an easier time handling the dataset, we define our own, simple dataset class below.\n",
        "It takes a set of images, labels/targets, and image transformations, and\n",
        "returns the corresponding images and labels element-wise."
      ]
    },
    {
      "cell_type": "code",
      "execution_count": 9,
      "metadata": {
        "execution": {
          "iopub.execute_input": "2021-10-10T16:36:35.051943Z",
          "iopub.status.busy": "2021-10-10T16:36:35.051455Z",
          "iopub.status.idle": "2021-10-10T16:36:35.053594Z",
          "shell.execute_reply": "2021-10-10T16:36:35.053130Z"
        },
        "papermill": {
          "duration": 0.053299,
          "end_time": "2021-10-10T16:36:35.053692",
          "exception": false,
          "start_time": "2021-10-10T16:36:35.000393",
          "status": "completed"
        },
        "tags": [],
        "id": "83d1fcac"
      },
      "outputs": [],
      "source": [
        "class ImageDataset(data.Dataset):\n",
        "    def __init__(self, imgs, targets, img_transform=None):\n",
        "        \"\"\"\n",
        "        Inputs:\n",
        "            imgs - Numpy array of shape [N,32,32,3] containing all images.\n",
        "            targets - PyTorch array of shape [N] containing all labels.\n",
        "            img_transform - A torchvision transformation that should be applied\n",
        "                            to the images before returning. If none, no transformation\n",
        "                            is applied.\n",
        "        \"\"\"\n",
        "        super().__init__()\n",
        "        self.img_transform = img_transform\n",
        "        self.imgs = imgs\n",
        "        self.targets = targets\n",
        "\n",
        "    def __getitem__(self, idx):\n",
        "        img, target = self.imgs[idx], self.targets[idx]\n",
        "        img = Image.fromarray(img)\n",
        "\n",
        "        if self.img_transform is not None:\n",
        "            img = self.img_transform(img)\n",
        "\n",
        "        return img, target\n",
        "\n",
        "    def __len__(self):\n",
        "        return self.imgs.shape[0]"
      ]
    },
    {
      "cell_type": "markdown",
      "metadata": {
        "papermill": {
          "duration": 0.041697,
          "end_time": "2021-10-10T16:36:35.136827",
          "exception": false,
          "start_time": "2021-10-10T16:36:35.095130",
          "status": "completed"
        },
        "tags": [],
        "id": "8afc6b05"
      },
      "source": [
        "Now, we can create the class splits.\n",
        "We will assign the classes randomly to training, validation and test, and use a 80%-10%-10% split."
      ]
    },
    {
      "cell_type": "code",
      "execution_count": 10,
      "metadata": {
        "execution": {
          "iopub.execute_input": "2021-10-10T16:36:35.223236Z",
          "iopub.status.busy": "2021-10-10T16:36:35.222768Z",
          "iopub.status.idle": "2021-10-10T16:36:35.226508Z",
          "shell.execute_reply": "2021-10-10T16:36:35.226037Z"
        },
        "papermill": {
          "duration": 0.048464,
          "end_time": "2021-10-10T16:36:35.226609",
          "exception": false,
          "start_time": "2021-10-10T16:36:35.178145",
          "status": "completed"
        },
        "tags": [],
        "id": "5ff3abd6",
        "outputId": "f6a10f3c-4c03-457d-9fde-3bc804898e3e",
        "colab": {
          "base_uri": "https://localhost:8080/"
        }
      },
      "outputs": [
        {
          "output_type": "stream",
          "name": "stderr",
          "text": [
            "INFO:lightning_lite.utilities.seed:Global seed set to 0\n"
          ]
        }
      ],
      "source": [
        "pl.seed_everything(0)  # Set seed for reproducibility\n",
        "classes = torch.randperm(100)  # Returns random permutation of numbers 0 to 99\n",
        "train_classes, val_classes, test_classes = classes[:80], classes[80:90], classes[90:]"
      ]
    },
    {
      "cell_type": "markdown",
      "metadata": {
        "papermill": {
          "duration": 0.042958,
          "end_time": "2021-10-10T16:36:35.311335",
          "exception": false,
          "start_time": "2021-10-10T16:36:35.268377",
          "status": "completed"
        },
        "tags": [],
        "id": "32cdc6d7"
      },
      "source": [
        "To get an intuition of the validation and test classes, we print the class names below:"
      ]
    },
    {
      "cell_type": "code",
      "execution_count": 11,
      "metadata": {
        "execution": {
          "iopub.execute_input": "2021-10-10T16:36:35.405497Z",
          "iopub.status.busy": "2021-10-10T16:36:35.405025Z",
          "iopub.status.idle": "2021-10-10T16:36:35.408515Z",
          "shell.execute_reply": "2021-10-10T16:36:35.408107Z"
        },
        "papermill": {
          "duration": 0.052713,
          "end_time": "2021-10-10T16:36:35.408617",
          "exception": false,
          "start_time": "2021-10-10T16:36:35.355904",
          "status": "completed"
        },
        "tags": [],
        "id": "3ba456f9",
        "outputId": "cb7222ef-71db-4161-aeeb-b295ff9ca343",
        "colab": {
          "base_uri": "https://localhost:8080/"
        }
      },
      "outputs": [
        {
          "output_type": "stream",
          "name": "stdout",
          "text": [
            "Validation classes: ['caterpillar', 'castle', 'skunk', 'ray', 'bus', 'motorcycle', 'keyboard', 'chimpanzee', 'possum', 'tiger']\n",
            "Test classes: ['kangaroo', 'crocodile', 'butterfly', 'shark', 'forest', 'pickup_truck', 'telephone', 'lion', 'worm', 'mushroom']\n"
          ]
        }
      ],
      "source": [
        "# Printing validation and test classes\n",
        "idx_to_class = {val: key for key, val in cifar_train_set.class_to_idx.items()}\n",
        "print(\"Validation classes:\", [idx_to_class[c.item()] for c in val_classes])\n",
        "print(\"Test classes:\", [idx_to_class[c.item()] for c in test_classes])"
      ]
    },
    {
      "cell_type": "markdown",
      "metadata": {
        "lines_to_next_cell": 2,
        "papermill": {
          "duration": 0.041936,
          "end_time": "2021-10-10T16:36:35.493337",
          "exception": false,
          "start_time": "2021-10-10T16:36:35.451401",
          "status": "completed"
        },
        "tags": [],
        "id": "ce1f7d09"
      },
      "source": [
        "As we can see, the classes have quite some variety and some classes might be easier to distinguish than others.\n",
        "For instance, in the test classes, 'pickup_truck' is the only vehicle while the classes 'mushroom', 'worm' and 'forest' might be harder to keep apart.\n",
        "Remember that we want to learn the classification of those ten classes from 80 other classes in our training set, and few examples from the actual test classes.\n",
        "We will experiment with the number of examples per class.\n",
        "\n",
        "Finally, we can create the training, validation and test dataset according to our split above.\n",
        "For this, we create dataset objects of our previously defined class `ImageDataset`."
      ]
    },
    {
      "cell_type": "code",
      "execution_count": 12,
      "metadata": {
        "execution": {
          "iopub.execute_input": "2021-10-10T16:36:35.581555Z",
          "iopub.status.busy": "2021-10-10T16:36:35.581087Z",
          "iopub.status.idle": "2021-10-10T16:36:35.583171Z",
          "shell.execute_reply": "2021-10-10T16:36:35.582711Z"
        },
        "papermill": {
          "duration": 0.04763,
          "end_time": "2021-10-10T16:36:35.583269",
          "exception": false,
          "start_time": "2021-10-10T16:36:35.535639",
          "status": "completed"
        },
        "tags": [],
        "id": "32f068d1"
      },
      "outputs": [],
      "source": [
        "def dataset_from_labels(imgs, targets, class_set, **kwargs):\n",
        "    class_mask = (targets[:, None] == class_set[None, :]).any(dim=-1)\n",
        "    return ImageDataset(imgs=imgs[class_mask], targets=targets[class_mask], **kwargs)"
      ]
    },
    {
      "cell_type": "code",
      "execution_count": 13,
      "metadata": {
        "execution": {
          "iopub.execute_input": "2021-10-10T16:36:35.757452Z",
          "iopub.status.busy": "2021-10-10T16:36:35.756975Z",
          "iopub.status.idle": "2021-10-10T16:36:38.059891Z",
          "shell.execute_reply": "2021-10-10T16:36:38.059376Z"
        },
        "papermill": {
          "duration": 2.350192,
          "end_time": "2021-10-10T16:36:38.060028",
          "exception": false,
          "start_time": "2021-10-10T16:36:35.709836",
          "status": "completed"
        },
        "tags": [],
        "id": "25bb398a"
      },
      "outputs": [],
      "source": [
        "DATA_MEANS = (cifar_train_set.data / 255.0).mean(axis=(0, 1, 2))\n",
        "DATA_STD = (cifar_train_set.data / 255.0).std(axis=(0, 1, 2))\n",
        "\n",
        "test_transform = transforms.Compose([transforms.ToTensor(), transforms.Normalize(DATA_MEANS, DATA_STD)])\n",
        "# For training, we add some augmentation.\n",
        "train_transform = transforms.Compose(\n",
        "    [\n",
        "        transforms.RandomHorizontalFlip(),\n",
        "        transforms.RandomResizedCrop((32, 32), scale=(0.8, 1.0), ratio=(0.9, 1.1)),\n",
        "        transforms.ToTensor(),\n",
        "        transforms.Normalize(DATA_MEANS, DATA_STD),\n",
        "    ]\n",
        ")\n",
        "\n",
        "train_set = dataset_from_labels(cifar_all_images, cifar_all_targets, train_classes, img_transform=train_transform)\n",
        "val_set = dataset_from_labels(cifar_all_images, cifar_all_targets, val_classes, img_transform=test_transform)\n",
        "test_set = dataset_from_labels(cifar_all_images, cifar_all_targets, test_classes, img_transform=test_transform)"
      ]
    },
    {
      "cell_type": "markdown",
      "metadata": {
        "lines_to_next_cell": 2,
        "papermill": {
          "duration": 0.042069,
          "end_time": "2021-10-10T16:36:38.145286",
          "exception": false,
          "start_time": "2021-10-10T16:36:38.103217",
          "status": "completed"
        },
        "tags": [],
        "id": "3456a8f9"
      },
      "source": [
        "### Data sampling\n",
        "\n",
        "The strategy of how to use the available training data for learning few-shot adaptation is crucial in meta-learning.\n",
        "All three algorithms that we discuss here have a similar idea: simulate few-shot learning during training.\n",
        "Specifically, at each training step, we randomly select a small number of classes, and sample a small number of examples for each class.\n",
        "This represents our few-shot training batch, which we also refer to as **support set**.\n",
        "Additionally, we sample a second set of examples from the same classes, and refer to this batch as **query set**.\n",
        "Our training objective is to classify the query set correctly from seeing the support set and its corresponding labels.\n",
        "The main difference between our three methods (ProtoNet, MAML, and Proto-MAML) is in how they use the support set to adapt to the training classes.\n"
      ]
    },
    {
      "cell_type": "code",
      "execution_count": 14,
      "metadata": {
        "execution": {
          "iopub.execute_input": "2021-10-10T16:36:38.237449Z",
          "iopub.status.busy": "2021-10-10T16:36:38.236947Z",
          "iopub.status.idle": "2021-10-10T16:36:38.243012Z",
          "shell.execute_reply": "2021-10-10T16:36:38.242609Z"
        },
        "papermill": {
          "duration": 0.055637,
          "end_time": "2021-10-10T16:36:38.243112",
          "exception": false,
          "start_time": "2021-10-10T16:36:38.187475",
          "status": "completed"
        },
        "tags": [],
        "id": "c0bad2d9"
      },
      "outputs": [],
      "source": [
        "class FewShotBatchSampler:\n",
        "    def __init__(self, dataset_targets, N_way, K_shot, include_query=False, shuffle=True, shuffle_once=False):\n",
        "        \"\"\"\n",
        "        Inputs:\n",
        "            dataset_targets - PyTorch tensor of the labels of the data elements.\n",
        "            N_way - Number of classes to sample per batch.\n",
        "            K_shot - Number of examples to sample per class in the batch.\n",
        "            include_query - If True, returns batch of size N_way*K_shot*2, which\n",
        "                            can be split into support and query set. Simplifies\n",
        "                            the implementation of sampling the same classes but\n",
        "                            distinct examples for support and query set.\n",
        "            shuffle - If True, examples and classes are newly shuffled in each\n",
        "                      iteration (for training)\n",
        "            shuffle_once - If True, examples and classes are shuffled once in\n",
        "                           the beginning, but kept constant across iterations\n",
        "                           (for validation)\n",
        "        \"\"\"\n",
        "        super().__init__()\n",
        "        self.dataset_targets = dataset_targets\n",
        "        self.N_way = N_way\n",
        "        self.K_shot = K_shot\n",
        "        self.shuffle = shuffle\n",
        "        self.include_query = include_query\n",
        "        if self.include_query:\n",
        "            self.K_shot *= 2\n",
        "        self.batch_size = self.N_way * self.K_shot  # Number of overall images per batch\n",
        "\n",
        "        # Organize examples by class\n",
        "        self.classes = torch.unique(self.dataset_targets).tolist()\n",
        "        self.num_classes = len(self.classes)\n",
        "        self.indices_per_class = {}\n",
        "        self.batches_per_class = {}  # Number of K-shot batches that each class can provide\n",
        "        for c in self.classes:\n",
        "            self.indices_per_class[c] = torch.where(self.dataset_targets == c)[0]\n",
        "            self.batches_per_class[c] = self.indices_per_class[c].shape[0] // self.K_shot\n",
        "\n",
        "        # Create a list of classes from which we select the N classes per batch\n",
        "        self.iterations = sum(self.batches_per_class.values()) // self.N_way\n",
        "        self.class_list = [c for c in self.classes for _ in range(self.batches_per_class[c])]\n",
        "        if shuffle_once or self.shuffle:\n",
        "            self.shuffle_data()\n",
        "        else:\n",
        "            # For testing, we iterate over classes instead of shuffling them\n",
        "            sort_idxs = [\n",
        "                i + p * self.num_classes for i, c in enumerate(self.classes) for p in range(self.batches_per_class[c])\n",
        "            ]\n",
        "            self.class_list = np.array(self.class_list)[np.argsort(sort_idxs)].tolist()\n",
        "\n",
        "    def shuffle_data(self):\n",
        "        # Shuffle the examples per class\n",
        "        for c in self.classes:\n",
        "            perm = torch.randperm(self.indices_per_class[c].shape[0])\n",
        "            self.indices_per_class[c] = self.indices_per_class[c][perm]\n",
        "        # Shuffle the class list from which we sample. Note that this way of shuffling\n",
        "        # does not prevent to choose the same class twice in a batch. However, for\n",
        "        # training and validation, this is not a problem.\n",
        "        random.shuffle(self.class_list)\n",
        "\n",
        "    def __iter__(self):\n",
        "        # Shuffle data\n",
        "        if self.shuffle:\n",
        "            self.shuffle_data()\n",
        "\n",
        "        # Sample few-shot batches\n",
        "        start_index = defaultdict(int)\n",
        "        for it in range(self.iterations):\n",
        "            class_batch = self.class_list[it * self.N_way : (it + 1) * self.N_way]  # Select N classes for the batch\n",
        "            index_batch = []\n",
        "            for c in class_batch:  # For each class, select the next K examples and add them to the batch\n",
        "                index_batch.extend(self.indices_per_class[c][start_index[c] : start_index[c] + self.K_shot])\n",
        "                start_index[c] += self.K_shot\n",
        "            if self.include_query:  # If we return support+query set, sort them so that they are easy to split\n",
        "                index_batch = index_batch[::2] + index_batch[1::2]\n",
        "            yield index_batch\n",
        "\n",
        "    def __len__(self):\n",
        "        return self.iterations"
      ]
    },
    {
      "cell_type": "markdown",
      "metadata": {
        "papermill": {
          "duration": 0.041981,
          "end_time": "2021-10-10T16:36:38.327241",
          "exception": false,
          "start_time": "2021-10-10T16:36:38.285260",
          "status": "completed"
        },
        "tags": [],
        "id": "966baf43"
      },
      "source": [
        "Now, we can create our intended data loaders by passing an object of `FewShotBatchSampler` as `batch_sampler=...` input to the PyTorch data loader object.\n",
        "For our experiments, we will use a 5-class 4-shot training setting.\n",
        "This means that each support set contains 5 classes with 4 examples each, i.e., 20 images overall.\n",
        "Usually, it is good to keep the number of shots equal to the number that you aim to test on.\n",
        "However, we will experiment later with different number of shots, and hence, we pick 4 as a compromise for now.\n",
        "To get the best performing model, it is recommended to consider the\n",
        "number of training shots as hyperparameter in a grid search."
      ]
    },
    {
      "cell_type": "code",
      "execution_count": 15,
      "metadata": {
        "execution": {
          "iopub.execute_input": "2021-10-10T16:36:38.415592Z",
          "iopub.status.busy": "2021-10-10T16:36:38.415120Z",
          "iopub.status.idle": "2021-10-10T16:36:38.437251Z",
          "shell.execute_reply": "2021-10-10T16:36:38.436842Z"
        },
        "papermill": {
          "duration": 0.068099,
          "end_time": "2021-10-10T16:36:38.437354",
          "exception": false,
          "start_time": "2021-10-10T16:36:38.369255",
          "status": "completed"
        },
        "tags": [],
        "id": "6e5eee4a",
        "colab": {
          "base_uri": "https://localhost:8080/"
        },
        "outputId": "cdac3c31-1bed-430c-a184-ee2f375a3376"
      },
      "outputs": [
        {
          "output_type": "stream",
          "name": "stderr",
          "text": [
            "/usr/local/lib/python3.8/dist-packages/torch/utils/data/dataloader.py:563: UserWarning: This DataLoader will create 4 worker processes in total. Our suggested max number of worker in current system is 2, which is smaller than what this DataLoader is going to create. Please be aware that excessive worker creation might get DataLoader running slow or even freeze, lower the worker number to avoid potential slowness/freeze if necessary.\n",
            "  warnings.warn(_create_warning_msg(\n"
          ]
        }
      ],
      "source": [
        "N_WAY = 5\n",
        "K_SHOT = 4\n",
        "\n",
        "train_data_loader = data.DataLoader(\n",
        "    train_set,\n",
        "    batch_sampler=FewShotBatchSampler(train_set.targets, include_query=True, N_way=N_WAY, K_shot=K_SHOT, shuffle=True),\n",
        "    num_workers=4,\n",
        ")\n",
        "val_data_loader = data.DataLoader(\n",
        "    val_set,\n",
        "    batch_sampler=FewShotBatchSampler(\n",
        "        val_set.targets, include_query=True, N_way=N_WAY, K_shot=K_SHOT, shuffle=False, shuffle_once=True\n",
        "    ),\n",
        "    num_workers=4,\n",
        ")"
      ]
    },
    {
      "cell_type": "markdown",
      "metadata": {
        "lines_to_next_cell": 2,
        "papermill": {
          "duration": 0.042422,
          "end_time": "2021-10-10T16:36:38.521966",
          "exception": false,
          "start_time": "2021-10-10T16:36:38.479544",
          "status": "completed"
        },
        "tags": [],
        "id": "3105a10e"
      },
      "source": [
        "For simplicity, we implemented the sampling of a support and query set as sampling a support set with twice the number of examples.\n",
        "After sampling a batch from the data loader, we need to split it into a support and query set.\n",
        "We can summarize this step in the following function:"
      ]
    },
    {
      "cell_type": "code",
      "execution_count": 16,
      "metadata": {
        "execution": {
          "iopub.execute_input": "2021-10-10T16:36:38.609800Z",
          "iopub.status.busy": "2021-10-10T16:36:38.608312Z",
          "iopub.status.idle": "2021-10-10T16:36:38.611864Z",
          "shell.execute_reply": "2021-10-10T16:36:38.611397Z"
        },
        "papermill": {
          "duration": 0.048021,
          "end_time": "2021-10-10T16:36:38.611980",
          "exception": false,
          "start_time": "2021-10-10T16:36:38.563959",
          "status": "completed"
        },
        "tags": [],
        "id": "928a254e"
      },
      "outputs": [],
      "source": [
        "def split_batch(imgs, targets):\n",
        "    support_imgs, query_imgs = imgs.chunk(2, dim=0)\n",
        "    support_targets, query_targets = targets.chunk(2, dim=0)\n",
        "    return support_imgs, query_imgs, support_targets, query_targets"
      ]
    },
    {
      "cell_type": "markdown",
      "metadata": {
        "papermill": {
          "duration": 0.041927,
          "end_time": "2021-10-10T16:36:38.696240",
          "exception": false,
          "start_time": "2021-10-10T16:36:38.654313",
          "status": "completed"
        },
        "tags": [],
        "id": "ac8356fb"
      },
      "source": [
        "Finally, to ensure that our implementation of the data sampling process is correct, we can sample a batch and visualize its support and query set.\n",
        "What we would like to see is that the support and query set have the same classes, but distinct examples."
      ]
    },
    {
      "cell_type": "code",
      "execution_count": 17,
      "metadata": {
        "execution": {
          "iopub.execute_input": "2021-10-10T16:36:38.786640Z",
          "iopub.status.busy": "2021-10-10T16:36:38.786168Z",
          "iopub.status.idle": "2021-10-10T16:36:39.045016Z",
          "shell.execute_reply": "2021-10-10T16:36:39.044567Z"
        },
        "papermill": {
          "duration": 0.306369,
          "end_time": "2021-10-10T16:36:39.045134",
          "exception": false,
          "start_time": "2021-10-10T16:36:38.738765",
          "status": "completed"
        },
        "tags": [],
        "id": "18340de4"
      },
      "outputs": [],
      "source": [
        "imgs, targets = next(iter(val_data_loader))  # We use the validation set since it does not apply augmentations\n",
        "support_imgs, query_imgs, _, _ = split_batch(imgs, targets)\n",
        "support_grid = torchvision.utils.make_grid(support_imgs, nrow=K_SHOT, normalize=True, pad_value=0.9)\n",
        "support_grid = support_grid.permute(1, 2, 0)\n",
        "query_grid = torchvision.utils.make_grid(query_imgs, nrow=K_SHOT, normalize=True, pad_value=0.9)\n",
        "query_grid = query_grid.permute(1, 2, 0)\n",
        "\n",
        "fig, ax = plt.subplots(1, 2, figsize=(8, 5))\n",
        "ax[0].imshow(support_grid)\n",
        "ax[0].set_title(\"Support set\")\n",
        "ax[0].axis(\"off\")\n",
        "ax[1].imshow(query_grid)\n",
        "ax[1].set_title(\"Query set\")\n",
        "ax[1].axis(\"off\")\n",
        "fig.suptitle(\"Few Shot Batch\", weight=\"bold\")\n",
        "fig.show()\n",
        "plt.close(fig)"
      ]
    },
    {
      "cell_type": "markdown",
      "metadata": {
        "papermill": {
          "duration": 0.042585,
          "end_time": "2021-10-10T16:36:39.130534",
          "exception": false,
          "start_time": "2021-10-10T16:36:39.087949",
          "status": "completed"
        },
        "tags": [],
        "id": "06b51e8e"
      },
      "source": [
        "As we can see, the support and query set have the same five classes, but different examples.\n",
        "The models will be tasked to classify the examples in the query set by learning from the support set and its labels.\n",
        "With the data sampling in place, we can now start to implement our first meta-learning model: Prototypical Networks."
      ]
    },
    {
      "cell_type": "markdown",
      "metadata": {
        "papermill": {
          "duration": 0.042341,
          "end_time": "2021-10-10T16:36:39.214888",
          "exception": false,
          "start_time": "2021-10-10T16:36:39.172547",
          "status": "completed"
        },
        "tags": [],
        "id": "40315428"
      },
      "source": [
        "## Prototypical Networks\n",
        "\n",
        "<div class=\"center-wrapper\"><div class=\"video-wrapper\"><iframe src=\"https://www.youtube.com/embed/LhZGPOtTd_Y\" title=\"YouTube video player\" frameborder=\"0\" allow=\"accelerometer; autoplay; clipboard-write; encrypted-media; gyroscope; picture-in-picture\" allowfullscreen></iframe></div></div>"
      ]
    },
    {
      "cell_type": "markdown",
      "metadata": {
        "papermill": {
          "duration": 0.042438,
          "end_time": "2021-10-10T16:36:39.299755",
          "exception": false,
          "start_time": "2021-10-10T16:36:39.257317",
          "status": "completed"
        },
        "tags": [],
        "id": "e32fdcd0"
      },
      "source": [
        "The Prototypical Network, or ProtoNet for short, is a metric-based meta-learning algorithm which operates similar to a nearest neighbor classification.\n",
        "Metric-based meta-learning methods classify a new example $\\mathbf{x}$ based on some distance function $d_{\\varphi}$ between $x$ and all elements in the support set.\n",
        "ProtoNets implements this idea with the concept of prototypes in a learned feature space.\n",
        "First, ProtoNet uses an embedding function $f_{\\theta}$ to encode each input in the support set into a $L$-dimensional feature vector.\n",
        "Next, for each class $c$, we collect the feature vectors of all examples with label $c$, and average their feature vectors."
      ]
    },
    {
      "cell_type": "markdown",
      "metadata": {
        "papermill": {
          "duration": 0.042184,
          "end_time": "2021-10-10T16:36:39.384014",
          "exception": false,
          "start_time": "2021-10-10T16:36:39.341830",
          "status": "completed"
        },
        "tags": [],
        "id": "d400bfc2"
      },
      "source": [
        "### ProtoNet implementation"
      ]
    },
    {
      "cell_type": "code",
      "execution_count": 18,
      "metadata": {
        "execution": {
          "iopub.execute_input": "2021-10-10T16:36:39.567463Z",
          "iopub.status.busy": "2021-10-10T16:36:39.566989Z",
          "iopub.status.idle": "2021-10-10T16:36:39.569062Z",
          "shell.execute_reply": "2021-10-10T16:36:39.568593Z"
        },
        "lines_to_next_cell": 2,
        "papermill": {
          "duration": 0.056702,
          "end_time": "2021-10-10T16:36:39.569165",
          "exception": false,
          "start_time": "2021-10-10T16:36:39.512463",
          "status": "completed"
        },
        "tags": [],
        "id": "2ba373cc"
      },
      "outputs": [],
      "source": [
        "def get_convnet(output_size):\n",
        "    convnet = torchvision.models.DenseNet(\n",
        "        growth_rate=32,\n",
        "        block_config=(6, 6, 6, 6),\n",
        "        bn_size=2,\n",
        "        num_init_features=64,\n",
        "        num_classes=output_size,  # Output dimensionality\n",
        "    )\n",
        "    return convnet"
      ]
    },
    {
      "cell_type": "markdown",
      "metadata": {
        "lines_to_next_cell": 2,
        "papermill": {
          "duration": 0.042572,
          "end_time": "2021-10-10T16:36:39.654722",
          "exception": false,
          "start_time": "2021-10-10T16:36:39.612150",
          "status": "completed"
        },
        "tags": [],
        "id": "50da6f0b"
      },
      "source": [
        "Next, we can look at implementing ProtoNet.\n",
        "We will define it as PyTorch Lightning module to use all functionalities of PyTorch Lightning.\n",
        "The first step during training is to encode all images in a batch with our network.\n",
        "Next, we calculate the class prototypes from the support set (function `calculate_prototypes`), and classify the query set examples according to the prototypes (function `classify_feats`).\n",
        "Keep in mind that we use the data sampling described before, such that the support and query set are stacked together in the batch.\n",
        "Thus, we use our previously defined function `split_batch` to split them apart.\n",
        "The full code can be found below."
      ]
    },
    {
      "cell_type": "code",
      "execution_count": 19,
      "metadata": {
        "execution": {
          "iopub.execute_input": "2021-10-10T16:36:39.751136Z",
          "iopub.status.busy": "2021-10-10T16:36:39.750647Z",
          "iopub.status.idle": "2021-10-10T16:36:39.752752Z",
          "shell.execute_reply": "2021-10-10T16:36:39.752285Z"
        },
        "lines_to_next_cell": 2,
        "papermill": {
          "duration": 0.055843,
          "end_time": "2021-10-10T16:36:39.752853",
          "exception": false,
          "start_time": "2021-10-10T16:36:39.697010",
          "status": "completed"
        },
        "tags": [],
        "id": "08c3adca"
      },
      "outputs": [],
      "source": [
        "class ProtoNet(pl.LightningModule):\n",
        "    def __init__(self, proto_dim, lr):\n",
        "        \"\"\"Inputs.\n",
        "\n",
        "        proto_dim - Dimensionality of prototype feature space\n",
        "        lr - Learning rate of Adam optimizer\n",
        "        \"\"\"\n",
        "        super().__init__()\n",
        "        self.save_hyperparameters()\n",
        "        self.model = get_convnet(output_size=self.hparams.proto_dim)\n",
        "\n",
        "    def configure_optimizers(self):\n",
        "        optimizer = optim.AdamW(self.parameters(), lr=self.hparams.lr)\n",
        "        scheduler = optim.lr_scheduler.MultiStepLR(optimizer, milestones=[140, 180], gamma=0.1)\n",
        "        return [optimizer], [scheduler]\n",
        "\n",
        "    @staticmethod\n",
        "    def calculate_prototypes(features, targets):\n",
        "        # Given a stack of features vectors and labels, return class prototypes\n",
        "        # features - shape [N, proto_dim], targets - shape [N]\n",
        "        classes, _ = torch.unique(targets).sort()  # Determine which classes we have\n",
        "        prototypes = []\n",
        "        for c in classes:\n",
        "            p = features[torch.where(targets == c)[0]].mean(dim=0)  # Average class feature vectors\n",
        "            prototypes.append(p)\n",
        "        prototypes = torch.stack(prototypes, dim=0)\n",
        "        # Return the 'classes' tensor to know which prototype belongs to which class\n",
        "        return prototypes, classes\n",
        "\n",
        "    def classify_feats(self, prototypes, classes, feats, targets):\n",
        "        # Classify new examples with prototypes and return classification error\n",
        "        dist = torch.pow(prototypes[None, :] - feats[:, None], 2).sum(dim=2)  # Squared euclidean distance\n",
        "        preds = F.log_softmax(-dist, dim=1)\n",
        "        labels = (classes[None, :] == targets[:, None]).long().argmax(dim=-1)\n",
        "        acc = (preds.argmax(dim=1) == labels).float().mean()\n",
        "        return preds, labels, acc\n",
        "\n",
        "    def calculate_loss(self, batch, mode):\n",
        "        # Determine training loss for a given support and query set\n",
        "        imgs, targets = batch\n",
        "        features = self.model(imgs)  # Encode all images of support and query set\n",
        "        support_feats, query_feats, support_targets, query_targets = split_batch(features, targets)\n",
        "        prototypes, classes = ProtoNet.calculate_prototypes(support_feats, support_targets)\n",
        "        preds, labels, acc = self.classify_feats(prototypes, classes, query_feats, query_targets)\n",
        "        loss = F.cross_entropy(preds, labels)\n",
        "\n",
        "        self.log(\"%s_loss\" % mode, loss)\n",
        "        self.log(\"%s_acc\" % mode, acc)\n",
        "        return loss\n",
        "\n",
        "    def training_step(self, batch, batch_idx):\n",
        "        return self.calculate_loss(batch, mode=\"train\")\n",
        "\n",
        "    def validation_step(self, batch, batch_idx):\n",
        "        self.calculate_loss(batch, mode=\"val\")"
      ]
    },
    {
      "cell_type": "markdown",
      "metadata": {
        "papermill": {
          "duration": 0.042403,
          "end_time": "2021-10-10T16:36:39.837555",
          "exception": false,
          "start_time": "2021-10-10T16:36:39.795152",
          "status": "completed"
        },
        "tags": [],
        "id": "1d28cde2"
      },
      "source": [
        "For validation, we use the same principle as training and sample support and query sets from the hold-out 10 classes.\n",
        "However, this gives us noisy scores depending on which query sets are chosen to which support sets.\n",
        "This is why we will use a different strategy during testing.\n",
        "For validation, our training strategy is sufficient since it is much\n",
        "faster than testing, and gives a good estimate of the training\n",
        "generalization as long as we keep the support-query sets constant across\n",
        "validation iterations."
      ]
    },
    {
      "cell_type": "markdown",
      "metadata": {
        "lines_to_next_cell": 2,
        "papermill": {
          "duration": 0.042841,
          "end_time": "2021-10-10T16:36:39.923166",
          "exception": false,
          "start_time": "2021-10-10T16:36:39.880325",
          "status": "completed"
        },
        "tags": [],
        "id": "02222c05"
      },
      "source": [
        "### Training\n",
        "\n",
        "After implementing the model, we can already start training it.\n",
        "We use our common PyTorch Lightning training function, and train the model for 200 epochs.\n",
        "The training function takes `model_class` as input argument, i.e. the\n",
        "PyTorch Lightning module class that should be trained, since we will\n",
        "reuse this function for other algorithms as well."
      ]
    },
    {
      "cell_type": "code",
      "execution_count": 20,
      "metadata": {
        "execution": {
          "iopub.execute_input": "2021-10-10T16:36:40.014200Z",
          "iopub.status.busy": "2021-10-10T16:36:40.013719Z",
          "iopub.status.idle": "2021-10-10T16:36:40.015817Z",
          "shell.execute_reply": "2021-10-10T16:36:40.015348Z"
        },
        "papermill": {
          "duration": 0.050208,
          "end_time": "2021-10-10T16:36:40.015917",
          "exception": false,
          "start_time": "2021-10-10T16:36:39.965709",
          "status": "completed"
        },
        "tags": [],
        "id": "76c40dce"
      },
      "outputs": [],
      "source": [
        "def train_model(model_class, train_loader, val_loader, **kwargs):\n",
        "    trainer = pl.Trainer(\n",
        "        default_root_dir=os.path.join(CHECKPOINT_PATH, model_class.__name__),\n",
        "        gpus=1 if str(device) == \"cuda:0\" else 0,\n",
        "        max_epochs=200,\n",
        "        callbacks=[\n",
        "            ModelCheckpoint(save_weights_only=True, mode=\"max\", monitor=\"val_acc\"),\n",
        "            LearningRateMonitor(\"epoch\"),\n",
        "        ],\n",
        "        # progress_bar_refresh_rate=0,\n",
        "    )\n",
        "    trainer.logger._default_hp_metric = None\n",
        "\n",
        "    # Check whether pretrained model exists. If yes, load it and skip training\n",
        "    pretrained_filename = os.path.join(CHECKPOINT_PATH, model_class.__name__ + \".ckpt\")\n",
        "    if os.path.isfile(pretrained_filename):\n",
        "        print(\"Found pretrained model at %s, loading...\" % pretrained_filename)\n",
        "        # Automatically loads the model with the saved hyperparameters\n",
        "        model = model_class.load_from_checkpoint(pretrained_filename)\n",
        "    else:\n",
        "        pl.seed_everything(42)  # To be reproducable\n",
        "        model = model_class(**kwargs)\n",
        "        trainer.fit(model, train_loader, val_loader)\n",
        "        model = model_class.load_from_checkpoint(\n",
        "            trainer.checkpoint_callback.best_model_path\n",
        "        )  # Load best checkpoint after training\n",
        "\n",
        "    return model"
      ]
    },
    {
      "cell_type": "markdown",
      "metadata": {
        "papermill": {
          "duration": 0.043123,
          "end_time": "2021-10-10T16:36:40.102077",
          "exception": false,
          "start_time": "2021-10-10T16:36:40.058954",
          "status": "completed"
        },
        "tags": [],
        "id": "6bd74652"
      },
      "source": [
        "Below is the training call for our ProtoNet.\n",
        "We use a 64-dimensional feature space.\n",
        "Larger feature spaces showed to give noisier results since the squared euclidean distance becomes proportionally larger in expectation, and smaller feature spaces might not allow for enough flexibility.\n",
        "We recommend to load the pre-trained model here at first, but feel free\n",
        "to play around with the hyperparameters yourself."
      ]
    },
    {
      "cell_type": "code",
      "execution_count": 21,
      "metadata": {
        "execution": {
          "iopub.execute_input": "2021-10-10T16:36:40.192927Z",
          "iopub.status.busy": "2021-10-10T16:36:40.192456Z",
          "iopub.status.idle": "2021-10-10T16:36:40.257180Z",
          "shell.execute_reply": "2021-10-10T16:36:40.256698Z"
        },
        "papermill": {
          "duration": 0.1128,
          "end_time": "2021-10-10T16:36:40.257291",
          "exception": false,
          "start_time": "2021-10-10T16:36:40.144491",
          "status": "completed"
        },
        "tags": [],
        "id": "91cae9d3",
        "outputId": "beab6f92-525f-4fcc-89b0-6f7237a61b2e",
        "colab": {
          "base_uri": "https://localhost:8080/"
        }
      },
      "outputs": [
        {
          "output_type": "stream",
          "name": "stderr",
          "text": [
            "/usr/local/lib/python3.8/dist-packages/pytorch_lightning/trainer/connectors/accelerator_connector.py:446: LightningDeprecationWarning: Setting `Trainer(gpus=0)` is deprecated in v1.7 and will be removed in v2.0. Please use `Trainer(accelerator='gpu', devices=0)` instead.\n",
            "  rank_zero_deprecation(\n",
            "/usr/local/lib/python3.8/dist-packages/lightning_lite/accelerators/cuda.py:159: UserWarning: Can't initialize NVML\n",
            "  warnings.warn(\"Can't initialize NVML\")\n",
            "INFO:pytorch_lightning.utilities.rank_zero:GPU available: False, used: False\n",
            "INFO:pytorch_lightning.utilities.rank_zero:TPU available: False, using: 0 TPU cores\n",
            "INFO:pytorch_lightning.utilities.rank_zero:IPU available: False, using: 0 IPUs\n",
            "INFO:pytorch_lightning.utilities.rank_zero:HPU available: False, using: 0 HPUs\n"
          ]
        },
        {
          "output_type": "stream",
          "name": "stdout",
          "text": [
            "Found pretrained model at saved_models/MetaLearning/ProtoNet.ckpt, loading...\n"
          ]
        }
      ],
      "source": [
        "protonet_model = train_model(\n",
        "    ProtoNet, \n",
        "    proto_dim=64, \n",
        "    lr=2e-4, \n",
        "    train_loader=train_data_loader, \n",
        "    val_loader=val_data_loader\n",
        ")"
      ]
    },
    {
      "cell_type": "markdown",
      "metadata": {
        "lines_to_next_cell": 2,
        "papermill": {
          "duration": 0.043726,
          "end_time": "2021-10-10T16:36:40.611913",
          "exception": false,
          "start_time": "2021-10-10T16:36:40.568187",
          "status": "completed"
        },
        "tags": [],
        "id": "fe724d6e"
      },
      "source": [
        "### Testing\n",
        "\n",
        "Our goal of meta-learning is to obtain a model that can quickly adapt to a new task, or in this case, new classes to distinguish between.\n",
        "To test this, we will use our trained ProtoNet and adapt it to the 10 test classes.\n",
        "Thereby, we pick $k$ examples per class from which we determine the prototypes, and test the classification accuracy on all other examples.\n",
        "This can be seen as using the $k$ examples per class as support set, and the rest of the dataset as a query set.\n",
        "We iterate through the dataset such that each example has been once included in a support set.\n",
        "The average performance over all support sets tells us how well we can expect ProtoNet to perform when seeing only $k$ examples per class.\n",
        "During training, we used $k=4$.\n",
        "In testing, we will experiment with $k=\\{2,4,8,16,32\\}$ to get a better sense of how $k$ influences the results.\n",
        "We would expect that we achieve higher accuracies the more examples we have in the support set, but we don't know how it scales.\n",
        "Hence, let's first implement a function that executes the testing procedure for a given $k$:"
      ]
    },
    {
      "cell_type": "code",
      "execution_count": 22,
      "metadata": {
        "execution": {
          "iopub.execute_input": "2021-10-10T16:36:40.708839Z",
          "iopub.status.busy": "2021-10-10T16:36:40.706609Z",
          "iopub.status.idle": "2021-10-10T16:36:40.710916Z",
          "shell.execute_reply": "2021-10-10T16:36:40.710471Z"
        },
        "papermill": {
          "duration": 0.055241,
          "end_time": "2021-10-10T16:36:40.711017",
          "exception": false,
          "start_time": "2021-10-10T16:36:40.655776",
          "status": "completed"
        },
        "tags": [],
        "id": "9e43469f"
      },
      "outputs": [],
      "source": [
        "@torch.no_grad()\n",
        "def test_proto_net(model, dataset, data_feats=None, k_shot=4):\n",
        "    \"\"\"Inputs.\n",
        "\n",
        "    model - Pretrained ProtoNet model\n",
        "    dataset - The dataset on which the test should be performed.\n",
        "              Should be instance of ImageDataset\n",
        "    data_feats - The encoded features of all images in the dataset.\n",
        "                 If None, they will be newly calculated, and returned\n",
        "                 for later usage.\n",
        "    k_shot - Number of examples per class in the support set.\n",
        "    \"\"\"\n",
        "    model = model.to(device)\n",
        "    model.eval()\n",
        "    num_classes = dataset.targets.unique().shape[0]\n",
        "    exmps_per_class = dataset.targets.shape[0] // num_classes  # We assume uniform example distribution here\n",
        "\n",
        "    # The encoder network remains unchanged across k-shot settings. Hence, we only need\n",
        "    # to extract the features for all images once.\n",
        "    if data_feats is None:\n",
        "        # Dataset preparation\n",
        "        dataloader = data.DataLoader(dataset, batch_size=128, num_workers=4, shuffle=False, drop_last=False)\n",
        "\n",
        "        img_features = []\n",
        "        img_targets = []\n",
        "        for imgs, targets in tqdm(dataloader, \"Extracting image features\", leave=False):\n",
        "            imgs = imgs.to(device)\n",
        "            feats = model.model(imgs)\n",
        "            img_features.append(feats.detach().cpu())\n",
        "            img_targets.append(targets)\n",
        "        img_features = torch.cat(img_features, dim=0)\n",
        "        img_targets = torch.cat(img_targets, dim=0)\n",
        "        # Sort by classes, so that we obtain tensors of shape [num_classes, exmps_per_class, ...]\n",
        "        # Makes it easier to process later\n",
        "        img_targets, sort_idx = img_targets.sort()\n",
        "        img_targets = img_targets.reshape(num_classes, exmps_per_class).transpose(0, 1)\n",
        "        img_features = img_features[sort_idx].reshape(num_classes, exmps_per_class, -1).transpose(0, 1)\n",
        "    else:\n",
        "        img_features, img_targets = data_feats\n",
        "\n",
        "    # We iterate through the full dataset in two manners. First, to select the k-shot batch.\n",
        "    # Second, the evaluate the model on all other examples\n",
        "    accuracies = []\n",
        "    for k_idx in tqdm(range(0, img_features.shape[0], k_shot), \"Evaluating prototype classification\", leave=False):\n",
        "        # Select support set and calculate prototypes\n",
        "        k_img_feats = img_features[k_idx : k_idx + k_shot].flatten(0, 1)\n",
        "        k_targets = img_targets[k_idx : k_idx + k_shot].flatten(0, 1)\n",
        "        prototypes, proto_classes = model.calculate_prototypes(k_img_feats, k_targets)\n",
        "        # Evaluate accuracy on the rest of the dataset\n",
        "        batch_acc = 0\n",
        "        for e_idx in range(0, img_features.shape[0], k_shot):\n",
        "            if k_idx == e_idx:  # Do not evaluate on the support set examples\n",
        "                continue\n",
        "            e_img_feats = img_features[e_idx : e_idx + k_shot].flatten(0, 1)\n",
        "            e_targets = img_targets[e_idx : e_idx + k_shot].flatten(0, 1)\n",
        "            _, _, acc = model.classify_feats(prototypes, proto_classes, e_img_feats, e_targets)\n",
        "            batch_acc += acc.item()\n",
        "        batch_acc /= img_features.shape[0] // k_shot - 1\n",
        "        accuracies.append(batch_acc)\n",
        "\n",
        "    return (mean(accuracies), stdev(accuracies)), (img_features, img_targets)"
      ]
    },
    {
      "cell_type": "markdown",
      "metadata": {
        "papermill": {
          "duration": 0.043398,
          "end_time": "2021-10-10T16:36:40.798077",
          "exception": false,
          "start_time": "2021-10-10T16:36:40.754679",
          "status": "completed"
        },
        "tags": [],
        "id": "e8adff5f"
      },
      "source": [
        "Testing ProtoNet is relatively quick if we have processed all images once. Hence, we can do in this notebook:"
      ]
    },
    {
      "cell_type": "code",
      "execution_count": 23,
      "metadata": {
        "execution": {
          "iopub.execute_input": "2021-10-10T16:36:40.891051Z",
          "iopub.status.busy": "2021-10-10T16:36:40.890582Z",
          "iopub.status.idle": "2021-10-10T16:37:25.334685Z",
          "shell.execute_reply": "2021-10-10T16:37:25.334200Z"
        },
        "papermill": {
          "duration": 44.492916,
          "end_time": "2021-10-10T16:37:25.334799",
          "exception": false,
          "start_time": "2021-10-10T16:36:40.841883",
          "status": "completed"
        },
        "tags": [],
        "id": "6b522e34",
        "outputId": "28a6d016-cd05-4f2e-8eaf-9705220fe005",
        "colab": {
          "base_uri": "https://localhost:8080/",
          "height": 0,
          "referenced_widgets": [
            "3e0932c5ed424a50a92078137173a708",
            "83f3e43ebb4b4cb1b294710b033a8d5b",
            "a1cb41bb6f8b44e79b3c5b6809ef4112",
            "124c8e6502ec4235ab9eb4de12885171",
            "874f93199dc2415884aee74b28ff329b",
            "0f9834066cea4e9a877234cdb6d6c950",
            "7a77e7cb0af34b818587690b02e4e35f",
            "402ccffe055f4bfb8f5bab3adafcc3d4",
            "ed6fefb0b47d4080866a7ab58f01279b",
            "b096e760d3294d83ba72a38ecbbf48bf",
            "d2e98c8bfcb44a208905b51b05a9639c",
            "e9db1e594f1b4fa8898c5007ef3e5528",
            "49a8f9d123434a67bab6594406800289",
            "521f3185a00242e0a3a3c9e86eb05648",
            "7c123735cca84a5b96ad45c3909022b8",
            "21fbc54b032c4542939de526224e1b68",
            "6f117dfa26f749f58db1a610d10fb578",
            "27d5d658239d4fceab1febd254b67b0b",
            "d13a2d536bb2467c88567a3e9bed5b3a",
            "2bcf299cccef4ebcae6b433e3217aa08",
            "b4d6884e864749139315e1ec9dc6a989",
            "044e8c6ca94841938dab7250c76848a0",
            "ce8cc47537b14e5da366fb8c8f025fa6",
            "5b42b47b9cba4392b6bdc48ac359dd7b",
            "a37164f7a7ea47f9ab318e7ba139f922",
            "60452bbb26144d13a84264a4fb51904a",
            "1b2662da9db549bc9021a69b83a8aa2c",
            "9d532347ecb44e29b23ab7e022de586d",
            "94c85820e4ef416eb2ca317ba3f0aa45",
            "7801f2a9602841e18d1268f592c6f295",
            "21134e84cf1c4e1798b19a83265ca0c9",
            "d5992f247cb94814b3f784380474aeac",
            "28135e8d53f3422ca8fbfbcf4f307aae",
            "b6617e49963943f38db0ec2dc9884f13",
            "68962c84adb94d6e8e3c959df7073f40",
            "e9232f6c9e8f4491919375bede832947",
            "189e33b24272481c97ba905c707b3769",
            "9c67546886504feeb31b9b148ffd3011",
            "29f031b639434206a89d8154363a2179",
            "097d3d9e6aff460fad70d87e701a9c06",
            "2a99ad1c0c9446d79cad3164d88c95e1",
            "422c33d2ac8f46d0a28c1f407d911b94",
            "44b22894310540a4a7978a77e7598cae",
            "bbdf8f230c144f5486b9c8975fdc8696",
            "6760ec590073438d9e11d12d57a0de84",
            "4a5ca5d781e848cb87bd3011a2d6ba6a",
            "b3dab039fb0c421e86227eab288bd6c5",
            "9bb7338e20ff4993a5d3ae8fd24f5d0f",
            "939e54b336fe44e999ffdb944a9e2e43",
            "6df981cd49f24aaa9a1b8abb521000ff",
            "10d743dca4a2414db981215e3cf2661a",
            "a8f6239c74cc40bc9084ee3c9771021e",
            "baed68201b94463896071273da90b362",
            "7a793bde30e14442b787610f79fe02d5",
            "608aab301f804f42a4865fcbdb5e5d8b",
            "7909c02afb5b46179cef32f5dd297b6d",
            "1a9af4cdfeb44a0792ef004f3938b1b1",
            "c247835b0b664dea8cdd43cbdf884a29",
            "5ac5f7c6c42041718377c55e5d89495c",
            "7f09e28678af430098e6c3626c5f95e9",
            "22ed8d584baa4c878ef358db527a0b5d",
            "8f30ef1afbf043a48a0c6edc8eb01920",
            "7a5c61dee54e4158a82e46c110a0eded",
            "b6e719c5c69c49a09f164eed6696c44a",
            "f551d278801f497783c826d9bedbd0d0",
            "63592b11798f48af8130dd6599f0aa92"
          ]
        }
      },
      "outputs": [
        {
          "output_type": "display_data",
          "data": {
            "text/plain": [
              "Extracting image features:   0%|          | 0/47 [00:00<?, ?it/s]"
            ],
            "application/vnd.jupyter.widget-view+json": {
              "version_major": 2,
              "version_minor": 0,
              "model_id": "3e0932c5ed424a50a92078137173a708"
            }
          },
          "metadata": {}
        },
        {
          "output_type": "display_data",
          "data": {
            "text/plain": [
              "Evaluating prototype classification:   0%|          | 0/300 [00:00<?, ?it/s]"
            ],
            "application/vnd.jupyter.widget-view+json": {
              "version_major": 2,
              "version_minor": 0,
              "model_id": "e9db1e594f1b4fa8898c5007ef3e5528"
            }
          },
          "metadata": {}
        },
        {
          "output_type": "stream",
          "name": "stdout",
          "text": [
            "Accuracy for k=2: 44.30% (+-3.63%)\n"
          ]
        },
        {
          "output_type": "display_data",
          "data": {
            "text/plain": [
              "Evaluating prototype classification:   0%|          | 0/150 [00:00<?, ?it/s]"
            ],
            "application/vnd.jupyter.widget-view+json": {
              "version_major": 2,
              "version_minor": 0,
              "model_id": "ce8cc47537b14e5da366fb8c8f025fa6"
            }
          },
          "metadata": {}
        },
        {
          "output_type": "stream",
          "name": "stdout",
          "text": [
            "Accuracy for k=4: 52.07% (+-2.27%)\n"
          ]
        },
        {
          "output_type": "display_data",
          "data": {
            "text/plain": [
              "Evaluating prototype classification:   0%|          | 0/75 [00:00<?, ?it/s]"
            ],
            "application/vnd.jupyter.widget-view+json": {
              "version_major": 2,
              "version_minor": 0,
              "model_id": "b6617e49963943f38db0ec2dc9884f13"
            }
          },
          "metadata": {}
        },
        {
          "output_type": "stream",
          "name": "stdout",
          "text": [
            "Accuracy for k=8: 57.59% (+-1.30%)\n"
          ]
        },
        {
          "output_type": "display_data",
          "data": {
            "text/plain": [
              "Evaluating prototype classification:   0%|          | 0/38 [00:00<?, ?it/s]"
            ],
            "application/vnd.jupyter.widget-view+json": {
              "version_major": 2,
              "version_minor": 0,
              "model_id": "6760ec590073438d9e11d12d57a0de84"
            }
          },
          "metadata": {}
        },
        {
          "output_type": "stream",
          "name": "stdout",
          "text": [
            "Accuracy for k=16: 62.56% (+-1.02%)\n"
          ]
        },
        {
          "output_type": "display_data",
          "data": {
            "text/plain": [
              "Evaluating prototype classification:   0%|          | 0/19 [00:00<?, ?it/s]"
            ],
            "application/vnd.jupyter.widget-view+json": {
              "version_major": 2,
              "version_minor": 0,
              "model_id": "7909c02afb5b46179cef32f5dd297b6d"
            }
          },
          "metadata": {}
        },
        {
          "output_type": "stream",
          "name": "stdout",
          "text": [
            "Accuracy for k=32: 66.49% (+-0.87%)\n"
          ]
        }
      ],
      "source": [
        "protonet_accuracies = dict()\n",
        "data_feats = None\n",
        "for k in [2, 4, 8, 16, 32]:\n",
        "    protonet_accuracies[k], data_feats = test_proto_net(protonet_model, test_set, data_feats=data_feats, k_shot=k)\n",
        "    print(\n",
        "        \"Accuracy for k=%i: %4.2f%% (+-%4.2f%%)\"\n",
        "        % (k, 100.0 * protonet_accuracies[k][0], 100 * protonet_accuracies[k][1])\n",
        "    )"
      ]
    },
    {
      "cell_type": "markdown",
      "metadata": {
        "lines_to_next_cell": 2,
        "papermill": {
          "duration": 0.048333,
          "end_time": "2021-10-10T16:37:25.430916",
          "exception": false,
          "start_time": "2021-10-10T16:37:25.382583",
          "status": "completed"
        },
        "tags": [],
        "id": "15ae8c3d"
      },
      "source": [
        "Before discussing the results above, let's first plot the accuracies over number of examples in the support set:"
      ]
    },
    {
      "cell_type": "code",
      "execution_count": 24,
      "metadata": {
        "execution": {
          "iopub.execute_input": "2021-10-10T16:37:25.533731Z",
          "iopub.status.busy": "2021-10-10T16:37:25.533253Z",
          "iopub.status.idle": "2021-10-10T16:37:25.534911Z",
          "shell.execute_reply": "2021-10-10T16:37:25.535289Z"
        },
        "papermill": {
          "duration": 0.057357,
          "end_time": "2021-10-10T16:37:25.535406",
          "exception": false,
          "start_time": "2021-10-10T16:37:25.478049",
          "status": "completed"
        },
        "tags": [],
        "id": "36dc12c6"
      },
      "outputs": [],
      "source": [
        "def plot_few_shot(acc_dict, name, color=None, ax=None):\n",
        "    sns.set()\n",
        "    if ax is None:\n",
        "        fig, ax = plt.subplots(1, 1, figsize=(5, 3))\n",
        "    ks = sorted(list(acc_dict.keys()))\n",
        "    mean_accs = [acc_dict[k][0] for k in ks]\n",
        "    std_accs = [acc_dict[k][1] for k in ks]\n",
        "    ax.plot(ks, mean_accs, marker=\"o\", markeredgecolor=\"k\", markersize=6, label=name, color=color)\n",
        "    ax.fill_between(\n",
        "        ks,\n",
        "        [m - s for m, s in zip(mean_accs, std_accs)],\n",
        "        [m + s for m, s in zip(mean_accs, std_accs)],\n",
        "        alpha=0.2,\n",
        "        color=color,\n",
        "    )\n",
        "    ax.set_xticks(ks)\n",
        "    ax.set_xlim([ks[0] - 1, ks[-1] + 1])\n",
        "    ax.set_xlabel(\"Number of shots per class\", weight=\"bold\")\n",
        "    ax.set_ylabel(\"Accuracy\", weight=\"bold\")\n",
        "    if len(ax.get_title()) == 0:\n",
        "        ax.set_title(\"Few-Shot Performance \" + name, weight=\"bold\")\n",
        "    else:\n",
        "        ax.set_title(ax.get_title() + \" and \" + name, weight=\"bold\")\n",
        "    ax.legend()\n",
        "    return ax"
      ]
    },
    {
      "cell_type": "code",
      "execution_count": 25,
      "metadata": {
        "execution": {
          "iopub.execute_input": "2021-10-10T16:37:25.668929Z",
          "iopub.status.busy": "2021-10-10T16:37:25.662393Z",
          "iopub.status.idle": "2021-10-10T16:37:25.951305Z",
          "shell.execute_reply": "2021-10-10T16:37:25.950859Z"
        },
        "papermill": {
          "duration": 0.362353,
          "end_time": "2021-10-10T16:37:25.951419",
          "exception": false,
          "start_time": "2021-10-10T16:37:25.589066",
          "status": "completed"
        },
        "tags": [],
        "id": "5b80ec9b",
        "outputId": "e492d01d-8884-49a1-885e-082e15d934c2",
        "colab": {
          "base_uri": "https://localhost:8080/",
          "height": 0
        }
      },
      "outputs": [
        {
          "output_type": "display_data",
          "data": {
            "text/plain": [
              "<Figure size 360x216 with 1 Axes>"
            ],
            "image/svg+xml": "<?xml version=\"1.0\" encoding=\"utf-8\" standalone=\"no\"?>\n<!DOCTYPE svg PUBLIC \"-//W3C//DTD SVG 1.1//EN\"\n  \"http://www.w3.org/Graphics/SVG/1.1/DTD/svg11.dtd\">\n<!-- Created with matplotlib (https://matplotlib.org/) -->\n<svg height=\"228.357813pt\" version=\"1.1\" viewBox=\"0 0 343.005937 228.357813\" width=\"343.005937pt\" xmlns=\"http://www.w3.org/2000/svg\" xmlns:xlink=\"http://www.w3.org/1999/xlink\">\n <defs>\n  <style type=\"text/css\">\n*{stroke-linecap:butt;stroke-linejoin:round;}\n  </style>\n </defs>\n <g id=\"figure_1\">\n  <g id=\"patch_1\">\n   <path d=\"M 0 228.357813 \nL 343.005937 228.357813 \nL 343.005937 0 \nL 0 0 \nz\n\" style=\"fill:#ffffff;\"/>\n  </g>\n  <g id=\"axes_1\">\n   <g id=\"patch_2\">\n    <path d=\"M 56.805937 185.398125 \nL 335.805938 185.398125 \nL 335.805938 22.318125 \nL 56.805937 22.318125 \nz\n\" style=\"fill:#eaeaf2;\"/>\n   </g>\n   <g id=\"matplotlib.axis_1\">\n    <g id=\"xtick_1\">\n     <g id=\"line2d_1\">\n      <path clip-path=\"url(#p5add93c212)\" d=\"M 65.524687 185.398125 \nL 65.524687 22.318125 \n\" style=\"fill:none;stroke:#ffffff;stroke-linecap:round;\"/>\n     </g>\n     <g id=\"text_1\">\n      <!-- 2 -->\n      <defs>\n       <path d=\"M 19.1875 8.296875 \nL 53.609375 8.296875 \nL 53.609375 0 \nL 7.328125 0 \nL 7.328125 8.296875 \nQ 12.9375 14.109375 22.625 23.890625 \nQ 32.328125 33.6875 34.8125 36.53125 \nQ 39.546875 41.84375 41.421875 45.53125 \nQ 43.3125 49.21875 43.3125 52.78125 \nQ 43.3125 58.59375 39.234375 62.25 \nQ 35.15625 65.921875 28.609375 65.921875 \nQ 23.96875 65.921875 18.8125 64.3125 \nQ 13.671875 62.703125 7.8125 59.421875 \nL 7.8125 69.390625 \nQ 13.765625 71.78125 18.9375 73 \nQ 24.125 74.21875 28.421875 74.21875 \nQ 39.75 74.21875 46.484375 68.546875 \nQ 53.21875 62.890625 53.21875 53.421875 \nQ 53.21875 48.921875 51.53125 44.890625 \nQ 49.859375 40.875 45.40625 35.40625 \nQ 44.1875 33.984375 37.640625 27.21875 \nQ 31.109375 20.453125 19.1875 8.296875 \nz\n\" id=\"DejaVuSans-50\"/>\n      </defs>\n      <g style=\"fill:#262626;\" transform=\"translate(62.025312 203.256406)scale(0.11 -0.11)\">\n       <use xlink:href=\"#DejaVuSans-50\"/>\n      </g>\n     </g>\n    </g>\n    <g id=\"xtick_2\">\n     <g id=\"line2d_2\">\n      <path clip-path=\"url(#p5add93c212)\" d=\"M 82.962187 185.398125 \nL 82.962187 22.318125 \n\" style=\"fill:none;stroke:#ffffff;stroke-linecap:round;\"/>\n     </g>\n     <g id=\"text_2\">\n      <!-- 4 -->\n      <defs>\n       <path d=\"M 37.796875 64.3125 \nL 12.890625 25.390625 \nL 37.796875 25.390625 \nz\nM 35.203125 72.90625 \nL 47.609375 72.90625 \nL 47.609375 25.390625 \nL 58.015625 25.390625 \nL 58.015625 17.1875 \nL 47.609375 17.1875 \nL 47.609375 0 \nL 37.796875 0 \nL 37.796875 17.1875 \nL 4.890625 17.1875 \nL 4.890625 26.703125 \nz\n\" id=\"DejaVuSans-52\"/>\n      </defs>\n      <g style=\"fill:#262626;\" transform=\"translate(79.462812 203.256406)scale(0.11 -0.11)\">\n       <use xlink:href=\"#DejaVuSans-52\"/>\n      </g>\n     </g>\n    </g>\n    <g id=\"xtick_3\">\n     <g id=\"line2d_3\">\n      <path clip-path=\"url(#p5add93c212)\" d=\"M 117.837187 185.398125 \nL 117.837187 22.318125 \n\" style=\"fill:none;stroke:#ffffff;stroke-linecap:round;\"/>\n     </g>\n     <g id=\"text_3\">\n      <!-- 8 -->\n      <defs>\n       <path d=\"M 31.78125 34.625 \nQ 24.75 34.625 20.71875 30.859375 \nQ 16.703125 27.09375 16.703125 20.515625 \nQ 16.703125 13.921875 20.71875 10.15625 \nQ 24.75 6.390625 31.78125 6.390625 \nQ 38.8125 6.390625 42.859375 10.171875 \nQ 46.921875 13.96875 46.921875 20.515625 \nQ 46.921875 27.09375 42.890625 30.859375 \nQ 38.875 34.625 31.78125 34.625 \nz\nM 21.921875 38.8125 \nQ 15.578125 40.375 12.03125 44.71875 \nQ 8.5 49.078125 8.5 55.328125 \nQ 8.5 64.0625 14.71875 69.140625 \nQ 20.953125 74.21875 31.78125 74.21875 \nQ 42.671875 74.21875 48.875 69.140625 \nQ 55.078125 64.0625 55.078125 55.328125 \nQ 55.078125 49.078125 51.53125 44.71875 \nQ 48 40.375 41.703125 38.8125 \nQ 48.828125 37.15625 52.796875 32.3125 \nQ 56.78125 27.484375 56.78125 20.515625 \nQ 56.78125 9.90625 50.3125 4.234375 \nQ 43.84375 -1.421875 31.78125 -1.421875 \nQ 19.734375 -1.421875 13.25 4.234375 \nQ 6.78125 9.90625 6.78125 20.515625 \nQ 6.78125 27.484375 10.78125 32.3125 \nQ 14.796875 37.15625 21.921875 38.8125 \nz\nM 18.3125 54.390625 \nQ 18.3125 48.734375 21.84375 45.5625 \nQ 25.390625 42.390625 31.78125 42.390625 \nQ 38.140625 42.390625 41.71875 45.5625 \nQ 45.3125 48.734375 45.3125 54.390625 \nQ 45.3125 60.0625 41.71875 63.234375 \nQ 38.140625 66.40625 31.78125 66.40625 \nQ 25.390625 66.40625 21.84375 63.234375 \nQ 18.3125 60.0625 18.3125 54.390625 \nz\n\" id=\"DejaVuSans-56\"/>\n      </defs>\n      <g style=\"fill:#262626;\" transform=\"translate(114.337812 203.256406)scale(0.11 -0.11)\">\n       <use xlink:href=\"#DejaVuSans-56\"/>\n      </g>\n     </g>\n    </g>\n    <g id=\"xtick_4\">\n     <g id=\"line2d_4\">\n      <path clip-path=\"url(#p5add93c212)\" d=\"M 187.587187 185.398125 \nL 187.587187 22.318125 \n\" style=\"fill:none;stroke:#ffffff;stroke-linecap:round;\"/>\n     </g>\n     <g id=\"text_4\">\n      <!-- 16 -->\n      <defs>\n       <path d=\"M 12.40625 8.296875 \nL 28.515625 8.296875 \nL 28.515625 63.921875 \nL 10.984375 60.40625 \nL 10.984375 69.390625 \nL 28.421875 72.90625 \nL 38.28125 72.90625 \nL 38.28125 8.296875 \nL 54.390625 8.296875 \nL 54.390625 0 \nL 12.40625 0 \nz\n\" id=\"DejaVuSans-49\"/>\n       <path d=\"M 33.015625 40.375 \nQ 26.375 40.375 22.484375 35.828125 \nQ 18.609375 31.296875 18.609375 23.390625 \nQ 18.609375 15.53125 22.484375 10.953125 \nQ 26.375 6.390625 33.015625 6.390625 \nQ 39.65625 6.390625 43.53125 10.953125 \nQ 47.40625 15.53125 47.40625 23.390625 \nQ 47.40625 31.296875 43.53125 35.828125 \nQ 39.65625 40.375 33.015625 40.375 \nz\nM 52.59375 71.296875 \nL 52.59375 62.3125 \nQ 48.875 64.0625 45.09375 64.984375 \nQ 41.3125 65.921875 37.59375 65.921875 \nQ 27.828125 65.921875 22.671875 59.328125 \nQ 17.53125 52.734375 16.796875 39.40625 \nQ 19.671875 43.65625 24.015625 45.921875 \nQ 28.375 48.1875 33.59375 48.1875 \nQ 44.578125 48.1875 50.953125 41.515625 \nQ 57.328125 34.859375 57.328125 23.390625 \nQ 57.328125 12.15625 50.6875 5.359375 \nQ 44.046875 -1.421875 33.015625 -1.421875 \nQ 20.359375 -1.421875 13.671875 8.265625 \nQ 6.984375 17.96875 6.984375 36.375 \nQ 6.984375 53.65625 15.1875 63.9375 \nQ 23.390625 74.21875 37.203125 74.21875 \nQ 40.921875 74.21875 44.703125 73.484375 \nQ 48.484375 72.75 52.59375 71.296875 \nz\n\" id=\"DejaVuSans-54\"/>\n      </defs>\n      <g style=\"fill:#262626;\" transform=\"translate(180.588437 203.256406)scale(0.11 -0.11)\">\n       <use xlink:href=\"#DejaVuSans-49\"/>\n       <use x=\"63.623047\" xlink:href=\"#DejaVuSans-54\"/>\n      </g>\n     </g>\n    </g>\n    <g id=\"xtick_5\">\n     <g id=\"line2d_5\">\n      <path clip-path=\"url(#p5add93c212)\" d=\"M 327.087188 185.398125 \nL 327.087188 22.318125 \n\" style=\"fill:none;stroke:#ffffff;stroke-linecap:round;\"/>\n     </g>\n     <g id=\"text_5\">\n      <!-- 32 -->\n      <defs>\n       <path d=\"M 40.578125 39.3125 \nQ 47.65625 37.796875 51.625 33 \nQ 55.609375 28.21875 55.609375 21.1875 \nQ 55.609375 10.40625 48.1875 4.484375 \nQ 40.765625 -1.421875 27.09375 -1.421875 \nQ 22.515625 -1.421875 17.65625 -0.515625 \nQ 12.796875 0.390625 7.625 2.203125 \nL 7.625 11.71875 \nQ 11.71875 9.328125 16.59375 8.109375 \nQ 21.484375 6.890625 26.8125 6.890625 \nQ 36.078125 6.890625 40.9375 10.546875 \nQ 45.796875 14.203125 45.796875 21.1875 \nQ 45.796875 27.640625 41.28125 31.265625 \nQ 36.765625 34.90625 28.71875 34.90625 \nL 20.21875 34.90625 \nL 20.21875 43.015625 \nL 29.109375 43.015625 \nQ 36.375 43.015625 40.234375 45.921875 \nQ 44.09375 48.828125 44.09375 54.296875 \nQ 44.09375 59.90625 40.109375 62.90625 \nQ 36.140625 65.921875 28.71875 65.921875 \nQ 24.65625 65.921875 20.015625 65.03125 \nQ 15.375 64.15625 9.8125 62.3125 \nL 9.8125 71.09375 \nQ 15.4375 72.65625 20.34375 73.4375 \nQ 25.25 74.21875 29.59375 74.21875 \nQ 40.828125 74.21875 47.359375 69.109375 \nQ 53.90625 64.015625 53.90625 55.328125 \nQ 53.90625 49.265625 50.4375 45.09375 \nQ 46.96875 40.921875 40.578125 39.3125 \nz\n\" id=\"DejaVuSans-51\"/>\n      </defs>\n      <g style=\"fill:#262626;\" transform=\"translate(320.088438 203.256406)scale(0.11 -0.11)\">\n       <use xlink:href=\"#DejaVuSans-51\"/>\n       <use x=\"63.623047\" xlink:href=\"#DejaVuSans-50\"/>\n      </g>\n     </g>\n    </g>\n    <g id=\"text_6\">\n     <!-- Number of shots per class -->\n     <defs>\n      <path d=\"M 9.1875 72.90625 \nL 30.171875 72.90625 \nL 56.6875 22.90625 \nL 56.6875 72.90625 \nL 74.515625 72.90625 \nL 74.515625 0 \nL 53.515625 0 \nL 27 50 \nL 27 0 \nL 9.1875 0 \nz\n\" id=\"DejaVuSans-Bold-78\"/>\n      <path d=\"M 7.8125 21.296875 \nL 7.8125 54.6875 \nL 25.390625 54.6875 \nL 25.390625 49.21875 \nQ 25.390625 44.78125 25.34375 38.0625 \nQ 25.296875 31.34375 25.296875 29.109375 \nQ 25.296875 22.515625 25.640625 19.609375 \nQ 25.984375 16.703125 26.8125 15.375 \nQ 27.875 13.671875 29.609375 12.734375 \nQ 31.34375 11.8125 33.59375 11.8125 \nQ 39.0625 11.8125 42.1875 16.015625 \nQ 45.3125 20.21875 45.3125 27.6875 \nL 45.3125 54.6875 \nL 62.796875 54.6875 \nL 62.796875 0 \nL 45.3125 0 \nL 45.3125 7.90625 \nQ 41.359375 3.125 36.9375 0.84375 \nQ 32.515625 -1.421875 27.203125 -1.421875 \nQ 17.71875 -1.421875 12.765625 4.390625 \nQ 7.8125 10.203125 7.8125 21.296875 \nz\n\" id=\"DejaVuSans-Bold-117\"/>\n      <path d=\"M 59.078125 45.609375 \nQ 62.40625 50.6875 66.96875 53.34375 \nQ 71.53125 56 77 56 \nQ 86.421875 56 91.359375 50.1875 \nQ 96.296875 44.390625 96.296875 33.296875 \nL 96.296875 0 \nL 78.71875 0 \nL 78.71875 28.515625 \nQ 78.765625 29.15625 78.78125 29.828125 \nQ 78.8125 30.515625 78.8125 31.78125 \nQ 78.8125 37.59375 77.09375 40.203125 \nQ 75.390625 42.828125 71.578125 42.828125 \nQ 66.609375 42.828125 63.890625 38.71875 \nQ 61.1875 34.625 61.078125 26.859375 \nL 61.078125 0 \nL 43.5 0 \nL 43.5 28.515625 \nQ 43.5 37.59375 41.9375 40.203125 \nQ 40.375 42.828125 36.375 42.828125 \nQ 31.34375 42.828125 28.609375 38.703125 \nQ 25.875 34.578125 25.875 26.90625 \nL 25.875 0 \nL 8.296875 0 \nL 8.296875 54.6875 \nL 25.875 54.6875 \nL 25.875 46.6875 \nQ 29.109375 51.3125 33.28125 53.65625 \nQ 37.453125 56 42.484375 56 \nQ 48.140625 56 52.484375 53.265625 \nQ 56.84375 50.53125 59.078125 45.609375 \nz\n\" id=\"DejaVuSans-Bold-109\"/>\n      <path d=\"M 37.5 11.28125 \nQ 43.109375 11.28125 46.0625 15.375 \nQ 49.03125 19.484375 49.03125 27.296875 \nQ 49.03125 35.109375 46.0625 39.203125 \nQ 43.109375 43.3125 37.5 43.3125 \nQ 31.890625 43.3125 28.875 39.1875 \nQ 25.875 35.0625 25.875 27.296875 \nQ 25.875 19.53125 28.875 15.40625 \nQ 31.890625 11.28125 37.5 11.28125 \nz\nM 25.875 46.6875 \nQ 29.5 51.46875 33.890625 53.734375 \nQ 38.28125 56 44 56 \nQ 54.109375 56 60.59375 47.96875 \nQ 67.09375 39.9375 67.09375 27.296875 \nQ 67.09375 14.65625 60.59375 6.609375 \nQ 54.109375 -1.421875 44 -1.421875 \nQ 38.28125 -1.421875 33.890625 0.84375 \nQ 29.5 3.125 25.875 7.90625 \nL 25.875 0 \nL 8.40625 0 \nL 8.40625 75.984375 \nL 25.875 75.984375 \nz\n\" id=\"DejaVuSans-Bold-98\"/>\n      <path d=\"M 62.984375 27.484375 \nL 62.984375 22.515625 \nL 22.125 22.515625 \nQ 22.75 16.359375 26.5625 13.28125 \nQ 30.375 10.203125 37.203125 10.203125 \nQ 42.71875 10.203125 48.5 11.84375 \nQ 54.296875 13.484375 60.40625 16.796875 \nL 60.40625 3.328125 \nQ 54.203125 0.984375 48 -0.21875 \nQ 41.796875 -1.421875 35.59375 -1.421875 \nQ 20.75 -1.421875 12.515625 6.125 \nQ 4.296875 13.671875 4.296875 27.296875 \nQ 4.296875 40.671875 12.375 48.328125 \nQ 20.453125 56 34.625 56 \nQ 47.515625 56 55.25 48.234375 \nQ 62.984375 40.484375 62.984375 27.484375 \nz\nM 45.015625 33.296875 \nQ 45.015625 38.28125 42.109375 41.328125 \nQ 39.203125 44.390625 34.515625 44.390625 \nQ 29.4375 44.390625 26.265625 41.53125 \nQ 23.09375 38.671875 22.3125 33.296875 \nz\n\" id=\"DejaVuSans-Bold-101\"/>\n      <path d=\"M 49.03125 39.796875 \nQ 46.734375 40.875 44.453125 41.375 \nQ 42.1875 41.890625 39.890625 41.890625 \nQ 33.15625 41.890625 29.515625 37.5625 \nQ 25.875 33.25 25.875 25.203125 \nL 25.875 0 \nL 8.40625 0 \nL 8.40625 54.6875 \nL 25.875 54.6875 \nL 25.875 45.703125 \nQ 29.25 51.078125 33.609375 53.53125 \nQ 37.984375 56 44.09375 56 \nQ 44.96875 56 45.984375 55.921875 \nQ 47.015625 55.859375 48.96875 55.609375 \nz\n\" id=\"DejaVuSans-Bold-114\"/>\n      <path id=\"DejaVuSans-Bold-32\"/>\n      <path d=\"M 34.421875 43.5 \nQ 28.609375 43.5 25.5625 39.328125 \nQ 22.515625 35.15625 22.515625 27.296875 \nQ 22.515625 19.4375 25.5625 15.25 \nQ 28.609375 11.078125 34.421875 11.078125 \nQ 40.140625 11.078125 43.15625 15.25 \nQ 46.1875 19.4375 46.1875 27.296875 \nQ 46.1875 35.15625 43.15625 39.328125 \nQ 40.140625 43.5 34.421875 43.5 \nz\nM 34.421875 56 \nQ 48.53125 56 56.46875 48.375 \nQ 64.40625 40.765625 64.40625 27.296875 \nQ 64.40625 13.8125 56.46875 6.1875 \nQ 48.53125 -1.421875 34.421875 -1.421875 \nQ 20.265625 -1.421875 12.28125 6.1875 \nQ 4.296875 13.8125 4.296875 27.296875 \nQ 4.296875 40.765625 12.28125 48.375 \nQ 20.265625 56 34.421875 56 \nz\n\" id=\"DejaVuSans-Bold-111\"/>\n      <path d=\"M 44.390625 75.984375 \nL 44.390625 64.5 \nL 34.71875 64.5 \nQ 31 64.5 29.53125 63.15625 \nQ 28.078125 61.8125 28.078125 58.5 \nL 28.078125 54.6875 \nL 43.015625 54.6875 \nL 43.015625 42.1875 \nL 28.078125 42.1875 \nL 28.078125 0 \nL 10.59375 0 \nL 10.59375 42.1875 \nL 1.90625 42.1875 \nL 1.90625 54.6875 \nL 10.59375 54.6875 \nL 10.59375 58.5 \nQ 10.59375 67.4375 15.578125 71.703125 \nQ 20.5625 75.984375 31 75.984375 \nz\n\" id=\"DejaVuSans-Bold-102\"/>\n      <path d=\"M 51.125 52.984375 \nL 51.125 39.703125 \nQ 45.515625 42.046875 40.28125 43.21875 \nQ 35.0625 44.390625 30.421875 44.390625 \nQ 25.4375 44.390625 23.015625 43.140625 \nQ 20.609375 41.890625 20.609375 39.3125 \nQ 20.609375 37.203125 22.4375 36.078125 \nQ 24.265625 34.96875 29 34.421875 \nL 32.078125 33.984375 \nQ 45.515625 32.28125 50.140625 28.375 \nQ 54.78125 24.46875 54.78125 16.109375 \nQ 54.78125 7.375 48.328125 2.96875 \nQ 41.890625 -1.421875 29.109375 -1.421875 \nQ 23.6875 -1.421875 17.890625 -0.5625 \nQ 12.109375 0.296875 6 2 \nL 6 15.28125 \nQ 11.234375 12.75 16.71875 11.46875 \nQ 22.21875 10.203125 27.875 10.203125 \nQ 33.015625 10.203125 35.59375 11.609375 \nQ 38.1875 13.03125 38.1875 15.828125 \nQ 38.1875 18.171875 36.40625 19.3125 \nQ 34.625 20.453125 29.296875 21.09375 \nL 26.21875 21.484375 \nQ 14.546875 22.953125 9.859375 26.90625 \nQ 5.171875 30.859375 5.171875 38.921875 \nQ 5.171875 47.609375 11.125 51.796875 \nQ 17.09375 56 29.390625 56 \nQ 34.234375 56 39.546875 55.265625 \nQ 44.875 54.546875 51.125 52.984375 \nz\n\" id=\"DejaVuSans-Bold-115\"/>\n      <path d=\"M 63.375 33.296875 \nL 63.375 0 \nL 45.796875 0 \nL 45.796875 5.421875 \nL 45.796875 25.390625 \nQ 45.796875 32.5625 45.484375 35.25 \nQ 45.171875 37.9375 44.390625 39.203125 \nQ 43.359375 40.921875 41.59375 41.875 \nQ 39.84375 42.828125 37.59375 42.828125 \nQ 32.125 42.828125 29 38.59375 \nQ 25.875 34.375 25.875 26.90625 \nL 25.875 0 \nL 8.40625 0 \nL 8.40625 75.984375 \nL 25.875 75.984375 \nL 25.875 46.6875 \nQ 29.828125 51.46875 34.265625 53.734375 \nQ 38.71875 56 44.09375 56 \nQ 53.5625 56 58.46875 50.1875 \nQ 63.375 44.390625 63.375 33.296875 \nz\n\" id=\"DejaVuSans-Bold-104\"/>\n      <path d=\"M 27.484375 70.21875 \nL 27.484375 54.6875 \nL 45.515625 54.6875 \nL 45.515625 42.1875 \nL 27.484375 42.1875 \nL 27.484375 19 \nQ 27.484375 15.1875 29 13.84375 \nQ 30.515625 12.5 35.015625 12.5 \nL 44 12.5 \nL 44 0 \nL 29 0 \nQ 18.65625 0 14.328125 4.3125 \nQ 10.015625 8.640625 10.015625 19 \nL 10.015625 42.1875 \nL 1.3125 42.1875 \nL 1.3125 54.6875 \nL 10.015625 54.6875 \nL 10.015625 70.21875 \nz\n\" id=\"DejaVuSans-Bold-116\"/>\n      <path d=\"M 25.875 7.90625 \nL 25.875 -20.796875 \nL 8.40625 -20.796875 \nL 8.40625 54.6875 \nL 25.875 54.6875 \nL 25.875 46.6875 \nQ 29.5 51.46875 33.890625 53.734375 \nQ 38.28125 56 44 56 \nQ 54.109375 56 60.59375 47.96875 \nQ 67.09375 39.9375 67.09375 27.296875 \nQ 67.09375 14.65625 60.59375 6.609375 \nQ 54.109375 -1.421875 44 -1.421875 \nQ 38.28125 -1.421875 33.890625 0.84375 \nQ 29.5 3.125 25.875 7.90625 \nz\nM 37.5 43.3125 \nQ 31.890625 43.3125 28.875 39.1875 \nQ 25.875 35.0625 25.875 27.296875 \nQ 25.875 19.53125 28.875 15.40625 \nQ 31.890625 11.28125 37.5 11.28125 \nQ 43.109375 11.28125 46.0625 15.375 \nQ 49.03125 19.484375 49.03125 27.296875 \nQ 49.03125 35.109375 46.0625 39.203125 \nQ 43.109375 43.3125 37.5 43.3125 \nz\n\" id=\"DejaVuSans-Bold-112\"/>\n      <path d=\"M 52.59375 52.984375 \nL 52.59375 38.71875 \nQ 49.03125 41.15625 45.4375 42.328125 \nQ 41.84375 43.5 37.984375 43.5 \nQ 30.671875 43.5 26.59375 39.234375 \nQ 22.515625 34.96875 22.515625 27.296875 \nQ 22.515625 19.625 26.59375 15.34375 \nQ 30.671875 11.078125 37.984375 11.078125 \nQ 42.09375 11.078125 45.78125 12.296875 \nQ 49.46875 13.53125 52.59375 15.921875 \nL 52.59375 1.609375 \nQ 48.484375 0.09375 44.265625 -0.65625 \nQ 40.046875 -1.421875 35.796875 -1.421875 \nQ 21 -1.421875 12.640625 6.171875 \nQ 4.296875 13.765625 4.296875 27.296875 \nQ 4.296875 40.828125 12.640625 48.40625 \nQ 21 56 35.796875 56 \nQ 40.09375 56 44.265625 55.25 \nQ 48.4375 54.5 52.59375 52.984375 \nz\n\" id=\"DejaVuSans-Bold-99\"/>\n      <path d=\"M 8.40625 75.984375 \nL 25.875 75.984375 \nL 25.875 0 \nL 8.40625 0 \nz\n\" id=\"DejaVuSans-Bold-108\"/>\n      <path d=\"M 32.90625 24.609375 \nQ 27.4375 24.609375 24.671875 22.75 \nQ 21.921875 20.90625 21.921875 17.28125 \nQ 21.921875 13.96875 24.140625 12.078125 \nQ 26.375 10.203125 30.328125 10.203125 \nQ 35.25 10.203125 38.625 13.734375 \nQ 42 17.28125 42 22.609375 \nL 42 24.609375 \nz\nM 59.625 31.203125 \nL 59.625 0 \nL 42 0 \nL 42 8.109375 \nQ 38.484375 3.125 34.078125 0.84375 \nQ 29.6875 -1.421875 23.390625 -1.421875 \nQ 14.890625 -1.421875 9.59375 3.53125 \nQ 4.296875 8.5 4.296875 16.40625 \nQ 4.296875 26.03125 10.90625 30.515625 \nQ 17.53125 35.015625 31.6875 35.015625 \nL 42 35.015625 \nL 42 36.375 \nQ 42 40.53125 38.71875 42.453125 \nQ 35.453125 44.390625 28.515625 44.390625 \nQ 22.90625 44.390625 18.0625 43.265625 \nQ 13.234375 42.140625 9.078125 39.890625 \nL 9.078125 53.21875 \nQ 14.703125 54.59375 20.359375 55.296875 \nQ 26.03125 56 31.6875 56 \nQ 46.484375 56 53.046875 50.171875 \nQ 59.625 44.34375 59.625 31.203125 \nz\n\" id=\"DejaVuSans-Bold-97\"/>\n     </defs>\n     <g style=\"fill:#262626;\" transform=\"translate(107.82 218.662188)scale(0.12 -0.12)\">\n      <use xlink:href=\"#DejaVuSans-Bold-78\"/>\n      <use x=\"83.691406\" xlink:href=\"#DejaVuSans-Bold-117\"/>\n      <use x=\"154.882812\" xlink:href=\"#DejaVuSans-Bold-109\"/>\n      <use x=\"259.082031\" xlink:href=\"#DejaVuSans-Bold-98\"/>\n      <use x=\"330.664062\" xlink:href=\"#DejaVuSans-Bold-101\"/>\n      <use x=\"398.486328\" xlink:href=\"#DejaVuSans-Bold-114\"/>\n      <use x=\"447.802734\" xlink:href=\"#DejaVuSans-Bold-32\"/>\n      <use x=\"482.617188\" xlink:href=\"#DejaVuSans-Bold-111\"/>\n      <use x=\"551.318359\" xlink:href=\"#DejaVuSans-Bold-102\"/>\n      <use x=\"594.824219\" xlink:href=\"#DejaVuSans-Bold-32\"/>\n      <use x=\"629.638672\" xlink:href=\"#DejaVuSans-Bold-115\"/>\n      <use x=\"689.160156\" xlink:href=\"#DejaVuSans-Bold-104\"/>\n      <use x=\"760.351562\" xlink:href=\"#DejaVuSans-Bold-111\"/>\n      <use x=\"829.052734\" xlink:href=\"#DejaVuSans-Bold-116\"/>\n      <use x=\"876.855469\" xlink:href=\"#DejaVuSans-Bold-115\"/>\n      <use x=\"936.376953\" xlink:href=\"#DejaVuSans-Bold-32\"/>\n      <use x=\"971.191406\" xlink:href=\"#DejaVuSans-Bold-112\"/>\n      <use x=\"1042.773438\" xlink:href=\"#DejaVuSans-Bold-101\"/>\n      <use x=\"1110.595703\" xlink:href=\"#DejaVuSans-Bold-114\"/>\n      <use x=\"1159.912109\" xlink:href=\"#DejaVuSans-Bold-32\"/>\n      <use x=\"1194.726562\" xlink:href=\"#DejaVuSans-Bold-99\"/>\n      <use x=\"1254.003906\" xlink:href=\"#DejaVuSans-Bold-108\"/>\n      <use x=\"1288.28125\" xlink:href=\"#DejaVuSans-Bold-97\"/>\n      <use x=\"1355.761719\" xlink:href=\"#DejaVuSans-Bold-115\"/>\n      <use x=\"1415.283203\" xlink:href=\"#DejaVuSans-Bold-115\"/>\n     </g>\n    </g>\n   </g>\n   <g id=\"matplotlib.axis_2\">\n    <g id=\"ytick_1\">\n     <g id=\"line2d_6\">\n      <path clip-path=\"url(#p5add93c212)\" d=\"M 56.805937 181.685024 \nL 335.805938 181.685024 \n\" style=\"fill:none;stroke:#ffffff;stroke-linecap:round;\"/>\n     </g>\n     <g id=\"text_7\">\n      <!-- 0.40 -->\n      <defs>\n       <path d=\"M 31.78125 66.40625 \nQ 24.171875 66.40625 20.328125 58.90625 \nQ 16.5 51.421875 16.5 36.375 \nQ 16.5 21.390625 20.328125 13.890625 \nQ 24.171875 6.390625 31.78125 6.390625 \nQ 39.453125 6.390625 43.28125 13.890625 \nQ 47.125 21.390625 47.125 36.375 \nQ 47.125 51.421875 43.28125 58.90625 \nQ 39.453125 66.40625 31.78125 66.40625 \nz\nM 31.78125 74.21875 \nQ 44.046875 74.21875 50.515625 64.515625 \nQ 56.984375 54.828125 56.984375 36.375 \nQ 56.984375 17.96875 50.515625 8.265625 \nQ 44.046875 -1.421875 31.78125 -1.421875 \nQ 19.53125 -1.421875 13.0625 8.265625 \nQ 6.59375 17.96875 6.59375 36.375 \nQ 6.59375 54.828125 13.0625 64.515625 \nQ 19.53125 74.21875 31.78125 74.21875 \nz\n\" id=\"DejaVuSans-48\"/>\n       <path d=\"M 10.6875 12.40625 \nL 21 12.40625 \nL 21 0 \nL 10.6875 0 \nz\n\" id=\"DejaVuSans-46\"/>\n      </defs>\n      <g style=\"fill:#262626;\" transform=\"translate(22.81375 185.864164)scale(0.11 -0.11)\">\n       <use xlink:href=\"#DejaVuSans-48\"/>\n       <use x=\"63.623047\" xlink:href=\"#DejaVuSans-46\"/>\n       <use x=\"95.410156\" xlink:href=\"#DejaVuSans-52\"/>\n       <use x=\"159.033203\" xlink:href=\"#DejaVuSans-48\"/>\n      </g>\n     </g>\n    </g>\n    <g id=\"ytick_2\">\n     <g id=\"line2d_7\">\n      <path clip-path=\"url(#p5add93c212)\" d=\"M 56.805937 153.919401 \nL 335.805938 153.919401 \n\" style=\"fill:none;stroke:#ffffff;stroke-linecap:round;\"/>\n     </g>\n     <g id=\"text_8\">\n      <!-- 0.45 -->\n      <defs>\n       <path d=\"M 10.796875 72.90625 \nL 49.515625 72.90625 \nL 49.515625 64.59375 \nL 19.828125 64.59375 \nL 19.828125 46.734375 \nQ 21.96875 47.46875 24.109375 47.828125 \nQ 26.265625 48.1875 28.421875 48.1875 \nQ 40.625 48.1875 47.75 41.5 \nQ 54.890625 34.8125 54.890625 23.390625 \nQ 54.890625 11.625 47.5625 5.09375 \nQ 40.234375 -1.421875 26.90625 -1.421875 \nQ 22.3125 -1.421875 17.546875 -0.640625 \nQ 12.796875 0.140625 7.71875 1.703125 \nL 7.71875 11.625 \nQ 12.109375 9.234375 16.796875 8.0625 \nQ 21.484375 6.890625 26.703125 6.890625 \nQ 35.15625 6.890625 40.078125 11.328125 \nQ 45.015625 15.765625 45.015625 23.390625 \nQ 45.015625 31 40.078125 35.4375 \nQ 35.15625 39.890625 26.703125 39.890625 \nQ 22.75 39.890625 18.8125 39.015625 \nQ 14.890625 38.140625 10.796875 36.28125 \nz\n\" id=\"DejaVuSans-53\"/>\n      </defs>\n      <g style=\"fill:#262626;\" transform=\"translate(22.81375 158.098542)scale(0.11 -0.11)\">\n       <use xlink:href=\"#DejaVuSans-48\"/>\n       <use x=\"63.623047\" xlink:href=\"#DejaVuSans-46\"/>\n       <use x=\"95.410156\" xlink:href=\"#DejaVuSans-52\"/>\n       <use x=\"159.033203\" xlink:href=\"#DejaVuSans-53\"/>\n      </g>\n     </g>\n    </g>\n    <g id=\"ytick_3\">\n     <g id=\"line2d_8\">\n      <path clip-path=\"url(#p5add93c212)\" d=\"M 56.805937 126.153779 \nL 335.805938 126.153779 \n\" style=\"fill:none;stroke:#ffffff;stroke-linecap:round;\"/>\n     </g>\n     <g id=\"text_9\">\n      <!-- 0.50 -->\n      <g style=\"fill:#262626;\" transform=\"translate(22.81375 130.332919)scale(0.11 -0.11)\">\n       <use xlink:href=\"#DejaVuSans-48\"/>\n       <use x=\"63.623047\" xlink:href=\"#DejaVuSans-46\"/>\n       <use x=\"95.410156\" xlink:href=\"#DejaVuSans-53\"/>\n       <use x=\"159.033203\" xlink:href=\"#DejaVuSans-48\"/>\n      </g>\n     </g>\n    </g>\n    <g id=\"ytick_4\">\n     <g id=\"line2d_9\">\n      <path clip-path=\"url(#p5add93c212)\" d=\"M 56.805937 98.388156 \nL 335.805938 98.388156 \n\" style=\"fill:none;stroke:#ffffff;stroke-linecap:round;\"/>\n     </g>\n     <g id=\"text_10\">\n      <!-- 0.55 -->\n      <g style=\"fill:#262626;\" transform=\"translate(22.81375 102.567297)scale(0.11 -0.11)\">\n       <use xlink:href=\"#DejaVuSans-48\"/>\n       <use x=\"63.623047\" xlink:href=\"#DejaVuSans-46\"/>\n       <use x=\"95.410156\" xlink:href=\"#DejaVuSans-53\"/>\n       <use x=\"159.033203\" xlink:href=\"#DejaVuSans-53\"/>\n      </g>\n     </g>\n    </g>\n    <g id=\"ytick_5\">\n     <g id=\"line2d_10\">\n      <path clip-path=\"url(#p5add93c212)\" d=\"M 56.805937 70.622534 \nL 335.805938 70.622534 \n\" style=\"fill:none;stroke:#ffffff;stroke-linecap:round;\"/>\n     </g>\n     <g id=\"text_11\">\n      <!-- 0.60 -->\n      <g style=\"fill:#262626;\" transform=\"translate(22.81375 74.801675)scale(0.11 -0.11)\">\n       <use xlink:href=\"#DejaVuSans-48\"/>\n       <use x=\"63.623047\" xlink:href=\"#DejaVuSans-46\"/>\n       <use x=\"95.410156\" xlink:href=\"#DejaVuSans-54\"/>\n       <use x=\"159.033203\" xlink:href=\"#DejaVuSans-48\"/>\n      </g>\n     </g>\n    </g>\n    <g id=\"ytick_6\">\n     <g id=\"line2d_11\">\n      <path clip-path=\"url(#p5add93c212)\" d=\"M 56.805937 42.856912 \nL 335.805938 42.856912 \n\" style=\"fill:none;stroke:#ffffff;stroke-linecap:round;\"/>\n     </g>\n     <g id=\"text_12\">\n      <!-- 0.65 -->\n      <g style=\"fill:#262626;\" transform=\"translate(22.81375 47.036052)scale(0.11 -0.11)\">\n       <use xlink:href=\"#DejaVuSans-48\"/>\n       <use x=\"63.623047\" xlink:href=\"#DejaVuSans-46\"/>\n       <use x=\"95.410156\" xlink:href=\"#DejaVuSans-54\"/>\n       <use x=\"159.033203\" xlink:href=\"#DejaVuSans-53\"/>\n      </g>\n     </g>\n    </g>\n    <g id=\"text_13\">\n     <!-- Accuracy -->\n     <defs>\n      <path d=\"M 53.421875 13.28125 \nL 24.03125 13.28125 \nL 19.390625 0 \nL 0.484375 0 \nL 27.484375 72.90625 \nL 49.90625 72.90625 \nL 76.90625 0 \nL 58.015625 0 \nz\nM 28.71875 26.8125 \nL 48.6875 26.8125 \nL 38.71875 55.8125 \nz\n\" id=\"DejaVuSans-Bold-65\"/>\n      <path d=\"M 1.21875 54.6875 \nL 18.703125 54.6875 \nL 33.40625 17.578125 \nL 45.90625 54.6875 \nL 63.375 54.6875 \nL 40.375 -5.171875 \nQ 36.921875 -14.3125 32.296875 -17.9375 \nQ 27.6875 -21.578125 20.125 -21.578125 \nL 10.015625 -21.578125 \nL 10.015625 -10.109375 \nL 15.484375 -10.109375 \nQ 19.921875 -10.109375 21.9375 -8.6875 \nQ 23.96875 -7.28125 25.09375 -3.609375 \nL 25.59375 -2.09375 \nz\n\" id=\"DejaVuSans-Bold-121\"/>\n     </defs>\n     <g style=\"fill:#262626;\" transform=\"translate(16.224375 134.3625)rotate(-90)scale(0.12 -0.12)\">\n      <use xlink:href=\"#DejaVuSans-Bold-65\"/>\n      <use x=\"77.392578\" xlink:href=\"#DejaVuSans-Bold-99\"/>\n      <use x=\"136.669922\" xlink:href=\"#DejaVuSans-Bold-99\"/>\n      <use x=\"195.947266\" xlink:href=\"#DejaVuSans-Bold-117\"/>\n      <use x=\"267.138672\" xlink:href=\"#DejaVuSans-Bold-114\"/>\n      <use x=\"316.455078\" xlink:href=\"#DejaVuSans-Bold-97\"/>\n      <use x=\"383.935547\" xlink:href=\"#DejaVuSans-Bold-99\"/>\n      <use x=\"443.212891\" xlink:href=\"#DejaVuSans-Bold-121\"/>\n     </g>\n    </g>\n   </g>\n   <g id=\"PolyCollection_1\">\n    <defs>\n     <path d=\"M 65.524687 -90.689176 \nL 65.524687 -50.372415 \nL 82.962187 -101.07789 \nL 117.837187 -137.10154 \nL 187.587187 -166.283292 \nL 327.087188 -188.954701 \nL 327.087188 -198.62696 \nL 327.087188 -198.62696 \nL 187.587187 -177.653117 \nL 117.837187 -151.581445 \nL 82.962187 -126.322843 \nL 65.524687 -90.689176 \nz\n\" id=\"m1b4a30f09d\" style=\"stroke:#55a868;stroke-opacity:0.2;\"/>\n    </defs>\n    <g clip-path=\"url(#p5add93c212)\">\n     <use style=\"fill:#55a868;fill-opacity:0.2;stroke:#55a868;stroke-opacity:0.2;\" x=\"0\" xlink:href=\"#m1b4a30f09d\" y=\"228.357813\"/>\n    </g>\n   </g>\n   <g id=\"line2d_12\">\n    <path clip-path=\"url(#p5add93c212)\" d=\"M 65.524687 157.827017 \nL 82.962187 114.657446 \nL 117.837187 84.01632 \nL 187.587187 56.389608 \nL 327.087188 34.566982 \n\" style=\"fill:none;stroke:#55a868;stroke-linecap:round;stroke-width:1.5;\"/>\n    <defs>\n     <path d=\"M 0 3 \nC 0.795609 3 1.55874 2.683901 2.12132 2.12132 \nC 2.683901 1.55874 3 0.795609 3 0 \nC 3 -0.795609 2.683901 -1.55874 2.12132 -2.12132 \nC 1.55874 -2.683901 0.795609 -3 0 -3 \nC -0.795609 -3 -1.55874 -2.683901 -2.12132 -2.12132 \nC -2.683901 -1.55874 -3 -0.795609 -3 0 \nC -3 0.795609 -2.683901 1.55874 -2.12132 2.12132 \nC -1.55874 2.683901 -0.795609 3 0 3 \nz\n\" id=\"m99820b2677\" style=\"stroke:#1a1a1a;\"/>\n    </defs>\n    <g clip-path=\"url(#p5add93c212)\">\n     <use style=\"fill:#55a868;stroke:#1a1a1a;\" x=\"65.524687\" xlink:href=\"#m99820b2677\" y=\"157.827017\"/>\n     <use style=\"fill:#55a868;stroke:#1a1a1a;\" x=\"82.962187\" xlink:href=\"#m99820b2677\" y=\"114.657446\"/>\n     <use style=\"fill:#55a868;stroke:#1a1a1a;\" x=\"117.837187\" xlink:href=\"#m99820b2677\" y=\"84.01632\"/>\n     <use style=\"fill:#55a868;stroke:#1a1a1a;\" x=\"187.587187\" xlink:href=\"#m99820b2677\" y=\"56.389608\"/>\n     <use style=\"fill:#55a868;stroke:#1a1a1a;\" x=\"327.087188\" xlink:href=\"#m99820b2677\" y=\"34.566982\"/>\n    </g>\n   </g>\n   <g id=\"patch_3\">\n    <path d=\"M 56.805937 185.398125 \nL 56.805937 22.318125 \n\" style=\"fill:none;stroke:#ffffff;stroke-linecap:square;stroke-linejoin:miter;stroke-width:1.25;\"/>\n   </g>\n   <g id=\"patch_4\">\n    <path d=\"M 335.805938 185.398125 \nL 335.805938 22.318125 \n\" style=\"fill:none;stroke:#ffffff;stroke-linecap:square;stroke-linejoin:miter;stroke-width:1.25;\"/>\n   </g>\n   <g id=\"patch_5\">\n    <path d=\"M 56.805937 185.398125 \nL 335.805938 185.398125 \n\" style=\"fill:none;stroke:#ffffff;stroke-linecap:square;stroke-linejoin:miter;stroke-width:1.25;\"/>\n   </g>\n   <g id=\"patch_6\">\n    <path d=\"M 56.805937 22.318125 \nL 335.805938 22.318125 \n\" style=\"fill:none;stroke:#ffffff;stroke-linecap:square;stroke-linejoin:miter;stroke-width:1.25;\"/>\n   </g>\n   <g id=\"text_14\">\n    <!-- Few-Shot Performance ProtoNet -->\n    <defs>\n     <path d=\"M 9.1875 72.90625 \nL 59.90625 72.90625 \nL 59.90625 58.6875 \nL 27.984375 58.6875 \nL 27.984375 45.125 \nL 58.015625 45.125 \nL 58.015625 30.90625 \nL 27.984375 30.90625 \nL 27.984375 0 \nL 9.1875 0 \nz\n\" id=\"DejaVuSans-Bold-70\"/>\n     <path d=\"M 3.515625 54.6875 \nL 20.515625 54.6875 \nL 29.6875 17 \nL 38.921875 54.6875 \nL 53.515625 54.6875 \nL 62.703125 17.390625 \nL 71.921875 54.6875 \nL 88.921875 54.6875 \nL 74.515625 0 \nL 55.421875 0 \nL 46.1875 37.59375 \nL 37.015625 0 \nL 17.921875 0 \nz\n\" id=\"DejaVuSans-Bold-119\"/>\n     <path d=\"M 5.421875 35.890625 \nL 36.078125 35.890625 \nL 36.078125 21.6875 \nL 5.421875 21.6875 \nz\n\" id=\"DejaVuSans-Bold-45\"/>\n     <path d=\"M 59.90625 70.609375 \nL 59.90625 55.171875 \nQ 53.90625 57.859375 48.1875 59.21875 \nQ 42.484375 60.59375 37.40625 60.59375 \nQ 30.671875 60.59375 27.4375 58.734375 \nQ 24.21875 56.890625 24.21875 52.984375 \nQ 24.21875 50.046875 26.390625 48.40625 \nQ 28.5625 46.78125 34.28125 45.609375 \nL 42.28125 44 \nQ 54.4375 41.546875 59.5625 36.5625 \nQ 64.703125 31.59375 64.703125 22.40625 \nQ 64.703125 10.359375 57.546875 4.46875 \nQ 50.390625 -1.421875 35.6875 -1.421875 \nQ 28.765625 -1.421875 21.78125 -0.09375 \nQ 14.796875 1.21875 7.8125 3.8125 \nL 7.8125 19.671875 \nQ 14.796875 15.96875 21.3125 14.078125 \nQ 27.828125 12.203125 33.890625 12.203125 \nQ 40.046875 12.203125 43.3125 14.25 \nQ 46.578125 16.3125 46.578125 20.125 \nQ 46.578125 23.53125 44.359375 25.390625 \nQ 42.140625 27.25 35.5 28.71875 \nL 28.21875 30.328125 \nQ 17.28125 32.671875 12.21875 37.796875 \nQ 7.171875 42.921875 7.171875 51.609375 \nQ 7.171875 62.5 14.203125 68.359375 \nQ 21.234375 74.21875 34.421875 74.21875 \nQ 40.4375 74.21875 46.78125 73.3125 \nQ 53.125 72.40625 59.90625 70.609375 \nz\n\" id=\"DejaVuSans-Bold-83\"/>\n     <path d=\"M 9.1875 72.90625 \nL 40.375 72.90625 \nQ 54.296875 72.90625 61.734375 66.71875 \nQ 69.1875 60.546875 69.1875 49.125 \nQ 69.1875 37.640625 61.734375 31.46875 \nQ 54.296875 25.296875 40.375 25.296875 \nL 27.984375 25.296875 \nL 27.984375 0 \nL 9.1875 0 \nz\nM 27.984375 59.28125 \nL 27.984375 38.921875 \nL 38.375 38.921875 \nQ 43.84375 38.921875 46.828125 41.578125 \nQ 49.8125 44.234375 49.8125 49.125 \nQ 49.8125 54 46.828125 56.640625 \nQ 43.84375 59.28125 38.375 59.28125 \nz\n\" id=\"DejaVuSans-Bold-80\"/>\n     <path d=\"M 63.375 33.296875 \nL 63.375 0 \nL 45.796875 0 \nL 45.796875 5.421875 \nL 45.796875 25.484375 \nQ 45.796875 32.5625 45.484375 35.25 \nQ 45.171875 37.9375 44.390625 39.203125 \nQ 43.359375 40.921875 41.59375 41.875 \nQ 39.84375 42.828125 37.59375 42.828125 \nQ 32.125 42.828125 29 38.59375 \nQ 25.875 34.375 25.875 26.90625 \nL 25.875 0 \nL 8.40625 0 \nL 8.40625 54.6875 \nL 25.875 54.6875 \nL 25.875 46.6875 \nQ 29.828125 51.46875 34.265625 53.734375 \nQ 38.71875 56 44.09375 56 \nQ 53.5625 56 58.46875 50.1875 \nQ 63.375 44.390625 63.375 33.296875 \nz\n\" id=\"DejaVuSans-Bold-110\"/>\n    </defs>\n    <g style=\"fill:#262626;\" transform=\"translate(86.840625 16.318125)scale(0.12 -0.12)\">\n     <use xlink:href=\"#DejaVuSans-Bold-70\"/>\n     <use x=\"64.310547\" xlink:href=\"#DejaVuSans-Bold-101\"/>\n     <use x=\"132.132812\" xlink:href=\"#DejaVuSans-Bold-119\"/>\n     <use x=\"224.515625\" xlink:href=\"#DejaVuSans-Bold-45\"/>\n     <use x=\"266.019531\" xlink:href=\"#DejaVuSans-Bold-83\"/>\n     <use x=\"338.041016\" xlink:href=\"#DejaVuSans-Bold-104\"/>\n     <use x=\"409.232422\" xlink:href=\"#DejaVuSans-Bold-111\"/>\n     <use x=\"477.933594\" xlink:href=\"#DejaVuSans-Bold-116\"/>\n     <use x=\"525.736328\" xlink:href=\"#DejaVuSans-Bold-32\"/>\n     <use x=\"560.550781\" xlink:href=\"#DejaVuSans-Bold-80\"/>\n     <use x=\"633.841797\" xlink:href=\"#DejaVuSans-Bold-101\"/>\n     <use x=\"701.664062\" xlink:href=\"#DejaVuSans-Bold-114\"/>\n     <use x=\"750.980469\" xlink:href=\"#DejaVuSans-Bold-102\"/>\n     <use x=\"794.486328\" xlink:href=\"#DejaVuSans-Bold-111\"/>\n     <use x=\"863.1875\" xlink:href=\"#DejaVuSans-Bold-114\"/>\n     <use x=\"912.503906\" xlink:href=\"#DejaVuSans-Bold-109\"/>\n     <use x=\"1016.703125\" xlink:href=\"#DejaVuSans-Bold-97\"/>\n     <use x=\"1084.183594\" xlink:href=\"#DejaVuSans-Bold-110\"/>\n     <use x=\"1155.375\" xlink:href=\"#DejaVuSans-Bold-99\"/>\n     <use x=\"1214.652344\" xlink:href=\"#DejaVuSans-Bold-101\"/>\n     <use x=\"1282.474609\" xlink:href=\"#DejaVuSans-Bold-32\"/>\n     <use x=\"1317.289062\" xlink:href=\"#DejaVuSans-Bold-80\"/>\n     <use x=\"1390.580078\" xlink:href=\"#DejaVuSans-Bold-114\"/>\n     <use x=\"1439.896484\" xlink:href=\"#DejaVuSans-Bold-111\"/>\n     <use x=\"1508.597656\" xlink:href=\"#DejaVuSans-Bold-116\"/>\n     <use x=\"1556.400391\" xlink:href=\"#DejaVuSans-Bold-111\"/>\n     <use x=\"1625.101562\" xlink:href=\"#DejaVuSans-Bold-78\"/>\n     <use x=\"1708.792969\" xlink:href=\"#DejaVuSans-Bold-101\"/>\n     <use x=\"1776.615234\" xlink:href=\"#DejaVuSans-Bold-116\"/>\n    </g>\n   </g>\n   <g id=\"legend_1\">\n    <g id=\"patch_7\">\n     <path d=\"M 64.505938 47.264063 \nL 147.504375 47.264063 \nQ 149.704375 47.264063 149.704375 45.064063 \nL 149.704375 30.018125 \nQ 149.704375 27.818125 147.504375 27.818125 \nL 64.505938 27.818125 \nQ 62.305938 27.818125 62.305938 30.018125 \nL 62.305938 45.064063 \nQ 62.305938 47.264063 64.505938 47.264063 \nz\n\" style=\"fill:#eaeaf2;opacity:0.8;stroke:#cccccc;stroke-linejoin:miter;\"/>\n    </g>\n    <g id=\"line2d_13\">\n     <path d=\"M 66.705938 36.726406 \nL 88.705938 36.726406 \n\" style=\"fill:none;stroke:#55a868;stroke-linecap:round;stroke-width:1.5;\"/>\n    </g>\n    <g id=\"line2d_14\">\n     <g>\n      <use style=\"fill:#55a868;stroke:#1a1a1a;\" x=\"77.705938\" xlink:href=\"#m99820b2677\" y=\"36.726406\"/>\n     </g>\n    </g>\n    <g id=\"text_15\">\n     <!-- ProtoNet -->\n     <defs>\n      <path d=\"M 19.671875 64.796875 \nL 19.671875 37.40625 \nL 32.078125 37.40625 \nQ 38.96875 37.40625 42.71875 40.96875 \nQ 46.484375 44.53125 46.484375 51.125 \nQ 46.484375 57.671875 42.71875 61.234375 \nQ 38.96875 64.796875 32.078125 64.796875 \nz\nM 9.8125 72.90625 \nL 32.078125 72.90625 \nQ 44.34375 72.90625 50.609375 67.359375 \nQ 56.890625 61.8125 56.890625 51.125 \nQ 56.890625 40.328125 50.609375 34.8125 \nQ 44.34375 29.296875 32.078125 29.296875 \nL 19.671875 29.296875 \nL 19.671875 0 \nL 9.8125 0 \nz\n\" id=\"DejaVuSans-80\"/>\n      <path d=\"M 41.109375 46.296875 \nQ 39.59375 47.171875 37.8125 47.578125 \nQ 36.03125 48 33.890625 48 \nQ 26.265625 48 22.1875 43.046875 \nQ 18.109375 38.09375 18.109375 28.8125 \nL 18.109375 0 \nL 9.078125 0 \nL 9.078125 54.6875 \nL 18.109375 54.6875 \nL 18.109375 46.1875 \nQ 20.953125 51.171875 25.484375 53.578125 \nQ 30.03125 56 36.53125 56 \nQ 37.453125 56 38.578125 55.875 \nQ 39.703125 55.765625 41.0625 55.515625 \nz\n\" id=\"DejaVuSans-114\"/>\n      <path d=\"M 30.609375 48.390625 \nQ 23.390625 48.390625 19.1875 42.75 \nQ 14.984375 37.109375 14.984375 27.296875 \nQ 14.984375 17.484375 19.15625 11.84375 \nQ 23.34375 6.203125 30.609375 6.203125 \nQ 37.796875 6.203125 41.984375 11.859375 \nQ 46.1875 17.53125 46.1875 27.296875 \nQ 46.1875 37.015625 41.984375 42.703125 \nQ 37.796875 48.390625 30.609375 48.390625 \nz\nM 30.609375 56 \nQ 42.328125 56 49.015625 48.375 \nQ 55.71875 40.765625 55.71875 27.296875 \nQ 55.71875 13.875 49.015625 6.21875 \nQ 42.328125 -1.421875 30.609375 -1.421875 \nQ 18.84375 -1.421875 12.171875 6.21875 \nQ 5.515625 13.875 5.515625 27.296875 \nQ 5.515625 40.765625 12.171875 48.375 \nQ 18.84375 56 30.609375 56 \nz\n\" id=\"DejaVuSans-111\"/>\n      <path d=\"M 18.3125 70.21875 \nL 18.3125 54.6875 \nL 36.8125 54.6875 \nL 36.8125 47.703125 \nL 18.3125 47.703125 \nL 18.3125 18.015625 \nQ 18.3125 11.328125 20.140625 9.421875 \nQ 21.96875 7.515625 27.59375 7.515625 \nL 36.8125 7.515625 \nL 36.8125 0 \nL 27.59375 0 \nQ 17.1875 0 13.234375 3.875 \nQ 9.28125 7.765625 9.28125 18.015625 \nL 9.28125 47.703125 \nL 2.6875 47.703125 \nL 2.6875 54.6875 \nL 9.28125 54.6875 \nL 9.28125 70.21875 \nz\n\" id=\"DejaVuSans-116\"/>\n      <path d=\"M 9.8125 72.90625 \nL 23.09375 72.90625 \nL 55.421875 11.921875 \nL 55.421875 72.90625 \nL 64.984375 72.90625 \nL 64.984375 0 \nL 51.703125 0 \nL 19.390625 60.984375 \nL 19.390625 0 \nL 9.8125 0 \nz\n\" id=\"DejaVuSans-78\"/>\n      <path d=\"M 56.203125 29.59375 \nL 56.203125 25.203125 \nL 14.890625 25.203125 \nQ 15.484375 15.921875 20.484375 11.0625 \nQ 25.484375 6.203125 34.421875 6.203125 \nQ 39.59375 6.203125 44.453125 7.46875 \nQ 49.3125 8.734375 54.109375 11.28125 \nL 54.109375 2.78125 \nQ 49.265625 0.734375 44.1875 -0.34375 \nQ 39.109375 -1.421875 33.890625 -1.421875 \nQ 20.796875 -1.421875 13.15625 6.1875 \nQ 5.515625 13.8125 5.515625 26.8125 \nQ 5.515625 40.234375 12.765625 48.109375 \nQ 20.015625 56 32.328125 56 \nQ 43.359375 56 49.78125 48.890625 \nQ 56.203125 41.796875 56.203125 29.59375 \nz\nM 47.21875 32.234375 \nQ 47.125 39.59375 43.09375 43.984375 \nQ 39.0625 48.390625 32.421875 48.390625 \nQ 24.90625 48.390625 20.390625 44.140625 \nQ 15.875 39.890625 15.1875 32.171875 \nz\n\" id=\"DejaVuSans-101\"/>\n     </defs>\n     <g style=\"fill:#262626;\" transform=\"translate(97.505938 40.576406)scale(0.11 -0.11)\">\n      <use xlink:href=\"#DejaVuSans-80\"/>\n      <use x=\"58.552734\" xlink:href=\"#DejaVuSans-114\"/>\n      <use x=\"97.416016\" xlink:href=\"#DejaVuSans-111\"/>\n      <use x=\"158.597656\" xlink:href=\"#DejaVuSans-116\"/>\n      <use x=\"197.806641\" xlink:href=\"#DejaVuSans-111\"/>\n      <use x=\"258.988281\" xlink:href=\"#DejaVuSans-78\"/>\n      <use x=\"333.792969\" xlink:href=\"#DejaVuSans-101\"/>\n      <use x=\"395.316406\" xlink:href=\"#DejaVuSans-116\"/>\n     </g>\n    </g>\n   </g>\n  </g>\n </g>\n <defs>\n  <clipPath id=\"p5add93c212\">\n   <rect height=\"163.08\" width=\"279\" x=\"56.805937\" y=\"22.318125\"/>\n  </clipPath>\n </defs>\n</svg>\n",
            "application/pdf": "[encoded data removed]"
          },
          "metadata": {}
        }
      ],
      "source": [
        "ax = plot_few_shot(protonet_accuracies, name=\"ProtoNet\", color=\"C2\")\n",
        "plt.show()\n",
        "plt.close()"
      ]
    },
    {
      "cell_type": "markdown",
      "metadata": {
        "papermill": {
          "duration": 0.04916,
          "end_time": "2021-10-10T16:37:26.050508",
          "exception": false,
          "start_time": "2021-10-10T16:37:26.001348",
          "status": "completed"
        },
        "tags": [],
        "id": "d99265a0"
      },
      "source": [
        "As we initially expected, the performance of ProtoNet indeed increases the more samples we have.\n",
        "However, even with just two samples per class, we classify almost half of the images correctly, which is well above random accuracy (10%).\n",
        "The curve shows an exponentially dampend trend, meaning that adding 2 extra examples to $k=2$ has a much higher impact than adding 2 extra samples if we already have $k=16$.\n",
        "Nonetheless, we can say that ProtoNet adapts fairly well to new classes."
      ]
    },
    {
      "cell_type": "markdown",
      "metadata": {
        "papermill": {
          "duration": 0.05058,
          "end_time": "2021-10-10T16:37:26.152476",
          "exception": false,
          "start_time": "2021-10-10T16:37:26.101896",
          "status": "completed"
        },
        "tags": [],
        "id": "41e5a54a"
      },
      "source": [
        "## MAML and ProtoMAML\n",
        "\n",
        "<div class=\"center-wrapper\"><div class=\"video-wrapper\"><iframe src=\"https://www.youtube.com/embed/xKcA6g-esH4\" title=\"YouTube video player\" frameborder=\"0\" allow=\"accelerometer; autoplay; clipboard-write; encrypted-media; gyroscope; picture-in-picture\" allowfullscreen></iframe></div></div>"
      ]
    },
    {
      "cell_type": "markdown",
      "metadata": {
        "papermill": {
          "duration": 0.051648,
          "end_time": "2021-10-10T16:37:26.254669",
          "exception": false,
          "start_time": "2021-10-10T16:37:26.203021",
          "status": "completed"
        },
        "tags": [],
        "id": "209a64ec"
      },
      "source": [
        "The second meta-learning algorithm we will look at is MAML, short for Model-Agnostic Meta-Learning.\n",
        "MAML is an optimization-based meta-learning algorithm, which means that it tries to adjust the standard optimization procedure to a few-shot setting.\n",
        "The idea of MAML is relatively simple: given a model, support and query set during training, we optimize the model for $m$ steps on the support set, and evaluate the gradients of the query loss with respect to the original model's parameters.\n",
        "For the same model, we do it for a few different support-query sets and accumulate the gradients.\n",
        "This results in learning a model that provides a good initialization for being quickly adapted to the training tasks.\n"
      ]
    },
    {
      "cell_type": "markdown",
      "metadata": {
        "papermill": {
          "duration": 0.050818,
          "end_time": "2021-10-10T16:37:26.556682",
          "exception": false,
          "start_time": "2021-10-10T16:37:26.505864",
          "status": "completed"
        },
        "tags": [],
        "id": "fcef41fa"
      },
      "source": [
        "### ProtoMAML\n",
        "\n",
        "A problem of MAML is how to design the output classification layer.\n",
        "In case all tasks have different number of classes, we need to initialize the output layer with zeros or randomly in every iteration.\n",
        "Even if we always have the same number of classes, we just start from random predictions.\n",
        "This requires several inner loop steps to reach a reasonable classification result.\n",
        "To overcome this problem, Triantafillou et al.\n",
        "(2020) propose to combine the merits of Prototypical Networks and MAML.\n",
        "Specifically, we can use prototypes to initialize our output layer to have a strong initialization.\n"
      ]
    },
    {
      "cell_type": "markdown",
      "metadata": {
        "lines_to_next_cell": 2,
        "papermill": {
          "duration": 0.050087,
          "end_time": "2021-10-10T16:37:26.657875",
          "exception": false,
          "start_time": "2021-10-10T16:37:26.607788",
          "status": "completed"
        },
        "tags": [],
        "id": "352f15a0"
      },
      "source": [
        "### ProtoMAML implementation\n",
        "\n",
        "For implementing ProtoMAML, we can follow Algorithm 2 with minor modifications.\n",
        "At each training step, we first sample a batch of tasks, and a support and query set for each task.\n",
        "In our case of few-shot classification, this means that we simply sample multiple support-query set pairs from our sampler.\n",
        "For each task, we finetune our current model on the support set.\n",
        "However, since we need to remember the original parameters for the other tasks, the outer loop gradient update and future training steps, we need to create a copy of our model, and finetune only the copy.\n",
        "We can copy a model by using standard Python functions like `deepcopy`.\n",
        "The inner loop is implemented in the function `adapt_few_shot` in the PyTorch Lightning module below.\n",
        "\n",
        "After finetuning the model, we apply it on the query set and calculate the first-order gradients with respect to the original parameters $\\theta$.\n",
        "In contrast to simple MAML, we also have to consider the gradients with respect to the output layer initialization, i.e. the prototypes, since they directly rely on $\\theta$.\n",
        "To realize this efficiently, we take two steps.\n",
        "First, we calculate the prototypes by applying the original model, i.e. not the copied model, on the support elements.\n",
        "When initializing the output layer, we detach the prototypes to stop the gradients.\n",
        "This is because in the inner loop itself, we do not want to consider gradients through the prototypes back to the original model.\n",
        "However, after the inner loop is finished, we re-attach the computation graph of the prototypes by writing `output_weight = (output_weight - init_weight).detach() + init_weight`.\n",
        "While this line does not change the value of the variable `output_weight`, it adds its dependency on the prototype initialization `init_weight`.\n",
        "Thus, if we call `.backward` on `output_weight`, we will automatically calculate the first-order gradients with respect to the prototype initialization in the original model.\n",
        "\n",
        "After calculating all gradients and summing them together in the original model, we can take a standard optimizer step.\n",
        "PyTorch Lightning's method is however designed to return a loss-tensor on which we call `.backward` first.\n",
        "Since this is not possible here, we need to perform the optimization step ourselves.\n"
      ]
    },
    {
      "cell_type": "code",
      "execution_count": 26,
      "metadata": {
        "execution": {
          "iopub.execute_input": "2021-10-10T16:37:26.777531Z",
          "iopub.status.busy": "2021-10-10T16:37:26.774558Z",
          "iopub.status.idle": "2021-10-10T16:37:26.779554Z",
          "shell.execute_reply": "2021-10-10T16:37:26.779118Z"
        },
        "lines_to_next_cell": 2,
        "papermill": {
          "duration": 0.070015,
          "end_time": "2021-10-10T16:37:26.779661",
          "exception": false,
          "start_time": "2021-10-10T16:37:26.709646",
          "status": "completed"
        },
        "tags": [],
        "id": "7fb5c1c7"
      },
      "outputs": [],
      "source": [
        "class ProtoMAML(pl.LightningModule):\n",
        "    def __init__(self, proto_dim, lr, lr_inner, lr_output, num_inner_steps):\n",
        "        \"\"\"Inputs.\n",
        "\n",
        "        proto_dim - Dimensionality of prototype feature space\n",
        "        lr - Learning rate of the outer loop Adam optimizer\n",
        "        lr_inner - Learning rate of the inner loop SGD optimizer\n",
        "        lr_output - Learning rate for the output layer in the inner loop\n",
        "        num_inner_steps - Number of inner loop updates to perform\n",
        "        \"\"\"\n",
        "        super().__init__()\n",
        "        self.save_hyperparameters()\n",
        "        self.model = get_convnet(output_size=self.hparams.proto_dim)\n",
        "\n",
        "    def configure_optimizers(self):\n",
        "        optimizer = optim.AdamW(self.parameters(), lr=self.hparams.lr)\n",
        "        scheduler = optim.lr_scheduler.MultiStepLR(optimizer, milestones=[140, 180], gamma=0.1)\n",
        "        return [optimizer], [scheduler]\n",
        "\n",
        "    def run_model(self, local_model, output_weight, output_bias, imgs, labels):\n",
        "        # Execute a model with given output layer weights and inputs\n",
        "        feats = local_model(imgs)\n",
        "        preds = F.linear(feats, output_weight, output_bias)\n",
        "        loss = F.cross_entropy(preds, labels)\n",
        "        acc = (preds.argmax(dim=1) == labels).float()\n",
        "        return loss, preds, acc\n",
        "\n",
        "    def adapt_few_shot(self, support_imgs, support_targets):\n",
        "        # Determine prototype initialization\n",
        "        support_feats = self.model(support_imgs)\n",
        "        prototypes, classes = ProtoNet.calculate_prototypes(support_feats, support_targets)\n",
        "        support_labels = (classes[None, :] == support_targets[:, None]).long().argmax(dim=-1)\n",
        "        # Create inner-loop model and optimizer\n",
        "        local_model = deepcopy(self.model)\n",
        "        local_model.train()\n",
        "        local_optim = optim.SGD(local_model.parameters(), lr=self.hparams.lr_inner)\n",
        "        local_optim.zero_grad()\n",
        "        # Create output layer weights with prototype-based initialization\n",
        "        init_weight = 2 * prototypes\n",
        "        init_bias = -torch.norm(prototypes, dim=1) ** 2\n",
        "        output_weight = init_weight.detach().requires_grad_()\n",
        "        output_bias = init_bias.detach().requires_grad_()\n",
        "\n",
        "        # Optimize inner loop model on support set\n",
        "        for _ in range(self.hparams.num_inner_steps):\n",
        "            # Determine loss on the support set\n",
        "            loss, _, _ = self.run_model(local_model, output_weight, output_bias, support_imgs, support_labels)\n",
        "            # Calculate gradients and perform inner loop update\n",
        "            loss.backward()\n",
        "            local_optim.step()\n",
        "            # Update output layer via SGD\n",
        "            output_weight.data -= self.hparams.lr_output * output_weight.grad\n",
        "            output_bias.data -= self.hparams.lr_output * output_bias.grad\n",
        "            # Reset gradients\n",
        "            local_optim.zero_grad()\n",
        "            output_weight.grad.fill_(0)\n",
        "            output_bias.grad.fill_(0)\n",
        "\n",
        "        # Re-attach computation graph of prototypes\n",
        "        output_weight = (output_weight - init_weight).detach() + init_weight\n",
        "        output_bias = (output_bias - init_bias).detach() + init_bias\n",
        "\n",
        "        return local_model, output_weight, output_bias, classes\n",
        "\n",
        "    def outer_loop(self, batch, mode=\"train\"):\n",
        "        accuracies = []\n",
        "        losses = []\n",
        "        self.model.zero_grad()\n",
        "\n",
        "        # Determine gradients for batch of tasks\n",
        "        for task_batch in batch:\n",
        "            imgs, targets = task_batch\n",
        "            support_imgs, query_imgs, support_targets, query_targets = split_batch(imgs, targets)\n",
        "            # Perform inner loop adaptation\n",
        "            local_model, output_weight, output_bias, classes = self.adapt_few_shot(support_imgs, support_targets)\n",
        "            # Determine loss of query set\n",
        "            query_labels = (classes[None, :] == query_targets[:, None]).long().argmax(dim=-1)\n",
        "            loss, preds, acc = self.run_model(local_model, output_weight, output_bias, query_imgs, query_labels)\n",
        "            # Calculate gradients for query set loss\n",
        "            if mode == \"train\":\n",
        "                loss.backward()\n",
        "\n",
        "                for p_global, p_local in zip(self.model.parameters(), local_model.parameters()):\n",
        "                    p_global.grad += p_local.grad  # First-order approx. -> add gradients of finetuned and base model\n",
        "\n",
        "            accuracies.append(acc.mean().detach())\n",
        "            losses.append(loss.detach())\n",
        "\n",
        "        # Perform update of base model\n",
        "        if mode == \"train\":\n",
        "            opt = self.optimizers()\n",
        "            opt.step()\n",
        "            opt.zero_grad()\n",
        "\n",
        "        self.log(\"%s_loss\" % mode, sum(losses) / len(losses))\n",
        "        self.log(\"%s_acc\" % mode, sum(accuracies) / len(accuracies))\n",
        "\n",
        "    def training_step(self, batch, batch_idx):\n",
        "        self.outer_loop(batch, mode=\"train\")\n",
        "        return None  # Returning None means we skip the default training optimizer steps by PyTorch Lightning\n",
        "\n",
        "    def validation_step(self, batch, batch_idx):\n",
        "        # Validation requires to finetune a model, hence we need to enable gradients\n",
        "        torch.set_grad_enabled(True)\n",
        "        self.outer_loop(batch, mode=\"val\")\n",
        "        torch.set_grad_enabled(False)"
      ]
    },
    {
      "cell_type": "markdown",
      "metadata": {
        "lines_to_next_cell": 2,
        "papermill": {
          "duration": 0.049445,
          "end_time": "2021-10-10T16:37:26.879819",
          "exception": false,
          "start_time": "2021-10-10T16:37:26.830374",
          "status": "completed"
        },
        "tags": [],
        "id": "175f6c04"
      },
      "source": [
        "### Training\n",
        "\n",
        "To train ProtoMAML, we need to change our sampling slightly.\n",
        "Instead of a single support-query set batch, we need to sample multiple.\n",
        "To implement this, we yet use another Sampler which combines multiple batches from a `FewShotBatchSampler`, and returns it afterwards.\n",
        "Additionally, we define a `collate_fn` for our data loader which takes the stack of support-query set images, and returns the tasks as a list.\n",
        "This makes it easier to process in our PyTorch Lightning module before.\n",
        "The implementation of the sampler can be found below."
      ]
    },
    {
      "cell_type": "code",
      "execution_count": 27,
      "metadata": {
        "execution": {
          "iopub.execute_input": "2021-10-10T16:37:26.989336Z",
          "iopub.status.busy": "2021-10-10T16:37:26.988844Z",
          "iopub.status.idle": "2021-10-10T16:37:26.990910Z",
          "shell.execute_reply": "2021-10-10T16:37:26.990506Z"
        },
        "papermill": {
          "duration": 0.059649,
          "end_time": "2021-10-10T16:37:26.991013",
          "exception": false,
          "start_time": "2021-10-10T16:37:26.931364",
          "status": "completed"
        },
        "tags": [],
        "id": "a64ff4e8"
      },
      "outputs": [],
      "source": [
        "class TaskBatchSampler:\n",
        "    def __init__(self, dataset_targets, batch_size, N_way, K_shot, include_query=False, shuffle=True):\n",
        "        \"\"\"\n",
        "        Inputs:\n",
        "            dataset_targets - PyTorch tensor of the labels of the data elements.\n",
        "            batch_size - Number of tasks to aggregate in a batch\n",
        "            N_way - Number of classes to sample per batch.\n",
        "            K_shot - Number of examples to sample per class in the batch.\n",
        "            include_query - If True, returns batch of size N_way*K_shot*2, which\n",
        "                            can be split into support and query set. Simplifies\n",
        "                            the implementation of sampling the same classes but\n",
        "                            distinct examples for support and query set.\n",
        "            shuffle - If True, examples and classes are newly shuffled in each\n",
        "                      iteration (for training)\n",
        "        \"\"\"\n",
        "        super().__init__()\n",
        "        self.batch_sampler = FewShotBatchSampler(dataset_targets, N_way, K_shot, include_query, shuffle)\n",
        "        self.task_batch_size = batch_size\n",
        "        self.local_batch_size = self.batch_sampler.batch_size\n",
        "\n",
        "    def __iter__(self):\n",
        "        # Aggregate multiple batches before returning the indices\n",
        "        batch_list = []\n",
        "        for batch_idx, batch in enumerate(self.batch_sampler):\n",
        "            batch_list.extend(batch)\n",
        "            if (batch_idx + 1) % self.task_batch_size == 0:\n",
        "                yield batch_list\n",
        "                batch_list = []\n",
        "\n",
        "    def __len__(self):\n",
        "        return len(self.batch_sampler) // self.task_batch_size\n",
        "\n",
        "    def get_collate_fn(self):\n",
        "        # Returns a collate function that converts one big tensor into a list of task-specific tensors\n",
        "        def collate_fn(item_list):\n",
        "            imgs = torch.stack([img for img, target in item_list], dim=0)\n",
        "            targets = torch.stack([target for img, target in item_list], dim=0)\n",
        "            imgs = imgs.chunk(self.task_batch_size, dim=0)\n",
        "            targets = targets.chunk(self.task_batch_size, dim=0)\n",
        "            return list(zip(imgs, targets))\n",
        "\n",
        "        return collate_fn"
      ]
    },
    {
      "cell_type": "markdown",
      "metadata": {
        "papermill": {
          "duration": 0.050761,
          "end_time": "2021-10-10T16:37:27.091732",
          "exception": false,
          "start_time": "2021-10-10T16:37:27.040971",
          "status": "completed"
        },
        "tags": [],
        "id": "a8e833ad"
      },
      "source": [
        "The creation of the data loaders is with this sampler straight-forward.\n",
        "Note that since many images need to loaded for a training batch, it is recommended to use less workers than usual."
      ]
    },
    {
      "cell_type": "code",
      "execution_count": 28,
      "metadata": {
        "execution": {
          "iopub.execute_input": "2021-10-10T16:37:27.195877Z",
          "iopub.status.busy": "2021-10-10T16:37:27.195402Z",
          "iopub.status.idle": "2021-10-10T16:37:27.234232Z",
          "shell.execute_reply": "2021-10-10T16:37:27.233821Z"
        },
        "papermill": {
          "duration": 0.092572,
          "end_time": "2021-10-10T16:37:27.234347",
          "exception": false,
          "start_time": "2021-10-10T16:37:27.141775",
          "status": "completed"
        },
        "tags": [],
        "id": "579696ce"
      },
      "outputs": [],
      "source": [
        "# Training constant (same as for ProtoNet)\n",
        "N_WAY = 5\n",
        "K_SHOT = 4\n",
        "\n",
        "# Training set\n",
        "train_protomaml_sampler = TaskBatchSampler(\n",
        "    train_set.targets, include_query=True, N_way=N_WAY, K_shot=K_SHOT, batch_size=16\n",
        ")\n",
        "train_protomaml_loader = data.DataLoader(\n",
        "    train_set, batch_sampler=train_protomaml_sampler, collate_fn=train_protomaml_sampler.get_collate_fn(), num_workers=2\n",
        ")\n",
        "\n",
        "# Validation set\n",
        "val_protomaml_sampler = TaskBatchSampler(\n",
        "    val_set.targets,\n",
        "    include_query=True,\n",
        "    N_way=N_WAY,\n",
        "    K_shot=K_SHOT,\n",
        "    batch_size=1,  # We do not update the parameters, hence the batch size is irrelevant here\n",
        "    shuffle=False,\n",
        ")\n",
        "val_protomaml_loader = data.DataLoader(\n",
        "    val_set, batch_sampler=val_protomaml_sampler, collate_fn=val_protomaml_sampler.get_collate_fn(), num_workers=2\n",
        ")"
      ]
    },
    {
      "cell_type": "markdown",
      "metadata": {
        "papermill": {
          "duration": 0.04969,
          "end_time": "2021-10-10T16:37:27.335586",
          "exception": false,
          "start_time": "2021-10-10T16:37:27.285896",
          "status": "completed"
        },
        "tags": [],
        "id": "483d09a8"
      },
      "source": [
        "Now, we are ready to train our ProtoMAML.\n",
        "We use the same feature space size as for ProtoNet, but can use a higher learning rate since the outer loop gradients are accumulated over 16 batches.\n",
        "The inner loop learning rate is set to 0.1, which is much higher than the outer loop lr because we use SGD in the inner loop instead of Adam.\n",
        "Commonly, the learning rate for the output layer is higher than the base model is the base model is very deep or pre-trained.\n",
        "However, for our setup, we observed no noticable impact of using a different learning rate than the base model.\n",
        "The number of inner loop updates is another crucial hyperparmaeter, and depends on the similarity of our training tasks.\n",
        "Since all tasks are on images from the same dataset, we notice that a single inner loop update achieves similar performance as 3 or 5 while training considerably faster.\n",
        "However, especially in RL and NLP, larger number of inner loop steps are often needed."
      ]
    },
    {
      "cell_type": "code",
      "execution_count": 29,
      "metadata": {
        "execution": {
          "iopub.execute_input": "2021-10-10T16:37:27.441153Z",
          "iopub.status.busy": "2021-10-10T16:37:27.440678Z",
          "iopub.status.idle": "2021-10-10T16:37:27.503563Z",
          "shell.execute_reply": "2021-10-10T16:37:27.503082Z"
        },
        "papermill": {
          "duration": 0.118168,
          "end_time": "2021-10-10T16:37:27.503674",
          "exception": false,
          "start_time": "2021-10-10T16:37:27.385506",
          "status": "completed"
        },
        "tags": [],
        "id": "f65be6c5",
        "outputId": "cc502560-1bd6-4f38-acb8-96747ee6f01a",
        "colab": {
          "base_uri": "https://localhost:8080/"
        }
      },
      "outputs": [
        {
          "output_type": "stream",
          "name": "stderr",
          "text": [
            "/usr/local/lib/python3.8/dist-packages/pytorch_lightning/trainer/connectors/accelerator_connector.py:446: LightningDeprecationWarning: Setting `Trainer(gpus=0)` is deprecated in v1.7 and will be removed in v2.0. Please use `Trainer(accelerator='gpu', devices=0)` instead.\n",
            "  rank_zero_deprecation(\n",
            "INFO:pytorch_lightning.utilities.rank_zero:GPU available: False, used: False\n",
            "INFO:pytorch_lightning.utilities.rank_zero:TPU available: False, using: 0 TPU cores\n",
            "INFO:pytorch_lightning.utilities.rank_zero:IPU available: False, using: 0 IPUs\n",
            "INFO:pytorch_lightning.utilities.rank_zero:HPU available: False, using: 0 HPUs\n"
          ]
        },
        {
          "output_type": "stream",
          "name": "stdout",
          "text": [
            "Found pretrained model at saved_models/MetaLearning/ProtoMAML.ckpt, loading...\n"
          ]
        }
      ],
      "source": [
        "protomaml_model = train_model(\n",
        "    ProtoMAML,\n",
        "    proto_dim=64,\n",
        "    lr=1e-3,\n",
        "    lr_inner=0.1,\n",
        "    lr_output=0.1,\n",
        "    num_inner_steps=1,  # Often values between 1 and 10\n",
        "    train_loader=train_protomaml_loader,\n",
        "    val_loader=val_protomaml_loader,\n",
        ")"
      ]
    },
    {
      "cell_type": "markdown",
      "metadata": {
        "lines_to_next_cell": 2,
        "papermill": {
          "duration": 0.051235,
          "end_time": "2021-10-10T16:37:27.917147",
          "exception": false,
          "start_time": "2021-10-10T16:37:27.865912",
          "status": "completed"
        },
        "tags": [],
        "id": "1ef9ae57"
      },
      "source": [
        "### Testing\n",
        "\n",
        "We test ProtoMAML in the same manner as ProtoNet, namely by picking random examples in the test set as support sets and use the rest of the dataset as query set.\n",
        "Instead of just calculating the prototypes for all examples, we need to finetune a separate model for each support set.\n",
        "This is why this process is more expensive than ProtoNet, and in our case, testing $k=\\{2,4,8,16,32\\}$ can take almost an hour.\n",
        "Hence, we provide evaluation files besides the pretrained models."
      ]
    },
    {
      "cell_type": "code",
      "execution_count": 30,
      "metadata": {
        "execution": {
          "iopub.execute_input": "2021-10-10T16:37:28.039732Z",
          "iopub.status.busy": "2021-10-10T16:37:28.039190Z",
          "iopub.status.idle": "2021-10-10T16:37:28.041339Z",
          "shell.execute_reply": "2021-10-10T16:37:28.040864Z"
        },
        "papermill": {
          "duration": 0.070613,
          "end_time": "2021-10-10T16:37:28.041443",
          "exception": false,
          "start_time": "2021-10-10T16:37:27.970830",
          "status": "completed"
        },
        "tags": [],
        "id": "24b90577"
      },
      "outputs": [],
      "source": [
        "def test_protomaml(model, dataset, k_shot=4):\n",
        "    pl.seed_everything(42)\n",
        "    model = model.to(device)\n",
        "    num_classes = dataset.targets.unique().shape[0]\n",
        "\n",
        "    # Data loader for full test set as query set\n",
        "    full_dataloader = data.DataLoader(dataset, batch_size=128, num_workers=4, shuffle=False, drop_last=False)\n",
        "    # Data loader for sampling support sets\n",
        "    sampler = FewShotBatchSampler(\n",
        "        dataset.targets, include_query=False, N_way=num_classes, K_shot=k_shot, shuffle=False, shuffle_once=False\n",
        "    )\n",
        "    sample_dataloader = data.DataLoader(dataset, batch_sampler=sampler, num_workers=2)\n",
        "\n",
        "    # We iterate through the full dataset in two manners. First, to select the k-shot batch.\n",
        "    # Second, the evaluate the model on all other examples\n",
        "    accuracies = []\n",
        "    for (support_imgs, support_targets), support_indices in tqdm(\n",
        "        zip(sample_dataloader, sampler), \"Performing few-shot finetuning\"\n",
        "    ):\n",
        "        support_imgs = support_imgs.to(device)\n",
        "        support_targets = support_targets.to(device)\n",
        "        # Finetune new model on support set\n",
        "        local_model, output_weight, output_bias, classes = model.adapt_few_shot(support_imgs, support_targets)\n",
        "        with torch.no_grad():  # No gradients for query set needed\n",
        "            local_model.eval()\n",
        "            batch_acc = torch.zeros((0,), dtype=torch.float32, device=device)\n",
        "            # Evaluate all examples in test dataset\n",
        "            for query_imgs, query_targets in full_dataloader:\n",
        "                query_imgs = query_imgs.to(device)\n",
        "                query_targets = query_targets.to(device)\n",
        "                query_labels = (classes[None, :] == query_targets[:, None]).long().argmax(dim=-1)\n",
        "                _, _, acc = model.run_model(local_model, output_weight, output_bias, query_imgs, query_labels)\n",
        "                batch_acc = torch.cat([batch_acc, acc.detach()], dim=0)\n",
        "            # Exclude support set elements\n",
        "            for s_idx in support_indices:\n",
        "                batch_acc[s_idx] = 0\n",
        "            batch_acc = batch_acc.sum().item() / (batch_acc.shape[0] - len(support_indices))\n",
        "            accuracies.append(batch_acc)\n",
        "    return mean(accuracies), stdev(accuracies)"
      ]
    },
    {
      "cell_type": "markdown",
      "metadata": {
        "papermill": {
          "duration": 0.051584,
          "end_time": "2021-10-10T16:37:28.144161",
          "exception": false,
          "start_time": "2021-10-10T16:37:28.092577",
          "status": "completed"
        },
        "tags": [],
        "id": "d580df69"
      },
      "source": [
        "In contrast to training, it is recommended to use many more inner loop updates during testing.\n",
        "During training, we are not interested in getting the best model from the inner loop, but the model which can provide the best gradients.\n",
        "Hence, one update might be already sufficient in training, but for testing, it was often observed that larger number of updates can give a considerable performance boost.\n",
        "Thus, we change the inner loop updates to 200 before testing."
      ]
    },
    {
      "cell_type": "code",
      "execution_count": 31,
      "metadata": {
        "execution": {
          "iopub.execute_input": "2021-10-10T16:37:28.249335Z",
          "iopub.status.busy": "2021-10-10T16:37:28.248861Z",
          "iopub.status.idle": "2021-10-10T16:37:28.251118Z",
          "shell.execute_reply": "2021-10-10T16:37:28.250650Z"
        },
        "papermill": {
          "duration": 0.056293,
          "end_time": "2021-10-10T16:37:28.251218",
          "exception": false,
          "start_time": "2021-10-10T16:37:28.194925",
          "status": "completed"
        },
        "tags": [],
        "id": "a3a77c03"
      },
      "outputs": [],
      "source": [
        "protomaml_model.hparams.num_inner_steps = 200"
      ]
    },
    {
      "cell_type": "markdown",
      "metadata": {
        "papermill": {
          "duration": 0.050389,
          "end_time": "2021-10-10T16:37:28.352727",
          "exception": false,
          "start_time": "2021-10-10T16:37:28.302338",
          "status": "completed"
        },
        "tags": [],
        "id": "5c8e75e8"
      },
      "source": [
        "Now, we can test our model.\n",
        "For the pre-trained models, we provide a json file with the results to reduce evaluation time."
      ]
    },
    {
      "cell_type": "code",
      "execution_count": 32,
      "metadata": {
        "execution": {
          "iopub.execute_input": "2021-10-10T16:37:28.464792Z",
          "iopub.status.busy": "2021-10-10T16:37:28.464316Z",
          "iopub.status.idle": "2021-10-10T16:37:28.467735Z",
          "shell.execute_reply": "2021-10-10T16:37:28.467269Z"
        },
        "papermill": {
          "duration": 0.059702,
          "end_time": "2021-10-10T16:37:28.467837",
          "exception": false,
          "start_time": "2021-10-10T16:37:28.408135",
          "status": "completed"
        },
        "tags": [],
        "id": "a2ec75b4",
        "outputId": "6dfde5de-efa0-45da-a2df-9948d9cd1dae",
        "colab": {
          "base_uri": "https://localhost:8080/"
        }
      },
      "outputs": [
        {
          "output_type": "stream",
          "name": "stdout",
          "text": [
            "Accuracy for k=2: 42.89% (+-3.82%)\n",
            "Accuracy for k=4: 52.27% (+-2.72%)\n",
            "Accuracy for k=8: 59.23% (+-1.50%)\n",
            "Accuracy for k=16: 63.94% (+-1.24%)\n",
            "Accuracy for k=32: 67.57% (+-0.90%)\n"
          ]
        }
      ],
      "source": [
        "protomaml_result_file = os.path.join(CHECKPOINT_PATH, \"protomaml_fewshot.json\")\n",
        "\n",
        "if os.path.isfile(protomaml_result_file):\n",
        "    # Load pre-computed results\n",
        "    with open(protomaml_result_file) as f:\n",
        "        protomaml_accuracies = json.load(f)\n",
        "    protomaml_accuracies = {int(k): v for k, v in protomaml_accuracies.items()}\n",
        "else:\n",
        "    # Perform same experiments as for ProtoNet\n",
        "    protomaml_accuracies = dict()\n",
        "    for k in [2, 4, 8, 16, 32]:\n",
        "        protomaml_accuracies[k] = test_protomaml(protomaml_model, test_set, k_shot=k)\n",
        "    # Export results\n",
        "    with open(protomaml_result_file, \"w\") as f:\n",
        "        json.dump(protomaml_accuracies, f, indent=4)\n",
        "\n",
        "for k in protomaml_accuracies:\n",
        "    print(\n",
        "        \"Accuracy for k=%i: %4.2f%% (+-%4.2f%%)\"\n",
        "        % (k, 100.0 * protomaml_accuracies[k][0], 100.0 * protomaml_accuracies[k][1])\n",
        "    )"
      ]
    },
    {
      "cell_type": "markdown",
      "metadata": {
        "papermill": {
          "duration": 0.051095,
          "end_time": "2021-10-10T16:37:28.569910",
          "exception": false,
          "start_time": "2021-10-10T16:37:28.518815",
          "status": "completed"
        },
        "tags": [],
        "id": "a3b76b70"
      },
      "source": [
        "Again, let's plot the results in our plot from before."
      ]
    },
    {
      "cell_type": "code",
      "execution_count": 33,
      "metadata": {
        "execution": {
          "iopub.execute_input": "2021-10-10T16:37:28.700295Z",
          "iopub.status.busy": "2021-10-10T16:37:28.688544Z",
          "iopub.status.idle": "2021-10-10T16:37:28.982037Z",
          "shell.execute_reply": "2021-10-10T16:37:28.981554Z"
        },
        "papermill": {
          "duration": 0.36056,
          "end_time": "2021-10-10T16:37:28.982151",
          "exception": false,
          "start_time": "2021-10-10T16:37:28.621591",
          "status": "completed"
        },
        "tags": [],
        "id": "c19a1cd0",
        "outputId": "23ab17fd-0713-48d1-a7d9-f861338c9653",
        "colab": {
          "base_uri": "https://localhost:8080/",
          "height": 0
        }
      },
      "outputs": [
        {
          "output_type": "display_data",
          "data": {
            "text/plain": [
              "<Figure size 360x216 with 1 Axes>"
            ],
            "image/svg+xml": "<?xml version=\"1.0\" encoding=\"utf-8\" standalone=\"no\"?>\n<!DOCTYPE svg PUBLIC \"-//W3C//DTD SVG 1.1//EN\"\n  \"http://www.w3.org/Graphics/SVG/1.1/DTD/svg11.dtd\">\n<!-- Created with matplotlib (https://matplotlib.org/) -->\n<svg height=\"228.357813pt\" version=\"1.1\" viewBox=\"0 0 368.640937 228.357813\" width=\"368.640937pt\" xmlns=\"http://www.w3.org/2000/svg\" xmlns:xlink=\"http://www.w3.org/1999/xlink\">\n <defs>\n  <style type=\"text/css\">\n*{stroke-linecap:butt;stroke-linejoin:round;}\n  </style>\n </defs>\n <g id=\"figure_1\">\n  <g id=\"patch_1\">\n   <path d=\"M 0 228.357813 \nL 368.640937 228.357813 \nL 368.640937 0 \nL 0 0 \nz\n\" style=\"fill:#ffffff;\"/>\n  </g>\n  <g id=\"axes_1\">\n   <g id=\"patch_2\">\n    <path d=\"M 56.805937 185.398125 \nL 335.805938 185.398125 \nL 335.805938 22.318125 \nL 56.805937 22.318125 \nz\n\" style=\"fill:#eaeaf2;\"/>\n   </g>\n   <g id=\"matplotlib.axis_1\">\n    <g id=\"xtick_1\">\n     <g id=\"line2d_1\">\n      <path clip-path=\"url(#p53e6065723)\" d=\"M 65.524687 185.398125 \nL 65.524687 22.318125 \n\" style=\"fill:none;stroke:#ffffff;stroke-linecap:round;\"/>\n     </g>\n     <g id=\"text_1\">\n      <!-- 2 -->\n      <defs>\n       <path d=\"M 19.1875 8.296875 \nL 53.609375 8.296875 \nL 53.609375 0 \nL 7.328125 0 \nL 7.328125 8.296875 \nQ 12.9375 14.109375 22.625 23.890625 \nQ 32.328125 33.6875 34.8125 36.53125 \nQ 39.546875 41.84375 41.421875 45.53125 \nQ 43.3125 49.21875 43.3125 52.78125 \nQ 43.3125 58.59375 39.234375 62.25 \nQ 35.15625 65.921875 28.609375 65.921875 \nQ 23.96875 65.921875 18.8125 64.3125 \nQ 13.671875 62.703125 7.8125 59.421875 \nL 7.8125 69.390625 \nQ 13.765625 71.78125 18.9375 73 \nQ 24.125 74.21875 28.421875 74.21875 \nQ 39.75 74.21875 46.484375 68.546875 \nQ 53.21875 62.890625 53.21875 53.421875 \nQ 53.21875 48.921875 51.53125 44.890625 \nQ 49.859375 40.875 45.40625 35.40625 \nQ 44.1875 33.984375 37.640625 27.21875 \nQ 31.109375 20.453125 19.1875 8.296875 \nz\n\" id=\"DejaVuSans-50\"/>\n      </defs>\n      <g style=\"fill:#262626;\" transform=\"translate(62.025312 203.256406)scale(0.11 -0.11)\">\n       <use xlink:href=\"#DejaVuSans-50\"/>\n      </g>\n     </g>\n    </g>\n    <g id=\"xtick_2\">\n     <g id=\"line2d_2\">\n      <path clip-path=\"url(#p53e6065723)\" d=\"M 82.962187 185.398125 \nL 82.962187 22.318125 \n\" style=\"fill:none;stroke:#ffffff;stroke-linecap:round;\"/>\n     </g>\n     <g id=\"text_2\">\n      <!-- 4 -->\n      <defs>\n       <path d=\"M 37.796875 64.3125 \nL 12.890625 25.390625 \nL 37.796875 25.390625 \nz\nM 35.203125 72.90625 \nL 47.609375 72.90625 \nL 47.609375 25.390625 \nL 58.015625 25.390625 \nL 58.015625 17.1875 \nL 47.609375 17.1875 \nL 47.609375 0 \nL 37.796875 0 \nL 37.796875 17.1875 \nL 4.890625 17.1875 \nL 4.890625 26.703125 \nz\n\" id=\"DejaVuSans-52\"/>\n      </defs>\n      <g style=\"fill:#262626;\" transform=\"translate(79.462812 203.256406)scale(0.11 -0.11)\">\n       <use xlink:href=\"#DejaVuSans-52\"/>\n      </g>\n     </g>\n    </g>\n    <g id=\"xtick_3\">\n     <g id=\"line2d_3\">\n      <path clip-path=\"url(#p53e6065723)\" d=\"M 117.837187 185.398125 \nL 117.837187 22.318125 \n\" style=\"fill:none;stroke:#ffffff;stroke-linecap:round;\"/>\n     </g>\n     <g id=\"text_3\">\n      <!-- 8 -->\n      <defs>\n       <path d=\"M 31.78125 34.625 \nQ 24.75 34.625 20.71875 30.859375 \nQ 16.703125 27.09375 16.703125 20.515625 \nQ 16.703125 13.921875 20.71875 10.15625 \nQ 24.75 6.390625 31.78125 6.390625 \nQ 38.8125 6.390625 42.859375 10.171875 \nQ 46.921875 13.96875 46.921875 20.515625 \nQ 46.921875 27.09375 42.890625 30.859375 \nQ 38.875 34.625 31.78125 34.625 \nz\nM 21.921875 38.8125 \nQ 15.578125 40.375 12.03125 44.71875 \nQ 8.5 49.078125 8.5 55.328125 \nQ 8.5 64.0625 14.71875 69.140625 \nQ 20.953125 74.21875 31.78125 74.21875 \nQ 42.671875 74.21875 48.875 69.140625 \nQ 55.078125 64.0625 55.078125 55.328125 \nQ 55.078125 49.078125 51.53125 44.71875 \nQ 48 40.375 41.703125 38.8125 \nQ 48.828125 37.15625 52.796875 32.3125 \nQ 56.78125 27.484375 56.78125 20.515625 \nQ 56.78125 9.90625 50.3125 4.234375 \nQ 43.84375 -1.421875 31.78125 -1.421875 \nQ 19.734375 -1.421875 13.25 4.234375 \nQ 6.78125 9.90625 6.78125 20.515625 \nQ 6.78125 27.484375 10.78125 32.3125 \nQ 14.796875 37.15625 21.921875 38.8125 \nz\nM 18.3125 54.390625 \nQ 18.3125 48.734375 21.84375 45.5625 \nQ 25.390625 42.390625 31.78125 42.390625 \nQ 38.140625 42.390625 41.71875 45.5625 \nQ 45.3125 48.734375 45.3125 54.390625 \nQ 45.3125 60.0625 41.71875 63.234375 \nQ 38.140625 66.40625 31.78125 66.40625 \nQ 25.390625 66.40625 21.84375 63.234375 \nQ 18.3125 60.0625 18.3125 54.390625 \nz\n\" id=\"DejaVuSans-56\"/>\n      </defs>\n      <g style=\"fill:#262626;\" transform=\"translate(114.337812 203.256406)scale(0.11 -0.11)\">\n       <use xlink:href=\"#DejaVuSans-56\"/>\n      </g>\n     </g>\n    </g>\n    <g id=\"xtick_4\">\n     <g id=\"line2d_4\">\n      <path clip-path=\"url(#p53e6065723)\" d=\"M 187.587187 185.398125 \nL 187.587187 22.318125 \n\" style=\"fill:none;stroke:#ffffff;stroke-linecap:round;\"/>\n     </g>\n     <g id=\"text_4\">\n      <!-- 16 -->\n      <defs>\n       <path d=\"M 12.40625 8.296875 \nL 28.515625 8.296875 \nL 28.515625 63.921875 \nL 10.984375 60.40625 \nL 10.984375 69.390625 \nL 28.421875 72.90625 \nL 38.28125 72.90625 \nL 38.28125 8.296875 \nL 54.390625 8.296875 \nL 54.390625 0 \nL 12.40625 0 \nz\n\" id=\"DejaVuSans-49\"/>\n       <path d=\"M 33.015625 40.375 \nQ 26.375 40.375 22.484375 35.828125 \nQ 18.609375 31.296875 18.609375 23.390625 \nQ 18.609375 15.53125 22.484375 10.953125 \nQ 26.375 6.390625 33.015625 6.390625 \nQ 39.65625 6.390625 43.53125 10.953125 \nQ 47.40625 15.53125 47.40625 23.390625 \nQ 47.40625 31.296875 43.53125 35.828125 \nQ 39.65625 40.375 33.015625 40.375 \nz\nM 52.59375 71.296875 \nL 52.59375 62.3125 \nQ 48.875 64.0625 45.09375 64.984375 \nQ 41.3125 65.921875 37.59375 65.921875 \nQ 27.828125 65.921875 22.671875 59.328125 \nQ 17.53125 52.734375 16.796875 39.40625 \nQ 19.671875 43.65625 24.015625 45.921875 \nQ 28.375 48.1875 33.59375 48.1875 \nQ 44.578125 48.1875 50.953125 41.515625 \nQ 57.328125 34.859375 57.328125 23.390625 \nQ 57.328125 12.15625 50.6875 5.359375 \nQ 44.046875 -1.421875 33.015625 -1.421875 \nQ 20.359375 -1.421875 13.671875 8.265625 \nQ 6.984375 17.96875 6.984375 36.375 \nQ 6.984375 53.65625 15.1875 63.9375 \nQ 23.390625 74.21875 37.203125 74.21875 \nQ 40.921875 74.21875 44.703125 73.484375 \nQ 48.484375 72.75 52.59375 71.296875 \nz\n\" id=\"DejaVuSans-54\"/>\n      </defs>\n      <g style=\"fill:#262626;\" transform=\"translate(180.588437 203.256406)scale(0.11 -0.11)\">\n       <use xlink:href=\"#DejaVuSans-49\"/>\n       <use x=\"63.623047\" xlink:href=\"#DejaVuSans-54\"/>\n      </g>\n     </g>\n    </g>\n    <g id=\"xtick_5\">\n     <g id=\"line2d_5\">\n      <path clip-path=\"url(#p53e6065723)\" d=\"M 327.087188 185.398125 \nL 327.087188 22.318125 \n\" style=\"fill:none;stroke:#ffffff;stroke-linecap:round;\"/>\n     </g>\n     <g id=\"text_5\">\n      <!-- 32 -->\n      <defs>\n       <path d=\"M 40.578125 39.3125 \nQ 47.65625 37.796875 51.625 33 \nQ 55.609375 28.21875 55.609375 21.1875 \nQ 55.609375 10.40625 48.1875 4.484375 \nQ 40.765625 -1.421875 27.09375 -1.421875 \nQ 22.515625 -1.421875 17.65625 -0.515625 \nQ 12.796875 0.390625 7.625 2.203125 \nL 7.625 11.71875 \nQ 11.71875 9.328125 16.59375 8.109375 \nQ 21.484375 6.890625 26.8125 6.890625 \nQ 36.078125 6.890625 40.9375 10.546875 \nQ 45.796875 14.203125 45.796875 21.1875 \nQ 45.796875 27.640625 41.28125 31.265625 \nQ 36.765625 34.90625 28.71875 34.90625 \nL 20.21875 34.90625 \nL 20.21875 43.015625 \nL 29.109375 43.015625 \nQ 36.375 43.015625 40.234375 45.921875 \nQ 44.09375 48.828125 44.09375 54.296875 \nQ 44.09375 59.90625 40.109375 62.90625 \nQ 36.140625 65.921875 28.71875 65.921875 \nQ 24.65625 65.921875 20.015625 65.03125 \nQ 15.375 64.15625 9.8125 62.3125 \nL 9.8125 71.09375 \nQ 15.4375 72.65625 20.34375 73.4375 \nQ 25.25 74.21875 29.59375 74.21875 \nQ 40.828125 74.21875 47.359375 69.109375 \nQ 53.90625 64.015625 53.90625 55.328125 \nQ 53.90625 49.265625 50.4375 45.09375 \nQ 46.96875 40.921875 40.578125 39.3125 \nz\n\" id=\"DejaVuSans-51\"/>\n      </defs>\n      <g style=\"fill:#262626;\" transform=\"translate(320.088438 203.256406)scale(0.11 -0.11)\">\n       <use xlink:href=\"#DejaVuSans-51\"/>\n       <use x=\"63.623047\" xlink:href=\"#DejaVuSans-50\"/>\n      </g>\n     </g>\n    </g>\n    <g id=\"text_6\">\n     <!-- Number of shots per class -->\n     <defs>\n      <path d=\"M 9.1875 72.90625 \nL 30.171875 72.90625 \nL 56.6875 22.90625 \nL 56.6875 72.90625 \nL 74.515625 72.90625 \nL 74.515625 0 \nL 53.515625 0 \nL 27 50 \nL 27 0 \nL 9.1875 0 \nz\n\" id=\"DejaVuSans-Bold-78\"/>\n      <path d=\"M 7.8125 21.296875 \nL 7.8125 54.6875 \nL 25.390625 54.6875 \nL 25.390625 49.21875 \nQ 25.390625 44.78125 25.34375 38.0625 \nQ 25.296875 31.34375 25.296875 29.109375 \nQ 25.296875 22.515625 25.640625 19.609375 \nQ 25.984375 16.703125 26.8125 15.375 \nQ 27.875 13.671875 29.609375 12.734375 \nQ 31.34375 11.8125 33.59375 11.8125 \nQ 39.0625 11.8125 42.1875 16.015625 \nQ 45.3125 20.21875 45.3125 27.6875 \nL 45.3125 54.6875 \nL 62.796875 54.6875 \nL 62.796875 0 \nL 45.3125 0 \nL 45.3125 7.90625 \nQ 41.359375 3.125 36.9375 0.84375 \nQ 32.515625 -1.421875 27.203125 -1.421875 \nQ 17.71875 -1.421875 12.765625 4.390625 \nQ 7.8125 10.203125 7.8125 21.296875 \nz\n\" id=\"DejaVuSans-Bold-117\"/>\n      <path d=\"M 59.078125 45.609375 \nQ 62.40625 50.6875 66.96875 53.34375 \nQ 71.53125 56 77 56 \nQ 86.421875 56 91.359375 50.1875 \nQ 96.296875 44.390625 96.296875 33.296875 \nL 96.296875 0 \nL 78.71875 0 \nL 78.71875 28.515625 \nQ 78.765625 29.15625 78.78125 29.828125 \nQ 78.8125 30.515625 78.8125 31.78125 \nQ 78.8125 37.59375 77.09375 40.203125 \nQ 75.390625 42.828125 71.578125 42.828125 \nQ 66.609375 42.828125 63.890625 38.71875 \nQ 61.1875 34.625 61.078125 26.859375 \nL 61.078125 0 \nL 43.5 0 \nL 43.5 28.515625 \nQ 43.5 37.59375 41.9375 40.203125 \nQ 40.375 42.828125 36.375 42.828125 \nQ 31.34375 42.828125 28.609375 38.703125 \nQ 25.875 34.578125 25.875 26.90625 \nL 25.875 0 \nL 8.296875 0 \nL 8.296875 54.6875 \nL 25.875 54.6875 \nL 25.875 46.6875 \nQ 29.109375 51.3125 33.28125 53.65625 \nQ 37.453125 56 42.484375 56 \nQ 48.140625 56 52.484375 53.265625 \nQ 56.84375 50.53125 59.078125 45.609375 \nz\n\" id=\"DejaVuSans-Bold-109\"/>\n      <path d=\"M 37.5 11.28125 \nQ 43.109375 11.28125 46.0625 15.375 \nQ 49.03125 19.484375 49.03125 27.296875 \nQ 49.03125 35.109375 46.0625 39.203125 \nQ 43.109375 43.3125 37.5 43.3125 \nQ 31.890625 43.3125 28.875 39.1875 \nQ 25.875 35.0625 25.875 27.296875 \nQ 25.875 19.53125 28.875 15.40625 \nQ 31.890625 11.28125 37.5 11.28125 \nz\nM 25.875 46.6875 \nQ 29.5 51.46875 33.890625 53.734375 \nQ 38.28125 56 44 56 \nQ 54.109375 56 60.59375 47.96875 \nQ 67.09375 39.9375 67.09375 27.296875 \nQ 67.09375 14.65625 60.59375 6.609375 \nQ 54.109375 -1.421875 44 -1.421875 \nQ 38.28125 -1.421875 33.890625 0.84375 \nQ 29.5 3.125 25.875 7.90625 \nL 25.875 0 \nL 8.40625 0 \nL 8.40625 75.984375 \nL 25.875 75.984375 \nz\n\" id=\"DejaVuSans-Bold-98\"/>\n      <path d=\"M 62.984375 27.484375 \nL 62.984375 22.515625 \nL 22.125 22.515625 \nQ 22.75 16.359375 26.5625 13.28125 \nQ 30.375 10.203125 37.203125 10.203125 \nQ 42.71875 10.203125 48.5 11.84375 \nQ 54.296875 13.484375 60.40625 16.796875 \nL 60.40625 3.328125 \nQ 54.203125 0.984375 48 -0.21875 \nQ 41.796875 -1.421875 35.59375 -1.421875 \nQ 20.75 -1.421875 12.515625 6.125 \nQ 4.296875 13.671875 4.296875 27.296875 \nQ 4.296875 40.671875 12.375 48.328125 \nQ 20.453125 56 34.625 56 \nQ 47.515625 56 55.25 48.234375 \nQ 62.984375 40.484375 62.984375 27.484375 \nz\nM 45.015625 33.296875 \nQ 45.015625 38.28125 42.109375 41.328125 \nQ 39.203125 44.390625 34.515625 44.390625 \nQ 29.4375 44.390625 26.265625 41.53125 \nQ 23.09375 38.671875 22.3125 33.296875 \nz\n\" id=\"DejaVuSans-Bold-101\"/>\n      <path d=\"M 49.03125 39.796875 \nQ 46.734375 40.875 44.453125 41.375 \nQ 42.1875 41.890625 39.890625 41.890625 \nQ 33.15625 41.890625 29.515625 37.5625 \nQ 25.875 33.25 25.875 25.203125 \nL 25.875 0 \nL 8.40625 0 \nL 8.40625 54.6875 \nL 25.875 54.6875 \nL 25.875 45.703125 \nQ 29.25 51.078125 33.609375 53.53125 \nQ 37.984375 56 44.09375 56 \nQ 44.96875 56 45.984375 55.921875 \nQ 47.015625 55.859375 48.96875 55.609375 \nz\n\" id=\"DejaVuSans-Bold-114\"/>\n      <path id=\"DejaVuSans-Bold-32\"/>\n      <path d=\"M 34.421875 43.5 \nQ 28.609375 43.5 25.5625 39.328125 \nQ 22.515625 35.15625 22.515625 27.296875 \nQ 22.515625 19.4375 25.5625 15.25 \nQ 28.609375 11.078125 34.421875 11.078125 \nQ 40.140625 11.078125 43.15625 15.25 \nQ 46.1875 19.4375 46.1875 27.296875 \nQ 46.1875 35.15625 43.15625 39.328125 \nQ 40.140625 43.5 34.421875 43.5 \nz\nM 34.421875 56 \nQ 48.53125 56 56.46875 48.375 \nQ 64.40625 40.765625 64.40625 27.296875 \nQ 64.40625 13.8125 56.46875 6.1875 \nQ 48.53125 -1.421875 34.421875 -1.421875 \nQ 20.265625 -1.421875 12.28125 6.1875 \nQ 4.296875 13.8125 4.296875 27.296875 \nQ 4.296875 40.765625 12.28125 48.375 \nQ 20.265625 56 34.421875 56 \nz\n\" id=\"DejaVuSans-Bold-111\"/>\n      <path d=\"M 44.390625 75.984375 \nL 44.390625 64.5 \nL 34.71875 64.5 \nQ 31 64.5 29.53125 63.15625 \nQ 28.078125 61.8125 28.078125 58.5 \nL 28.078125 54.6875 \nL 43.015625 54.6875 \nL 43.015625 42.1875 \nL 28.078125 42.1875 \nL 28.078125 0 \nL 10.59375 0 \nL 10.59375 42.1875 \nL 1.90625 42.1875 \nL 1.90625 54.6875 \nL 10.59375 54.6875 \nL 10.59375 58.5 \nQ 10.59375 67.4375 15.578125 71.703125 \nQ 20.5625 75.984375 31 75.984375 \nz\n\" id=\"DejaVuSans-Bold-102\"/>\n      <path d=\"M 51.125 52.984375 \nL 51.125 39.703125 \nQ 45.515625 42.046875 40.28125 43.21875 \nQ 35.0625 44.390625 30.421875 44.390625 \nQ 25.4375 44.390625 23.015625 43.140625 \nQ 20.609375 41.890625 20.609375 39.3125 \nQ 20.609375 37.203125 22.4375 36.078125 \nQ 24.265625 34.96875 29 34.421875 \nL 32.078125 33.984375 \nQ 45.515625 32.28125 50.140625 28.375 \nQ 54.78125 24.46875 54.78125 16.109375 \nQ 54.78125 7.375 48.328125 2.96875 \nQ 41.890625 -1.421875 29.109375 -1.421875 \nQ 23.6875 -1.421875 17.890625 -0.5625 \nQ 12.109375 0.296875 6 2 \nL 6 15.28125 \nQ 11.234375 12.75 16.71875 11.46875 \nQ 22.21875 10.203125 27.875 10.203125 \nQ 33.015625 10.203125 35.59375 11.609375 \nQ 38.1875 13.03125 38.1875 15.828125 \nQ 38.1875 18.171875 36.40625 19.3125 \nQ 34.625 20.453125 29.296875 21.09375 \nL 26.21875 21.484375 \nQ 14.546875 22.953125 9.859375 26.90625 \nQ 5.171875 30.859375 5.171875 38.921875 \nQ 5.171875 47.609375 11.125 51.796875 \nQ 17.09375 56 29.390625 56 \nQ 34.234375 56 39.546875 55.265625 \nQ 44.875 54.546875 51.125 52.984375 \nz\n\" id=\"DejaVuSans-Bold-115\"/>\n      <path d=\"M 63.375 33.296875 \nL 63.375 0 \nL 45.796875 0 \nL 45.796875 5.421875 \nL 45.796875 25.390625 \nQ 45.796875 32.5625 45.484375 35.25 \nQ 45.171875 37.9375 44.390625 39.203125 \nQ 43.359375 40.921875 41.59375 41.875 \nQ 39.84375 42.828125 37.59375 42.828125 \nQ 32.125 42.828125 29 38.59375 \nQ 25.875 34.375 25.875 26.90625 \nL 25.875 0 \nL 8.40625 0 \nL 8.40625 75.984375 \nL 25.875 75.984375 \nL 25.875 46.6875 \nQ 29.828125 51.46875 34.265625 53.734375 \nQ 38.71875 56 44.09375 56 \nQ 53.5625 56 58.46875 50.1875 \nQ 63.375 44.390625 63.375 33.296875 \nz\n\" id=\"DejaVuSans-Bold-104\"/>\n      <path d=\"M 27.484375 70.21875 \nL 27.484375 54.6875 \nL 45.515625 54.6875 \nL 45.515625 42.1875 \nL 27.484375 42.1875 \nL 27.484375 19 \nQ 27.484375 15.1875 29 13.84375 \nQ 30.515625 12.5 35.015625 12.5 \nL 44 12.5 \nL 44 0 \nL 29 0 \nQ 18.65625 0 14.328125 4.3125 \nQ 10.015625 8.640625 10.015625 19 \nL 10.015625 42.1875 \nL 1.3125 42.1875 \nL 1.3125 54.6875 \nL 10.015625 54.6875 \nL 10.015625 70.21875 \nz\n\" id=\"DejaVuSans-Bold-116\"/>\n      <path d=\"M 25.875 7.90625 \nL 25.875 -20.796875 \nL 8.40625 -20.796875 \nL 8.40625 54.6875 \nL 25.875 54.6875 \nL 25.875 46.6875 \nQ 29.5 51.46875 33.890625 53.734375 \nQ 38.28125 56 44 56 \nQ 54.109375 56 60.59375 47.96875 \nQ 67.09375 39.9375 67.09375 27.296875 \nQ 67.09375 14.65625 60.59375 6.609375 \nQ 54.109375 -1.421875 44 -1.421875 \nQ 38.28125 -1.421875 33.890625 0.84375 \nQ 29.5 3.125 25.875 7.90625 \nz\nM 37.5 43.3125 \nQ 31.890625 43.3125 28.875 39.1875 \nQ 25.875 35.0625 25.875 27.296875 \nQ 25.875 19.53125 28.875 15.40625 \nQ 31.890625 11.28125 37.5 11.28125 \nQ 43.109375 11.28125 46.0625 15.375 \nQ 49.03125 19.484375 49.03125 27.296875 \nQ 49.03125 35.109375 46.0625 39.203125 \nQ 43.109375 43.3125 37.5 43.3125 \nz\n\" id=\"DejaVuSans-Bold-112\"/>\n      <path d=\"M 52.59375 52.984375 \nL 52.59375 38.71875 \nQ 49.03125 41.15625 45.4375 42.328125 \nQ 41.84375 43.5 37.984375 43.5 \nQ 30.671875 43.5 26.59375 39.234375 \nQ 22.515625 34.96875 22.515625 27.296875 \nQ 22.515625 19.625 26.59375 15.34375 \nQ 30.671875 11.078125 37.984375 11.078125 \nQ 42.09375 11.078125 45.78125 12.296875 \nQ 49.46875 13.53125 52.59375 15.921875 \nL 52.59375 1.609375 \nQ 48.484375 0.09375 44.265625 -0.65625 \nQ 40.046875 -1.421875 35.796875 -1.421875 \nQ 21 -1.421875 12.640625 6.171875 \nQ 4.296875 13.765625 4.296875 27.296875 \nQ 4.296875 40.828125 12.640625 48.40625 \nQ 21 56 35.796875 56 \nQ 40.09375 56 44.265625 55.25 \nQ 48.4375 54.5 52.59375 52.984375 \nz\n\" id=\"DejaVuSans-Bold-99\"/>\n      <path d=\"M 8.40625 75.984375 \nL 25.875 75.984375 \nL 25.875 0 \nL 8.40625 0 \nz\n\" id=\"DejaVuSans-Bold-108\"/>\n      <path d=\"M 32.90625 24.609375 \nQ 27.4375 24.609375 24.671875 22.75 \nQ 21.921875 20.90625 21.921875 17.28125 \nQ 21.921875 13.96875 24.140625 12.078125 \nQ 26.375 10.203125 30.328125 10.203125 \nQ 35.25 10.203125 38.625 13.734375 \nQ 42 17.28125 42 22.609375 \nL 42 24.609375 \nz\nM 59.625 31.203125 \nL 59.625 0 \nL 42 0 \nL 42 8.109375 \nQ 38.484375 3.125 34.078125 0.84375 \nQ 29.6875 -1.421875 23.390625 -1.421875 \nQ 14.890625 -1.421875 9.59375 3.53125 \nQ 4.296875 8.5 4.296875 16.40625 \nQ 4.296875 26.03125 10.90625 30.515625 \nQ 17.53125 35.015625 31.6875 35.015625 \nL 42 35.015625 \nL 42 36.375 \nQ 42 40.53125 38.71875 42.453125 \nQ 35.453125 44.390625 28.515625 44.390625 \nQ 22.90625 44.390625 18.0625 43.265625 \nQ 13.234375 42.140625 9.078125 39.890625 \nL 9.078125 53.21875 \nQ 14.703125 54.59375 20.359375 55.296875 \nQ 26.03125 56 31.6875 56 \nQ 46.484375 56 53.046875 50.171875 \nQ 59.625 44.34375 59.625 31.203125 \nz\n\" id=\"DejaVuSans-Bold-97\"/>\n     </defs>\n     <g style=\"fill:#262626;\" transform=\"translate(107.82 218.662188)scale(0.12 -0.12)\">\n      <use xlink:href=\"#DejaVuSans-Bold-78\"/>\n      <use x=\"83.691406\" xlink:href=\"#DejaVuSans-Bold-117\"/>\n      <use x=\"154.882812\" xlink:href=\"#DejaVuSans-Bold-109\"/>\n      <use x=\"259.082031\" xlink:href=\"#DejaVuSans-Bold-98\"/>\n      <use x=\"330.664062\" xlink:href=\"#DejaVuSans-Bold-101\"/>\n      <use x=\"398.486328\" xlink:href=\"#DejaVuSans-Bold-114\"/>\n      <use x=\"447.802734\" xlink:href=\"#DejaVuSans-Bold-32\"/>\n      <use x=\"482.617188\" xlink:href=\"#DejaVuSans-Bold-111\"/>\n      <use x=\"551.318359\" xlink:href=\"#DejaVuSans-Bold-102\"/>\n      <use x=\"594.824219\" xlink:href=\"#DejaVuSans-Bold-32\"/>\n      <use x=\"629.638672\" xlink:href=\"#DejaVuSans-Bold-115\"/>\n      <use x=\"689.160156\" xlink:href=\"#DejaVuSans-Bold-104\"/>\n      <use x=\"760.351562\" xlink:href=\"#DejaVuSans-Bold-111\"/>\n      <use x=\"829.052734\" xlink:href=\"#DejaVuSans-Bold-116\"/>\n      <use x=\"876.855469\" xlink:href=\"#DejaVuSans-Bold-115\"/>\n      <use x=\"936.376953\" xlink:href=\"#DejaVuSans-Bold-32\"/>\n      <use x=\"971.191406\" xlink:href=\"#DejaVuSans-Bold-112\"/>\n      <use x=\"1042.773438\" xlink:href=\"#DejaVuSans-Bold-101\"/>\n      <use x=\"1110.595703\" xlink:href=\"#DejaVuSans-Bold-114\"/>\n      <use x=\"1159.912109\" xlink:href=\"#DejaVuSans-Bold-32\"/>\n      <use x=\"1194.726562\" xlink:href=\"#DejaVuSans-Bold-99\"/>\n      <use x=\"1254.003906\" xlink:href=\"#DejaVuSans-Bold-108\"/>\n      <use x=\"1288.28125\" xlink:href=\"#DejaVuSans-Bold-97\"/>\n      <use x=\"1355.761719\" xlink:href=\"#DejaVuSans-Bold-115\"/>\n      <use x=\"1415.283203\" xlink:href=\"#DejaVuSans-Bold-115\"/>\n     </g>\n    </g>\n   </g>\n   <g id=\"matplotlib.axis_2\">\n    <g id=\"ytick_1\">\n     <g id=\"line2d_6\">\n      <path clip-path=\"url(#p53e6065723)\" d=\"M 56.805937 173.33061 \nL 335.805938 173.33061 \n\" style=\"fill:none;stroke:#ffffff;stroke-linecap:round;\"/>\n     </g>\n     <g id=\"text_7\">\n      <!-- 0.40 -->\n      <defs>\n       <path d=\"M 31.78125 66.40625 \nQ 24.171875 66.40625 20.328125 58.90625 \nQ 16.5 51.421875 16.5 36.375 \nQ 16.5 21.390625 20.328125 13.890625 \nQ 24.171875 6.390625 31.78125 6.390625 \nQ 39.453125 6.390625 43.28125 13.890625 \nQ 47.125 21.390625 47.125 36.375 \nQ 47.125 51.421875 43.28125 58.90625 \nQ 39.453125 66.40625 31.78125 66.40625 \nz\nM 31.78125 74.21875 \nQ 44.046875 74.21875 50.515625 64.515625 \nQ 56.984375 54.828125 56.984375 36.375 \nQ 56.984375 17.96875 50.515625 8.265625 \nQ 44.046875 -1.421875 31.78125 -1.421875 \nQ 19.53125 -1.421875 13.0625 8.265625 \nQ 6.59375 17.96875 6.59375 36.375 \nQ 6.59375 54.828125 13.0625 64.515625 \nQ 19.53125 74.21875 31.78125 74.21875 \nz\n\" id=\"DejaVuSans-48\"/>\n       <path d=\"M 10.6875 12.40625 \nL 21 12.40625 \nL 21 0 \nL 10.6875 0 \nz\n\" id=\"DejaVuSans-46\"/>\n      </defs>\n      <g style=\"fill:#262626;\" transform=\"translate(22.81375 177.509751)scale(0.11 -0.11)\">\n       <use xlink:href=\"#DejaVuSans-48\"/>\n       <use x=\"63.623047\" xlink:href=\"#DejaVuSans-46\"/>\n       <use x=\"95.410156\" xlink:href=\"#DejaVuSans-52\"/>\n       <use x=\"159.033203\" xlink:href=\"#DejaVuSans-48\"/>\n      </g>\n     </g>\n    </g>\n    <g id=\"ytick_2\">\n     <g id=\"line2d_7\">\n      <path clip-path=\"url(#p53e6065723)\" d=\"M 56.805937 148.115424 \nL 335.805938 148.115424 \n\" style=\"fill:none;stroke:#ffffff;stroke-linecap:round;\"/>\n     </g>\n     <g id=\"text_8\">\n      <!-- 0.45 -->\n      <defs>\n       <path d=\"M 10.796875 72.90625 \nL 49.515625 72.90625 \nL 49.515625 64.59375 \nL 19.828125 64.59375 \nL 19.828125 46.734375 \nQ 21.96875 47.46875 24.109375 47.828125 \nQ 26.265625 48.1875 28.421875 48.1875 \nQ 40.625 48.1875 47.75 41.5 \nQ 54.890625 34.8125 54.890625 23.390625 \nQ 54.890625 11.625 47.5625 5.09375 \nQ 40.234375 -1.421875 26.90625 -1.421875 \nQ 22.3125 -1.421875 17.546875 -0.640625 \nQ 12.796875 0.140625 7.71875 1.703125 \nL 7.71875 11.625 \nQ 12.109375 9.234375 16.796875 8.0625 \nQ 21.484375 6.890625 26.703125 6.890625 \nQ 35.15625 6.890625 40.078125 11.328125 \nQ 45.015625 15.765625 45.015625 23.390625 \nQ 45.015625 31 40.078125 35.4375 \nQ 35.15625 39.890625 26.703125 39.890625 \nQ 22.75 39.890625 18.8125 39.015625 \nQ 14.890625 38.140625 10.796875 36.28125 \nz\n\" id=\"DejaVuSans-53\"/>\n      </defs>\n      <g style=\"fill:#262626;\" transform=\"translate(22.81375 152.294564)scale(0.11 -0.11)\">\n       <use xlink:href=\"#DejaVuSans-48\"/>\n       <use x=\"63.623047\" xlink:href=\"#DejaVuSans-46\"/>\n       <use x=\"95.410156\" xlink:href=\"#DejaVuSans-52\"/>\n       <use x=\"159.033203\" xlink:href=\"#DejaVuSans-53\"/>\n      </g>\n     </g>\n    </g>\n    <g id=\"ytick_3\">\n     <g id=\"line2d_8\">\n      <path clip-path=\"url(#p53e6065723)\" d=\"M 56.805937 122.900237 \nL 335.805938 122.900237 \n\" style=\"fill:none;stroke:#ffffff;stroke-linecap:round;\"/>\n     </g>\n     <g id=\"text_9\">\n      <!-- 0.50 -->\n      <g style=\"fill:#262626;\" transform=\"translate(22.81375 127.079377)scale(0.11 -0.11)\">\n       <use xlink:href=\"#DejaVuSans-48\"/>\n       <use x=\"63.623047\" xlink:href=\"#DejaVuSans-46\"/>\n       <use x=\"95.410156\" xlink:href=\"#DejaVuSans-53\"/>\n       <use x=\"159.033203\" xlink:href=\"#DejaVuSans-48\"/>\n      </g>\n     </g>\n    </g>\n    <g id=\"ytick_4\">\n     <g id=\"line2d_9\">\n      <path clip-path=\"url(#p53e6065723)\" d=\"M 56.805937 97.68505 \nL 335.805938 97.68505 \n\" style=\"fill:none;stroke:#ffffff;stroke-linecap:round;\"/>\n     </g>\n     <g id=\"text_10\">\n      <!-- 0.55 -->\n      <g style=\"fill:#262626;\" transform=\"translate(22.81375 101.864191)scale(0.11 -0.11)\">\n       <use xlink:href=\"#DejaVuSans-48\"/>\n       <use x=\"63.623047\" xlink:href=\"#DejaVuSans-46\"/>\n       <use x=\"95.410156\" xlink:href=\"#DejaVuSans-53\"/>\n       <use x=\"159.033203\" xlink:href=\"#DejaVuSans-53\"/>\n      </g>\n     </g>\n    </g>\n    <g id=\"ytick_5\">\n     <g id=\"line2d_10\">\n      <path clip-path=\"url(#p53e6065723)\" d=\"M 56.805937 72.469863 \nL 335.805938 72.469863 \n\" style=\"fill:none;stroke:#ffffff;stroke-linecap:round;\"/>\n     </g>\n     <g id=\"text_11\">\n      <!-- 0.60 -->\n      <g style=\"fill:#262626;\" transform=\"translate(22.81375 76.649004)scale(0.11 -0.11)\">\n       <use xlink:href=\"#DejaVuSans-48\"/>\n       <use x=\"63.623047\" xlink:href=\"#DejaVuSans-46\"/>\n       <use x=\"95.410156\" xlink:href=\"#DejaVuSans-54\"/>\n       <use x=\"159.033203\" xlink:href=\"#DejaVuSans-48\"/>\n      </g>\n     </g>\n    </g>\n    <g id=\"ytick_6\">\n     <g id=\"line2d_11\">\n      <path clip-path=\"url(#p53e6065723)\" d=\"M 56.805937 47.254676 \nL 335.805938 47.254676 \n\" style=\"fill:none;stroke:#ffffff;stroke-linecap:round;\"/>\n     </g>\n     <g id=\"text_12\">\n      <!-- 0.65 -->\n      <g style=\"fill:#262626;\" transform=\"translate(22.81375 51.433817)scale(0.11 -0.11)\">\n       <use xlink:href=\"#DejaVuSans-48\"/>\n       <use x=\"63.623047\" xlink:href=\"#DejaVuSans-46\"/>\n       <use x=\"95.410156\" xlink:href=\"#DejaVuSans-54\"/>\n       <use x=\"159.033203\" xlink:href=\"#DejaVuSans-53\"/>\n      </g>\n     </g>\n    </g>\n    <g id=\"text_13\">\n     <!-- Accuracy -->\n     <defs>\n      <path d=\"M 53.421875 13.28125 \nL 24.03125 13.28125 \nL 19.390625 0 \nL 0.484375 0 \nL 27.484375 72.90625 \nL 49.90625 72.90625 \nL 76.90625 0 \nL 58.015625 0 \nz\nM 28.71875 26.8125 \nL 48.6875 26.8125 \nL 38.71875 55.8125 \nz\n\" id=\"DejaVuSans-Bold-65\"/>\n      <path d=\"M 1.21875 54.6875 \nL 18.703125 54.6875 \nL 33.40625 17.578125 \nL 45.90625 54.6875 \nL 63.375 54.6875 \nL 40.375 -5.171875 \nQ 36.921875 -14.3125 32.296875 -17.9375 \nQ 27.6875 -21.578125 20.125 -21.578125 \nL 10.015625 -21.578125 \nL 10.015625 -10.109375 \nL 15.484375 -10.109375 \nQ 19.921875 -10.109375 21.9375 -8.6875 \nQ 23.96875 -7.28125 25.09375 -3.609375 \nL 25.59375 -2.09375 \nz\n\" id=\"DejaVuSans-Bold-121\"/>\n     </defs>\n     <g style=\"fill:#262626;\" transform=\"translate(16.224375 134.3625)rotate(-90)scale(0.12 -0.12)\">\n      <use xlink:href=\"#DejaVuSans-Bold-65\"/>\n      <use x=\"77.392578\" xlink:href=\"#DejaVuSans-Bold-99\"/>\n      <use x=\"136.669922\" xlink:href=\"#DejaVuSans-Bold-99\"/>\n      <use x=\"195.947266\" xlink:href=\"#DejaVuSans-Bold-117\"/>\n      <use x=\"267.138672\" xlink:href=\"#DejaVuSans-Bold-114\"/>\n      <use x=\"316.455078\" xlink:href=\"#DejaVuSans-Bold-97\"/>\n      <use x=\"383.935547\" xlink:href=\"#DejaVuSans-Bold-99\"/>\n      <use x=\"443.212891\" xlink:href=\"#DejaVuSans-Bold-121\"/>\n     </g>\n    </g>\n   </g>\n   <g id=\"PolyCollection_1\">\n    <defs>\n     <path d=\"M 65.524687 -95.000425 \nL 65.524687 -58.386996 \nL 82.962187 -104.434875 \nL 117.837187 -137.149541 \nL 187.587187 -163.650778 \nL 327.087188 -184.239685 \nL 327.087188 -193.02349 \nL 327.087188 -193.02349 \nL 187.587187 -173.976217 \nL 117.837187 -150.299381 \nL 82.962187 -127.360931 \nL 65.524687 -95.000425 \nz\n\" id=\"m61ddcef9ef\" style=\"stroke:#55a868;stroke-opacity:0.2;\"/>\n    </defs>\n    <g clip-path=\"url(#p53e6065723)\">\n     <use style=\"fill:#55a868;fill-opacity:0.2;stroke:#55a868;stroke-opacity:0.2;\" x=\"0\" xlink:href=\"#m61ddcef9ef\" y=\"228.357813\"/>\n    </g>\n   </g>\n   <g id=\"PolyCollection_2\">\n    <defs>\n     <path d=\"M 65.524687 -88.870325 \nL 65.524687 -50.372415 \nL 82.962187 -103.212239 \nL 117.837187 -144.451463 \nL 187.587187 -169.508746 \nL 327.087188 -189.504786 \nL 327.087188 -198.62696 \nL 327.087188 -198.62696 \nL 187.587187 -182.02705 \nL 117.837187 -159.58042 \nL 82.962187 -130.618835 \nL 65.524687 -88.870325 \nz\n\" id=\"m62ac5a1987\" style=\"stroke:#c44e52;stroke-opacity:0.2;\"/>\n    </defs>\n    <g clip-path=\"url(#p53e6065723)\">\n     <use style=\"fill:#c44e52;fill-opacity:0.2;stroke:#c44e52;stroke-opacity:0.2;\" x=\"0\" xlink:href=\"#m62ac5a1987\" y=\"228.357813\"/>\n    </g>\n   </g>\n   <g id=\"line2d_12\">\n    <path clip-path=\"url(#p53e6065723)\" d=\"M 65.524687 151.664102 \nL 82.962187 112.45991 \nL 117.837187 84.633351 \nL 187.587187 59.544315 \nL 327.087188 39.726225 \n\" style=\"fill:none;stroke:#55a868;stroke-linecap:round;stroke-width:1.5;\"/>\n    <defs>\n     <path d=\"M 0 3 \nC 0.795609 3 1.55874 2.683901 2.12132 2.12132 \nC 2.683901 1.55874 3 0.795609 3 0 \nC 3 -0.795609 2.683901 -1.55874 2.12132 -2.12132 \nC 1.55874 -2.683901 0.795609 -3 0 -3 \nC -0.795609 -3 -1.55874 -2.683901 -2.12132 -2.12132 \nC -2.683901 -1.55874 -3 -0.795609 -3 0 \nC -3 0.795609 -2.683901 1.55874 -2.12132 2.12132 \nC -1.55874 2.683901 -0.795609 3 0 3 \nz\n\" id=\"mce1f230e9f\" style=\"stroke:#1a1a1a;\"/>\n    </defs>\n    <g clip-path=\"url(#p53e6065723)\">\n     <use style=\"fill:#55a868;stroke:#1a1a1a;\" x=\"65.524687\" xlink:href=\"#mce1f230e9f\" y=\"151.664102\"/>\n     <use style=\"fill:#55a868;stroke:#1a1a1a;\" x=\"82.962187\" xlink:href=\"#mce1f230e9f\" y=\"112.45991\"/>\n     <use style=\"fill:#55a868;stroke:#1a1a1a;\" x=\"117.837187\" xlink:href=\"#mce1f230e9f\" y=\"84.633351\"/>\n     <use style=\"fill:#55a868;stroke:#1a1a1a;\" x=\"187.587187\" xlink:href=\"#mce1f230e9f\" y=\"59.544315\"/>\n     <use style=\"fill:#55a868;stroke:#1a1a1a;\" x=\"327.087188\" xlink:href=\"#mce1f230e9f\" y=\"39.726225\"/>\n    </g>\n   </g>\n   <g id=\"line2d_13\">\n    <path clip-path=\"url(#p53e6065723)\" d=\"M 65.524687 158.736443 \nL 82.962187 111.442275 \nL 117.837187 76.341871 \nL 187.587187 52.589915 \nL 327.087188 34.29194 \n\" style=\"fill:none;stroke:#c44e52;stroke-linecap:round;stroke-width:1.5;\"/>\n    <defs>\n     <path d=\"M 0 3 \nC 0.795609 3 1.55874 2.683901 2.12132 2.12132 \nC 2.683901 1.55874 3 0.795609 3 0 \nC 3 -0.795609 2.683901 -1.55874 2.12132 -2.12132 \nC 1.55874 -2.683901 0.795609 -3 0 -3 \nC -0.795609 -3 -1.55874 -2.683901 -2.12132 -2.12132 \nC -2.683901 -1.55874 -3 -0.795609 -3 0 \nC -3 0.795609 -2.683901 1.55874 -2.12132 2.12132 \nC -1.55874 2.683901 -0.795609 3 0 3 \nz\n\" id=\"m6c8912eff2\" style=\"stroke:#1a1a1a;\"/>\n    </defs>\n    <g clip-path=\"url(#p53e6065723)\">\n     <use style=\"fill:#c44e52;stroke:#1a1a1a;\" x=\"65.524687\" xlink:href=\"#m6c8912eff2\" y=\"158.736443\"/>\n     <use style=\"fill:#c44e52;stroke:#1a1a1a;\" x=\"82.962187\" xlink:href=\"#m6c8912eff2\" y=\"111.442275\"/>\n     <use style=\"fill:#c44e52;stroke:#1a1a1a;\" x=\"117.837187\" xlink:href=\"#m6c8912eff2\" y=\"76.341871\"/>\n     <use style=\"fill:#c44e52;stroke:#1a1a1a;\" x=\"187.587187\" xlink:href=\"#m6c8912eff2\" y=\"52.589915\"/>\n     <use style=\"fill:#c44e52;stroke:#1a1a1a;\" x=\"327.087188\" xlink:href=\"#m6c8912eff2\" y=\"34.29194\"/>\n    </g>\n   </g>\n   <g id=\"patch_3\">\n    <path d=\"M 56.805937 185.398125 \nL 56.805937 22.318125 \n\" style=\"fill:none;stroke:#ffffff;stroke-linecap:square;stroke-linejoin:miter;stroke-width:1.25;\"/>\n   </g>\n   <g id=\"patch_4\">\n    <path d=\"M 335.805938 185.398125 \nL 335.805938 22.318125 \n\" style=\"fill:none;stroke:#ffffff;stroke-linecap:square;stroke-linejoin:miter;stroke-width:1.25;\"/>\n   </g>\n   <g id=\"patch_5\">\n    <path d=\"M 56.805937 185.398125 \nL 335.805938 185.398125 \n\" style=\"fill:none;stroke:#ffffff;stroke-linecap:square;stroke-linejoin:miter;stroke-width:1.25;\"/>\n   </g>\n   <g id=\"patch_6\">\n    <path d=\"M 56.805937 22.318125 \nL 335.805938 22.318125 \n\" style=\"fill:none;stroke:#ffffff;stroke-linecap:square;stroke-linejoin:miter;stroke-width:1.25;\"/>\n   </g>\n   <g id=\"text_14\">\n    <!-- Few-Shot Performance ProtoNet and ProtoMAML -->\n    <defs>\n     <path d=\"M 9.1875 72.90625 \nL 59.90625 72.90625 \nL 59.90625 58.6875 \nL 27.984375 58.6875 \nL 27.984375 45.125 \nL 58.015625 45.125 \nL 58.015625 30.90625 \nL 27.984375 30.90625 \nL 27.984375 0 \nL 9.1875 0 \nz\n\" id=\"DejaVuSans-Bold-70\"/>\n     <path d=\"M 3.515625 54.6875 \nL 20.515625 54.6875 \nL 29.6875 17 \nL 38.921875 54.6875 \nL 53.515625 54.6875 \nL 62.703125 17.390625 \nL 71.921875 54.6875 \nL 88.921875 54.6875 \nL 74.515625 0 \nL 55.421875 0 \nL 46.1875 37.59375 \nL 37.015625 0 \nL 17.921875 0 \nz\n\" id=\"DejaVuSans-Bold-119\"/>\n     <path d=\"M 5.421875 35.890625 \nL 36.078125 35.890625 \nL 36.078125 21.6875 \nL 5.421875 21.6875 \nz\n\" id=\"DejaVuSans-Bold-45\"/>\n     <path d=\"M 59.90625 70.609375 \nL 59.90625 55.171875 \nQ 53.90625 57.859375 48.1875 59.21875 \nQ 42.484375 60.59375 37.40625 60.59375 \nQ 30.671875 60.59375 27.4375 58.734375 \nQ 24.21875 56.890625 24.21875 52.984375 \nQ 24.21875 50.046875 26.390625 48.40625 \nQ 28.5625 46.78125 34.28125 45.609375 \nL 42.28125 44 \nQ 54.4375 41.546875 59.5625 36.5625 \nQ 64.703125 31.59375 64.703125 22.40625 \nQ 64.703125 10.359375 57.546875 4.46875 \nQ 50.390625 -1.421875 35.6875 -1.421875 \nQ 28.765625 -1.421875 21.78125 -0.09375 \nQ 14.796875 1.21875 7.8125 3.8125 \nL 7.8125 19.671875 \nQ 14.796875 15.96875 21.3125 14.078125 \nQ 27.828125 12.203125 33.890625 12.203125 \nQ 40.046875 12.203125 43.3125 14.25 \nQ 46.578125 16.3125 46.578125 20.125 \nQ 46.578125 23.53125 44.359375 25.390625 \nQ 42.140625 27.25 35.5 28.71875 \nL 28.21875 30.328125 \nQ 17.28125 32.671875 12.21875 37.796875 \nQ 7.171875 42.921875 7.171875 51.609375 \nQ 7.171875 62.5 14.203125 68.359375 \nQ 21.234375 74.21875 34.421875 74.21875 \nQ 40.4375 74.21875 46.78125 73.3125 \nQ 53.125 72.40625 59.90625 70.609375 \nz\n\" id=\"DejaVuSans-Bold-83\"/>\n     <path d=\"M 9.1875 72.90625 \nL 40.375 72.90625 \nQ 54.296875 72.90625 61.734375 66.71875 \nQ 69.1875 60.546875 69.1875 49.125 \nQ 69.1875 37.640625 61.734375 31.46875 \nQ 54.296875 25.296875 40.375 25.296875 \nL 27.984375 25.296875 \nL 27.984375 0 \nL 9.1875 0 \nz\nM 27.984375 59.28125 \nL 27.984375 38.921875 \nL 38.375 38.921875 \nQ 43.84375 38.921875 46.828125 41.578125 \nQ 49.8125 44.234375 49.8125 49.125 \nQ 49.8125 54 46.828125 56.640625 \nQ 43.84375 59.28125 38.375 59.28125 \nz\n\" id=\"DejaVuSans-Bold-80\"/>\n     <path d=\"M 63.375 33.296875 \nL 63.375 0 \nL 45.796875 0 \nL 45.796875 5.421875 \nL 45.796875 25.484375 \nQ 45.796875 32.5625 45.484375 35.25 \nQ 45.171875 37.9375 44.390625 39.203125 \nQ 43.359375 40.921875 41.59375 41.875 \nQ 39.84375 42.828125 37.59375 42.828125 \nQ 32.125 42.828125 29 38.59375 \nQ 25.875 34.375 25.875 26.90625 \nL 25.875 0 \nL 8.40625 0 \nL 8.40625 54.6875 \nL 25.875 54.6875 \nL 25.875 46.6875 \nQ 29.828125 51.46875 34.265625 53.734375 \nQ 38.71875 56 44.09375 56 \nQ 53.5625 56 58.46875 50.1875 \nQ 63.375 44.390625 63.375 33.296875 \nz\n\" id=\"DejaVuSans-Bold-110\"/>\n     <path d=\"M 45.609375 46.6875 \nL 45.609375 75.984375 \nL 63.1875 75.984375 \nL 63.1875 0 \nL 45.609375 0 \nL 45.609375 7.90625 \nQ 42 3.078125 37.640625 0.828125 \nQ 33.296875 -1.421875 27.59375 -1.421875 \nQ 17.484375 -1.421875 10.984375 6.609375 \nQ 4.5 14.65625 4.5 27.296875 \nQ 4.5 39.9375 10.984375 47.96875 \nQ 17.484375 56 27.59375 56 \nQ 33.25 56 37.625 53.734375 \nQ 42 51.46875 45.609375 46.6875 \nz\nM 34.078125 11.28125 \nQ 39.703125 11.28125 42.65625 15.375 \nQ 45.609375 19.484375 45.609375 27.296875 \nQ 45.609375 35.109375 42.65625 39.203125 \nQ 39.703125 43.3125 34.078125 43.3125 \nQ 28.515625 43.3125 25.5625 39.203125 \nQ 22.609375 35.109375 22.609375 27.296875 \nQ 22.609375 19.484375 25.5625 15.375 \nQ 28.515625 11.28125 34.078125 11.28125 \nz\n\" id=\"DejaVuSans-Bold-100\"/>\n     <path d=\"M 9.1875 72.90625 \nL 33.109375 72.90625 \nL 49.703125 33.890625 \nL 66.40625 72.90625 \nL 90.28125 72.90625 \nL 90.28125 0 \nL 72.515625 0 \nL 72.515625 53.328125 \nL 55.71875 14.015625 \nL 43.796875 14.015625 \nL 27 53.328125 \nL 27 0 \nL 9.1875 0 \nz\n\" id=\"DejaVuSans-Bold-77\"/>\n     <path d=\"M 9.1875 72.90625 \nL 27.984375 72.90625 \nL 27.984375 14.203125 \nL 60.984375 14.203125 \nL 60.984375 0 \nL 9.1875 0 \nz\n\" id=\"DejaVuSans-Bold-76\"/>\n    </defs>\n    <g style=\"fill:#262626;\" transform=\"translate(31.170938 16.318125)scale(0.12 -0.12)\">\n     <use xlink:href=\"#DejaVuSans-Bold-70\"/>\n     <use x=\"64.310547\" xlink:href=\"#DejaVuSans-Bold-101\"/>\n     <use x=\"132.132812\" xlink:href=\"#DejaVuSans-Bold-119\"/>\n     <use x=\"224.515625\" xlink:href=\"#DejaVuSans-Bold-45\"/>\n     <use x=\"266.019531\" xlink:href=\"#DejaVuSans-Bold-83\"/>\n     <use x=\"338.041016\" xlink:href=\"#DejaVuSans-Bold-104\"/>\n     <use x=\"409.232422\" xlink:href=\"#DejaVuSans-Bold-111\"/>\n     <use x=\"477.933594\" xlink:href=\"#DejaVuSans-Bold-116\"/>\n     <use x=\"525.736328\" xlink:href=\"#DejaVuSans-Bold-32\"/>\n     <use x=\"560.550781\" xlink:href=\"#DejaVuSans-Bold-80\"/>\n     <use x=\"633.841797\" xlink:href=\"#DejaVuSans-Bold-101\"/>\n     <use x=\"701.664062\" xlink:href=\"#DejaVuSans-Bold-114\"/>\n     <use x=\"750.980469\" xlink:href=\"#DejaVuSans-Bold-102\"/>\n     <use x=\"794.486328\" xlink:href=\"#DejaVuSans-Bold-111\"/>\n     <use x=\"863.1875\" xlink:href=\"#DejaVuSans-Bold-114\"/>\n     <use x=\"912.503906\" xlink:href=\"#DejaVuSans-Bold-109\"/>\n     <use x=\"1016.703125\" xlink:href=\"#DejaVuSans-Bold-97\"/>\n     <use x=\"1084.183594\" xlink:href=\"#DejaVuSans-Bold-110\"/>\n     <use x=\"1155.375\" xlink:href=\"#DejaVuSans-Bold-99\"/>\n     <use x=\"1214.652344\" xlink:href=\"#DejaVuSans-Bold-101\"/>\n     <use x=\"1282.474609\" xlink:href=\"#DejaVuSans-Bold-32\"/>\n     <use x=\"1317.289062\" xlink:href=\"#DejaVuSans-Bold-80\"/>\n     <use x=\"1390.580078\" xlink:href=\"#DejaVuSans-Bold-114\"/>\n     <use x=\"1439.896484\" xlink:href=\"#DejaVuSans-Bold-111\"/>\n     <use x=\"1508.597656\" xlink:href=\"#DejaVuSans-Bold-116\"/>\n     <use x=\"1556.400391\" xlink:href=\"#DejaVuSans-Bold-111\"/>\n     <use x=\"1625.101562\" xlink:href=\"#DejaVuSans-Bold-78\"/>\n     <use x=\"1708.792969\" xlink:href=\"#DejaVuSans-Bold-101\"/>\n     <use x=\"1776.615234\" xlink:href=\"#DejaVuSans-Bold-116\"/>\n     <use x=\"1824.417969\" xlink:href=\"#DejaVuSans-Bold-32\"/>\n     <use x=\"1859.232422\" xlink:href=\"#DejaVuSans-Bold-97\"/>\n     <use x=\"1926.712891\" xlink:href=\"#DejaVuSans-Bold-110\"/>\n     <use x=\"1997.904297\" xlink:href=\"#DejaVuSans-Bold-100\"/>\n     <use x=\"2069.486328\" xlink:href=\"#DejaVuSans-Bold-32\"/>\n     <use x=\"2104.300781\" xlink:href=\"#DejaVuSans-Bold-80\"/>\n     <use x=\"2177.591797\" xlink:href=\"#DejaVuSans-Bold-114\"/>\n     <use x=\"2226.908203\" xlink:href=\"#DejaVuSans-Bold-111\"/>\n     <use x=\"2295.609375\" xlink:href=\"#DejaVuSans-Bold-116\"/>\n     <use x=\"2343.412109\" xlink:href=\"#DejaVuSans-Bold-111\"/>\n     <use x=\"2412.113281\" xlink:href=\"#DejaVuSans-Bold-77\"/>\n     <use x=\"2511.625\" xlink:href=\"#DejaVuSans-Bold-65\"/>\n     <use x=\"2589.017578\" xlink:href=\"#DejaVuSans-Bold-77\"/>\n     <use x=\"2688.529297\" xlink:href=\"#DejaVuSans-Bold-76\"/>\n    </g>\n   </g>\n   <g id=\"legend_1\">\n    <g id=\"patch_7\">\n     <path d=\"M 231.782031 179.898125 \nL 328.105938 179.898125 \nQ 330.305938 179.898125 330.305938 177.698125 \nL 330.305938 146.50625 \nQ 330.305938 144.30625 328.105938 144.30625 \nL 231.782031 144.30625 \nQ 229.582031 144.30625 229.582031 146.50625 \nL 229.582031 177.698125 \nQ 229.582031 179.898125 231.782031 179.898125 \nz\n\" style=\"fill:#eaeaf2;opacity:0.8;stroke:#cccccc;stroke-linejoin:miter;\"/>\n    </g>\n    <g id=\"line2d_14\">\n     <path d=\"M 233.982031 153.214531 \nL 255.982031 153.214531 \n\" style=\"fill:none;stroke:#55a868;stroke-linecap:round;stroke-width:1.5;\"/>\n    </g>\n    <g id=\"line2d_15\">\n     <g>\n      <use style=\"fill:#55a868;stroke:#1a1a1a;\" x=\"244.982031\" xlink:href=\"#mce1f230e9f\" y=\"153.214531\"/>\n     </g>\n    </g>\n    <g id=\"text_15\">\n     <!-- ProtoNet -->\n     <defs>\n      <path d=\"M 19.671875 64.796875 \nL 19.671875 37.40625 \nL 32.078125 37.40625 \nQ 38.96875 37.40625 42.71875 40.96875 \nQ 46.484375 44.53125 46.484375 51.125 \nQ 46.484375 57.671875 42.71875 61.234375 \nQ 38.96875 64.796875 32.078125 64.796875 \nz\nM 9.8125 72.90625 \nL 32.078125 72.90625 \nQ 44.34375 72.90625 50.609375 67.359375 \nQ 56.890625 61.8125 56.890625 51.125 \nQ 56.890625 40.328125 50.609375 34.8125 \nQ 44.34375 29.296875 32.078125 29.296875 \nL 19.671875 29.296875 \nL 19.671875 0 \nL 9.8125 0 \nz\n\" id=\"DejaVuSans-80\"/>\n      <path d=\"M 41.109375 46.296875 \nQ 39.59375 47.171875 37.8125 47.578125 \nQ 36.03125 48 33.890625 48 \nQ 26.265625 48 22.1875 43.046875 \nQ 18.109375 38.09375 18.109375 28.8125 \nL 18.109375 0 \nL 9.078125 0 \nL 9.078125 54.6875 \nL 18.109375 54.6875 \nL 18.109375 46.1875 \nQ 20.953125 51.171875 25.484375 53.578125 \nQ 30.03125 56 36.53125 56 \nQ 37.453125 56 38.578125 55.875 \nQ 39.703125 55.765625 41.0625 55.515625 \nz\n\" id=\"DejaVuSans-114\"/>\n      <path d=\"M 30.609375 48.390625 \nQ 23.390625 48.390625 19.1875 42.75 \nQ 14.984375 37.109375 14.984375 27.296875 \nQ 14.984375 17.484375 19.15625 11.84375 \nQ 23.34375 6.203125 30.609375 6.203125 \nQ 37.796875 6.203125 41.984375 11.859375 \nQ 46.1875 17.53125 46.1875 27.296875 \nQ 46.1875 37.015625 41.984375 42.703125 \nQ 37.796875 48.390625 30.609375 48.390625 \nz\nM 30.609375 56 \nQ 42.328125 56 49.015625 48.375 \nQ 55.71875 40.765625 55.71875 27.296875 \nQ 55.71875 13.875 49.015625 6.21875 \nQ 42.328125 -1.421875 30.609375 -1.421875 \nQ 18.84375 -1.421875 12.171875 6.21875 \nQ 5.515625 13.875 5.515625 27.296875 \nQ 5.515625 40.765625 12.171875 48.375 \nQ 18.84375 56 30.609375 56 \nz\n\" id=\"DejaVuSans-111\"/>\n      <path d=\"M 18.3125 70.21875 \nL 18.3125 54.6875 \nL 36.8125 54.6875 \nL 36.8125 47.703125 \nL 18.3125 47.703125 \nL 18.3125 18.015625 \nQ 18.3125 11.328125 20.140625 9.421875 \nQ 21.96875 7.515625 27.59375 7.515625 \nL 36.8125 7.515625 \nL 36.8125 0 \nL 27.59375 0 \nQ 17.1875 0 13.234375 3.875 \nQ 9.28125 7.765625 9.28125 18.015625 \nL 9.28125 47.703125 \nL 2.6875 47.703125 \nL 2.6875 54.6875 \nL 9.28125 54.6875 \nL 9.28125 70.21875 \nz\n\" id=\"DejaVuSans-116\"/>\n      <path d=\"M 9.8125 72.90625 \nL 23.09375 72.90625 \nL 55.421875 11.921875 \nL 55.421875 72.90625 \nL 64.984375 72.90625 \nL 64.984375 0 \nL 51.703125 0 \nL 19.390625 60.984375 \nL 19.390625 0 \nL 9.8125 0 \nz\n\" id=\"DejaVuSans-78\"/>\n      <path d=\"M 56.203125 29.59375 \nL 56.203125 25.203125 \nL 14.890625 25.203125 \nQ 15.484375 15.921875 20.484375 11.0625 \nQ 25.484375 6.203125 34.421875 6.203125 \nQ 39.59375 6.203125 44.453125 7.46875 \nQ 49.3125 8.734375 54.109375 11.28125 \nL 54.109375 2.78125 \nQ 49.265625 0.734375 44.1875 -0.34375 \nQ 39.109375 -1.421875 33.890625 -1.421875 \nQ 20.796875 -1.421875 13.15625 6.1875 \nQ 5.515625 13.8125 5.515625 26.8125 \nQ 5.515625 40.234375 12.765625 48.109375 \nQ 20.015625 56 32.328125 56 \nQ 43.359375 56 49.78125 48.890625 \nQ 56.203125 41.796875 56.203125 29.59375 \nz\nM 47.21875 32.234375 \nQ 47.125 39.59375 43.09375 43.984375 \nQ 39.0625 48.390625 32.421875 48.390625 \nQ 24.90625 48.390625 20.390625 44.140625 \nQ 15.875 39.890625 15.1875 32.171875 \nz\n\" id=\"DejaVuSans-101\"/>\n     </defs>\n     <g style=\"fill:#262626;\" transform=\"translate(264.782031 157.064531)scale(0.11 -0.11)\">\n      <use xlink:href=\"#DejaVuSans-80\"/>\n      <use x=\"58.552734\" xlink:href=\"#DejaVuSans-114\"/>\n      <use x=\"97.416016\" xlink:href=\"#DejaVuSans-111\"/>\n      <use x=\"158.597656\" xlink:href=\"#DejaVuSans-116\"/>\n      <use x=\"197.806641\" xlink:href=\"#DejaVuSans-111\"/>\n      <use x=\"258.988281\" xlink:href=\"#DejaVuSans-78\"/>\n      <use x=\"333.792969\" xlink:href=\"#DejaVuSans-101\"/>\n      <use x=\"395.316406\" xlink:href=\"#DejaVuSans-116\"/>\n     </g>\n    </g>\n    <g id=\"line2d_16\">\n     <path d=\"M 233.982031 169.360469 \nL 255.982031 169.360469 \n\" style=\"fill:none;stroke:#c44e52;stroke-linecap:round;stroke-width:1.5;\"/>\n    </g>\n    <g id=\"line2d_17\">\n     <g>\n      <use style=\"fill:#c44e52;stroke:#1a1a1a;\" x=\"244.982031\" xlink:href=\"#m6c8912eff2\" y=\"169.360469\"/>\n     </g>\n    </g>\n    <g id=\"text_16\">\n     <!-- ProtoMAML -->\n     <defs>\n      <path d=\"M 9.8125 72.90625 \nL 24.515625 72.90625 \nL 43.109375 23.296875 \nL 61.8125 72.90625 \nL 76.515625 72.90625 \nL 76.515625 0 \nL 66.890625 0 \nL 66.890625 64.015625 \nL 48.09375 14.015625 \nL 38.1875 14.015625 \nL 19.390625 64.015625 \nL 19.390625 0 \nL 9.8125 0 \nz\n\" id=\"DejaVuSans-77\"/>\n      <path d=\"M 34.1875 63.1875 \nL 20.796875 26.90625 \nL 47.609375 26.90625 \nz\nM 28.609375 72.90625 \nL 39.796875 72.90625 \nL 67.578125 0 \nL 57.328125 0 \nL 50.6875 18.703125 \nL 17.828125 18.703125 \nL 11.1875 0 \nL 0.78125 0 \nz\n\" id=\"DejaVuSans-65\"/>\n      <path d=\"M 9.8125 72.90625 \nL 19.671875 72.90625 \nL 19.671875 8.296875 \nL 55.171875 8.296875 \nL 55.171875 0 \nL 9.8125 0 \nz\n\" id=\"DejaVuSans-76\"/>\n     </defs>\n     <g style=\"fill:#262626;\" transform=\"translate(264.782031 173.210469)scale(0.11 -0.11)\">\n      <use xlink:href=\"#DejaVuSans-80\"/>\n      <use x=\"58.552734\" xlink:href=\"#DejaVuSans-114\"/>\n      <use x=\"97.416016\" xlink:href=\"#DejaVuSans-111\"/>\n      <use x=\"158.597656\" xlink:href=\"#DejaVuSans-116\"/>\n      <use x=\"197.806641\" xlink:href=\"#DejaVuSans-111\"/>\n      <use x=\"258.988281\" xlink:href=\"#DejaVuSans-77\"/>\n      <use x=\"345.267578\" xlink:href=\"#DejaVuSans-65\"/>\n      <use x=\"413.675781\" xlink:href=\"#DejaVuSans-77\"/>\n      <use x=\"499.955078\" xlink:href=\"#DejaVuSans-76\"/>\n     </g>\n    </g>\n   </g>\n  </g>\n </g>\n <defs>\n  <clipPath id=\"p53e6065723\">\n   <rect height=\"163.08\" width=\"279\" x=\"56.805937\" y=\"22.318125\"/>\n  </clipPath>\n </defs>\n</svg>\n",
            "application/pdf": "[encoded data removed]"
          },
          "metadata": {}
        }
      ],
      "source": [
        "ax = plot_few_shot(protonet_accuracies, name=\"ProtoNet\", color=\"C2\")\n",
        "plot_few_shot(protomaml_accuracies, name=\"ProtoMAML\", color=\"C3\", ax=ax)\n",
        "plt.show()\n",
        "plt.close()"
      ]
    },
    {
      "cell_type": "markdown",
      "metadata": {
        "papermill": {
          "duration": 0.053734,
          "end_time": "2021-10-10T16:37:29.090435",
          "exception": false,
          "start_time": "2021-10-10T16:37:29.036701",
          "status": "completed"
        },
        "tags": [],
        "id": "b631ffc3"
      },
      "source": [
        "We can observe that ProtoMAML is indeed able to outperform ProtoNet for $k>4$.\n",
        "This is because with more samples, it becomes more relevant to also adapt the base model's parameters.\n",
        "Meanwhile, for $k=2$, ProtoMAML achieves lower performance than ProtoNet.\n",
        "This is likely also related to choosing 200 inner loop updates since with more updates, there exists the risk of overfitting.\n",
        "Nonetheless, the high standard deviation for $k=2$ makes it hard to take any statistically valid conclusion.\n",
        "\n",
        "Overall, we can conclude that ProtoMAML slightly outperforms ProtoNet for larger shot counts.\n",
        "However, one disadvantage of ProtoMAML is its much longer training and testing time.\n",
        "ProtoNet provides a simple, efficient, yet strong baseline for\n",
        "ProtoMAML, and might be the better solution in situations where limited\n",
        "resources are available."
      ]
    },
    {
      "cell_type": "markdown",
      "metadata": {
        "papermill": {
          "duration": 0.055343,
          "end_time": "2021-10-10T16:37:29.202908",
          "exception": false,
          "start_time": "2021-10-10T16:37:29.147565",
          "status": "completed"
        },
        "tags": [],
        "id": "6d158afa"
      },
      "source": [
        "## Domain adaptation\n",
        "\n",
        "So far, we have evaluated our meta-learning algorithms on the same dataset on which we have trained them.\n",
        "However, meta-learning algorithms are especially interesting when we want to move from one to another dataset.\n",
        "So, what happens if we apply them on a quite different dataset than CIFAR?\n",
        "This is what we try out below, and evaluate ProtoNet and ProtoMAML on the SVHN dataset."
      ]
    },
    {
      "cell_type": "markdown",
      "metadata": {
        "papermill": {
          "duration": 0.054154,
          "end_time": "2021-10-10T16:37:29.316416",
          "exception": false,
          "start_time": "2021-10-10T16:37:29.262262",
          "status": "completed"
        },
        "tags": [],
        "id": "71c4f38f"
      },
      "source": [
        "### SVHN dataset\n",
        "\n",
        "The Street View House Numbers (SVHN) dataset is a real-world image dataset for house number detection.\n",
        "It is similar to MNIST by having the classes 0 to 9, but is more difficult due to its real-world setting and possible distracting numbers left and right.\n",
        "Let's first load the dataset, and visualize some images to get an impression of the dataset."
      ]
    },
    {
      "cell_type": "code",
      "execution_count": 34,
      "metadata": {
        "execution": {
          "iopub.execute_input": "2021-10-10T16:37:29.435411Z",
          "iopub.status.busy": "2021-10-10T16:37:29.434935Z",
          "iopub.status.idle": "2021-10-10T16:37:34.722837Z",
          "shell.execute_reply": "2021-10-10T16:37:34.722322Z"
        },
        "papermill": {
          "duration": 5.346857,
          "end_time": "2021-10-10T16:37:34.722956",
          "exception": false,
          "start_time": "2021-10-10T16:37:29.376099",
          "status": "completed"
        },
        "tags": [],
        "id": "74228693",
        "outputId": "6bf35f3c-cc80-4110-af0e-375755dce3f2",
        "colab": {
          "base_uri": "https://localhost:8080/",
          "referenced_widgets": [
            "b98f30ac5ac34e1981cbc4343cedaede",
            "17efad84027c4cff94885a191d743211",
            "ed1eab0921134d88b704d39333ed94bf",
            "517de9cfb9684a48a46a1e5646449541",
            "85167252a16646fba2c302565b4c4214",
            "5e34f1176fdd47888159d79d1e75d472",
            "0dec005b6d254af5b0deb21b0ea58827",
            "6bd6fc9a9fb74f0e960a88cdd0d89d97",
            "94f999db67bf4a15ad22c103fec717fe",
            "c591ec0c7f174faab424e13ec66adffc",
            "453b1e0bed534a628f6de7d4b62abad3"
          ],
          "height": 0
        }
      },
      "outputs": [
        {
          "output_type": "stream",
          "name": "stdout",
          "text": [
            "Downloading http://ufldl.stanford.edu/housenumbers/test_32x32.mat to data/test_32x32.mat\n"
          ]
        },
        {
          "output_type": "display_data",
          "data": {
            "text/plain": [
              "  0%|          | 0/64275384 [00:00<?, ?it/s]"
            ],
            "application/vnd.jupyter.widget-view+json": {
              "version_major": 2,
              "version_minor": 0,
              "model_id": "b98f30ac5ac34e1981cbc4343cedaede"
            }
          },
          "metadata": {}
        }
      ],
      "source": [
        "SVHN_test_dataset = SVHN(root=DATASET_PATH, split=\"test\", download=True, transform=transforms.ToTensor())"
      ]
    },
    {
      "cell_type": "code",
      "execution_count": 35,
      "metadata": {
        "execution": {
          "iopub.execute_input": "2021-10-10T16:37:34.838934Z",
          "iopub.status.busy": "2021-10-10T16:37:34.838460Z",
          "iopub.status.idle": "2021-10-10T16:37:35.077125Z",
          "shell.execute_reply": "2021-10-10T16:37:35.077513Z"
        },
        "papermill": {
          "duration": 0.298826,
          "end_time": "2021-10-10T16:37:35.077658",
          "exception": false,
          "start_time": "2021-10-10T16:37:34.778832",
          "status": "completed"
        },
        "tags": [],
        "id": "6b1d0ccf",
        "outputId": "800a6346-83c5-4981-fe5c-ba5eac976e92",
        "colab": {
          "base_uri": "https://localhost:8080/",
          "height": 0
        }
      },
      "outputs": [
        {
          "output_type": "display_data",
          "data": {
            "text/plain": [
              "<Figure size 576x576 with 1 Axes>"
            ],
            "image/svg+xml": "<?xml version=\"1.0\" encoding=\"utf-8\" standalone=\"no\"?>\n<!DOCTYPE svg PUBLIC \"-//W3C//DTD SVG 1.1//EN\"\n  \"http://www.w3.org/Graphics/SVG/1.1/DTD/svg11.dtd\">\n<!-- Created with matplotlib (https://matplotlib.org/) -->\n<svg height=\"181.207445pt\" version=\"1.1\" viewBox=\"0 0 460.8 181.207445\" width=\"460.8pt\" xmlns=\"http://www.w3.org/2000/svg\" xmlns:xlink=\"http://www.w3.org/1999/xlink\">\n <defs>\n  <style type=\"text/css\">\n*{stroke-linecap:butt;stroke-linejoin:round;}\n  </style>\n </defs>\n <g id=\"figure_1\">\n  <g id=\"patch_1\">\n   <path d=\"M 0 181.207445 \nL 460.8 181.207445 \nL 460.8 0 \nL 0 0 \nz\n\" style=\"fill:#ffffff;\"/>\n  </g>\n  <g id=\"axes_1\">\n   <g clip-path=\"url(#p26b0e8de5f)\">\n    <image height=\"152\" id=\"imaged3f027ffd5\" transform=\"scale(1 -1)translate(0 -152)\" width=\"447\" x=\"7.2\" xlink:href=\"data:image/png;base64,\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\" y=\"-22.007445\"/>\n   </g>\n   <g id=\"text_1\">\n    <!-- Image examples of the SVHN dataset -->\n    <defs>\n     <path d=\"M 9.8125 72.90625 \nL 19.671875 72.90625 \nL 19.671875 0 \nL 9.8125 0 \nz\n\" id=\"DejaVuSans-73\"/>\n     <path d=\"M 52 44.1875 \nQ 55.375 50.25 60.0625 53.125 \nQ 64.75 56 71.09375 56 \nQ 79.640625 56 84.28125 50.015625 \nQ 88.921875 44.046875 88.921875 33.015625 \nL 88.921875 0 \nL 79.890625 0 \nL 79.890625 32.71875 \nQ 79.890625 40.578125 77.09375 44.375 \nQ 74.3125 48.1875 68.609375 48.1875 \nQ 61.625 48.1875 57.5625 43.546875 \nQ 53.515625 38.921875 53.515625 30.90625 \nL 53.515625 0 \nL 44.484375 0 \nL 44.484375 32.71875 \nQ 44.484375 40.625 41.703125 44.40625 \nQ 38.921875 48.1875 33.109375 48.1875 \nQ 26.21875 48.1875 22.15625 43.53125 \nQ 18.109375 38.875 18.109375 30.90625 \nL 18.109375 0 \nL 9.078125 0 \nL 9.078125 54.6875 \nL 18.109375 54.6875 \nL 18.109375 46.1875 \nQ 21.1875 51.21875 25.484375 53.609375 \nQ 29.78125 56 35.6875 56 \nQ 41.65625 56 45.828125 52.96875 \nQ 50 49.953125 52 44.1875 \nz\n\" id=\"DejaVuSans-109\"/>\n     <path d=\"M 34.28125 27.484375 \nQ 23.390625 27.484375 19.1875 25 \nQ 14.984375 22.515625 14.984375 16.5 \nQ 14.984375 11.71875 18.140625 8.90625 \nQ 21.296875 6.109375 26.703125 6.109375 \nQ 34.1875 6.109375 38.703125 11.40625 \nQ 43.21875 16.703125 43.21875 25.484375 \nL 43.21875 27.484375 \nz\nM 52.203125 31.203125 \nL 52.203125 0 \nL 43.21875 0 \nL 43.21875 8.296875 \nQ 40.140625 3.328125 35.546875 0.953125 \nQ 30.953125 -1.421875 24.3125 -1.421875 \nQ 15.921875 -1.421875 10.953125 3.296875 \nQ 6 8.015625 6 15.921875 \nQ 6 25.140625 12.171875 29.828125 \nQ 18.359375 34.515625 30.609375 34.515625 \nL 43.21875 34.515625 \nL 43.21875 35.40625 \nQ 43.21875 41.609375 39.140625 45 \nQ 35.0625 48.390625 27.6875 48.390625 \nQ 23 48.390625 18.546875 47.265625 \nQ 14.109375 46.140625 10.015625 43.890625 \nL 10.015625 52.203125 \nQ 14.9375 54.109375 19.578125 55.046875 \nQ 24.21875 56 28.609375 56 \nQ 40.484375 56 46.34375 49.84375 \nQ 52.203125 43.703125 52.203125 31.203125 \nz\n\" id=\"DejaVuSans-97\"/>\n     <path d=\"M 45.40625 27.984375 \nQ 45.40625 37.75 41.375 43.109375 \nQ 37.359375 48.484375 30.078125 48.484375 \nQ 22.859375 48.484375 18.828125 43.109375 \nQ 14.796875 37.75 14.796875 27.984375 \nQ 14.796875 18.265625 18.828125 12.890625 \nQ 22.859375 7.515625 30.078125 7.515625 \nQ 37.359375 7.515625 41.375 12.890625 \nQ 45.40625 18.265625 45.40625 27.984375 \nz\nM 54.390625 6.78125 \nQ 54.390625 -7.171875 48.1875 -13.984375 \nQ 42 -20.796875 29.203125 -20.796875 \nQ 24.46875 -20.796875 20.265625 -20.09375 \nQ 16.0625 -19.390625 12.109375 -17.921875 \nL 12.109375 -9.1875 \nQ 16.0625 -11.328125 19.921875 -12.34375 \nQ 23.78125 -13.375 27.78125 -13.375 \nQ 36.625 -13.375 41.015625 -8.765625 \nQ 45.40625 -4.15625 45.40625 5.171875 \nL 45.40625 9.625 \nQ 42.625 4.78125 38.28125 2.390625 \nQ 33.9375 0 27.875 0 \nQ 17.828125 0 11.671875 7.65625 \nQ 5.515625 15.328125 5.515625 27.984375 \nQ 5.515625 40.671875 11.671875 48.328125 \nQ 17.828125 56 27.875 56 \nQ 33.9375 56 38.28125 53.609375 \nQ 42.625 51.21875 45.40625 46.390625 \nL 45.40625 54.6875 \nL 54.390625 54.6875 \nz\n\" id=\"DejaVuSans-103\"/>\n     <path d=\"M 56.203125 29.59375 \nL 56.203125 25.203125 \nL 14.890625 25.203125 \nQ 15.484375 15.921875 20.484375 11.0625 \nQ 25.484375 6.203125 34.421875 6.203125 \nQ 39.59375 6.203125 44.453125 7.46875 \nQ 49.3125 8.734375 54.109375 11.28125 \nL 54.109375 2.78125 \nQ 49.265625 0.734375 44.1875 -0.34375 \nQ 39.109375 -1.421875 33.890625 -1.421875 \nQ 20.796875 -1.421875 13.15625 6.1875 \nQ 5.515625 13.8125 5.515625 26.8125 \nQ 5.515625 40.234375 12.765625 48.109375 \nQ 20.015625 56 32.328125 56 \nQ 43.359375 56 49.78125 48.890625 \nQ 56.203125 41.796875 56.203125 29.59375 \nz\nM 47.21875 32.234375 \nQ 47.125 39.59375 43.09375 43.984375 \nQ 39.0625 48.390625 32.421875 48.390625 \nQ 24.90625 48.390625 20.390625 44.140625 \nQ 15.875 39.890625 15.1875 32.171875 \nz\n\" id=\"DejaVuSans-101\"/>\n     <path id=\"DejaVuSans-32\"/>\n     <path d=\"M 54.890625 54.6875 \nL 35.109375 28.078125 \nL 55.90625 0 \nL 45.3125 0 \nL 29.390625 21.484375 \nL 13.484375 0 \nL 2.875 0 \nL 24.125 28.609375 \nL 4.6875 54.6875 \nL 15.28125 54.6875 \nL 29.78125 35.203125 \nL 44.28125 54.6875 \nz\n\" id=\"DejaVuSans-120\"/>\n     <path d=\"M 18.109375 8.203125 \nL 18.109375 -20.796875 \nL 9.078125 -20.796875 \nL 9.078125 54.6875 \nL 18.109375 54.6875 \nL 18.109375 46.390625 \nQ 20.953125 51.265625 25.265625 53.625 \nQ 29.59375 56 35.59375 56 \nQ 45.5625 56 51.78125 48.09375 \nQ 58.015625 40.1875 58.015625 27.296875 \nQ 58.015625 14.40625 51.78125 6.484375 \nQ 45.5625 -1.421875 35.59375 -1.421875 \nQ 29.59375 -1.421875 25.265625 0.953125 \nQ 20.953125 3.328125 18.109375 8.203125 \nz\nM 48.6875 27.296875 \nQ 48.6875 37.203125 44.609375 42.84375 \nQ 40.53125 48.484375 33.40625 48.484375 \nQ 26.265625 48.484375 22.1875 42.84375 \nQ 18.109375 37.203125 18.109375 27.296875 \nQ 18.109375 17.390625 22.1875 11.75 \nQ 26.265625 6.109375 33.40625 6.109375 \nQ 40.53125 6.109375 44.609375 11.75 \nQ 48.6875 17.390625 48.6875 27.296875 \nz\n\" id=\"DejaVuSans-112\"/>\n     <path d=\"M 9.421875 75.984375 \nL 18.40625 75.984375 \nL 18.40625 0 \nL 9.421875 0 \nz\n\" id=\"DejaVuSans-108\"/>\n     <path d=\"M 44.28125 53.078125 \nL 44.28125 44.578125 \nQ 40.484375 46.53125 36.375 47.5 \nQ 32.28125 48.484375 27.875 48.484375 \nQ 21.1875 48.484375 17.84375 46.4375 \nQ 14.5 44.390625 14.5 40.28125 \nQ 14.5 37.15625 16.890625 35.375 \nQ 19.28125 33.59375 26.515625 31.984375 \nL 29.59375 31.296875 \nQ 39.15625 29.25 43.1875 25.515625 \nQ 47.21875 21.78125 47.21875 15.09375 \nQ 47.21875 7.46875 41.1875 3.015625 \nQ 35.15625 -1.421875 24.609375 -1.421875 \nQ 20.21875 -1.421875 15.453125 -0.5625 \nQ 10.6875 0.296875 5.421875 2 \nL 5.421875 11.28125 \nQ 10.40625 8.6875 15.234375 7.390625 \nQ 20.0625 6.109375 24.8125 6.109375 \nQ 31.15625 6.109375 34.5625 8.28125 \nQ 37.984375 10.453125 37.984375 14.40625 \nQ 37.984375 18.0625 35.515625 20.015625 \nQ 33.0625 21.96875 24.703125 23.78125 \nL 21.578125 24.515625 \nQ 13.234375 26.265625 9.515625 29.90625 \nQ 5.8125 33.546875 5.8125 39.890625 \nQ 5.8125 47.609375 11.28125 51.796875 \nQ 16.75 56 26.8125 56 \nQ 31.78125 56 36.171875 55.265625 \nQ 40.578125 54.546875 44.28125 53.078125 \nz\n\" id=\"DejaVuSans-115\"/>\n     <path d=\"M 30.609375 48.390625 \nQ 23.390625 48.390625 19.1875 42.75 \nQ 14.984375 37.109375 14.984375 27.296875 \nQ 14.984375 17.484375 19.15625 11.84375 \nQ 23.34375 6.203125 30.609375 6.203125 \nQ 37.796875 6.203125 41.984375 11.859375 \nQ 46.1875 17.53125 46.1875 27.296875 \nQ 46.1875 37.015625 41.984375 42.703125 \nQ 37.796875 48.390625 30.609375 48.390625 \nz\nM 30.609375 56 \nQ 42.328125 56 49.015625 48.375 \nQ 55.71875 40.765625 55.71875 27.296875 \nQ 55.71875 13.875 49.015625 6.21875 \nQ 42.328125 -1.421875 30.609375 -1.421875 \nQ 18.84375 -1.421875 12.171875 6.21875 \nQ 5.515625 13.875 5.515625 27.296875 \nQ 5.515625 40.765625 12.171875 48.375 \nQ 18.84375 56 30.609375 56 \nz\n\" id=\"DejaVuSans-111\"/>\n     <path d=\"M 37.109375 75.984375 \nL 37.109375 68.5 \nL 28.515625 68.5 \nQ 23.6875 68.5 21.796875 66.546875 \nQ 19.921875 64.59375 19.921875 59.515625 \nL 19.921875 54.6875 \nL 34.71875 54.6875 \nL 34.71875 47.703125 \nL 19.921875 47.703125 \nL 19.921875 0 \nL 10.890625 0 \nL 10.890625 47.703125 \nL 2.296875 47.703125 \nL 2.296875 54.6875 \nL 10.890625 54.6875 \nL 10.890625 58.5 \nQ 10.890625 67.625 15.140625 71.796875 \nQ 19.390625 75.984375 28.609375 75.984375 \nz\n\" id=\"DejaVuSans-102\"/>\n     <path d=\"M 18.3125 70.21875 \nL 18.3125 54.6875 \nL 36.8125 54.6875 \nL 36.8125 47.703125 \nL 18.3125 47.703125 \nL 18.3125 18.015625 \nQ 18.3125 11.328125 20.140625 9.421875 \nQ 21.96875 7.515625 27.59375 7.515625 \nL 36.8125 7.515625 \nL 36.8125 0 \nL 27.59375 0 \nQ 17.1875 0 13.234375 3.875 \nQ 9.28125 7.765625 9.28125 18.015625 \nL 9.28125 47.703125 \nL 2.6875 47.703125 \nL 2.6875 54.6875 \nL 9.28125 54.6875 \nL 9.28125 70.21875 \nz\n\" id=\"DejaVuSans-116\"/>\n     <path d=\"M 54.890625 33.015625 \nL 54.890625 0 \nL 45.90625 0 \nL 45.90625 32.71875 \nQ 45.90625 40.484375 42.875 44.328125 \nQ 39.84375 48.1875 33.796875 48.1875 \nQ 26.515625 48.1875 22.3125 43.546875 \nQ 18.109375 38.921875 18.109375 30.90625 \nL 18.109375 0 \nL 9.078125 0 \nL 9.078125 75.984375 \nL 18.109375 75.984375 \nL 18.109375 46.1875 \nQ 21.34375 51.125 25.703125 53.5625 \nQ 30.078125 56 35.796875 56 \nQ 45.21875 56 50.046875 50.171875 \nQ 54.890625 44.34375 54.890625 33.015625 \nz\n\" id=\"DejaVuSans-104\"/>\n     <path d=\"M 53.515625 70.515625 \nL 53.515625 60.890625 \nQ 47.90625 63.578125 42.921875 64.890625 \nQ 37.9375 66.21875 33.296875 66.21875 \nQ 25.25 66.21875 20.875 63.09375 \nQ 16.5 59.96875 16.5 54.203125 \nQ 16.5 49.359375 19.40625 46.890625 \nQ 22.3125 44.4375 30.421875 42.921875 \nL 36.375 41.703125 \nQ 47.40625 39.59375 52.65625 34.296875 \nQ 57.90625 29 57.90625 20.125 \nQ 57.90625 9.515625 50.796875 4.046875 \nQ 43.703125 -1.421875 29.984375 -1.421875 \nQ 24.8125 -1.421875 18.96875 -0.25 \nQ 13.140625 0.921875 6.890625 3.21875 \nL 6.890625 13.375 \nQ 12.890625 10.015625 18.65625 8.296875 \nQ 24.421875 6.59375 29.984375 6.59375 \nQ 38.421875 6.59375 43.015625 9.90625 \nQ 47.609375 13.234375 47.609375 19.390625 \nQ 47.609375 24.75 44.3125 27.78125 \nQ 41.015625 30.8125 33.5 32.328125 \nL 27.484375 33.5 \nQ 16.453125 35.6875 11.515625 40.375 \nQ 6.59375 45.0625 6.59375 53.421875 \nQ 6.59375 63.09375 13.40625 68.65625 \nQ 20.21875 74.21875 32.171875 74.21875 \nQ 37.3125 74.21875 42.625 73.28125 \nQ 47.953125 72.359375 53.515625 70.515625 \nz\n\" id=\"DejaVuSans-83\"/>\n     <path d=\"M 28.609375 0 \nL 0.78125 72.90625 \nL 11.078125 72.90625 \nL 34.1875 11.53125 \nL 57.328125 72.90625 \nL 67.578125 72.90625 \nL 39.796875 0 \nz\n\" id=\"DejaVuSans-86\"/>\n     <path d=\"M 9.8125 72.90625 \nL 19.671875 72.90625 \nL 19.671875 43.015625 \nL 55.515625 43.015625 \nL 55.515625 72.90625 \nL 65.375 72.90625 \nL 65.375 0 \nL 55.515625 0 \nL 55.515625 34.71875 \nL 19.671875 34.71875 \nL 19.671875 0 \nL 9.8125 0 \nz\n\" id=\"DejaVuSans-72\"/>\n     <path d=\"M 9.8125 72.90625 \nL 23.09375 72.90625 \nL 55.421875 11.921875 \nL 55.421875 72.90625 \nL 64.984375 72.90625 \nL 64.984375 0 \nL 51.703125 0 \nL 19.390625 60.984375 \nL 19.390625 0 \nL 9.8125 0 \nz\n\" id=\"DejaVuSans-78\"/>\n     <path d=\"M 45.40625 46.390625 \nL 45.40625 75.984375 \nL 54.390625 75.984375 \nL 54.390625 0 \nL 45.40625 0 \nL 45.40625 8.203125 \nQ 42.578125 3.328125 38.25 0.953125 \nQ 33.9375 -1.421875 27.875 -1.421875 \nQ 17.96875 -1.421875 11.734375 6.484375 \nQ 5.515625 14.40625 5.515625 27.296875 \nQ 5.515625 40.1875 11.734375 48.09375 \nQ 17.96875 56 27.875 56 \nQ 33.9375 56 38.25 53.625 \nQ 42.578125 51.265625 45.40625 46.390625 \nz\nM 14.796875 27.296875 \nQ 14.796875 17.390625 18.875 11.75 \nQ 22.953125 6.109375 30.078125 6.109375 \nQ 37.203125 6.109375 41.296875 11.75 \nQ 45.40625 17.390625 45.40625 27.296875 \nQ 45.40625 37.203125 41.296875 42.84375 \nQ 37.203125 48.484375 30.078125 48.484375 \nQ 22.953125 48.484375 18.875 42.84375 \nQ 14.796875 37.203125 14.796875 27.296875 \nz\n\" id=\"DejaVuSans-100\"/>\n    </defs>\n    <g style=\"fill:#262626;\" transform=\"translate(117.891562 16.318125)scale(0.12 -0.12)\">\n     <use xlink:href=\"#DejaVuSans-73\"/>\n     <use x=\"29.492188\" xlink:href=\"#DejaVuSans-109\"/>\n     <use x=\"126.904297\" xlink:href=\"#DejaVuSans-97\"/>\n     <use x=\"188.183594\" xlink:href=\"#DejaVuSans-103\"/>\n     <use x=\"251.660156\" xlink:href=\"#DejaVuSans-101\"/>\n     <use x=\"313.183594\" xlink:href=\"#DejaVuSans-32\"/>\n     <use x=\"344.970703\" xlink:href=\"#DejaVuSans-101\"/>\n     <use x=\"404.744141\" xlink:href=\"#DejaVuSans-120\"/>\n     <use x=\"463.923828\" xlink:href=\"#DejaVuSans-97\"/>\n     <use x=\"525.203125\" xlink:href=\"#DejaVuSans-109\"/>\n     <use x=\"622.615234\" xlink:href=\"#DejaVuSans-112\"/>\n     <use x=\"686.091797\" xlink:href=\"#DejaVuSans-108\"/>\n     <use x=\"713.875\" xlink:href=\"#DejaVuSans-101\"/>\n     <use x=\"775.398438\" xlink:href=\"#DejaVuSans-115\"/>\n     <use x=\"827.498047\" xlink:href=\"#DejaVuSans-32\"/>\n     <use x=\"859.285156\" xlink:href=\"#DejaVuSans-111\"/>\n     <use x=\"920.466797\" xlink:href=\"#DejaVuSans-102\"/>\n     <use x=\"955.671875\" xlink:href=\"#DejaVuSans-32\"/>\n     <use x=\"987.458984\" xlink:href=\"#DejaVuSans-116\"/>\n     <use x=\"1026.667969\" xlink:href=\"#DejaVuSans-104\"/>\n     <use x=\"1090.046875\" xlink:href=\"#DejaVuSans-101\"/>\n     <use x=\"1151.570312\" xlink:href=\"#DejaVuSans-32\"/>\n     <use x=\"1183.357422\" xlink:href=\"#DejaVuSans-83\"/>\n     <use x=\"1246.833984\" xlink:href=\"#DejaVuSans-86\"/>\n     <use x=\"1315.242188\" xlink:href=\"#DejaVuSans-72\"/>\n     <use x=\"1390.4375\" xlink:href=\"#DejaVuSans-78\"/>\n     <use x=\"1465.242188\" xlink:href=\"#DejaVuSans-32\"/>\n     <use x=\"1497.029297\" xlink:href=\"#DejaVuSans-100\"/>\n     <use x=\"1560.505859\" xlink:href=\"#DejaVuSans-97\"/>\n     <use x=\"1621.785156\" xlink:href=\"#DejaVuSans-116\"/>\n     <use x=\"1660.994141\" xlink:href=\"#DejaVuSans-97\"/>\n     <use x=\"1722.273438\" xlink:href=\"#DejaVuSans-115\"/>\n     <use x=\"1774.373047\" xlink:href=\"#DejaVuSans-101\"/>\n     <use x=\"1835.896484\" xlink:href=\"#DejaVuSans-116\"/>\n    </g>\n   </g>\n  </g>\n </g>\n <defs>\n  <clipPath id=\"p26b0e8de5f\">\n   <rect height=\"151.68932\" width=\"446.4\" x=\"7.2\" y=\"22.318125\"/>\n  </clipPath>\n </defs>\n</svg>\n",
            "application/pdf": "[encoded data removed]"
          },
          "metadata": {}
        }
      ],
      "source": [
        "# Visualize some examples\n",
        "NUM_IMAGES = 12\n",
        "SVHN_images = [SVHN_test_dataset[np.random.randint(len(SVHN_test_dataset))][0] for idx in range(NUM_IMAGES)]\n",
        "SVHN_images = torch.stack(SVHN_images, dim=0)\n",
        "img_grid = torchvision.utils.make_grid(SVHN_images, nrow=6, normalize=True, pad_value=0.9)\n",
        "img_grid = img_grid.permute(1, 2, 0)\n",
        "\n",
        "plt.figure(figsize=(8, 8))\n",
        "plt.title(\"Image examples of the SVHN dataset\")\n",
        "plt.imshow(img_grid)\n",
        "plt.axis(\"off\")\n",
        "plt.show()\n",
        "plt.close()"
      ]
    },
    {
      "cell_type": "markdown",
      "metadata": {
        "papermill": {
          "duration": 0.057271,
          "end_time": "2021-10-10T16:37:35.195031",
          "exception": false,
          "start_time": "2021-10-10T16:37:35.137760",
          "status": "completed"
        },
        "tags": [],
        "id": "65604d6b"
      },
      "source": [
        "Each image is labeled with one class between 0 and 9 representing the main digit in the image.\n",
        "Can our ProtoNet and ProtoMAML learn to classify the digits from only a few examples?\n",
        "This is what we will test out below.\n",
        "The images have the same size as CIFAR, so that we can use the images without changes.\n",
        "We first prepare the dataset, for which we take the first 500 images per class.\n",
        "For this dataset, we use our test functions as before to get an estimated performance for different number of shots."
      ]
    },
    {
      "cell_type": "code",
      "execution_count": 36,
      "metadata": {
        "execution": {
          "iopub.execute_input": "2021-10-10T16:37:35.315332Z",
          "iopub.status.busy": "2021-10-10T16:37:35.314823Z",
          "iopub.status.idle": "2021-10-10T16:37:35.326321Z",
          "shell.execute_reply": "2021-10-10T16:37:35.326709Z"
        },
        "papermill": {
          "duration": 0.07457,
          "end_time": "2021-10-10T16:37:35.326849",
          "exception": false,
          "start_time": "2021-10-10T16:37:35.252279",
          "status": "completed"
        },
        "tags": [],
        "id": "0de00f6d",
        "outputId": "e11fcbfb-21c4-4741-e44c-43f06209e0fe",
        "colab": {
          "base_uri": "https://localhost:8080/"
        }
      },
      "outputs": [
        {
          "output_type": "execute_result",
          "data": {
            "text/plain": [
              "(5000, 32, 32, 3)"
            ]
          },
          "metadata": {},
          "execution_count": 36
        }
      ],
      "source": [
        "imgs = np.transpose(SVHN_test_dataset.data, (0, 2, 3, 1))\n",
        "targets = SVHN_test_dataset.labels\n",
        "# Limit number of examples to 500 to reduce test time\n",
        "min_label_count = min(500, np.bincount(SVHN_test_dataset.labels).min())\n",
        "\n",
        "idxs = np.concatenate([np.where(targets == c)[0][:min_label_count] for c in range(1 + targets.max())], axis=0)\n",
        "imgs = imgs[idxs]\n",
        "targets = torch.from_numpy(targets[idxs]).long()\n",
        "\n",
        "svhn_fewshot_dataset = ImageDataset(imgs, targets, img_transform=test_transform)\n",
        "svhn_fewshot_dataset.imgs.shape"
      ]
    },
    {
      "cell_type": "markdown",
      "metadata": {
        "papermill": {
          "duration": 0.059836,
          "end_time": "2021-10-10T16:37:35.446022",
          "exception": false,
          "start_time": "2021-10-10T16:37:35.386186",
          "status": "completed"
        },
        "tags": [],
        "id": "761db618"
      },
      "source": [
        "### Experiments\n",
        "\n",
        "First, we can apply ProtoNet to the SVHN dataset:"
      ]
    },
    {
      "cell_type": "code",
      "execution_count": 37,
      "metadata": {
        "execution": {
          "iopub.execute_input": "2021-10-10T16:37:35.566197Z",
          "iopub.status.busy": "2021-10-10T16:37:35.565609Z",
          "iopub.status.idle": "2021-10-10T16:37:49.932486Z",
          "shell.execute_reply": "2021-10-10T16:37:49.932000Z"
        },
        "papermill": {
          "duration": 14.429039,
          "end_time": "2021-10-10T16:37:49.932629",
          "exception": false,
          "start_time": "2021-10-10T16:37:35.503590",
          "status": "completed"
        },
        "tags": [],
        "id": "443d295e",
        "outputId": "c9711fbf-ec0e-43d8-e55d-39a618cbf75c",
        "colab": {
          "base_uri": "https://localhost:8080/",
          "height": 159,
          "referenced_widgets": [
            "1fd6271c94824add8f3ae8c56e1d7b3b",
            "b889c29dc5da4597a29a76e776f69adc",
            "4b397c36eb604b4cb32ff77685853ac2",
            "d35641796bd34df4af8861230e47c388",
            "dd4ad91aedd745dabb4d9691a751f32c",
            "09a99a51b0294800bd11fc9a9ef62ee3",
            "560c70cb5e024fbb80d3e2a9fd900e69",
            "560a32d8836c4b97a07ab489b4da8e0f",
            "9d1160265eb547849508146c3d50d91a",
            "3a061e08bc194c86a0af9b4d0d06e1cc",
            "e97945c224d44ef7bbb78244a9eb8d12",
            "92015c8ee86b4a3f82cff9fc203fb59c",
            "f464c19543334a68885aa97acb0ce6e7",
            "f7404fc5a06849438235ab2548b410bc",
            "78514d97074744478dec1795b9849906",
            "e35914e06674472f8ad05caed77a3b69",
            "7a9b0831825d4562b9186744ab45272e",
            "5926d22ac3a544fd8e62f114dcb268f4",
            "903ea6c7804e4af5b44d638c162f7fde",
            "b83efbc760614894b009fc988dcecb89",
            "39771f3e2d184fbb918d3ad44f00db58",
            "b96071859e0c4514846fdc83b014ad21",
            "0e1446ab2b4a4270a4bc37a027abdc7e",
            "803de0085e7b4e49a6e0b1ff6019697b",
            "5c266c18e01c4c18b493a57b05d5c171",
            "d53268de9bfc490294408b1a3df84705",
            "9ca11b8f6fa04676a2ab13300f8fc2c8",
            "a7f02c5689de4a09a94714611af3c9d1",
            "d0a71358ecb94b408efbc797f7ae2eba",
            "3d13dac1307742b192023625f9fd612b",
            "f59cbb19876f424483e06e107b0bce61",
            "273bb66709a94a11822f99d718457dba",
            "f72435b7e2154bd48b6c5116de711208",
            "05f665c3d76d47a5b49e571ebb70b072",
            "47ed4a1a0b764e7cb2413f6948b497d0",
            "426e5600d53948b09fa9d89cea963207",
            "da2e6ae8bba3495998f23bb0dfde9f34",
            "d2b758524ad04ae69e05255150154ce3",
            "707ef045381149c7baf8811e88dec465",
            "2a7b88c1316945c8ad52b76e2a40ff0a",
            "3ed1c5c35d8a4245ac04a54aa2fd19ad",
            "69baf05fa84a4e8ea290a223cc6b788f",
            "552cdb84e1a34e3b920bf422715b6986",
            "09e5f36526b64037bc8b184dcdd5e408",
            "0b358559ac12498d9bffe0e984652f84",
            "902495cf69ac40fba32dc3bebe1221bf",
            "b160d9432cc2472998b42fd50648261e",
            "f7580cc1cb23426984a28448d35b0ee3",
            "9f0a6e2071ef4cd59529b796d3eb9ae6",
            "28c5f1641e1341ca9d03e5b334732b99",
            "ab3f79eaebf9451e862bdb0916362391",
            "6255b4ad2e13483b8a38755cfc52f0f3",
            "0957357d640a4e25900d71a973dbf04f",
            "f06fc4e2c02f4b7db285a771fcc2d9df",
            "f7e3a8b98d68471faf6a9685d7fcad5d",
            "2007aea6e7fd403783ba72d74edfaa94",
            "a757782c353c4ca4b692c36d818d0a80",
            "ab8b463ef32749d684bdfb16353ff7fa",
            "5e71f7d71a834c95aa3fb1d4abb32c5c",
            "79aabcc9ad704bfaa002a95f6f38fae8",
            "4ad185c2155546648f8c492d00b9b0e3",
            "404dfa63ad384a50a607c1282f5b5835",
            "c8234b0627974c63aed6e66c47b89945",
            "69d817d40fbf4abeb93fa7ecfe28d1c0",
            "6938e677f8a0481c96404af756d434a6",
            "7bb5553c40354349b896f619dcae91d1"
          ]
        }
      },
      "outputs": [
        {
          "output_type": "stream",
          "name": "stderr",
          "text": [
            "/usr/local/lib/python3.8/dist-packages/torch/utils/data/dataloader.py:563: UserWarning: This DataLoader will create 4 worker processes in total. Our suggested max number of worker in current system is 2, which is smaller than what this DataLoader is going to create. Please be aware that excessive worker creation might get DataLoader running slow or even freeze, lower the worker number to avoid potential slowness/freeze if necessary.\n",
            "  warnings.warn(_create_warning_msg(\n"
          ]
        },
        {
          "output_type": "display_data",
          "data": {
            "text/plain": [
              "Extracting image features:   0%|          | 0/40 [00:00<?, ?it/s]"
            ],
            "application/vnd.jupyter.widget-view+json": {
              "version_major": 2,
              "version_minor": 0,
              "model_id": "1fd6271c94824add8f3ae8c56e1d7b3b"
            }
          },
          "metadata": {}
        },
        {
          "output_type": "display_data",
          "data": {
            "text/plain": [
              "Evaluating prototype classification:   0%|          | 0/250 [00:00<?, ?it/s]"
            ],
            "application/vnd.jupyter.widget-view+json": {
              "version_major": 2,
              "version_minor": 0,
              "model_id": "92015c8ee86b4a3f82cff9fc203fb59c"
            }
          },
          "metadata": {}
        },
        {
          "output_type": "stream",
          "name": "stdout",
          "text": [
            "Accuracy for k=2: 18.82% (+-2.28%)\n"
          ]
        },
        {
          "output_type": "display_data",
          "data": {
            "text/plain": [
              "Evaluating prototype classification:   0%|          | 0/125 [00:00<?, ?it/s]"
            ],
            "application/vnd.jupyter.widget-view+json": {
              "version_major": 2,
              "version_minor": 0,
              "model_id": "0e1446ab2b4a4270a4bc37a027abdc7e"
            }
          },
          "metadata": {}
        },
        {
          "output_type": "stream",
          "name": "stdout",
          "text": [
            "Accuracy for k=4: 21.94% (+-2.09%)\n"
          ]
        },
        {
          "output_type": "display_data",
          "data": {
            "text/plain": [
              "Evaluating prototype classification:   0%|          | 0/63 [00:00<?, ?it/s]"
            ],
            "application/vnd.jupyter.widget-view+json": {
              "version_major": 2,
              "version_minor": 0,
              "model_id": "05f665c3d76d47a5b49e571ebb70b072"
            }
          },
          "metadata": {}
        },
        {
          "output_type": "stream",
          "name": "stdout",
          "text": [
            "Accuracy for k=8: 25.59% (+-1.76%)\n"
          ]
        },
        {
          "output_type": "display_data",
          "data": {
            "text/plain": [
              "Evaluating prototype classification:   0%|          | 0/32 [00:00<?, ?it/s]"
            ],
            "application/vnd.jupyter.widget-view+json": {
              "version_major": 2,
              "version_minor": 0,
              "model_id": "0b358559ac12498d9bffe0e984652f84"
            }
          },
          "metadata": {}
        },
        {
          "output_type": "stream",
          "name": "stdout",
          "text": [
            "Accuracy for k=16: 29.06% (+-1.84%)\n"
          ]
        },
        {
          "output_type": "display_data",
          "data": {
            "text/plain": [
              "Evaluating prototype classification:   0%|          | 0/16 [00:00<?, ?it/s]"
            ],
            "application/vnd.jupyter.widget-view+json": {
              "version_major": 2,
              "version_minor": 0,
              "model_id": "2007aea6e7fd403783ba72d74edfaa94"
            }
          },
          "metadata": {}
        },
        {
          "output_type": "stream",
          "name": "stdout",
          "text": [
            "Accuracy for k=32: 32.93% (+-1.33%)\n"
          ]
        }
      ],
      "source": [
        "protonet_svhn_accuracies = dict()\n",
        "data_feats = None\n",
        "\n",
        "for k in [2, 4, 8, 16, 32]:\n",
        "    protonet_svhn_accuracies[k], data_feats = test_proto_net(\n",
        "        protonet_model, svhn_fewshot_dataset, data_feats=data_feats, k_shot=k\n",
        "    )\n",
        "    print(\n",
        "        \"Accuracy for k=%i: %4.2f%% (+-%4.2f%%)\"\n",
        "        % (k, 100.0 * protonet_svhn_accuracies[k][0], 100 * protonet_svhn_accuracies[k][1])\n",
        "    )"
      ]
    },
    {
      "cell_type": "markdown",
      "metadata": {
        "papermill": {
          "duration": 0.060736,
          "end_time": "2021-10-10T16:37:50.056050",
          "exception": false,
          "start_time": "2021-10-10T16:37:49.995314",
          "status": "completed"
        },
        "tags": [],
        "id": "8c171ffc"
      },
      "source": [
        "It becomes clear that the results are much lower than the ones on CIFAR, and just slightly above random for $k=2$.\n",
        "How about ProtoMAML?\n",
        "We provide again evaluation files since the evaluation can take several minutes to complete."
      ]
    },
    {
      "cell_type": "code",
      "execution_count": 38,
      "metadata": {
        "execution": {
          "iopub.execute_input": "2021-10-10T16:37:50.188670Z",
          "iopub.status.busy": "2021-10-10T16:37:50.188177Z",
          "iopub.status.idle": "2021-10-10T16:37:50.191641Z",
          "shell.execute_reply": "2021-10-10T16:37:50.191230Z"
        },
        "papermill": {
          "duration": 0.072963,
          "end_time": "2021-10-10T16:37:50.191749",
          "exception": false,
          "start_time": "2021-10-10T16:37:50.118786",
          "status": "completed"
        },
        "tags": [],
        "id": "ca0e6799",
        "outputId": "3a7f71e7-e405-401c-9641-8c5c5c4e2a0d",
        "colab": {
          "base_uri": "https://localhost:8080/"
        }
      },
      "outputs": [
        {
          "output_type": "stream",
          "name": "stdout",
          "text": [
            "Accuracy for k=2: 17.11% (+-1.95%)\n",
            "Accuracy for k=4: 21.29% (+-1.92%)\n",
            "Accuracy for k=8: 27.62% (+-1.84%)\n",
            "Accuracy for k=16: 36.17% (+-1.80%)\n",
            "Accuracy for k=32: 46.03% (+-1.65%)\n"
          ]
        }
      ],
      "source": [
        "protomaml_result_file = os.path.join(CHECKPOINT_PATH, \"protomaml_svhn_fewshot.json\")\n",
        "\n",
        "if os.path.isfile(protomaml_result_file):\n",
        "    # Load pre-computed results\n",
        "    with open(protomaml_result_file) as f:\n",
        "        protomaml_svhn_accuracies = json.load(f)\n",
        "    protomaml_svhn_accuracies = {int(k): v for k, v in protomaml_svhn_accuracies.items()}\n",
        "else:\n",
        "    # Perform same experiments as for ProtoNet\n",
        "    protomaml_svhn_accuracies = dict()\n",
        "    for k in [2, 4, 8, 16, 32]:\n",
        "        protomaml_svhn_accuracies[k] = test_protomaml(protomaml_model, svhn_fewshot_dataset, k_shot=k)\n",
        "    # Export results\n",
        "    with open(protomaml_result_file, \"w\") as f:\n",
        "        json.dump(protomaml_svhn_accuracies, f, indent=4)\n",
        "\n",
        "for k in protomaml_svhn_accuracies:\n",
        "    print(\n",
        "        \"Accuracy for k=%i: %4.2f%% (+-%4.2f%%)\"\n",
        "        % (k, 100.0 * protomaml_svhn_accuracies[k][0], 100.0 * protomaml_svhn_accuracies[k][1])\n",
        "    )"
      ]
    },
    {
      "cell_type": "markdown",
      "metadata": {
        "papermill": {
          "duration": 0.061563,
          "end_time": "2021-10-10T16:37:50.315577",
          "exception": false,
          "start_time": "2021-10-10T16:37:50.254014",
          "status": "completed"
        },
        "tags": [],
        "id": "c0811d85"
      },
      "source": [
        "While ProtoMAML shows similar performance than ProtoNet for $k\\leq 4$, it considerably outperforms ProtoNet for more than 8 shots.\n",
        "This is because we can adapt the base model, which is crucial when the data does not fit the original training data.\n",
        "For $k=32$, ProtoMAML achieves $13\\%$ higher classification accuracy than ProtoNet which already starts to flatten out.\n",
        "We can see the trend more clearly in our plot below."
      ]
    },
    {
      "cell_type": "code",
      "execution_count": 39,
      "metadata": {
        "execution": {
          "iopub.execute_input": "2021-10-10T16:37:50.478877Z",
          "iopub.status.busy": "2021-10-10T16:37:50.464114Z",
          "iopub.status.idle": "2021-10-10T16:38:10.765687Z",
          "shell.execute_reply": "2021-10-10T16:38:10.766092Z"
        },
        "papermill": {
          "duration": 20.387402,
          "end_time": "2021-10-10T16:38:10.766241",
          "exception": false,
          "start_time": "2021-10-10T16:37:50.378839",
          "status": "completed"
        },
        "tags": [],
        "id": "ea20f91d",
        "outputId": "d78e9b3e-ebf6-4008-8572-ecece542f4b6",
        "colab": {
          "base_uri": "https://localhost:8080/",
          "height": 326
        }
      },
      "outputs": [
        {
          "output_type": "display_data",
          "data": {
            "text/plain": [
              "<Figure size 360x216 with 1 Axes>"
            ],
            "image/svg+xml": "<?xml version=\"1.0\" encoding=\"utf-8\" standalone=\"no\"?>\n<!DOCTYPE svg PUBLIC \"-//W3C//DTD SVG 1.1//EN\"\n  \"http://www.w3.org/Graphics/SVG/1.1/DTD/svg11.dtd\">\n<!-- Created with matplotlib (https://matplotlib.org/) -->\n<svg height=\"228.357813pt\" version=\"1.1\" viewBox=\"0 0 361.642187 228.357813\" width=\"361.642187pt\" xmlns=\"http://www.w3.org/2000/svg\" xmlns:xlink=\"http://www.w3.org/1999/xlink\">\n <defs>\n  <style type=\"text/css\">\n*{stroke-linecap:butt;stroke-linejoin:round;}\n  </style>\n </defs>\n <g id=\"figure_1\">\n  <g id=\"patch_1\">\n   <path d=\"M 0 228.357813 \nL 361.642187 228.357813 \nL 361.642187 0 \nL 0 0 \nz\n\" style=\"fill:#ffffff;\"/>\n  </g>\n  <g id=\"axes_1\">\n   <g id=\"patch_2\">\n    <path d=\"M 49.807187 185.398125 \nL 328.807187 185.398125 \nL 328.807187 22.318125 \nL 49.807187 22.318125 \nz\n\" style=\"fill:#eaeaf2;\"/>\n   </g>\n   <g id=\"matplotlib.axis_1\">\n    <g id=\"xtick_1\">\n     <g id=\"line2d_1\">\n      <path clip-path=\"url(#p139b2dff5d)\" d=\"M 58.525937 185.398125 \nL 58.525937 22.318125 \n\" style=\"fill:none;stroke:#ffffff;stroke-linecap:round;\"/>\n     </g>\n     <g id=\"text_1\">\n      <!-- 2 -->\n      <defs>\n       <path d=\"M 19.1875 8.296875 \nL 53.609375 8.296875 \nL 53.609375 0 \nL 7.328125 0 \nL 7.328125 8.296875 \nQ 12.9375 14.109375 22.625 23.890625 \nQ 32.328125 33.6875 34.8125 36.53125 \nQ 39.546875 41.84375 41.421875 45.53125 \nQ 43.3125 49.21875 43.3125 52.78125 \nQ 43.3125 58.59375 39.234375 62.25 \nQ 35.15625 65.921875 28.609375 65.921875 \nQ 23.96875 65.921875 18.8125 64.3125 \nQ 13.671875 62.703125 7.8125 59.421875 \nL 7.8125 69.390625 \nQ 13.765625 71.78125 18.9375 73 \nQ 24.125 74.21875 28.421875 74.21875 \nQ 39.75 74.21875 46.484375 68.546875 \nQ 53.21875 62.890625 53.21875 53.421875 \nQ 53.21875 48.921875 51.53125 44.890625 \nQ 49.859375 40.875 45.40625 35.40625 \nQ 44.1875 33.984375 37.640625 27.21875 \nQ 31.109375 20.453125 19.1875 8.296875 \nz\n\" id=\"DejaVuSans-50\"/>\n      </defs>\n      <g style=\"fill:#262626;\" transform=\"translate(55.026562 203.256406)scale(0.11 -0.11)\">\n       <use xlink:href=\"#DejaVuSans-50\"/>\n      </g>\n     </g>\n    </g>\n    <g id=\"xtick_2\">\n     <g id=\"line2d_2\">\n      <path clip-path=\"url(#p139b2dff5d)\" d=\"M 75.963437 185.398125 \nL 75.963437 22.318125 \n\" style=\"fill:none;stroke:#ffffff;stroke-linecap:round;\"/>\n     </g>\n     <g id=\"text_2\">\n      <!-- 4 -->\n      <defs>\n       <path d=\"M 37.796875 64.3125 \nL 12.890625 25.390625 \nL 37.796875 25.390625 \nz\nM 35.203125 72.90625 \nL 47.609375 72.90625 \nL 47.609375 25.390625 \nL 58.015625 25.390625 \nL 58.015625 17.1875 \nL 47.609375 17.1875 \nL 47.609375 0 \nL 37.796875 0 \nL 37.796875 17.1875 \nL 4.890625 17.1875 \nL 4.890625 26.703125 \nz\n\" id=\"DejaVuSans-52\"/>\n      </defs>\n      <g style=\"fill:#262626;\" transform=\"translate(72.464062 203.256406)scale(0.11 -0.11)\">\n       <use xlink:href=\"#DejaVuSans-52\"/>\n      </g>\n     </g>\n    </g>\n    <g id=\"xtick_3\">\n     <g id=\"line2d_3\">\n      <path clip-path=\"url(#p139b2dff5d)\" d=\"M 110.838437 185.398125 \nL 110.838437 22.318125 \n\" style=\"fill:none;stroke:#ffffff;stroke-linecap:round;\"/>\n     </g>\n     <g id=\"text_3\">\n      <!-- 8 -->\n      <defs>\n       <path d=\"M 31.78125 34.625 \nQ 24.75 34.625 20.71875 30.859375 \nQ 16.703125 27.09375 16.703125 20.515625 \nQ 16.703125 13.921875 20.71875 10.15625 \nQ 24.75 6.390625 31.78125 6.390625 \nQ 38.8125 6.390625 42.859375 10.171875 \nQ 46.921875 13.96875 46.921875 20.515625 \nQ 46.921875 27.09375 42.890625 30.859375 \nQ 38.875 34.625 31.78125 34.625 \nz\nM 21.921875 38.8125 \nQ 15.578125 40.375 12.03125 44.71875 \nQ 8.5 49.078125 8.5 55.328125 \nQ 8.5 64.0625 14.71875 69.140625 \nQ 20.953125 74.21875 31.78125 74.21875 \nQ 42.671875 74.21875 48.875 69.140625 \nQ 55.078125 64.0625 55.078125 55.328125 \nQ 55.078125 49.078125 51.53125 44.71875 \nQ 48 40.375 41.703125 38.8125 \nQ 48.828125 37.15625 52.796875 32.3125 \nQ 56.78125 27.484375 56.78125 20.515625 \nQ 56.78125 9.90625 50.3125 4.234375 \nQ 43.84375 -1.421875 31.78125 -1.421875 \nQ 19.734375 -1.421875 13.25 4.234375 \nQ 6.78125 9.90625 6.78125 20.515625 \nQ 6.78125 27.484375 10.78125 32.3125 \nQ 14.796875 37.15625 21.921875 38.8125 \nz\nM 18.3125 54.390625 \nQ 18.3125 48.734375 21.84375 45.5625 \nQ 25.390625 42.390625 31.78125 42.390625 \nQ 38.140625 42.390625 41.71875 45.5625 \nQ 45.3125 48.734375 45.3125 54.390625 \nQ 45.3125 60.0625 41.71875 63.234375 \nQ 38.140625 66.40625 31.78125 66.40625 \nQ 25.390625 66.40625 21.84375 63.234375 \nQ 18.3125 60.0625 18.3125 54.390625 \nz\n\" id=\"DejaVuSans-56\"/>\n      </defs>\n      <g style=\"fill:#262626;\" transform=\"translate(107.339062 203.256406)scale(0.11 -0.11)\">\n       <use xlink:href=\"#DejaVuSans-56\"/>\n      </g>\n     </g>\n    </g>\n    <g id=\"xtick_4\">\n     <g id=\"line2d_4\">\n      <path clip-path=\"url(#p139b2dff5d)\" d=\"M 180.588437 185.398125 \nL 180.588437 22.318125 \n\" style=\"fill:none;stroke:#ffffff;stroke-linecap:round;\"/>\n     </g>\n     <g id=\"text_4\">\n      <!-- 16 -->\n      <defs>\n       <path d=\"M 12.40625 8.296875 \nL 28.515625 8.296875 \nL 28.515625 63.921875 \nL 10.984375 60.40625 \nL 10.984375 69.390625 \nL 28.421875 72.90625 \nL 38.28125 72.90625 \nL 38.28125 8.296875 \nL 54.390625 8.296875 \nL 54.390625 0 \nL 12.40625 0 \nz\n\" id=\"DejaVuSans-49\"/>\n       <path d=\"M 33.015625 40.375 \nQ 26.375 40.375 22.484375 35.828125 \nQ 18.609375 31.296875 18.609375 23.390625 \nQ 18.609375 15.53125 22.484375 10.953125 \nQ 26.375 6.390625 33.015625 6.390625 \nQ 39.65625 6.390625 43.53125 10.953125 \nQ 47.40625 15.53125 47.40625 23.390625 \nQ 47.40625 31.296875 43.53125 35.828125 \nQ 39.65625 40.375 33.015625 40.375 \nz\nM 52.59375 71.296875 \nL 52.59375 62.3125 \nQ 48.875 64.0625 45.09375 64.984375 \nQ 41.3125 65.921875 37.59375 65.921875 \nQ 27.828125 65.921875 22.671875 59.328125 \nQ 17.53125 52.734375 16.796875 39.40625 \nQ 19.671875 43.65625 24.015625 45.921875 \nQ 28.375 48.1875 33.59375 48.1875 \nQ 44.578125 48.1875 50.953125 41.515625 \nQ 57.328125 34.859375 57.328125 23.390625 \nQ 57.328125 12.15625 50.6875 5.359375 \nQ 44.046875 -1.421875 33.015625 -1.421875 \nQ 20.359375 -1.421875 13.671875 8.265625 \nQ 6.984375 17.96875 6.984375 36.375 \nQ 6.984375 53.65625 15.1875 63.9375 \nQ 23.390625 74.21875 37.203125 74.21875 \nQ 40.921875 74.21875 44.703125 73.484375 \nQ 48.484375 72.75 52.59375 71.296875 \nz\n\" id=\"DejaVuSans-54\"/>\n      </defs>\n      <g style=\"fill:#262626;\" transform=\"translate(173.589687 203.256406)scale(0.11 -0.11)\">\n       <use xlink:href=\"#DejaVuSans-49\"/>\n       <use x=\"63.623047\" xlink:href=\"#DejaVuSans-54\"/>\n      </g>\n     </g>\n    </g>\n    <g id=\"xtick_5\">\n     <g id=\"line2d_5\">\n      <path clip-path=\"url(#p139b2dff5d)\" d=\"M 320.088437 185.398125 \nL 320.088437 22.318125 \n\" style=\"fill:none;stroke:#ffffff;stroke-linecap:round;\"/>\n     </g>\n     <g id=\"text_5\">\n      <!-- 32 -->\n      <defs>\n       <path d=\"M 40.578125 39.3125 \nQ 47.65625 37.796875 51.625 33 \nQ 55.609375 28.21875 55.609375 21.1875 \nQ 55.609375 10.40625 48.1875 4.484375 \nQ 40.765625 -1.421875 27.09375 -1.421875 \nQ 22.515625 -1.421875 17.65625 -0.515625 \nQ 12.796875 0.390625 7.625 2.203125 \nL 7.625 11.71875 \nQ 11.71875 9.328125 16.59375 8.109375 \nQ 21.484375 6.890625 26.8125 6.890625 \nQ 36.078125 6.890625 40.9375 10.546875 \nQ 45.796875 14.203125 45.796875 21.1875 \nQ 45.796875 27.640625 41.28125 31.265625 \nQ 36.765625 34.90625 28.71875 34.90625 \nL 20.21875 34.90625 \nL 20.21875 43.015625 \nL 29.109375 43.015625 \nQ 36.375 43.015625 40.234375 45.921875 \nQ 44.09375 48.828125 44.09375 54.296875 \nQ 44.09375 59.90625 40.109375 62.90625 \nQ 36.140625 65.921875 28.71875 65.921875 \nQ 24.65625 65.921875 20.015625 65.03125 \nQ 15.375 64.15625 9.8125 62.3125 \nL 9.8125 71.09375 \nQ 15.4375 72.65625 20.34375 73.4375 \nQ 25.25 74.21875 29.59375 74.21875 \nQ 40.828125 74.21875 47.359375 69.109375 \nQ 53.90625 64.015625 53.90625 55.328125 \nQ 53.90625 49.265625 50.4375 45.09375 \nQ 46.96875 40.921875 40.578125 39.3125 \nz\n\" id=\"DejaVuSans-51\"/>\n      </defs>\n      <g style=\"fill:#262626;\" transform=\"translate(313.089688 203.256406)scale(0.11 -0.11)\">\n       <use xlink:href=\"#DejaVuSans-51\"/>\n       <use x=\"63.623047\" xlink:href=\"#DejaVuSans-50\"/>\n      </g>\n     </g>\n    </g>\n    <g id=\"text_6\">\n     <!-- Number of shots per class -->\n     <defs>\n      <path d=\"M 9.1875 72.90625 \nL 30.171875 72.90625 \nL 56.6875 22.90625 \nL 56.6875 72.90625 \nL 74.515625 72.90625 \nL 74.515625 0 \nL 53.515625 0 \nL 27 50 \nL 27 0 \nL 9.1875 0 \nz\n\" id=\"DejaVuSans-Bold-78\"/>\n      <path d=\"M 7.8125 21.296875 \nL 7.8125 54.6875 \nL 25.390625 54.6875 \nL 25.390625 49.21875 \nQ 25.390625 44.78125 25.34375 38.0625 \nQ 25.296875 31.34375 25.296875 29.109375 \nQ 25.296875 22.515625 25.640625 19.609375 \nQ 25.984375 16.703125 26.8125 15.375 \nQ 27.875 13.671875 29.609375 12.734375 \nQ 31.34375 11.8125 33.59375 11.8125 \nQ 39.0625 11.8125 42.1875 16.015625 \nQ 45.3125 20.21875 45.3125 27.6875 \nL 45.3125 54.6875 \nL 62.796875 54.6875 \nL 62.796875 0 \nL 45.3125 0 \nL 45.3125 7.90625 \nQ 41.359375 3.125 36.9375 0.84375 \nQ 32.515625 -1.421875 27.203125 -1.421875 \nQ 17.71875 -1.421875 12.765625 4.390625 \nQ 7.8125 10.203125 7.8125 21.296875 \nz\n\" id=\"DejaVuSans-Bold-117\"/>\n      <path d=\"M 59.078125 45.609375 \nQ 62.40625 50.6875 66.96875 53.34375 \nQ 71.53125 56 77 56 \nQ 86.421875 56 91.359375 50.1875 \nQ 96.296875 44.390625 96.296875 33.296875 \nL 96.296875 0 \nL 78.71875 0 \nL 78.71875 28.515625 \nQ 78.765625 29.15625 78.78125 29.828125 \nQ 78.8125 30.515625 78.8125 31.78125 \nQ 78.8125 37.59375 77.09375 40.203125 \nQ 75.390625 42.828125 71.578125 42.828125 \nQ 66.609375 42.828125 63.890625 38.71875 \nQ 61.1875 34.625 61.078125 26.859375 \nL 61.078125 0 \nL 43.5 0 \nL 43.5 28.515625 \nQ 43.5 37.59375 41.9375 40.203125 \nQ 40.375 42.828125 36.375 42.828125 \nQ 31.34375 42.828125 28.609375 38.703125 \nQ 25.875 34.578125 25.875 26.90625 \nL 25.875 0 \nL 8.296875 0 \nL 8.296875 54.6875 \nL 25.875 54.6875 \nL 25.875 46.6875 \nQ 29.109375 51.3125 33.28125 53.65625 \nQ 37.453125 56 42.484375 56 \nQ 48.140625 56 52.484375 53.265625 \nQ 56.84375 50.53125 59.078125 45.609375 \nz\n\" id=\"DejaVuSans-Bold-109\"/>\n      <path d=\"M 37.5 11.28125 \nQ 43.109375 11.28125 46.0625 15.375 \nQ 49.03125 19.484375 49.03125 27.296875 \nQ 49.03125 35.109375 46.0625 39.203125 \nQ 43.109375 43.3125 37.5 43.3125 \nQ 31.890625 43.3125 28.875 39.1875 \nQ 25.875 35.0625 25.875 27.296875 \nQ 25.875 19.53125 28.875 15.40625 \nQ 31.890625 11.28125 37.5 11.28125 \nz\nM 25.875 46.6875 \nQ 29.5 51.46875 33.890625 53.734375 \nQ 38.28125 56 44 56 \nQ 54.109375 56 60.59375 47.96875 \nQ 67.09375 39.9375 67.09375 27.296875 \nQ 67.09375 14.65625 60.59375 6.609375 \nQ 54.109375 -1.421875 44 -1.421875 \nQ 38.28125 -1.421875 33.890625 0.84375 \nQ 29.5 3.125 25.875 7.90625 \nL 25.875 0 \nL 8.40625 0 \nL 8.40625 75.984375 \nL 25.875 75.984375 \nz\n\" id=\"DejaVuSans-Bold-98\"/>\n      <path d=\"M 62.984375 27.484375 \nL 62.984375 22.515625 \nL 22.125 22.515625 \nQ 22.75 16.359375 26.5625 13.28125 \nQ 30.375 10.203125 37.203125 10.203125 \nQ 42.71875 10.203125 48.5 11.84375 \nQ 54.296875 13.484375 60.40625 16.796875 \nL 60.40625 3.328125 \nQ 54.203125 0.984375 48 -0.21875 \nQ 41.796875 -1.421875 35.59375 -1.421875 \nQ 20.75 -1.421875 12.515625 6.125 \nQ 4.296875 13.671875 4.296875 27.296875 \nQ 4.296875 40.671875 12.375 48.328125 \nQ 20.453125 56 34.625 56 \nQ 47.515625 56 55.25 48.234375 \nQ 62.984375 40.484375 62.984375 27.484375 \nz\nM 45.015625 33.296875 \nQ 45.015625 38.28125 42.109375 41.328125 \nQ 39.203125 44.390625 34.515625 44.390625 \nQ 29.4375 44.390625 26.265625 41.53125 \nQ 23.09375 38.671875 22.3125 33.296875 \nz\n\" id=\"DejaVuSans-Bold-101\"/>\n      <path d=\"M 49.03125 39.796875 \nQ 46.734375 40.875 44.453125 41.375 \nQ 42.1875 41.890625 39.890625 41.890625 \nQ 33.15625 41.890625 29.515625 37.5625 \nQ 25.875 33.25 25.875 25.203125 \nL 25.875 0 \nL 8.40625 0 \nL 8.40625 54.6875 \nL 25.875 54.6875 \nL 25.875 45.703125 \nQ 29.25 51.078125 33.609375 53.53125 \nQ 37.984375 56 44.09375 56 \nQ 44.96875 56 45.984375 55.921875 \nQ 47.015625 55.859375 48.96875 55.609375 \nz\n\" id=\"DejaVuSans-Bold-114\"/>\n      <path id=\"DejaVuSans-Bold-32\"/>\n      <path d=\"M 34.421875 43.5 \nQ 28.609375 43.5 25.5625 39.328125 \nQ 22.515625 35.15625 22.515625 27.296875 \nQ 22.515625 19.4375 25.5625 15.25 \nQ 28.609375 11.078125 34.421875 11.078125 \nQ 40.140625 11.078125 43.15625 15.25 \nQ 46.1875 19.4375 46.1875 27.296875 \nQ 46.1875 35.15625 43.15625 39.328125 \nQ 40.140625 43.5 34.421875 43.5 \nz\nM 34.421875 56 \nQ 48.53125 56 56.46875 48.375 \nQ 64.40625 40.765625 64.40625 27.296875 \nQ 64.40625 13.8125 56.46875 6.1875 \nQ 48.53125 -1.421875 34.421875 -1.421875 \nQ 20.265625 -1.421875 12.28125 6.1875 \nQ 4.296875 13.8125 4.296875 27.296875 \nQ 4.296875 40.765625 12.28125 48.375 \nQ 20.265625 56 34.421875 56 \nz\n\" id=\"DejaVuSans-Bold-111\"/>\n      <path d=\"M 44.390625 75.984375 \nL 44.390625 64.5 \nL 34.71875 64.5 \nQ 31 64.5 29.53125 63.15625 \nQ 28.078125 61.8125 28.078125 58.5 \nL 28.078125 54.6875 \nL 43.015625 54.6875 \nL 43.015625 42.1875 \nL 28.078125 42.1875 \nL 28.078125 0 \nL 10.59375 0 \nL 10.59375 42.1875 \nL 1.90625 42.1875 \nL 1.90625 54.6875 \nL 10.59375 54.6875 \nL 10.59375 58.5 \nQ 10.59375 67.4375 15.578125 71.703125 \nQ 20.5625 75.984375 31 75.984375 \nz\n\" id=\"DejaVuSans-Bold-102\"/>\n      <path d=\"M 51.125 52.984375 \nL 51.125 39.703125 \nQ 45.515625 42.046875 40.28125 43.21875 \nQ 35.0625 44.390625 30.421875 44.390625 \nQ 25.4375 44.390625 23.015625 43.140625 \nQ 20.609375 41.890625 20.609375 39.3125 \nQ 20.609375 37.203125 22.4375 36.078125 \nQ 24.265625 34.96875 29 34.421875 \nL 32.078125 33.984375 \nQ 45.515625 32.28125 50.140625 28.375 \nQ 54.78125 24.46875 54.78125 16.109375 \nQ 54.78125 7.375 48.328125 2.96875 \nQ 41.890625 -1.421875 29.109375 -1.421875 \nQ 23.6875 -1.421875 17.890625 -0.5625 \nQ 12.109375 0.296875 6 2 \nL 6 15.28125 \nQ 11.234375 12.75 16.71875 11.46875 \nQ 22.21875 10.203125 27.875 10.203125 \nQ 33.015625 10.203125 35.59375 11.609375 \nQ 38.1875 13.03125 38.1875 15.828125 \nQ 38.1875 18.171875 36.40625 19.3125 \nQ 34.625 20.453125 29.296875 21.09375 \nL 26.21875 21.484375 \nQ 14.546875 22.953125 9.859375 26.90625 \nQ 5.171875 30.859375 5.171875 38.921875 \nQ 5.171875 47.609375 11.125 51.796875 \nQ 17.09375 56 29.390625 56 \nQ 34.234375 56 39.546875 55.265625 \nQ 44.875 54.546875 51.125 52.984375 \nz\n\" id=\"DejaVuSans-Bold-115\"/>\n      <path d=\"M 63.375 33.296875 \nL 63.375 0 \nL 45.796875 0 \nL 45.796875 5.421875 \nL 45.796875 25.390625 \nQ 45.796875 32.5625 45.484375 35.25 \nQ 45.171875 37.9375 44.390625 39.203125 \nQ 43.359375 40.921875 41.59375 41.875 \nQ 39.84375 42.828125 37.59375 42.828125 \nQ 32.125 42.828125 29 38.59375 \nQ 25.875 34.375 25.875 26.90625 \nL 25.875 0 \nL 8.40625 0 \nL 8.40625 75.984375 \nL 25.875 75.984375 \nL 25.875 46.6875 \nQ 29.828125 51.46875 34.265625 53.734375 \nQ 38.71875 56 44.09375 56 \nQ 53.5625 56 58.46875 50.1875 \nQ 63.375 44.390625 63.375 33.296875 \nz\n\" id=\"DejaVuSans-Bold-104\"/>\n      <path d=\"M 27.484375 70.21875 \nL 27.484375 54.6875 \nL 45.515625 54.6875 \nL 45.515625 42.1875 \nL 27.484375 42.1875 \nL 27.484375 19 \nQ 27.484375 15.1875 29 13.84375 \nQ 30.515625 12.5 35.015625 12.5 \nL 44 12.5 \nL 44 0 \nL 29 0 \nQ 18.65625 0 14.328125 4.3125 \nQ 10.015625 8.640625 10.015625 19 \nL 10.015625 42.1875 \nL 1.3125 42.1875 \nL 1.3125 54.6875 \nL 10.015625 54.6875 \nL 10.015625 70.21875 \nz\n\" id=\"DejaVuSans-Bold-116\"/>\n      <path d=\"M 25.875 7.90625 \nL 25.875 -20.796875 \nL 8.40625 -20.796875 \nL 8.40625 54.6875 \nL 25.875 54.6875 \nL 25.875 46.6875 \nQ 29.5 51.46875 33.890625 53.734375 \nQ 38.28125 56 44 56 \nQ 54.109375 56 60.59375 47.96875 \nQ 67.09375 39.9375 67.09375 27.296875 \nQ 67.09375 14.65625 60.59375 6.609375 \nQ 54.109375 -1.421875 44 -1.421875 \nQ 38.28125 -1.421875 33.890625 0.84375 \nQ 29.5 3.125 25.875 7.90625 \nz\nM 37.5 43.3125 \nQ 31.890625 43.3125 28.875 39.1875 \nQ 25.875 35.0625 25.875 27.296875 \nQ 25.875 19.53125 28.875 15.40625 \nQ 31.890625 11.28125 37.5 11.28125 \nQ 43.109375 11.28125 46.0625 15.375 \nQ 49.03125 19.484375 49.03125 27.296875 \nQ 49.03125 35.109375 46.0625 39.203125 \nQ 43.109375 43.3125 37.5 43.3125 \nz\n\" id=\"DejaVuSans-Bold-112\"/>\n      <path d=\"M 52.59375 52.984375 \nL 52.59375 38.71875 \nQ 49.03125 41.15625 45.4375 42.328125 \nQ 41.84375 43.5 37.984375 43.5 \nQ 30.671875 43.5 26.59375 39.234375 \nQ 22.515625 34.96875 22.515625 27.296875 \nQ 22.515625 19.625 26.59375 15.34375 \nQ 30.671875 11.078125 37.984375 11.078125 \nQ 42.09375 11.078125 45.78125 12.296875 \nQ 49.46875 13.53125 52.59375 15.921875 \nL 52.59375 1.609375 \nQ 48.484375 0.09375 44.265625 -0.65625 \nQ 40.046875 -1.421875 35.796875 -1.421875 \nQ 21 -1.421875 12.640625 6.171875 \nQ 4.296875 13.765625 4.296875 27.296875 \nQ 4.296875 40.828125 12.640625 48.40625 \nQ 21 56 35.796875 56 \nQ 40.09375 56 44.265625 55.25 \nQ 48.4375 54.5 52.59375 52.984375 \nz\n\" id=\"DejaVuSans-Bold-99\"/>\n      <path d=\"M 8.40625 75.984375 \nL 25.875 75.984375 \nL 25.875 0 \nL 8.40625 0 \nz\n\" id=\"DejaVuSans-Bold-108\"/>\n      <path d=\"M 32.90625 24.609375 \nQ 27.4375 24.609375 24.671875 22.75 \nQ 21.921875 20.90625 21.921875 17.28125 \nQ 21.921875 13.96875 24.140625 12.078125 \nQ 26.375 10.203125 30.328125 10.203125 \nQ 35.25 10.203125 38.625 13.734375 \nQ 42 17.28125 42 22.609375 \nL 42 24.609375 \nz\nM 59.625 31.203125 \nL 59.625 0 \nL 42 0 \nL 42 8.109375 \nQ 38.484375 3.125 34.078125 0.84375 \nQ 29.6875 -1.421875 23.390625 -1.421875 \nQ 14.890625 -1.421875 9.59375 3.53125 \nQ 4.296875 8.5 4.296875 16.40625 \nQ 4.296875 26.03125 10.90625 30.515625 \nQ 17.53125 35.015625 31.6875 35.015625 \nL 42 35.015625 \nL 42 36.375 \nQ 42 40.53125 38.71875 42.453125 \nQ 35.453125 44.390625 28.515625 44.390625 \nQ 22.90625 44.390625 18.0625 43.265625 \nQ 13.234375 42.140625 9.078125 39.890625 \nL 9.078125 53.21875 \nQ 14.703125 54.59375 20.359375 55.296875 \nQ 26.03125 56 31.6875 56 \nQ 46.484375 56 53.046875 50.171875 \nQ 59.625 44.34375 59.625 31.203125 \nz\n\" id=\"DejaVuSans-Bold-97\"/>\n     </defs>\n     <g style=\"fill:#262626;\" transform=\"translate(100.82125 218.662188)scale(0.12 -0.12)\">\n      <use xlink:href=\"#DejaVuSans-Bold-78\"/>\n      <use x=\"83.691406\" xlink:href=\"#DejaVuSans-Bold-117\"/>\n      <use x=\"154.882812\" xlink:href=\"#DejaVuSans-Bold-109\"/>\n      <use x=\"259.082031\" xlink:href=\"#DejaVuSans-Bold-98\"/>\n      <use x=\"330.664062\" xlink:href=\"#DejaVuSans-Bold-101\"/>\n      <use x=\"398.486328\" xlink:href=\"#DejaVuSans-Bold-114\"/>\n      <use x=\"447.802734\" xlink:href=\"#DejaVuSans-Bold-32\"/>\n      <use x=\"482.617188\" xlink:href=\"#DejaVuSans-Bold-111\"/>\n      <use x=\"551.318359\" xlink:href=\"#DejaVuSans-Bold-102\"/>\n      <use x=\"594.824219\" xlink:href=\"#DejaVuSans-Bold-32\"/>\n      <use x=\"629.638672\" xlink:href=\"#DejaVuSans-Bold-115\"/>\n      <use x=\"689.160156\" xlink:href=\"#DejaVuSans-Bold-104\"/>\n      <use x=\"760.351562\" xlink:href=\"#DejaVuSans-Bold-111\"/>\n      <use x=\"829.052734\" xlink:href=\"#DejaVuSans-Bold-116\"/>\n      <use x=\"876.855469\" xlink:href=\"#DejaVuSans-Bold-115\"/>\n      <use x=\"936.376953\" xlink:href=\"#DejaVuSans-Bold-32\"/>\n      <use x=\"971.191406\" xlink:href=\"#DejaVuSans-Bold-112\"/>\n      <use x=\"1042.773438\" xlink:href=\"#DejaVuSans-Bold-101\"/>\n      <use x=\"1110.595703\" xlink:href=\"#DejaVuSans-Bold-114\"/>\n      <use x=\"1159.912109\" xlink:href=\"#DejaVuSans-Bold-32\"/>\n      <use x=\"1194.726562\" xlink:href=\"#DejaVuSans-Bold-99\"/>\n      <use x=\"1254.003906\" xlink:href=\"#DejaVuSans-Bold-108\"/>\n      <use x=\"1288.28125\" xlink:href=\"#DejaVuSans-Bold-97\"/>\n      <use x=\"1355.761719\" xlink:href=\"#DejaVuSans-Bold-115\"/>\n      <use x=\"1415.283203\" xlink:href=\"#DejaVuSans-Bold-115\"/>\n     </g>\n    </g>\n   </g>\n   <g id=\"matplotlib.axis_2\">\n    <g id=\"ytick_1\">\n     <g id=\"line2d_6\">\n      <path clip-path=\"url(#p139b2dff5d)\" d=\"M 49.807187 155.920453 \nL 328.807187 155.920453 \n\" style=\"fill:none;stroke:#ffffff;stroke-linecap:round;\"/>\n     </g>\n     <g id=\"text_7\">\n      <!-- 0.2 -->\n      <defs>\n       <path d=\"M 31.78125 66.40625 \nQ 24.171875 66.40625 20.328125 58.90625 \nQ 16.5 51.421875 16.5 36.375 \nQ 16.5 21.390625 20.328125 13.890625 \nQ 24.171875 6.390625 31.78125 6.390625 \nQ 39.453125 6.390625 43.28125 13.890625 \nQ 47.125 21.390625 47.125 36.375 \nQ 47.125 51.421875 43.28125 58.90625 \nQ 39.453125 66.40625 31.78125 66.40625 \nz\nM 31.78125 74.21875 \nQ 44.046875 74.21875 50.515625 64.515625 \nQ 56.984375 54.828125 56.984375 36.375 \nQ 56.984375 17.96875 50.515625 8.265625 \nQ 44.046875 -1.421875 31.78125 -1.421875 \nQ 19.53125 -1.421875 13.0625 8.265625 \nQ 6.59375 17.96875 6.59375 36.375 \nQ 6.59375 54.828125 13.0625 64.515625 \nQ 19.53125 74.21875 31.78125 74.21875 \nz\n\" id=\"DejaVuSans-48\"/>\n       <path d=\"M 10.6875 12.40625 \nL 21 12.40625 \nL 21 0 \nL 10.6875 0 \nz\n\" id=\"DejaVuSans-46\"/>\n      </defs>\n      <g style=\"fill:#262626;\" transform=\"translate(22.81375 160.099594)scale(0.11 -0.11)\">\n       <use xlink:href=\"#DejaVuSans-48\"/>\n       <use x=\"63.623047\" xlink:href=\"#DejaVuSans-46\"/>\n       <use x=\"95.410156\" xlink:href=\"#DejaVuSans-50\"/>\n      </g>\n     </g>\n    </g>\n    <g id=\"ytick_2\">\n     <g id=\"line2d_7\">\n      <path clip-path=\"url(#p139b2dff5d)\" d=\"M 49.807187 110.331724 \nL 328.807187 110.331724 \n\" style=\"fill:none;stroke:#ffffff;stroke-linecap:round;\"/>\n     </g>\n     <g id=\"text_8\">\n      <!-- 0.3 -->\n      <g style=\"fill:#262626;\" transform=\"translate(22.81375 114.510865)scale(0.11 -0.11)\">\n       <use xlink:href=\"#DejaVuSans-48\"/>\n       <use x=\"63.623047\" xlink:href=\"#DejaVuSans-46\"/>\n       <use x=\"95.410156\" xlink:href=\"#DejaVuSans-51\"/>\n      </g>\n     </g>\n    </g>\n    <g id=\"ytick_3\">\n     <g id=\"line2d_8\">\n      <path clip-path=\"url(#p139b2dff5d)\" d=\"M 49.807187 64.742996 \nL 328.807187 64.742996 \n\" style=\"fill:none;stroke:#ffffff;stroke-linecap:round;\"/>\n     </g>\n     <g id=\"text_9\">\n      <!-- 0.4 -->\n      <g style=\"fill:#262626;\" transform=\"translate(22.81375 68.922136)scale(0.11 -0.11)\">\n       <use xlink:href=\"#DejaVuSans-48\"/>\n       <use x=\"63.623047\" xlink:href=\"#DejaVuSans-46\"/>\n       <use x=\"95.410156\" xlink:href=\"#DejaVuSans-52\"/>\n      </g>\n     </g>\n    </g>\n    <g id=\"text_10\">\n     <!-- Accuracy -->\n     <defs>\n      <path d=\"M 53.421875 13.28125 \nL 24.03125 13.28125 \nL 19.390625 0 \nL 0.484375 0 \nL 27.484375 72.90625 \nL 49.90625 72.90625 \nL 76.90625 0 \nL 58.015625 0 \nz\nM 28.71875 26.8125 \nL 48.6875 26.8125 \nL 38.71875 55.8125 \nz\n\" id=\"DejaVuSans-Bold-65\"/>\n      <path d=\"M 1.21875 54.6875 \nL 18.703125 54.6875 \nL 33.40625 17.578125 \nL 45.90625 54.6875 \nL 63.375 54.6875 \nL 40.375 -5.171875 \nQ 36.921875 -14.3125 32.296875 -17.9375 \nQ 27.6875 -21.578125 20.125 -21.578125 \nL 10.015625 -21.578125 \nL 10.015625 -10.109375 \nL 15.484375 -10.109375 \nQ 19.921875 -10.109375 21.9375 -8.6875 \nQ 23.96875 -7.28125 25.09375 -3.609375 \nL 25.59375 -2.09375 \nz\n\" id=\"DejaVuSans-Bold-121\"/>\n     </defs>\n     <g style=\"fill:#262626;\" transform=\"translate(16.224375 134.3625)rotate(-90)scale(0.12 -0.12)\">\n      <use xlink:href=\"#DejaVuSans-Bold-65\"/>\n      <use x=\"77.392578\" xlink:href=\"#DejaVuSans-Bold-99\"/>\n      <use x=\"136.669922\" xlink:href=\"#DejaVuSans-Bold-99\"/>\n      <use x=\"195.947266\" xlink:href=\"#DejaVuSans-Bold-117\"/>\n      <use x=\"267.138672\" xlink:href=\"#DejaVuSans-Bold-114\"/>\n      <use x=\"316.455078\" xlink:href=\"#DejaVuSans-Bold-97\"/>\n      <use x=\"383.935547\" xlink:href=\"#DejaVuSans-Bold-99\"/>\n      <use x=\"443.212891\" xlink:href=\"#DejaVuSans-Bold-121\"/>\n     </g>\n    </g>\n   </g>\n   <g id=\"PolyCollection_1\">\n    <defs>\n     <path d=\"M 58.525937 -77.428041 \nL 58.525937 -56.67822 \nL 75.963437 -71.755422 \nL 110.838437 -89.91526 \nL 180.588437 -105.335317 \nL 320.088437 -125.29792 \nL 320.088437 -137.425697 \nL 320.088437 -137.425697 \nL 180.588437 -122.157101 \nL 110.838437 -105.957622 \nL 75.963437 -90.825372 \nL 58.525937 -77.428041 \nz\n\" id=\"mc32e4e7be2\" style=\"stroke:#55a868;stroke-opacity:0.2;\"/>\n    </defs>\n    <g clip-path=\"url(#p139b2dff5d)\">\n     <use style=\"fill:#55a868;fill-opacity:0.2;stroke:#55a868;stroke-opacity:0.2;\" x=\"0\" xlink:href=\"#mc32e4e7be2\" y=\"228.357813\"/>\n    </g>\n   </g>\n   <g id=\"PolyCollection_2\">\n    <defs>\n     <path d=\"M 58.525937 -68.152019 \nL 58.525937 -50.372415 \nL 75.963437 -69.56527 \nL 110.838437 -98.787645 \nL 180.588437 -137.948362 \nL 320.088437 -183.58268 \nL 320.088437 -198.62696 \nL 320.088437 -198.62696 \nL 180.588437 -154.360305 \nL 110.838437 -115.564297 \nL 75.963437 -87.071341 \nL 58.525937 -68.152019 \nz\n\" id=\"mb1150269d2\" style=\"stroke:#c44e52;stroke-opacity:0.2;\"/>\n    </defs>\n    <g clip-path=\"url(#p139b2dff5d)\">\n     <use style=\"fill:#c44e52;fill-opacity:0.2;stroke:#c44e52;stroke-opacity:0.2;\" x=\"0\" xlink:href=\"#mb1150269d2\" y=\"228.357813\"/>\n    </g>\n   </g>\n   <g id=\"line2d_9\">\n    <path clip-path=\"url(#p139b2dff5d)\" d=\"M 58.525937 161.304682 \nL 75.963437 147.067416 \nL 110.838437 130.421371 \nL 180.588437 114.611604 \nL 320.088437 96.996004 \n\" style=\"fill:none;stroke:#55a868;stroke-linecap:round;stroke-width:1.5;\"/>\n    <defs>\n     <path d=\"M 0 3 \nC 0.795609 3 1.55874 2.683901 2.12132 2.12132 \nC 2.683901 1.55874 3 0.795609 3 0 \nC 3 -0.795609 2.683901 -1.55874 2.12132 -2.12132 \nC 1.55874 -2.683901 0.795609 -3 0 -3 \nC -0.795609 -3 -1.55874 -2.683901 -2.12132 -2.12132 \nC -2.683901 -1.55874 -3 -0.795609 -3 0 \nC -3 0.795609 -2.683901 1.55874 -2.12132 2.12132 \nC -1.55874 2.683901 -0.795609 3 0 3 \nz\n\" id=\"m70f779baf2\" style=\"stroke:#1a1a1a;\"/>\n    </defs>\n    <g clip-path=\"url(#p139b2dff5d)\">\n     <use style=\"fill:#55a868;stroke:#1a1a1a;\" x=\"58.525937\" xlink:href=\"#m70f779baf2\" y=\"161.304682\"/>\n     <use style=\"fill:#55a868;stroke:#1a1a1a;\" x=\"75.963437\" xlink:href=\"#m70f779baf2\" y=\"147.067416\"/>\n     <use style=\"fill:#55a868;stroke:#1a1a1a;\" x=\"110.838437\" xlink:href=\"#m70f779baf2\" y=\"130.421371\"/>\n     <use style=\"fill:#55a868;stroke:#1a1a1a;\" x=\"180.588437\" xlink:href=\"#m70f779baf2\" y=\"114.611604\"/>\n     <use style=\"fill:#55a868;stroke:#1a1a1a;\" x=\"320.088437\" xlink:href=\"#m70f779baf2\" y=\"96.996004\"/>\n    </g>\n   </g>\n   <g id=\"line2d_10\">\n    <path clip-path=\"url(#p139b2dff5d)\" d=\"M 58.525937 169.095596 \nL 75.963437 150.039507 \nL 110.838437 121.181842 \nL 180.588437 82.203479 \nL 320.088437 37.252992 \n\" style=\"fill:none;stroke:#c44e52;stroke-linecap:round;stroke-width:1.5;\"/>\n    <defs>\n     <path d=\"M 0 3 \nC 0.795609 3 1.55874 2.683901 2.12132 2.12132 \nC 2.683901 1.55874 3 0.795609 3 0 \nC 3 -0.795609 2.683901 -1.55874 2.12132 -2.12132 \nC 1.55874 -2.683901 0.795609 -3 0 -3 \nC -0.795609 -3 -1.55874 -2.683901 -2.12132 -2.12132 \nC -2.683901 -1.55874 -3 -0.795609 -3 0 \nC -3 0.795609 -2.683901 1.55874 -2.12132 2.12132 \nC -1.55874 2.683901 -0.795609 3 0 3 \nz\n\" id=\"me246187f2f\" style=\"stroke:#1a1a1a;\"/>\n    </defs>\n    <g clip-path=\"url(#p139b2dff5d)\">\n     <use style=\"fill:#c44e52;stroke:#1a1a1a;\" x=\"58.525937\" xlink:href=\"#me246187f2f\" y=\"169.095596\"/>\n     <use style=\"fill:#c44e52;stroke:#1a1a1a;\" x=\"75.963437\" xlink:href=\"#me246187f2f\" y=\"150.039507\"/>\n     <use style=\"fill:#c44e52;stroke:#1a1a1a;\" x=\"110.838437\" xlink:href=\"#me246187f2f\" y=\"121.181842\"/>\n     <use style=\"fill:#c44e52;stroke:#1a1a1a;\" x=\"180.588437\" xlink:href=\"#me246187f2f\" y=\"82.203479\"/>\n     <use style=\"fill:#c44e52;stroke:#1a1a1a;\" x=\"320.088437\" xlink:href=\"#me246187f2f\" y=\"37.252992\"/>\n    </g>\n   </g>\n   <g id=\"patch_3\">\n    <path d=\"M 49.807187 185.398125 \nL 49.807187 22.318125 \n\" style=\"fill:none;stroke:#ffffff;stroke-linecap:square;stroke-linejoin:miter;stroke-width:1.25;\"/>\n   </g>\n   <g id=\"patch_4\">\n    <path d=\"M 328.807187 185.398125 \nL 328.807187 22.318125 \n\" style=\"fill:none;stroke:#ffffff;stroke-linecap:square;stroke-linejoin:miter;stroke-width:1.25;\"/>\n   </g>\n   <g id=\"patch_5\">\n    <path d=\"M 49.807187 185.398125 \nL 328.807187 185.398125 \n\" style=\"fill:none;stroke:#ffffff;stroke-linecap:square;stroke-linejoin:miter;stroke-width:1.25;\"/>\n   </g>\n   <g id=\"patch_6\">\n    <path d=\"M 49.807187 22.318125 \nL 328.807187 22.318125 \n\" style=\"fill:none;stroke:#ffffff;stroke-linecap:square;stroke-linejoin:miter;stroke-width:1.25;\"/>\n   </g>\n   <g id=\"text_11\">\n    <!-- Few-Shot Performance ProtoNet and ProtoMAML -->\n    <defs>\n     <path d=\"M 9.1875 72.90625 \nL 59.90625 72.90625 \nL 59.90625 58.6875 \nL 27.984375 58.6875 \nL 27.984375 45.125 \nL 58.015625 45.125 \nL 58.015625 30.90625 \nL 27.984375 30.90625 \nL 27.984375 0 \nL 9.1875 0 \nz\n\" id=\"DejaVuSans-Bold-70\"/>\n     <path d=\"M 3.515625 54.6875 \nL 20.515625 54.6875 \nL 29.6875 17 \nL 38.921875 54.6875 \nL 53.515625 54.6875 \nL 62.703125 17.390625 \nL 71.921875 54.6875 \nL 88.921875 54.6875 \nL 74.515625 0 \nL 55.421875 0 \nL 46.1875 37.59375 \nL 37.015625 0 \nL 17.921875 0 \nz\n\" id=\"DejaVuSans-Bold-119\"/>\n     <path d=\"M 5.421875 35.890625 \nL 36.078125 35.890625 \nL 36.078125 21.6875 \nL 5.421875 21.6875 \nz\n\" id=\"DejaVuSans-Bold-45\"/>\n     <path d=\"M 59.90625 70.609375 \nL 59.90625 55.171875 \nQ 53.90625 57.859375 48.1875 59.21875 \nQ 42.484375 60.59375 37.40625 60.59375 \nQ 30.671875 60.59375 27.4375 58.734375 \nQ 24.21875 56.890625 24.21875 52.984375 \nQ 24.21875 50.046875 26.390625 48.40625 \nQ 28.5625 46.78125 34.28125 45.609375 \nL 42.28125 44 \nQ 54.4375 41.546875 59.5625 36.5625 \nQ 64.703125 31.59375 64.703125 22.40625 \nQ 64.703125 10.359375 57.546875 4.46875 \nQ 50.390625 -1.421875 35.6875 -1.421875 \nQ 28.765625 -1.421875 21.78125 -0.09375 \nQ 14.796875 1.21875 7.8125 3.8125 \nL 7.8125 19.671875 \nQ 14.796875 15.96875 21.3125 14.078125 \nQ 27.828125 12.203125 33.890625 12.203125 \nQ 40.046875 12.203125 43.3125 14.25 \nQ 46.578125 16.3125 46.578125 20.125 \nQ 46.578125 23.53125 44.359375 25.390625 \nQ 42.140625 27.25 35.5 28.71875 \nL 28.21875 30.328125 \nQ 17.28125 32.671875 12.21875 37.796875 \nQ 7.171875 42.921875 7.171875 51.609375 \nQ 7.171875 62.5 14.203125 68.359375 \nQ 21.234375 74.21875 34.421875 74.21875 \nQ 40.4375 74.21875 46.78125 73.3125 \nQ 53.125 72.40625 59.90625 70.609375 \nz\n\" id=\"DejaVuSans-Bold-83\"/>\n     <path d=\"M 9.1875 72.90625 \nL 40.375 72.90625 \nQ 54.296875 72.90625 61.734375 66.71875 \nQ 69.1875 60.546875 69.1875 49.125 \nQ 69.1875 37.640625 61.734375 31.46875 \nQ 54.296875 25.296875 40.375 25.296875 \nL 27.984375 25.296875 \nL 27.984375 0 \nL 9.1875 0 \nz\nM 27.984375 59.28125 \nL 27.984375 38.921875 \nL 38.375 38.921875 \nQ 43.84375 38.921875 46.828125 41.578125 \nQ 49.8125 44.234375 49.8125 49.125 \nQ 49.8125 54 46.828125 56.640625 \nQ 43.84375 59.28125 38.375 59.28125 \nz\n\" id=\"DejaVuSans-Bold-80\"/>\n     <path d=\"M 63.375 33.296875 \nL 63.375 0 \nL 45.796875 0 \nL 45.796875 5.421875 \nL 45.796875 25.484375 \nQ 45.796875 32.5625 45.484375 35.25 \nQ 45.171875 37.9375 44.390625 39.203125 \nQ 43.359375 40.921875 41.59375 41.875 \nQ 39.84375 42.828125 37.59375 42.828125 \nQ 32.125 42.828125 29 38.59375 \nQ 25.875 34.375 25.875 26.90625 \nL 25.875 0 \nL 8.40625 0 \nL 8.40625 54.6875 \nL 25.875 54.6875 \nL 25.875 46.6875 \nQ 29.828125 51.46875 34.265625 53.734375 \nQ 38.71875 56 44.09375 56 \nQ 53.5625 56 58.46875 50.1875 \nQ 63.375 44.390625 63.375 33.296875 \nz\n\" id=\"DejaVuSans-Bold-110\"/>\n     <path d=\"M 45.609375 46.6875 \nL 45.609375 75.984375 \nL 63.1875 75.984375 \nL 63.1875 0 \nL 45.609375 0 \nL 45.609375 7.90625 \nQ 42 3.078125 37.640625 0.828125 \nQ 33.296875 -1.421875 27.59375 -1.421875 \nQ 17.484375 -1.421875 10.984375 6.609375 \nQ 4.5 14.65625 4.5 27.296875 \nQ 4.5 39.9375 10.984375 47.96875 \nQ 17.484375 56 27.59375 56 \nQ 33.25 56 37.625 53.734375 \nQ 42 51.46875 45.609375 46.6875 \nz\nM 34.078125 11.28125 \nQ 39.703125 11.28125 42.65625 15.375 \nQ 45.609375 19.484375 45.609375 27.296875 \nQ 45.609375 35.109375 42.65625 39.203125 \nQ 39.703125 43.3125 34.078125 43.3125 \nQ 28.515625 43.3125 25.5625 39.203125 \nQ 22.609375 35.109375 22.609375 27.296875 \nQ 22.609375 19.484375 25.5625 15.375 \nQ 28.515625 11.28125 34.078125 11.28125 \nz\n\" id=\"DejaVuSans-Bold-100\"/>\n     <path d=\"M 9.1875 72.90625 \nL 33.109375 72.90625 \nL 49.703125 33.890625 \nL 66.40625 72.90625 \nL 90.28125 72.90625 \nL 90.28125 0 \nL 72.515625 0 \nL 72.515625 53.328125 \nL 55.71875 14.015625 \nL 43.796875 14.015625 \nL 27 53.328125 \nL 27 0 \nL 9.1875 0 \nz\n\" id=\"DejaVuSans-Bold-77\"/>\n     <path d=\"M 9.1875 72.90625 \nL 27.984375 72.90625 \nL 27.984375 14.203125 \nL 60.984375 14.203125 \nL 60.984375 0 \nL 9.1875 0 \nz\n\" id=\"DejaVuSans-Bold-76\"/>\n    </defs>\n    <g style=\"fill:#262626;\" transform=\"translate(24.172188 16.318125)scale(0.12 -0.12)\">\n     <use xlink:href=\"#DejaVuSans-Bold-70\"/>\n     <use x=\"64.310547\" xlink:href=\"#DejaVuSans-Bold-101\"/>\n     <use x=\"132.132812\" xlink:href=\"#DejaVuSans-Bold-119\"/>\n     <use x=\"224.515625\" xlink:href=\"#DejaVuSans-Bold-45\"/>\n     <use x=\"266.019531\" xlink:href=\"#DejaVuSans-Bold-83\"/>\n     <use x=\"338.041016\" xlink:href=\"#DejaVuSans-Bold-104\"/>\n     <use x=\"409.232422\" xlink:href=\"#DejaVuSans-Bold-111\"/>\n     <use x=\"477.933594\" xlink:href=\"#DejaVuSans-Bold-116\"/>\n     <use x=\"525.736328\" xlink:href=\"#DejaVuSans-Bold-32\"/>\n     <use x=\"560.550781\" xlink:href=\"#DejaVuSans-Bold-80\"/>\n     <use x=\"633.841797\" xlink:href=\"#DejaVuSans-Bold-101\"/>\n     <use x=\"701.664062\" xlink:href=\"#DejaVuSans-Bold-114\"/>\n     <use x=\"750.980469\" xlink:href=\"#DejaVuSans-Bold-102\"/>\n     <use x=\"794.486328\" xlink:href=\"#DejaVuSans-Bold-111\"/>\n     <use x=\"863.1875\" xlink:href=\"#DejaVuSans-Bold-114\"/>\n     <use x=\"912.503906\" xlink:href=\"#DejaVuSans-Bold-109\"/>\n     <use x=\"1016.703125\" xlink:href=\"#DejaVuSans-Bold-97\"/>\n     <use x=\"1084.183594\" xlink:href=\"#DejaVuSans-Bold-110\"/>\n     <use x=\"1155.375\" xlink:href=\"#DejaVuSans-Bold-99\"/>\n     <use x=\"1214.652344\" xlink:href=\"#DejaVuSans-Bold-101\"/>\n     <use x=\"1282.474609\" xlink:href=\"#DejaVuSans-Bold-32\"/>\n     <use x=\"1317.289062\" xlink:href=\"#DejaVuSans-Bold-80\"/>\n     <use x=\"1390.580078\" xlink:href=\"#DejaVuSans-Bold-114\"/>\n     <use x=\"1439.896484\" xlink:href=\"#DejaVuSans-Bold-111\"/>\n     <use x=\"1508.597656\" xlink:href=\"#DejaVuSans-Bold-116\"/>\n     <use x=\"1556.400391\" xlink:href=\"#DejaVuSans-Bold-111\"/>\n     <use x=\"1625.101562\" xlink:href=\"#DejaVuSans-Bold-78\"/>\n     <use x=\"1708.792969\" xlink:href=\"#DejaVuSans-Bold-101\"/>\n     <use x=\"1776.615234\" xlink:href=\"#DejaVuSans-Bold-116\"/>\n     <use x=\"1824.417969\" xlink:href=\"#DejaVuSans-Bold-32\"/>\n     <use x=\"1859.232422\" xlink:href=\"#DejaVuSans-Bold-97\"/>\n     <use x=\"1926.712891\" xlink:href=\"#DejaVuSans-Bold-110\"/>\n     <use x=\"1997.904297\" xlink:href=\"#DejaVuSans-Bold-100\"/>\n     <use x=\"2069.486328\" xlink:href=\"#DejaVuSans-Bold-32\"/>\n     <use x=\"2104.300781\" xlink:href=\"#DejaVuSans-Bold-80\"/>\n     <use x=\"2177.591797\" xlink:href=\"#DejaVuSans-Bold-114\"/>\n     <use x=\"2226.908203\" xlink:href=\"#DejaVuSans-Bold-111\"/>\n     <use x=\"2295.609375\" xlink:href=\"#DejaVuSans-Bold-116\"/>\n     <use x=\"2343.412109\" xlink:href=\"#DejaVuSans-Bold-111\"/>\n     <use x=\"2412.113281\" xlink:href=\"#DejaVuSans-Bold-77\"/>\n     <use x=\"2511.625\" xlink:href=\"#DejaVuSans-Bold-65\"/>\n     <use x=\"2589.017578\" xlink:href=\"#DejaVuSans-Bold-77\"/>\n     <use x=\"2688.529297\" xlink:href=\"#DejaVuSans-Bold-76\"/>\n    </g>\n   </g>\n   <g id=\"legend_1\">\n    <g id=\"patch_7\">\n     <path d=\"M 57.507188 63.41 \nL 153.831094 63.41 \nQ 156.031094 63.41 156.031094 61.21 \nL 156.031094 30.018125 \nQ 156.031094 27.818125 153.831094 27.818125 \nL 57.507188 27.818125 \nQ 55.307187 27.818125 55.307187 30.018125 \nL 55.307187 61.21 \nQ 55.307187 63.41 57.507188 63.41 \nz\n\" style=\"fill:#eaeaf2;opacity:0.8;stroke:#cccccc;stroke-linejoin:miter;\"/>\n    </g>\n    <g id=\"line2d_11\">\n     <path d=\"M 59.707187 36.726406 \nL 81.707188 36.726406 \n\" style=\"fill:none;stroke:#55a868;stroke-linecap:round;stroke-width:1.5;\"/>\n    </g>\n    <g id=\"line2d_12\">\n     <g>\n      <use style=\"fill:#55a868;stroke:#1a1a1a;\" x=\"70.707188\" xlink:href=\"#m70f779baf2\" y=\"36.726406\"/>\n     </g>\n    </g>\n    <g id=\"text_12\">\n     <!-- ProtoNet -->\n     <defs>\n      <path d=\"M 19.671875 64.796875 \nL 19.671875 37.40625 \nL 32.078125 37.40625 \nQ 38.96875 37.40625 42.71875 40.96875 \nQ 46.484375 44.53125 46.484375 51.125 \nQ 46.484375 57.671875 42.71875 61.234375 \nQ 38.96875 64.796875 32.078125 64.796875 \nz\nM 9.8125 72.90625 \nL 32.078125 72.90625 \nQ 44.34375 72.90625 50.609375 67.359375 \nQ 56.890625 61.8125 56.890625 51.125 \nQ 56.890625 40.328125 50.609375 34.8125 \nQ 44.34375 29.296875 32.078125 29.296875 \nL 19.671875 29.296875 \nL 19.671875 0 \nL 9.8125 0 \nz\n\" id=\"DejaVuSans-80\"/>\n      <path d=\"M 41.109375 46.296875 \nQ 39.59375 47.171875 37.8125 47.578125 \nQ 36.03125 48 33.890625 48 \nQ 26.265625 48 22.1875 43.046875 \nQ 18.109375 38.09375 18.109375 28.8125 \nL 18.109375 0 \nL 9.078125 0 \nL 9.078125 54.6875 \nL 18.109375 54.6875 \nL 18.109375 46.1875 \nQ 20.953125 51.171875 25.484375 53.578125 \nQ 30.03125 56 36.53125 56 \nQ 37.453125 56 38.578125 55.875 \nQ 39.703125 55.765625 41.0625 55.515625 \nz\n\" id=\"DejaVuSans-114\"/>\n      <path d=\"M 30.609375 48.390625 \nQ 23.390625 48.390625 19.1875 42.75 \nQ 14.984375 37.109375 14.984375 27.296875 \nQ 14.984375 17.484375 19.15625 11.84375 \nQ 23.34375 6.203125 30.609375 6.203125 \nQ 37.796875 6.203125 41.984375 11.859375 \nQ 46.1875 17.53125 46.1875 27.296875 \nQ 46.1875 37.015625 41.984375 42.703125 \nQ 37.796875 48.390625 30.609375 48.390625 \nz\nM 30.609375 56 \nQ 42.328125 56 49.015625 48.375 \nQ 55.71875 40.765625 55.71875 27.296875 \nQ 55.71875 13.875 49.015625 6.21875 \nQ 42.328125 -1.421875 30.609375 -1.421875 \nQ 18.84375 -1.421875 12.171875 6.21875 \nQ 5.515625 13.875 5.515625 27.296875 \nQ 5.515625 40.765625 12.171875 48.375 \nQ 18.84375 56 30.609375 56 \nz\n\" id=\"DejaVuSans-111\"/>\n      <path d=\"M 18.3125 70.21875 \nL 18.3125 54.6875 \nL 36.8125 54.6875 \nL 36.8125 47.703125 \nL 18.3125 47.703125 \nL 18.3125 18.015625 \nQ 18.3125 11.328125 20.140625 9.421875 \nQ 21.96875 7.515625 27.59375 7.515625 \nL 36.8125 7.515625 \nL 36.8125 0 \nL 27.59375 0 \nQ 17.1875 0 13.234375 3.875 \nQ 9.28125 7.765625 9.28125 18.015625 \nL 9.28125 47.703125 \nL 2.6875 47.703125 \nL 2.6875 54.6875 \nL 9.28125 54.6875 \nL 9.28125 70.21875 \nz\n\" id=\"DejaVuSans-116\"/>\n      <path d=\"M 9.8125 72.90625 \nL 23.09375 72.90625 \nL 55.421875 11.921875 \nL 55.421875 72.90625 \nL 64.984375 72.90625 \nL 64.984375 0 \nL 51.703125 0 \nL 19.390625 60.984375 \nL 19.390625 0 \nL 9.8125 0 \nz\n\" id=\"DejaVuSans-78\"/>\n      <path d=\"M 56.203125 29.59375 \nL 56.203125 25.203125 \nL 14.890625 25.203125 \nQ 15.484375 15.921875 20.484375 11.0625 \nQ 25.484375 6.203125 34.421875 6.203125 \nQ 39.59375 6.203125 44.453125 7.46875 \nQ 49.3125 8.734375 54.109375 11.28125 \nL 54.109375 2.78125 \nQ 49.265625 0.734375 44.1875 -0.34375 \nQ 39.109375 -1.421875 33.890625 -1.421875 \nQ 20.796875 -1.421875 13.15625 6.1875 \nQ 5.515625 13.8125 5.515625 26.8125 \nQ 5.515625 40.234375 12.765625 48.109375 \nQ 20.015625 56 32.328125 56 \nQ 43.359375 56 49.78125 48.890625 \nQ 56.203125 41.796875 56.203125 29.59375 \nz\nM 47.21875 32.234375 \nQ 47.125 39.59375 43.09375 43.984375 \nQ 39.0625 48.390625 32.421875 48.390625 \nQ 24.90625 48.390625 20.390625 44.140625 \nQ 15.875 39.890625 15.1875 32.171875 \nz\n\" id=\"DejaVuSans-101\"/>\n     </defs>\n     <g style=\"fill:#262626;\" transform=\"translate(90.507188 40.576406)scale(0.11 -0.11)\">\n      <use xlink:href=\"#DejaVuSans-80\"/>\n      <use x=\"58.552734\" xlink:href=\"#DejaVuSans-114\"/>\n      <use x=\"97.416016\" xlink:href=\"#DejaVuSans-111\"/>\n      <use x=\"158.597656\" xlink:href=\"#DejaVuSans-116\"/>\n      <use x=\"197.806641\" xlink:href=\"#DejaVuSans-111\"/>\n      <use x=\"258.988281\" xlink:href=\"#DejaVuSans-78\"/>\n      <use x=\"333.792969\" xlink:href=\"#DejaVuSans-101\"/>\n      <use x=\"395.316406\" xlink:href=\"#DejaVuSans-116\"/>\n     </g>\n    </g>\n    <g id=\"line2d_13\">\n     <path d=\"M 59.707187 52.872344 \nL 81.707188 52.872344 \n\" style=\"fill:none;stroke:#c44e52;stroke-linecap:round;stroke-width:1.5;\"/>\n    </g>\n    <g id=\"line2d_14\">\n     <g>\n      <use style=\"fill:#c44e52;stroke:#1a1a1a;\" x=\"70.707188\" xlink:href=\"#me246187f2f\" y=\"52.872344\"/>\n     </g>\n    </g>\n    <g id=\"text_13\">\n     <!-- ProtoMAML -->\n     <defs>\n      <path d=\"M 9.8125 72.90625 \nL 24.515625 72.90625 \nL 43.109375 23.296875 \nL 61.8125 72.90625 \nL 76.515625 72.90625 \nL 76.515625 0 \nL 66.890625 0 \nL 66.890625 64.015625 \nL 48.09375 14.015625 \nL 38.1875 14.015625 \nL 19.390625 64.015625 \nL 19.390625 0 \nL 9.8125 0 \nz\n\" id=\"DejaVuSans-77\"/>\n      <path d=\"M 34.1875 63.1875 \nL 20.796875 26.90625 \nL 47.609375 26.90625 \nz\nM 28.609375 72.90625 \nL 39.796875 72.90625 \nL 67.578125 0 \nL 57.328125 0 \nL 50.6875 18.703125 \nL 17.828125 18.703125 \nL 11.1875 0 \nL 0.78125 0 \nz\n\" id=\"DejaVuSans-65\"/>\n      <path d=\"M 9.8125 72.90625 \nL 19.671875 72.90625 \nL 19.671875 8.296875 \nL 55.171875 8.296875 \nL 55.171875 0 \nL 9.8125 0 \nz\n\" id=\"DejaVuSans-76\"/>\n     </defs>\n     <g style=\"fill:#262626;\" transform=\"translate(90.507188 56.722344)scale(0.11 -0.11)\">\n      <use xlink:href=\"#DejaVuSans-80\"/>\n      <use x=\"58.552734\" xlink:href=\"#DejaVuSans-114\"/>\n      <use x=\"97.416016\" xlink:href=\"#DejaVuSans-111\"/>\n      <use x=\"158.597656\" xlink:href=\"#DejaVuSans-116\"/>\n      <use x=\"197.806641\" xlink:href=\"#DejaVuSans-111\"/>\n      <use x=\"258.988281\" xlink:href=\"#DejaVuSans-77\"/>\n      <use x=\"345.267578\" xlink:href=\"#DejaVuSans-65\"/>\n      <use x=\"413.675781\" xlink:href=\"#DejaVuSans-77\"/>\n      <use x=\"499.955078\" xlink:href=\"#DejaVuSans-76\"/>\n     </g>\n    </g>\n   </g>\n  </g>\n </g>\n <defs>\n  <clipPath id=\"p139b2dff5d\">\n   <rect height=\"163.08\" width=\"279\" x=\"49.807187\" y=\"22.318125\"/>\n  </clipPath>\n </defs>\n</svg>\n",
            "application/pdf": "[encoded data removed]"
          },
          "metadata": {}
        }
      ],
      "source": [
        "ax = plot_few_shot(protonet_svhn_accuracies, name=\"ProtoNet\", color=\"C2\")\n",
        "plot_few_shot(protomaml_svhn_accuracies, name=\"ProtoMAML\", color=\"C3\", ax=ax)\n",
        "plt.show()\n",
        "plt.close()"
      ]
    }
  ]
}